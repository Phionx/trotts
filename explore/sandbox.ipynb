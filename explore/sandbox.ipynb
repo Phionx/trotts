{
 "cells": [
  {
   "cell_type": "code",
   "execution_count": 3,
   "id": "e951a458-d1a2-48b8-a2fc-8b99b18313e8",
   "metadata": {},
   "outputs": [],
   "source": [
    "%load_ext autoreload\n",
    "%autoreload 2"
   ]
  },
  {
   "cell_type": "code",
   "execution_count": 12,
   "id": "09dba0f0-70b2-4fe9-956c-3e6edc4993d7",
   "metadata": {},
   "outputs": [],
   "source": [
    "from trott import *\n",
    "import numpy as np\n",
    "import itertools\n",
    "from qiskit import *\n",
    "from qiskit.providers.aer.noise import NoiseModel\n",
    "from qiskit.providers.aer.noise.errors import pauli_error, depolarizing_error\n",
    "from qiskit.providers.aer import QasmSimulator\n"
   ]
  },
  {
   "cell_type": "code",
   "execution_count": 5,
   "id": "8d6ea4ae-406b-4e2c-9ccd-80052cb26928",
   "metadata": {},
   "outputs": [],
   "source": [
    "trott_gate = gen_3cnot_trott_gate() # using the basic trott method (this can be changed)x"
   ]
  },
  {
   "cell_type": "code",
   "execution_count": 6,
   "id": "f7adc07a-12c8-437f-8e97-47775a335865",
   "metadata": {},
   "outputs": [],
   "source": [
    "tqr = QuantumRegister(1)\n",
    "tqc = QuantumCircuit(tqr)\n",
    "\n",
    "tqc.x(0)\n",
    "tin = tqc.to_instruction()\n",
    "tinv_in = tqc.inverse().to_instruction()\n",
    "tin_inv = tqc.to_instruction().inverse()"
   ]
  },
  {
   "cell_type": "code",
   "execution_count": 55,
   "id": "03e52a61-a4d9-474d-9847-d6367a7c0383",
   "metadata": {},
   "outputs": [],
   "source": [
    "def get_noise_model(p_err):\n",
    "\n",
    "    error_gate1 = pauli_error([(\"X\", p_err / 2), (\"Z\", p_err / 2), (\"I\", 1 - p_err)])\n",
    "\n",
    "    noise_model = NoiseModel()\n",
    "    noise_model.add_all_qubit_quantum_error(error_gate1, \"x\")\n",
    "    return noise_model"
   ]
  },
  {
   "cell_type": "code",
   "execution_count": 56,
   "id": "cd0d863e-a6d9-4e92-a3f3-3da946a13bd2",
   "metadata": {},
   "outputs": [],
   "source": [
    "nm = get_noise_model(0.1)"
   ]
  },
  {
   "cell_type": "code",
   "execution_count": 57,
   "id": "fe8d9790-e691-4f0b-9750-f093718cab3d",
   "metadata": {},
   "outputs": [
    {
     "data": {
      "text/html": [
       "<pre style=\"word-wrap: normal;white-space: pre;background: #fff0;line-height: 1.1;font-family: &quot;Courier New&quot;,Courier,monospace\">     ┌────────────┐┌───────────────┐┌─┐\n",
       "q_0: ┤ circuit-14 ├┤ circuit-14_dg ├┤M├\n",
       "     └────────────┘└───────────────┘└╥┘\n",
       "c: 1/════════════════════════════════╩═\n",
       "                                     0 </pre>"
      ],
      "text/plain": [
       "     ┌────────────┐┌───────────────┐┌─┐\n",
       "q_0: ┤ circuit-14 ├┤ circuit-14_dg ├┤M├\n",
       "     └────────────┘└───────────────┘└╥┘\n",
       "c: 1/════════════════════════════════╩═\n",
       "                                     0 "
      ]
     },
     "execution_count": 57,
     "metadata": {},
     "output_type": "execute_result"
    }
   ],
   "source": [
    "qcd = QuantumCircuit(1,1)\n",
    "qcd.append(tin, [0])\n",
    "qcd.append(tinv_in, [0])\n",
    "qcd.measure([0],[0])\n",
    "qcd.draw()"
   ]
  },
  {
   "cell_type": "code",
   "execution_count": 58,
   "id": "1ed2fd5d-d116-447b-b924-2ea16a58fe65",
   "metadata": {},
   "outputs": [],
   "source": [
    "results = execute(qcd, QasmSimulator(), noise_model=nm, shots=1000, optimization_level=0).result().get_counts()"
   ]
  },
  {
   "cell_type": "code",
   "execution_count": 59,
   "id": "7e46e58e-f6ef-4540-a9b5-f2a178aa7e51",
   "metadata": {},
   "outputs": [
    {
     "data": {
      "text/plain": [
       "{'0': 905, '1': 95}"
      ]
     },
     "execution_count": 59,
     "metadata": {},
     "output_type": "execute_result"
    }
   ],
   "source": [
    "results"
   ]
  },
  {
   "cell_type": "code",
   "execution_count": 18,
   "id": "d6a23f0e-3dd8-4fe5-9da8-650f34928f54",
   "metadata": {},
   "outputs": [
    {
     "data": {
      "text/html": [
       "<pre style=\"word-wrap: normal;white-space: pre;background: #fff0;line-height: 1.1;font-family: &quot;Courier New&quot;,Courier,monospace\">                                                                    »\n",
       "q10_0: ─────────────────────────────────────────────────────────────»\n",
       "            ┌───────────────────────────┐┌───┐        ┌───┐         »\n",
       "q10_1: ──■──┤ Rx(2*t - 1.5707963267949) ├┤ H ├──■─────┤ H ├──────■──»\n",
       "         │  └───────────────────────────┘└───┘  │     └───┘      │  »\n",
       "q10_2: ──┼──────────────────────────────────────┼────────────────┼──»\n",
       "       ┌─┴─┐         ┌─────────┐              ┌─┴─┐┌──────────┐┌─┴─┐»\n",
       "q10_3: ┤ X ├─────────┤ Rz(2*t) ├──────────────┤ X ├┤ Rz(-2*t) ├┤ X ├»\n",
       "       └───┘         └─────────┘              └───┘└──────────┘└───┘»\n",
       "q10_4: ─────────────────────────────────────────────────────────────»\n",
       "                                                                    »\n",
       "q10_5: ─────────────────────────────────────────────────────────────»\n",
       "                                                                    »\n",
       "q10_6: ─────────────────────────────────────────────────────────────»\n",
       "                                                                    »\n",
       "«                                                                           »\n",
       "«q10_0: ────────────────────────────────────────────────────────────────────»\n",
       "«       ┌─────────┐                                                         »\n",
       "«q10_1: ┤ Rx(π/2) ├─────────────────────────────────────────────────────────»\n",
       "«       └─────────┘                                                         »\n",
       "«q10_2: ────────────────────────────────────────────────────────────────────»\n",
       "«       ┌──────────┐     ┌───────────────────────────┐┌───┐        ┌───┐    »\n",
       "«q10_3: ┤ Rx(-π/2) ├──■──┤ Rx(2*t - 1.5707963267949) ├┤ H ├──■─────┤ H ├────»\n",
       "«       └──────────┘  │  └───────────────────────────┘└───┘  │     └───┘    »\n",
       "«q10_4: ──────────────┼──────────────────────────────────────┼──────────────»\n",
       "«                   ┌─┴─┐         ┌─────────┐              ┌─┴─┐┌──────────┐»\n",
       "«q10_5: ────────────┤ X ├─────────┤ Rz(2*t) ├──────────────┤ X ├┤ Rz(-2*t) ├»\n",
       "«                   └───┘         └─────────┘              └───┘└──────────┘»\n",
       "«q10_6: ────────────────────────────────────────────────────────────────────»\n",
       "«                                                                           »\n",
       "«                        \n",
       "«q10_0: ─────────────────\n",
       "«                        \n",
       "«q10_1: ─────────────────\n",
       "«                        \n",
       "«q10_2: ─────────────────\n",
       "«            ┌─────────┐ \n",
       "«q10_3: ──■──┤ Rx(π/2) ├─\n",
       "«         │  └─────────┘ \n",
       "«q10_4: ──┼──────────────\n",
       "«       ┌─┴─┐┌──────────┐\n",
       "«q10_5: ┤ X ├┤ Rx(-π/2) ├\n",
       "«       └───┘└──────────┘\n",
       "«q10_6: ─────────────────\n",
       "«                        </pre>"
      ],
      "text/plain": [
       "                                                                    »\n",
       "q10_0: ─────────────────────────────────────────────────────────────»\n",
       "            ┌───────────────────────────┐┌───┐        ┌───┐         »\n",
       "q10_1: ──■──┤ Rx(2*t - 1.5707963267949) ├┤ H ├──■─────┤ H ├──────■──»\n",
       "         │  └───────────────────────────┘└───┘  │     └───┘      │  »\n",
       "q10_2: ──┼──────────────────────────────────────┼────────────────┼──»\n",
       "       ┌─┴─┐         ┌─────────┐              ┌─┴─┐┌──────────┐┌─┴─┐»\n",
       "q10_3: ┤ X ├─────────┤ Rz(2*t) ├──────────────┤ X ├┤ Rz(-2*t) ├┤ X ├»\n",
       "       └───┘         └─────────┘              └───┘└──────────┘└───┘»\n",
       "q10_4: ─────────────────────────────────────────────────────────────»\n",
       "                                                                    »\n",
       "q10_5: ─────────────────────────────────────────────────────────────»\n",
       "                                                                    »\n",
       "q10_6: ─────────────────────────────────────────────────────────────»\n",
       "                                                                    »\n",
       "«                                                                           »\n",
       "«q10_0: ────────────────────────────────────────────────────────────────────»\n",
       "«       ┌─────────┐                                                         »\n",
       "«q10_1: ┤ Rx(π/2) ├─────────────────────────────────────────────────────────»\n",
       "«       └─────────┘                                                         »\n",
       "«q10_2: ────────────────────────────────────────────────────────────────────»\n",
       "«       ┌──────────┐     ┌───────────────────────────┐┌───┐        ┌───┐    »\n",
       "«q10_3: ┤ Rx(-π/2) ├──■──┤ Rx(2*t - 1.5707963267949) ├┤ H ├──■─────┤ H ├────»\n",
       "«       └──────────┘  │  └───────────────────────────┘└───┘  │     └───┘    »\n",
       "«q10_4: ──────────────┼──────────────────────────────────────┼──────────────»\n",
       "«                   ┌─┴─┐         ┌─────────┐              ┌─┴─┐┌──────────┐»\n",
       "«q10_5: ────────────┤ X ├─────────┤ Rz(2*t) ├──────────────┤ X ├┤ Rz(-2*t) ├»\n",
       "«                   └───┘         └─────────┘              └───┘└──────────┘»\n",
       "«q10_6: ────────────────────────────────────────────────────────────────────»\n",
       "«                                                                           »\n",
       "«                        \n",
       "«q10_0: ─────────────────\n",
       "«                        \n",
       "«q10_1: ─────────────────\n",
       "«                        \n",
       "«q10_2: ─────────────────\n",
       "«            ┌─────────┐ \n",
       "«q10_3: ──■──┤ Rx(π/2) ├─\n",
       "«         │  └─────────┘ \n",
       "«q10_4: ──┼──────────────\n",
       "«       ┌─┴─┐┌──────────┐\n",
       "«q10_5: ┤ X ├┤ Rx(-π/2) ├\n",
       "«       └───┘└──────────┘\n",
       "«q10_6: ─────────────────\n",
       "«                        "
      ]
     },
     "execution_count": 18,
     "metadata": {},
     "output_type": "execute_result"
    }
   ],
   "source": [
    "qr = QuantumRegister(7)\n",
    "qc = QuantumCircuit(qr)\n",
    "\n",
    "qc_dummy = QuantumCircuit(qr)\n",
    "\n",
    "for _ in range(1):\n",
    "    qc_dummy.append(trott_gate, [qr[1], qr[3], qr[5]])\n",
    "\n",
    "# Decompose dummy circuit into native gates and append to qc\n",
    "qc = qc + qc_dummy.decompose().decompose()\n",
    "\n",
    "qc.draw()"
   ]
  },
  {
   "cell_type": "code",
   "execution_count": 6,
   "id": "bcf889ba-fe48-461b-a20a-d68f7c3b6bc9",
   "metadata": {},
   "outputs": [
    {
     "ename": "AttributeError",
     "evalue": "'Instruction' object has no attribute 'qubits'",
     "output_type": "error",
     "traceback": [
      "\u001b[0;31m---------------------------------------------------------------------------\u001b[0m",
      "\u001b[0;31mAttributeError\u001b[0m                            Traceback (most recent call last)",
      "\u001b[0;32m/var/folders/kh/nfmc9b4j5w99rvpp01gd8l400000gn/T/ipykernel_5602/3109235757.py\u001b[0m in \u001b[0;36m<module>\u001b[0;34m\u001b[0m\n\u001b[0;32m----> 1\u001b[0;31m \u001b[0mQuantumCircuit\u001b[0m\u001b[0;34m.\u001b[0m\u001b[0minverse\u001b[0m\u001b[0;34m(\u001b[0m\u001b[0mtrott_gate\u001b[0m\u001b[0;34m)\u001b[0m\u001b[0;34m\u001b[0m\u001b[0;34m\u001b[0m\u001b[0m\n\u001b[0m",
      "\u001b[0;32m~/miniconda3/envs/qtcodes-env/lib/python3.9/site-packages/qiskit/circuit/quantumcircuit.py\u001b[0m in \u001b[0;36minverse\u001b[0;34m(self)\u001b[0m\n\u001b[1;32m    448\u001b[0m         \"\"\"\n\u001b[1;32m    449\u001b[0m         inverse_circ = QuantumCircuit(\n\u001b[0;32m--> 450\u001b[0;31m             \u001b[0mself\u001b[0m\u001b[0;34m.\u001b[0m\u001b[0mqubits\u001b[0m\u001b[0;34m,\u001b[0m\u001b[0;34m\u001b[0m\u001b[0;34m\u001b[0m\u001b[0m\n\u001b[0m\u001b[1;32m    451\u001b[0m             \u001b[0mself\u001b[0m\u001b[0;34m.\u001b[0m\u001b[0mclbits\u001b[0m\u001b[0;34m,\u001b[0m\u001b[0;34m\u001b[0m\u001b[0;34m\u001b[0m\u001b[0m\n\u001b[1;32m    452\u001b[0m             \u001b[0;34m*\u001b[0m\u001b[0mself\u001b[0m\u001b[0;34m.\u001b[0m\u001b[0mqregs\u001b[0m\u001b[0;34m,\u001b[0m\u001b[0;34m\u001b[0m\u001b[0;34m\u001b[0m\u001b[0m\n",
      "\u001b[0;31mAttributeError\u001b[0m: 'Instruction' object has no attribute 'qubits'"
     ]
    }
   ],
   "source": [
    "num_qubits = 3\n",
    "Trott_qr = QuantumRegister(num_qubits)\n",
    "Trott_qc = QuantumCircuit(Trott_qr, name=\"Trot\")\n",
    "QuantumCircuit.inverse(trott_gate)"
   ]
  },
  {
   "cell_type": "code",
   "execution_count": 81,
   "id": "2f37f3ee-3e7e-43f4-a683-f526ab289b66",
   "metadata": {},
   "outputs": [
    {
     "data": {
      "text/plain": [
       "1"
      ]
     },
     "execution_count": 81,
     "metadata": {},
     "output_type": "execute_result"
    }
   ],
   "source": [
    "calc_parity([1,1,1],[1,0,1])"
   ]
  },
  {
   "cell_type": "code",
   "execution_count": 82,
   "id": "9f55de32-672c-41bc-ae22-fa2fb714fb55",
   "metadata": {},
   "outputs": [],
   "source": [
    "num_qubits = 3\n",
    "paulis = [\"X\", \"Y\", \"Z\"]\n",
    "pauli_combos = list(itertools.product(paulis, paulis, paulis))\n",
    "pauli_combos = [\"\".join(x) for x in pauli_combos]\n",
    "\n",
    "st_map = {\"label2indx\": {}, \"indx2label\":{}}\n",
    "\n",
    "n = 0\n",
    "for p in pauli_combos:\n",
    "    for j in range(2**num_qubits):\n",
    "        st_map[\"label2indx\"][(p,j)] = n\n",
    "        st_map[\"indx2label\"][n] = (p,j)\n",
    "        n+=1\n",
    "                \n",
    "paulis_I = [\"X\", \"Y\", \"Z\", \"I\"]\n",
    "pauli_I_combos = list(itertools.product(paulis_I, paulis_I, paulis_I))\n",
    "pauli_I_combos = [\"\".join(x) for x in pauli_I_combos]\n",
    "\n",
    "pe_map = {\"label2indx\": {}, \"indx2label\":{}}\n",
    "n = 0\n",
    "for p in pauli_I_combos:\n",
    "    if p == \"III\":\n",
    "        continue\n",
    "    pe_map[\"label2indx\"][p] = n\n",
    "    pe_map[\"indx2label\"][n] = p\n",
    "    n+=1\n",
    "            \n",
    "M_st_pe = np.zeros((len(pe_map[\"label2indx\"].keys()), len(st_map[\"label2indx\"].keys())))\n"
   ]
  },
  {
   "cell_type": "markdown",
   "id": "2191e91d-a518-45b1-82ce-0ae6fc826c08",
   "metadata": {},
   "source": [
    "# Load Data"
   ]
  },
  {
   "cell_type": "code",
   "execution_count": 95,
   "id": "d3b806f0-cec1-4946-8d29-2600e82ef174",
   "metadata": {},
   "outputs": [],
   "source": [
    "results = np.load('data/3cnot_noiseless_sim_results_20220414__191350.npy',allow_pickle=True, ).item()"
   ]
  },
  {
   "cell_type": "code",
   "execution_count": 96,
   "id": "74c8cb1d-35a5-4e76-b32b-69bcb048ef23",
   "metadata": {},
   "outputs": [],
   "source": [
    "res_analysis = run_analysis(results) "
   ]
  },
  {
   "cell_type": "code",
   "execution_count": 103,
   "id": "365b9f32-9740-4dd8-882f-3527cc37610d",
   "metadata": {},
   "outputs": [
    {
     "data": {
      "text/plain": [
       "{'0x6': 0.9954376220703125, '0x5': 0.0010833740234375, '0x3': 0.00347900390625}"
      ]
     },
     "execution_count": 103,
     "metadata": {},
     "output_type": "execute_result"
    }
   ],
   "source": [
    "test_og = res_analysis[\"data\"][19][\"data_map\"][\"ZZZ\"]\n",
    "norm = np.sum(list(test_og.values()))\n",
    "test_og = {key:val/norm for key, val in test_og.items()}\n",
    "test_og"
   ]
  },
  {
   "cell_type": "code",
   "execution_count": 104,
   "id": "7c30352c-5138-4396-8a26-8d9edc026a5f",
   "metadata": {},
   "outputs": [],
   "source": [
    "example_parity_results = res_analysis[\"data\"][19][\"parity\"]\n",
    "# example_parity_results"
   ]
  },
  {
   "cell_type": "code",
   "execution_count": 105,
   "id": "20e5ba50-2423-48f7-9ec4-90e677bd4a14",
   "metadata": {},
   "outputs": [],
   "source": [
    "prob_results = parity2prob(example_parity_results, return_probs=True)"
   ]
  },
  {
   "cell_type": "code",
   "execution_count": null,
   "id": "502a7ef7-d5a2-484d-bc6b-d6c2c3836db0",
   "metadata": {},
   "outputs": [],
   "source": []
  },
  {
   "cell_type": "code",
   "execution_count": 109,
   "id": "cc39f9f4-02ec-49a3-9a51-65d9d733be1d",
   "metadata": {},
   "outputs": [
    {
     "data": {
      "text/plain": [
       "{'XXX': {'0x7': 0.12504325972663033,\n",
       "  '0x3': 0.09544020228915745,\n",
       "  '0x5': 0.1758800877465142,\n",
       "  '0x1': 0.10344560941060382,\n",
       "  '0x6': 0.10340476036071777,\n",
       "  '0x2': 0.17607214715745717,\n",
       "  '0x4': 0.09559920099046493,\n",
       "  '0x0': 0.12511473231845432},\n",
       " 'XXY': {'0x7': 0.14558564292060006,\n",
       "  '0x3': 0.07489781909518772,\n",
       "  '0x5': 0.17522960238986546,\n",
       "  '0x1': 0.10409609476725258,\n",
       "  '0x6': 0.10434309641520184,\n",
       "  '0x2': 0.1751338111029731,\n",
       "  '0x4': 0.07497559653388129,\n",
       "  '0x0': 0.14573833677503795},\n",
       " 'XXZ': {'0x7': 0.1811911529964871,\n",
       "  '0x3': 0.03929230901930067,\n",
       "  '0x5': 0.24008223745557997,\n",
       "  '0x1': 0.03924345970153806,\n",
       "  '0x6': 0.24032616615295413,\n",
       "  '0x2': 0.039150741365220815,\n",
       "  '0x4': 0.18153956201341417,\n",
       "  '0x0': 0.03917437129550508},\n",
       " 'XYX': {'0x7': 0.13285862074957955,\n",
       "  '0x3': 0.08143454127841526,\n",
       "  '0x5': 0.16806472672356498,\n",
       "  '0x1': 0.11745127042134601,\n",
       "  '0x6': 0.1172509988149007,\n",
       "  '0x2': 0.1681927310095893,\n",
       "  '0x4': 0.081752962536282,\n",
       "  '0x0': 0.13299414846632218},\n",
       " 'XYY': {'0x7': 0.13185440169440377,\n",
       "  '0x3': 0.08243876033359104,\n",
       "  '0x5': 0.18896084361606175,\n",
       "  '0x1': 0.09655515352884926,\n",
       "  '0x6': 0.09659552574157715,\n",
       "  '0x2': 0.18884820408291286,\n",
       "  '0x4': 0.08272316720750598,\n",
       "  '0x0': 0.1320239437950982},\n",
       " 'XYZ': {'0x7': 0.17525985505845815,\n",
       "  '0x3': 0.03903330696953666,\n",
       "  '0x5': 0.24601353539360893,\n",
       "  '0x1': 0.039502461751302065,\n",
       "  '0x6': 0.24595610300699872,\n",
       "  '0x2': 0.039487626817491295,\n",
       "  '0x4': 0.1759096251593696,\n",
       "  '0x0': 0.0388374858432346},\n",
       " 'XZX': {'0x7': 0.2957439952426486,\n",
       "  '0x3': 0.19381856918334958,\n",
       "  '0x5': 0.005179352230495891,\n",
       "  '0x1': 0.005067242516411698,\n",
       "  '0x6': 0.19411097632514104,\n",
       "  '0x2': 0.2957705391777886,\n",
       "  '0x4': 0.004892985026041664,\n",
       "  '0x0': 0.0054163402981228445},\n",
       " 'XZY': {'0x7': 0.3155457708570692,\n",
       "  '0x3': 0.17401679356892902,\n",
       "  '0x5': 0.005269474453396289,\n",
       "  '0x1': 0.0049771202935113,\n",
       "  '0x6': 0.1742195553249783,\n",
       "  '0x2': 0.3156619601779514,\n",
       "  '0x4': 0.005099137624104827,\n",
       "  '0x0': 0.005210187700059682},\n",
       " 'XZZ': {'0x7': 0.4109139972262912,\n",
       "  '0x3': 0.078648567199707,\n",
       "  '0x5': 0.010359393225775865,\n",
       "  '0x1': -0.00011279847886827565,\n",
       "  '0x6': 0.4116027620103624,\n",
       "  '0x2': 0.07827875349256727,\n",
       "  '0x4': 0.010262966156005887,\n",
       "  '0x0': 4.635916815862173e-05},\n",
       " 'YXX': {'0x7': 0.09637618064880371,\n",
       "  '0x3': 0.18896725442674428,\n",
       "  '0x5': 0.08260316318935818,\n",
       "  '0x1': 0.131836387846205,\n",
       "  '0x6': 0.13207183943854436,\n",
       "  '0x2': 0.08254509501987034,\n",
       "  '0x4': 0.18887612554762098,\n",
       "  '0x0': 0.09672395388285318},\n",
       " 'YXY': {'0x7': 0.16806848843892416,\n",
       "  '0x3': 0.11727494663662383,\n",
       "  '0x5': 0.13295049137539336,\n",
       "  '0x1': 0.08148905966016981,\n",
       "  '0x6': 0.0818602508968777,\n",
       "  '0x2': 0.132756683561537,\n",
       "  '0x4': 0.1172547075483534,\n",
       "  '0x0': 0.16834537188212076},\n",
       " 'YXZ': {'0x7': 0.24593925476074222,\n",
       "  '0x3': 0.039404180314805776,\n",
       "  '0x5': 0.17537016338772246,\n",
       "  '0x1': 0.03906938764784071,\n",
       "  '0x6': 0.175578064388699,\n",
       "  '0x2': 0.039038870069715695,\n",
       "  '0x4': 0.2462516360812717,\n",
       "  '0x0': 0.039348443349202455},\n",
       " 'YYX': {'0x7': 0.07477442423502603,\n",
       "  '0x3': 0.14514488644070098,\n",
       "  '0x5': 0.10420491960313585,\n",
       "  '0x1': 0.1756587558322483,\n",
       "  '0x6': 0.1753351953294542,\n",
       "  '0x2': 0.1044823858473036,\n",
       "  '0x4': 0.14561276965671113,\n",
       "  '0x0': 0.0747866630554199},\n",
       " 'YYY': {'0x7': 0.12469339370727539,\n",
       "  '0x3': 0.09522591696845162,\n",
       "  '0x5': 0.17632558610704213,\n",
       "  '0x1': 0.10353808932834202,\n",
       "  '0x6': 0.10375653372870552,\n",
       "  '0x2': 0.1760610474480523,\n",
       "  '0x4': 0.09535842471652559,\n",
       "  '0x0': 0.12504100799560544},\n",
       " 'YYZ': {'0x7': 0.18066549301147464,\n",
       "  '0x3': 0.03925381766425237,\n",
       "  '0x5': 0.24064392513699004,\n",
       "  '0x1': 0.03921975029839411,\n",
       "  '0x6': 0.24055046505398223,\n",
       "  '0x2': 0.039267116122775586,\n",
       "  '0x4': 0.18127923541598848,\n",
       "  '0x0': 0.03912019729614255},\n",
       " 'YZX': {'0x7': 0.1740525828467475,\n",
       "  '0x3': 0.3151956929100884,\n",
       "  '0x5': 0.004926760991414404,\n",
       "  '0x1': 0.005607949362860819,\n",
       "  '0x6': 0.31580238872104216,\n",
       "  '0x2': 0.17439341545104978,\n",
       "  '0x4': 0.0051455762651231515,\n",
       "  '0x0': 0.0048756334516737235},\n",
       " 'YZY': {'0x7': 0.2956014739142524,\n",
       "  '0x3': 0.19364680184258354,\n",
       "  '0x5': 0.00541750590006513,\n",
       "  '0x1': 0.005117204454210093,\n",
       "  '0x6': 0.19416385226779512,\n",
       "  '0x2': 0.2960319519042968,\n",
       "  '0x4': 0.004951106177435986,\n",
       "  '0x0': 0.005070103539360889},\n",
       " 'YZZ': {'0x7': 0.41083672311570907,\n",
       "  '0x3': 0.07841155264112684,\n",
       "  '0x5': 0.01047269503275558,\n",
       "  '0x1': 6.201532151964284e-05,\n",
       "  '0x6': 0.4116800361209445,\n",
       "  '0x2': 0.07851576805114743,\n",
       "  '0x4': 0.010149664349026172,\n",
       "  '0x0': -0.00012845463222929676},\n",
       " 'ZXX': {'0x7': 0.023085700141059026,\n",
       "  '0x3': 0.06556420856051975,\n",
       "  '0x5': 0.06562508477105033,\n",
       "  '0x1': 0.023069222768147782,\n",
       "  '0x6': 0.20536231994628906,\n",
       "  '0x2': 0.20594814088609487,\n",
       "  '0x4': 0.2058542039659288,\n",
       "  '0x0': 0.20549111896091038},\n",
       " 'ZXY': {'0x7': 0.04415912098354764,\n",
       "  '0x3': 0.04449078771803114,\n",
       "  '0x5': 0.04473556412590875,\n",
       "  '0x1': 0.04395874341328937,\n",
       "  '0x6': 0.20576961835225424,\n",
       "  '0x2': 0.2055408424801297,\n",
       "  '0x4': 0.205469634797838,\n",
       "  '0x0': 0.20587568812900117},\n",
       " 'ZXZ': {'0x7': 0.010367896821763804,\n",
       "  '0x3': 0.07828201187981498,\n",
       "  '0x5': 0.0102112823062473,\n",
       "  '0x1': 0.07848302523295081,\n",
       "  '0x6': 0.4111494223276774,\n",
       "  '0x2': 0.00016103850470650105,\n",
       "  '0x4': 0.41141051716274685,\n",
       "  '0x0': -6.519423590767293e-05},\n",
       " 'ZYX': {'0x7': 0.044678873485989035,\n",
       "  '0x3': 0.04407848252190484,\n",
       "  '0x5': 0.044031911426120326,\n",
       "  '0x1': 0.044554948806762695,\n",
       "  '0x6': 0.2054307460784912,\n",
       "  '0x2': 0.20554878976609975,\n",
       "  '0x4': 0.20578577783372665,\n",
       "  '0x0': 0.2058904700809055},\n",
       " 'ZYY': {'0x7': 0.02287819650438097,\n",
       "  '0x3': 0.0658791595035129,\n",
       "  '0x5': 0.06601648860507542,\n",
       "  '0x1': 0.022570371627807603,\n",
       "  '0x6': 0.20557173093159994,\n",
       "  '0x2': 0.20540780491299102,\n",
       "  '0x4': 0.2056675222184923,\n",
       "  '0x0': 0.20600872569613984},\n",
       " 'ZYZ': {'0x7': 0.010192818111843555,\n",
       "  '0x3': 0.07856453789605032,\n",
       "  '0x5': 0.01038636101616755,\n",
       "  '0x1': 0.07820049921671547,\n",
       "  '0x6': 0.4110231399536133,\n",
       "  '0x2': -4.3604109022349347e-05,\n",
       "  '0x4': 0.411536799536811,\n",
       "  '0x0': 0.00013944837782117747},\n",
       " 'ZZX': {'0x7': 0.07839025391472709,\n",
       "  '0x3': 0.07838400204976398,\n",
       "  '0x5': 0.010320530997382275,\n",
       "  '0x1': 0.01024942927890355,\n",
       "  '0x6': 0.4114647176530626,\n",
       "  '0x2': 0.4112051063113742,\n",
       "  '0x4': -0.0002481937408447196,\n",
       "  '0x0': 0.00023415353563099178},\n",
       " 'ZZY': {'0x7': 0.07858170403374565,\n",
       "  '0x3': 0.07819255193074542,\n",
       "  '0x5': 0.010312981075710735,\n",
       "  '0x1': 0.01025697920057509,\n",
       "  '0x6': 0.41118362214830184,\n",
       "  '0x2': 0.41148620181613493,\n",
       "  '0x4': 5.5631001790380774e-05,\n",
       "  '0x0': -6.967120700410862e-05},\n",
       " 'ZZZ': {'0x7': -4.675653245714284e-05,\n",
       "  '0x3': 0.15682101249694821,\n",
       "  '0x5': 0.020625935660468248,\n",
       "  '0x1': -5.597538418242176e-05,\n",
       "  '0x6': 0.8225635157691107,\n",
       "  '0x2': 0.00010630819532603253,\n",
       "  '0x4': -3.576278686495682e-06,\n",
       "  '0x0': -1.0463926527232159e-05}}"
      ]
     },
     "execution_count": 109,
     "metadata": {},
     "output_type": "execute_result"
    }
   ],
   "source": [
    "prob_results"
   ]
  },
  {
   "cell_type": "code",
   "execution_count": null,
   "id": "e0e4bbe8-ab49-48f4-85fe-84774d6afbb2",
   "metadata": {},
   "outputs": [],
   "source": [
    "for p in pauli_combos: # pauli strings\n",
    "    for j in range(2**num_qubits): # readout values\n",
    "        readout_result = readout_results[j,:]\n",
    "        for active_spot in active_spots: # active spots\n",
    "            multiplicity = 3**len(active_spot[active_spot==0]) # <XII> can be sourced from 3^2 prob dists, <XYI> can be sourced from 3^1 prob dist\n",
    "            \n",
    "            pe = calc_adjusted_pauli_string(p, active_spot)\n",
    "            if pe == \"III\":\n",
    "                continue\n",
    "            # print(p, pe, j)\n",
    "            readout_bin = make_bin(j) # 6 -> [1,1,0]\n",
    "            \n",
    "            # [1,0,1]*[1,1,0] -> [1,0,0] -> 1+0+0 -> 1 % 2 -> 1\n",
    "            parity_01 = (np.sum(active_spots*readout_bin) % 2)\n",
    "            # 0,1 -> 1,-1\n",
    "            parity = (1-parity_01*2)\n",
    "            \n",
    "            row_indx = pe_map[\"label2indx\"][pe]\n",
    "            col_indx = st_map[\"label2indx\"][(p,j)]\n",
    "\n",
    "            M_st_pe[row_indx, col_indx] = parity/multiplicity"
   ]
  },
  {
   "cell_type": "code",
   "execution_count": 27,
   "id": "68a37da8-b136-4bb8-9016-ad5feb422dd5",
   "metadata": {},
   "outputs": [
    {
     "data": {
      "image/png": "[encoded data removed]",
      "text/plain": [
       "<Figure size 432x288 with 1 Axes>"
      ]
     },
     "metadata": {
      "needs_background": "light"
     },
     "output_type": "display_data"
    }
   ],
   "source": [
    "ax = plt.spy(M_st_pe)\n",
    "fig = plt.gcf()\n",
    "fig.tight_layout()"
   ]
  },
  {
   "cell_type": "code",
   "execution_count": 20,
   "id": "066ff478-bc69-43cb-8766-9971d9bff0a2",
   "metadata": {},
   "outputs": [
    {
     "data": {
      "image/png": "[encoded data removed]",
      "text/plain": [
       "<Figure size 432x288 with 1 Axes>"
      ]
     },
     "metadata": {
      "needs_background": "light"
     },
     "output_type": "display_data"
    }
   ],
   "source": [
    "import matplotlib.pylab as plt\n",
    "import scipy.sparse as sps\n",
    "A = sps.rand(10000,10000, density=0.00001)\n",
    "M = sps.csr_matrix(A)\n",
    "plt.spy(M)\n",
    "plt.show()"
   ]
  },
  {
   "cell_type": "code",
   "execution_count": null,
   "id": "c0281f98-bb80-4d82-b394-1f4f35ad9d90",
   "metadata": {},
   "outputs": [],
   "source": []
  }
 ],
 "metadata": {
  "kernelspec": {
   "display_name": "Python 3 (ipykernel)",
   "language": "python",
   "name": "python3"
  },
  "language_info": {
   "codemirror_mode": {
    "name": "ipython",
    "version": 3
   },
   "file_extension": ".py",
   "mimetype": "text/x-python",
   "name": "python",
   "nbconvert_exporter": "python",
   "pygments_lexer": "ipython3",
   "version": "3.9.5"
  }
 },
 "nbformat": 4,
 "nbformat_minor": 5
}
