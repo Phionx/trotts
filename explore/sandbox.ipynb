{
 "cells": [
  {
   "cell_type": "code",
   "execution_count": 5,
   "id": "a53a54ba-29c1-49ab-b1b3-8bf721c001eb",
   "metadata": {},
   "outputs": [],
   "source": [
    "# Importing standard Qiskit modules\n",
    "from qiskit import QuantumCircuit, QuantumRegister, IBMQ, execute, transpile\n",
    "from qiskit.providers.aer import QasmSimulator\n",
    "from qiskit.tools.monitor import job_monitor\n",
    "from qiskit.circuit import Parameter, Instruction\n",
    "\n",
    "# Import state tomography modules\n",
    "from qiskit.ignis.verification.tomography import state_tomography_circuits, StateTomographyFitter\n",
    "from qiskit.quantum_info import state_fidelity\n",
    "from qiskit.opflow import Zero, One, I, X, Y, Z\n",
    "\n",
    "# suppress warnings\n",
    "import warnings\n",
    "warnings.filterwarnings('ignore')\n",
    "\n",
    "import numpy as np\n",
    "from tqdm import tqdm\n",
    "import matplotlib.pyplot as plt\n",
    "import copy"
   ]
  },
  {
   "cell_type": "code",
   "execution_count": 6,
   "id": "fa842a0b-b397-4b68-9009-84c9fa4e9306",
   "metadata": {},
   "outputs": [],
   "source": [
    "sim = QasmSimulator()"
   ]
  },
  {
   "cell_type": "code",
   "execution_count": 7,
   "id": "82e5a9d5-3dbc-4150-83b4-f5beaba25c47",
   "metadata": {},
   "outputs": [],
   "source": [
    "test = QuantumCircuit(3)\n",
    "test.x(1)\n",
    "test.x(2)\n",
    "test.h(2)\n",
    "# prepares state: |01-> or |+z>|-z>|-x>\n",
    "\n",
    "st_test = state_tomography_circuits(test, [0,1,2])\n",
    "job = execute(st_test, sim, shots=8192)\n",
    "test_res = job.result()\n",
    "job = execute(st_test, sim, shots=8192)\n",
    "test_res2 = job.result()\n",
    "fake_res = {\"data\":{0:{\"raw_data\":[test_res, test_res2]}}}"
   ]
  },
  {
   "cell_type": "code",
   "execution_count": 49,
   "id": "37e0d7be-50fc-4e20-b489-c3d0ff5f9e91",
   "metadata": {},
   "outputs": [],
   "source": [
    "import qutip as qt\n",
    "g = qt.basis(2,0)\n",
    "e = qt.basis(2,1)\n",
    "h = qt.hadamard_transform(1)\n",
    "xm = h*e\n",
    "target_state1 = qt.ket2dm(qt.tensor(g,e,xm)).full()\n",
    "target_state2 = qt.ket2dm(qt.tensor(xm,e,g)).full()"
   ]
  },
  {
   "cell_type": "code",
   "execution_count": 51,
   "id": "ffdd6b2f-f331-4f95-b20b-083fd2ed2e18",
   "metadata": {},
   "outputs": [
    {
     "data": {
      "text/plain": [
       "(0.25065742325019497, 0.9961436653538903)"
      ]
     },
     "execution_count": 51,
     "metadata": {},
     "output_type": "execute_result"
    }
   ],
   "source": [
    "def state_tomo(result, st_qcs):\n",
    "    # The expected final state; necessary to determine state tomography fidelity\n",
    "    # Fit state tomography results\n",
    "    tomo_fitter = StateTomographyFitter(result, st_qcs)\n",
    "    rho_fit = tomo_fitter.fit(method='lstsq')\n",
    "    # Compute fidelity\n",
    "    return rho_fit\n",
    "    # fid = state_fidelity(rho_fit, target_state)\n",
    "    # return fid\n",
    "    \n",
    "rho = state_tomo(test_res, st_test)\n",
    "\n",
    "\n",
    "\n",
    "state_fidelity(rho, target_state1), state_fidelity(rho, target_state2)"
   ]
  },
  {
   "cell_type": "code",
   "execution_count": 9,
   "id": "dd7a1595-7dd1-40c1-b4e1-4be2ff73f7a7",
   "metadata": {},
   "outputs": [],
   "source": [
    "test_r = {}\n",
    "for i in range(27):\n",
    "    test_r[test_res.results[i].header.name] = test_res.results[i].data.counts"
   ]
  },
  {
   "cell_type": "code",
   "execution_count": 10,
   "id": "2f593e81-e934-4269-b1e3-0639ca605a54",
   "metadata": {},
   "outputs": [
    {
     "data": {
      "text/plain": [
       "{'0x6': 4014, '0x2': 4178}"
      ]
     },
     "execution_count": 10,
     "metadata": {},
     "output_type": "execute_result"
    }
   ],
   "source": [
    "# |01-> or |+z>|-z>|-x> \n",
    "# measure => 011 -flip-> 110 -> 6\n",
    "test_r[\"('Z', 'Z', 'Y')\"] "
   ]
  },
  {
   "cell_type": "code",
   "execution_count": 53,
   "id": "64ed7d50-2b1e-476c-8bb2-f9b63de95313",
   "metadata": {},
   "outputs": [],
   "source": [
    "ACTIVE_LIST = [(1,1,1), (1,1,0), (1,0,1), (0,1,1), (1,0,0), (0,1,0), (0,0,1)] # [ZXY, ZXI, ZIY, IXY, ZII, IXI, IIY]\n",
    "\n",
    "def extract_key(key):\n",
    "    # e.g. \"('Z', 'Z', 'X')\" -> ZZX\n",
    "    return key[2] + key[7] + key[12]\n",
    "\n",
    "def add_dicts(a,b):\n",
    "    c = {}\n",
    "    keys = set(list(a.keys()) + list(b.keys())) # union of keys\n",
    "    for key in keys:\n",
    "        c[key] = a.get(key,0) + b.get(key, 0)\n",
    "    return c\n",
    "\n",
    "def calc_parity(pauli_string, readout_string, active_spots):\n",
    "    \"\"\"\n",
    "    Args:\n",
    "        b (str): e.g. '0x6'\n",
    "        active_spots (List[int]): e.g. (1, 1, 0)\n",
    "    \"\"\"\n",
    "    n = len(pauli_string)\n",
    "    \n",
    "    adjusted_pauli_string = \"\"\n",
    "    for i in range(n):\n",
    "        letter = pauli_string[i]\n",
    "        adjusted_pauli_string += letter if active_spots[i] else \"I\"\n",
    "        \n",
    "    \n",
    "    b = list(format(int(readout_string[2:]), '#05b')[2:]) # e.g. \"0x6\" -> [\"1\", \"1\", \"0\"]\n",
    "    b = b[::-1] # [\"1\", \"1\", \"0\"] -> [\"0\", \"1\", \"1\"]\n",
    "    v = np.array([1-int(val)*2 for val in b]) #  [\"0\", \"1\", \"1\"] ->  [1, -1, -1]\n",
    "    active = v*np.array(active_spots) # [1, -1, -1] * [1, 1, 0] -> [1, -1, 0]\n",
    "    p = np.prod(active[active!=0]) # [1,-1] -> (1)*(-1) = -1\n",
    "    y = int((1-p)/2) #map: 1,-1 -> 0,1\n",
    "    return adjusted_pauli_string, y\n",
    "\n",
    "def run_analysis(results):\n",
    "    results = copy.deepcopy(results)\n",
    "    \n",
    "    # data map\n",
    "    num_qubits = 3\n",
    "    parsed_data = {} # key: e.g. \"XYZ\", \"XYI\", .. | val: for each parity measurement (e.g. <XYI>) we store [counts of 1, counts of -1], e.g. [12345, 950] \n",
    "    for num_trott_steps, result in results[\"data\"].items():\n",
    "        # data_map = {}\n",
    "        reps = len(result[\"raw_data\"])\n",
    "        for i in range(3**num_qubits):  # loop over pauli strings (i.e. different tomography circuits)\n",
    "            counts = {} # for each pauli string, we store total counts added together from each rep, e.g. {'0x6': 4014, '0x2': 4178}\n",
    "            pauli_string = extract_key(result[\"raw_data\"][0].results[i].header.name)\n",
    "            for r in range(reps): # loop over reps\n",
    "                counts = add_dicts(counts, result[\"raw_data\"][r].results[i].data.counts) # adding counts together\n",
    "            # data_map[pauli_string] = counts\n",
    "            \n",
    "            for active_spots in ACTIVE_LIST: # Loops through all possible parity measurements, e.g. [ZXY, ZXI, ZIY, IXY, ZII, IXI, IIY]\n",
    "                for readout_string, count in counts.items(): # loops through all readout values, e.g. '0x6', '0x2'\n",
    "                    adjusted_pauli_string, parity_meas = calc_parity(pauli_string, readout_string, active_spots) # (\"ZXY\", \"0x6\", (1,1,0)) -> \"ZXI\", 1 corresponds to <ZXI> = -1 measurement\n",
    "                    if adjusted_pauli_string not in parsed_data:\n",
    "                        parsed_data[adjusted_pauli_string] = [0,0] # [counts of 1, counts of -1]\n",
    "                    parsed_data[adjusted_pauli_string][parity_meas] += count\n",
    "\n",
    "        # result[\"data_map\"] = data_map\n",
    "        result[\"parsed_data\"] = parsed_data\n",
    "        \n",
    "        parity = {} # key: e.g. \"XYZ\", \"XYI\", .. | val: for each parity measurement we store the expectation value (e.g. <XYI>)\n",
    "        for parity_string, count in parsed_data.items():\n",
    "            norm = np.sum(count)\n",
    "            parity[parity_string] = (1)*count[0]/norm + (-1)*count[1]/norm # (1) * (counts of 1) + (-1)*(counts of -1) = <ZXY>\n",
    "        \n",
    "        result[\"parity\"] = parity\n",
    "\n",
    "    return results"
   ]
  },
  {
   "cell_type": "code",
   "execution_count": 24,
   "id": "4577b50d-3536-40fc-97f4-9c2cd7427654",
   "metadata": {},
   "outputs": [
    {
     "data": {
      "text/plain": [
       "('ZIX', 1)"
      ]
     },
     "execution_count": 33,
     "metadata": {},
     "output_type": "execute_result"
    }
   ],
   "source": [
    "calc_parity(\"ZZX\", \"0x6\", (1,0,1)) # ZIZ, 011"
   ]
  },
  {
   "cell_type": "code",
   "execution_count": 54,
   "id": "f3b4f889-8620-4a2b-93fa-4fa9a9a6ff7c",
   "metadata": {},
   "outputs": [],
   "source": [
    "res_analysis = run_analysis(fake_res)"
   ]
  },
  {
   "cell_type": "code",
   "execution_count": 55,
   "id": "014fcd84-f3f3-4321-bc08-62b4e32ce090",
   "metadata": {},
   "outputs": [
    {
     "data": {
      "text/plain": [
       "([16384, 0],\n",
       " [0, 49152],\n",
       " [0, 147456],\n",
       " [0, 49152],\n",
       " [49152, 0],\n",
       " [147456, 0],\n",
       " [0, 147456])"
      ]
     },
     "execution_count": 55,
     "metadata": {},
     "output_type": "execute_result"
    }
   ],
   "source": [
    "# state prepared by the circuit above: |+z>|-z>|-x> \n",
    "a = res_analysis[\"data\"][0][\"parsed_data\"]\n",
    "a[\"ZZX\"], a[\"ZIX\"], a[\"IZI\"], a[\"ZZI\"], a[\"IZX\"], a[\"ZII\"], a[\"IIX\"]"
   ]
  },
  {
   "cell_type": "code",
   "execution_count": 28,
   "id": "df9b1e46-cf95-4926-a47f-0b18681010c4",
   "metadata": {},
   "outputs": [
    {
     "data": {
      "text/plain": [
       "array([[0.+0.j, 0.+0.j, 0.+0.j, 0.+0.j, 0.+0.j, 0.+0.j, 0.+0.j, 0.+0.j],\n",
       "       [0.+0.j, 0.+0.j, 0.+0.j, 0.+0.j, 0.+0.j, 0.+0.j, 0.+0.j, 0.+0.j],\n",
       "       [0.+0.j, 0.+0.j, 0.+0.j, 0.+0.j, 0.+0.j, 0.+0.j, 0.+0.j, 0.+0.j],\n",
       "       [0.+0.j, 0.+0.j, 0.+0.j, 0.+0.j, 0.+0.j, 0.+0.j, 0.+0.j, 0.+0.j],\n",
       "       [0.+0.j, 0.+0.j, 0.+0.j, 0.+0.j, 0.+0.j, 0.+0.j, 0.+0.j, 0.+0.j],\n",
       "       [0.+0.j, 0.+0.j, 0.+0.j, 0.+0.j, 0.+0.j, 0.+0.j, 0.+0.j, 0.+0.j],\n",
       "       [0.+0.j, 0.+0.j, 0.+0.j, 0.+0.j, 0.+0.j, 0.+0.j, 1.+0.j, 0.+0.j],\n",
       "       [0.+0.j, 0.+0.j, 0.+0.j, 0.+0.j, 0.+0.j, 0.+0.j, 0.+0.j, 0.+0.j]])"
      ]
     },
     "execution_count": 28,
     "metadata": {},
     "output_type": "execute_result"
    }
   ],
   "source": [
    "import qutip as qt\n",
    "g = qt.basis(2,0)\n",
    "e = qt.basis(2,1)\n",
    "\n",
    "target_state_qt = qt.tensor(e,e,g)\n",
    "target_state_qt = qt.ket2dm(target_state_qt)\n",
    "target_state = target_state_qt.full()\n",
    "target_state"
   ]
  },
  {
   "cell_type": "code",
   "execution_count": 31,
   "id": "cd2a0eb6-d4f6-4ea8-b660-413b05e0e029",
   "metadata": {},
   "outputs": [
    {
     "data": {
      "text/plain": [
       "{'XXX': 0.0,\n",
       " 'XXY': 0.0,\n",
       " 'XXZ': 0.0,\n",
       " 'XXI': 0.0,\n",
       " 'XYX': 0.0,\n",
       " 'XYY': 0.0,\n",
       " 'XYZ': 0.0,\n",
       " 'XYI': 0.0,\n",
       " 'XZX': 0.0,\n",
       " 'XZY': 0.0,\n",
       " 'XZZ': 0.0,\n",
       " 'XZI': 0.0,\n",
       " 'XIX': 0.0,\n",
       " 'XIY': 0.0,\n",
       " 'XIZ': 0.0,\n",
       " 'XII': 0.0,\n",
       " 'YXX': 0.0,\n",
       " 'YXY': 0.0,\n",
       " 'YXZ': 0.0,\n",
       " 'YXI': 0.0,\n",
       " 'YYX': 0.0,\n",
       " 'YYY': 0.0,\n",
       " 'YYZ': 0.0,\n",
       " 'YYI': 0.0,\n",
       " 'YZX': 0.0,\n",
       " 'YZY': 0.0,\n",
       " 'YZZ': 0.0,\n",
       " 'YZI': 0.0,\n",
       " 'YIX': 0.0,\n",
       " 'YIY': 0.0,\n",
       " 'YIZ': 0.0,\n",
       " 'YII': 0.0,\n",
       " 'ZXX': 0.0,\n",
       " 'ZXY': 0.0,\n",
       " 'ZXZ': 0.0,\n",
       " 'ZXI': 0.0,\n",
       " 'ZYX': 0.0,\n",
       " 'ZYY': 0.0,\n",
       " 'ZYZ': 0.0,\n",
       " 'ZYI': 0.0,\n",
       " 'ZZX': 0.0,\n",
       " 'ZZY': 0.0,\n",
       " 'ZZZ': 1.0,\n",
       " 'ZZI': 1.0,\n",
       " 'ZIX': 0.0,\n",
       " 'ZIY': 0.0,\n",
       " 'ZIZ': -1.0,\n",
       " 'ZII': -1.0,\n",
       " 'IXX': 0.0,\n",
       " 'IXY': 0.0,\n",
       " 'IXZ': 0.0,\n",
       " 'IXI': 0.0,\n",
       " 'IYX': 0.0,\n",
       " 'IYY': 0.0,\n",
       " 'IYZ': 0.0,\n",
       " 'IYI': 0.0,\n",
       " 'IZX': 0.0,\n",
       " 'IZY': 0.0,\n",
       " 'IZZ': -1.0,\n",
       " 'IZI': -1.0,\n",
       " 'IIX': 0.0,\n",
       " 'IIY': 0.0,\n",
       " 'IIZ': 1.0}"
      ]
     },
     "execution_count": 31,
     "metadata": {},
     "output_type": "execute_result"
    }
   ],
   "source": [
    "pauli = {\"X\":qt.sigmax(),\"Y\":qt.sigmay(),\"Z\":qt.sigmaz(),\"I\":qt.identity(2)}\n",
    "target_parity = {}\n",
    "for k1, p1 in pauli.items():\n",
    "    for k2, p2 in pauli.items():\n",
    "        for k3, p3 in pauli.items():\n",
    "            pauli_string = k1+k2+k3\n",
    "            if pauli_string == \"III\":\n",
    "                continue\n",
    "            op = qt.tensor(p1,p2,p3)\n",
    "            meas = (target_state_qt*op).tr()\n",
    "            target_parity[pauli_string] = meas\n",
    "target_parity"
   ]
  }
 ],
 "metadata": {
  "kernelspec": {
   "display_name": "Python 3 (ipykernel)",
   "language": "python",
   "name": "python3"
  },
  "language_info": {
   "codemirror_mode": {
    "name": "ipython",
    "version": 3
   },
   "file_extension": ".py",
   "mimetype": "text/x-python",
   "name": "python",
   "nbconvert_exporter": "python",
   "pygments_lexer": "ipython3",
   "version": "3.9.5"
  }
 },
 "nbformat": 4,
 "nbformat_minor": 5
}
