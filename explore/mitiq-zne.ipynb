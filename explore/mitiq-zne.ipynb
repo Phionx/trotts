{
 "cells": [
  {
   "cell_type": "code",
   "execution_count": 1,
   "id": "dbf28d8e-4432-4955-9b8f-37b35c31d1de",
   "metadata": {},
   "outputs": [],
   "source": [
    "%load_ext autoreload\n",
    "%autoreload 2"
   ]
  },
  {
   "cell_type": "markdown",
   "id": "4e045712-3ead-4e40-ad07-4b1b3f701dd4",
   "metadata": {
    "tags": []
   },
   "source": [
    "# Imports"
   ]
  },
  {
   "cell_type": "code",
   "execution_count": 2,
   "id": "b6c40ce5-7b10-480f-86bc-3571f2ac2878",
   "metadata": {},
   "outputs": [],
   "source": [
    "import warnings\n",
    "warnings.filterwarnings('ignore')\n",
    "\n",
    "from trott import *\n",
    "from qiskit import IBMQ\n",
    "from qiskit.providers.aer import QasmSimulator\n",
    "from mitiq import zne\n",
    "import numpy as np"
   ]
  },
  {
   "cell_type": "markdown",
   "id": "6e6239b1-2da5-4bde-aadb-dd991b06e6f1",
   "metadata": {
    "tags": []
   },
   "source": [
    "# Prepare Circuits"
   ]
  },
  {
   "cell_type": "code",
   "execution_count": 3,
   "id": "a7634b9b-8081-474b-9113-33512eb00ce6",
   "metadata": {},
   "outputs": [],
   "source": [
    "trott_gate = gen_3cnot_trott_gate() # using the basic trott method (this can be changed)\n",
    "trott_steps_range = np.arange(4,25,1)\n",
    "qcs = gen_st_qcs_range(trott_gate, trott_steps_range, decompose=True)"
   ]
  },
  {
   "cell_type": "markdown",
   "id": "5fb06f5f-9319-4751-860e-632108a22d9f",
   "metadata": {},
   "source": [
    "# Prepare Backend"
   ]
  },
  {
   "cell_type": "code",
   "execution_count": 4,
   "id": "bdb481b7-a78f-467d-a916-0f7041bd333e",
   "metadata": {},
   "outputs": [],
   "source": [
    "# load IBMQ Account data\n",
    "\n",
    "# IBMQ.save_account(TOKEN)  # replace TOKEN with your API token string (https://quantum-computing.ibm.com/lab/docs/iql/manage/account/ibmq)\n",
    "provider = IBMQ.load_account()"
   ]
  },
  {
   "cell_type": "code",
   "execution_count": 5,
   "id": "e8e15ea7-555d-4604-ab83-ac93c3f6999f",
   "metadata": {},
   "outputs": [],
   "source": [
    "# Get backend for experiment\n",
    "provider = IBMQ.get_provider(hub='ibm-q-community', group='ibmquantumawards', project='open-science-22')\n",
    "jakarta = provider.get_backend('ibmq_jakarta')\n",
    "# properties = jakarta.properties()\n",
    "\n",
    "# Simulated backend based on ibmq_jakarta's device noise profile\n",
    "sim_noisy_jakarta = QasmSimulator.from_backend(provider.get_backend('ibmq_jakarta'))\n",
    "\n",
    "# Noiseless simulated backend\n",
    "sim = QasmSimulator()"
   ]
  },
  {
   "cell_type": "markdown",
   "id": "d2819a47-6f99-4d0f-892b-217aeab0a102",
   "metadata": {},
   "source": [
    "# Example mitiq "
   ]
  },
  {
   "cell_type": "code",
   "execution_count": 6,
   "id": "14ec9c26-e56d-411c-bae5-c5435ac1a7be",
   "metadata": {},
   "outputs": [],
   "source": [
    "test_circ = qcs[10][0]"
   ]
  },
  {
   "cell_type": "code",
   "execution_count": 7,
   "id": "3d1cda94",
   "metadata": {},
   "outputs": [],
   "source": [
    "def executor(st_circuit, shots=8192, backend = sim_noisy_jakarta):\n",
    "    shots = 8192\n",
    "    reps = 8\n",
    "\n",
    "    # create jobs\n",
    "    jobs = []\n",
    "    for _ in range(reps):\n",
    "        # execute\n",
    "        job = execute(st_circuit, backend, shots=shots)\n",
    "        print('Job ID', job.job_id())\n",
    "        jobs.append(job)\n",
    "        \n",
    "    # Average counts  \n",
    "    avg_counts = {}\n",
    "    for job in jobs:\n",
    "        counts = job.result().get_counts()\n",
    "        avg_counts = add_dicts(avg_counts, counts)\n",
    "        \n",
    "    \n",
    "    #return job\n",
    "    \n",
    "    # All reps should have the same Pauli string\n",
    "    pauli_string = extract_key(job.result().results[0].header.name)\n",
    "    \n",
    "    num_qubits = 3\n",
    "    parsed_data = {}\n",
    "    for active_spots in ACTIVE_LIST: # Loops through all possible parity measurements, e.g. [ZXY, ZXI, ZIY, IXY, ZII, IXI, IIY]\n",
    "        for readout_string, count in avg_counts.items(): # loops through all readout values, e.g. '0x6', '0x2'\n",
    "            adjusted_pauli_string, parity_meas = calc_parity_full(pauli_string, readout_string, active_spots) # (\"ZXY\", \"0x6\", (1,1,0)) -> \"ZXI\", 1 corresponds to <ZXI> = -1 measurement\n",
    "            if adjusted_pauli_string not in parsed_data:\n",
    "                parsed_data[adjusted_pauli_string] = [0,0] # [counts of 1, counts of -1]\n",
    "            parsed_data[adjusted_pauli_string][parity_meas] += count\n",
    "\n",
    "    parity = {}\n",
    "    for parity_string, count in parsed_data.items():\n",
    "        norm = np.sum(count)\n",
    "        parity[parity_string] = (1)*count[0]/norm + (-1)*count[1]/norm\n",
    "        \n",
    "    print(\"Pauli string:\", pauli_string)\n",
    "    #print(\"Calculated parities:\", parity)\n",
    "    return parity[pauli_string]\n",
    "\n",
    "\n"
   ]
  },
  {
   "cell_type": "code",
   "execution_count": 21,
   "id": "8251a199",
   "metadata": {},
   "outputs": [
    {
     "name": "stdout",
     "output_type": "stream",
     "text": [
      "Job ID ddc86002-98f3-4486-bde5-fe3fd401b3f3\n",
      "Job ID d2b56caf-1c42-468e-9177-4bd502cf3fb8\n",
      "Job ID bb13fdec-3803-41a0-8b2c-01c9855cce1c\n",
      "Job ID ea74e6e2-0a9c-4cd1-848d-65808f3db707\n",
      "Job ID 0818f019-d9d6-4710-9fe7-2dea47afc4b3\n",
      "Job ID 7770f577-5260-4aac-b201-feb102f340c4\n",
      "Job ID 9574570e-6454-47b5-84e2-82ea7f9f942c\n",
      "Job ID 2174a483-ddf8-42a1-932c-dcb9b5a4a32f\n",
      "Pauli string: XXX\n"
     ]
    },
    {
     "data": {
      "text/plain": [
       "0.022308349609375"
      ]
     },
     "execution_count": 21,
     "metadata": {},
     "output_type": "execute_result"
    }
   ],
   "source": [
    "executor(qcs[5][0])"
   ]
  },
  {
   "cell_type": "code",
   "execution_count": 20,
   "id": "4b700fe7",
   "metadata": {},
   "outputs": [
    {
     "name": "stdout",
     "output_type": "stream",
     "text": [
      "Job ID c76cce42-73ab-47b7-9308-1905b3dc94b2\n",
      "Job ID fcd24ba6-22ee-4d69-bb64-10a8c6e0fd89\n",
      "Job ID df2911eb-c684-42f1-92ed-2ca83c059289\n",
      "Job ID b5622155-fd1f-4e06-8fa7-6274ab0a14fc\n",
      "Job ID 512a696b-e16b-4c46-a052-7cae139de08f\n",
      "Job ID d3441f94-f528-44f1-94e1-5630f70e1f85\n",
      "Job ID d33930c9-63f4-4268-94e0-5e828220fef8\n",
      "Job ID fb16254d-ebba-4e51-b57b-b4fc8986bc6c\n",
      "Pauli string: r-1\n",
      "Job ID 5711a96a-66f7-4ac7-aa7a-390c684b6b2e\n",
      "Job ID e7dea68e-76a2-43d5-b7c1-2522fe7c2053\n",
      "Job ID 582eb313-fb76-4916-9878-56ae81cf1288\n",
      "Job ID 107cc5ba-f0ce-41bc-b7bc-7e5fbf6f8f02\n",
      "Job ID 0224968d-a515-4585-ae8b-cfe40d5dd123\n",
      "Job ID 26eeb0f7-e4ac-4b21-978b-7dc6840cee1b\n",
      "Job ID 17f59090-54d6-4c86-9d2d-34668b918d8c\n",
      "Job ID 15844546-3f3e-4aaa-a5c5-287f8ffcbdeb\n",
      "Pauli string: r-2\n",
      "Job ID 7ba0c232-beb9-47d9-b6c4-df22edaec354\n",
      "Job ID 317257c2-1580-4091-9a11-d95ddae21c34\n",
      "Job ID fc43be7a-2f77-42f4-ba46-776f07e735e9\n",
      "Job ID b4be22bf-c42c-4cfe-9859-dc442d5a48f5\n",
      "Job ID 86507c86-a68b-4f4b-b16f-7a53d0a367a2\n",
      "Job ID d5ca0d05-2403-4f7c-b89f-e8dcb17cbdf3\n",
      "Job ID 31eb70ce-0091-49ea-941d-50ecae4c1168\n",
      "Job ID db70f774-2d79-47a5-8539-c101b6e78679\n",
      "Pauli string: r-3\n"
     ]
    },
    {
     "data": {
      "text/plain": [
       "0.02490234374999997"
      ]
     },
     "execution_count": 20,
     "metadata": {},
     "output_type": "execute_result"
    }
   ],
   "source": [
    "zne.execute_with_zne(qcs[5][0], executor)"
   ]
  },
  {
   "cell_type": "code",
   "execution_count": 8,
   "id": "d0a5ec41",
   "metadata": {},
   "outputs": [],
   "source": [
    "def mitiq_ZNE(tomography_circuits: List[QuantumCircuit]):\n",
    "    \n",
    "    for circuit in tomography_circuits:\n",
    "        \n",
    "        zne_result = zne.execute_with_zne(circuit, executor)\n",
    "        unmitigated_result = executor(circuit)\n",
    "        \n",
    "    \n",
    "    print(\"Unmitigated Result:\", unmitigated_result)\n",
    "    print(\"ZNE Result:\", zne_result)\n",
    "    \n",
    "    return unmitigated_result, zne_result"
   ]
  },
  {
   "cell_type": "code",
   "execution_count": 23,
   "id": "3a5b29c2",
   "metadata": {},
   "outputs": [],
   "source": [
    "from mitiq.zne.inference import LinearFactory, RichardsonFactory, PolyFactory\n",
    "from mitiq.zne.scaling import fold_gates_at_random, fold_global, fold_gates_from_right, fold_all\n",
    "from functools import partial"
   ]
  },
  {
   "cell_type": "code",
   "execution_count": 31,
   "id": "4ead6ecd",
   "metadata": {},
   "outputs": [
    {
     "name": "stdout",
     "output_type": "stream",
     "text": [
      "Job ID 6b44c090-f129-47d4-86a6-e980b1f10c55\n",
      "Job ID a14cc6bc-8067-43c1-9192-5e282a81f8c0\n",
      "Job ID f97f6257-2d85-4072-bed1-7c43f20c8063\n",
      "Job ID 93db211a-77c2-4c7d-be91-c922c3b59f53\n",
      "Job ID 8cb6dd03-835a-4365-857a-bac82fea26b0\n",
      "Job ID afce245d-7c38-4713-9b12-d86ea936e695\n",
      "Job ID 01927884-0ad1-4418-8ffc-8a0a63086fca\n",
      "Job ID 2dd0902c-7a8c-4f41-9c06-925391e57ff5\n",
      "Pauli string: r-2\n",
      "Job ID e7179116-dccc-4265-aa7d-75ff207174b3\n",
      "Job ID 42718b8a-8eec-4c6d-9c33-a298df67951c\n",
      "Job ID cf987ee0-db4b-4bc1-ba63-00a74be49346\n",
      "Job ID 1e5e12a9-f98e-466b-99f7-e515dac16412\n",
      "Job ID 3807cc37-3bbe-4158-8fe6-62b8d9ea15c0\n",
      "Job ID 9e24f49b-d12e-46e6-9b8d-c244789f1dea\n",
      "Job ID 240eab39-a6e6-4840-b03c-aed551045759\n",
      "Job ID 5a885b14-d8a0-4845-a4c3-a813439ce7a0\n",
      "Pauli string: r-3\n",
      "Job ID f0ef781a-3f1f-42d4-a45b-922ea6272761\n",
      "Job ID 4907beed-498d-434f-b233-56fc7ea3ecbc\n",
      "Job ID 22461a3a-3330-4037-a202-657c5053d6d4\n",
      "Job ID c3f11fad-076f-4b44-9ca1-449ef228f03f\n",
      "Job ID 45c43c6f-0e0e-41c8-a3b6-990348397a71\n",
      "Job ID 9140c11c-ee15-42a3-ac80-b9d9455d85d2\n",
      "Job ID bc355a0e-6c08-48db-934d-e731ed6d5398\n",
      "Job ID 144e69e2-1bed-4443-bf79-09af5780d0d1\n",
      "Pauli string: r-4\n"
     ]
    },
    {
     "data": {
      "text/plain": [
       "-0.2672958374023437"
      ]
     },
     "execution_count": 31,
     "metadata": {},
     "output_type": "execute_result"
    }
   ],
   "source": [
    "factory = RichardsonFactory(scale_factors=[1.0, 3.0, 5.0])\n",
    "noise_scaling_function = partial(\n",
    "    fold_gates_from_right,\n",
    "    fidelities = {\"single\": 1.0, \"CNOT\": 0.98}\n",
    ")\n",
    "\n",
    "zne.execute_with_zne(qcs[14][-1], executor, factory=factory, scale_noise=noise_scaling_function)"
   ]
  },
  {
   "cell_type": "code",
   "execution_count": null,
   "id": "22ddcef0",
   "metadata": {},
   "outputs": [],
   "source": []
  }
 ],
 "metadata": {
  "kernelspec": {
   "display_name": "Python 3 (ipykernel)",
   "language": "python",
   "name": "python3"
  },
  "language_info": {
   "codemirror_mode": {
    "name": "ipython",
    "version": 3
   },
   "file_extension": ".py",
   "mimetype": "text/x-python",
   "name": "python",
   "nbconvert_exporter": "python",
   "pygments_lexer": "ipython3",
   "version": "3.8.13"
  }
 },
 "nbformat": 4,
 "nbformat_minor": 5
}
