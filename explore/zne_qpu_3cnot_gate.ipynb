{
 "cells": [
  {
   "cell_type": "code",
   "execution_count": 1,
   "id": "dbf28d8e-4432-4955-9b8f-37b35c31d1de",
   "metadata": {},
   "outputs": [],
   "source": [
    "%load_ext autoreload\n",
    "%autoreload 2"
   ]
  },
  {
   "cell_type": "markdown",
   "id": "4e045712-3ead-4e40-ad07-4b1b3f701dd4",
   "metadata": {
    "tags": []
   },
   "source": [
    "# Imports"
   ]
  },
  {
   "cell_type": "code",
   "execution_count": 2,
   "id": "b6c40ce5-7b10-480f-86bc-3571f2ac2878",
   "metadata": {},
   "outputs": [],
   "source": [
    "from trott import *\n",
    "from qiskit import IBMQ\n",
    "from qiskit.providers.aer import QasmSimulator\n",
    "import numpy as np\n",
    "import warnings\n",
    "warnings.filterwarnings('ignore')"
   ]
  },
  {
   "cell_type": "markdown",
   "id": "6e6239b1-2da5-4bde-aadb-dd991b06e6f1",
   "metadata": {},
   "source": [
    "# Prepare Circuits"
   ]
  },
  {
   "cell_type": "code",
   "execution_count": 3,
   "id": "a7634b9b-8081-474b-9113-33512eb00ce6",
   "metadata": {},
   "outputs": [],
   "source": [
    "trott_gate = gen_3cnot_trott_gate() # using the basic trott method (this can be changed)x\n",
    "trott_steps_range = np.arange(4,25,1)\n",
    "qcs = gen_st_qcs_range(trott_gate, trott_steps_range)\n",
    "# qcs[10][-2].draw() # e.g. 10 trott steps, example tomo circuit"
   ]
  },
  {
   "cell_type": "markdown",
   "id": "5fb06f5f-9319-4751-860e-632108a22d9f",
   "metadata": {},
   "source": [
    "# Prepare Backend"
   ]
  },
  {
   "cell_type": "code",
   "execution_count": 4,
   "id": "bdb481b7-a78f-467d-a916-0f7041bd333e",
   "metadata": {},
   "outputs": [],
   "source": [
    "# load IBMQ Account data\n",
    "\n",
    "# IBMQ.save_account(TOKEN)  # replace TOKEN with your API token string (https://quantum-computing.ibm.com/lab/docs/iql/manage/account/ibmq)\n",
    "provider = IBMQ.load_account()"
   ]
  },
  {
   "cell_type": "code",
   "execution_count": 5,
   "id": "e8e15ea7-555d-4604-ab83-ac93c3f6999f",
   "metadata": {},
   "outputs": [],
   "source": [
    "# Get backend for experiment\n",
    "provider = IBMQ.get_provider(hub='ibm-q-community', group='ibmquantumawards', project='open-science-22')\n",
    "jakarta = provider.get_backend('ibmq_jakarta')\n",
    "# properties = jakarta.properties()\n",
    "\n",
    "# Simulated backend based on ibmq_jakarta's device noise profile\n",
    "sim_noisy_jakarta = QasmSimulator.from_backend(provider.get_backend('ibmq_jakarta'))\n",
    "\n",
    "# Noiseless simulated backend\n",
    "sim = QasmSimulator()"
   ]
  },
  {
   "cell_type": "markdown",
   "id": "13236f35-a00d-4a44-9a81-e6c90367ef81",
   "metadata": {},
   "source": [
    "# Capture Data"
   ]
  },
  {
   "cell_type": "code",
   "execution_count": 16,
   "id": "900237a9-5ec1-4d1c-885a-b81de71624d8",
   "metadata": {
    "scrolled": true,
    "tags": []
   },
   "outputs": [],
   "source": [
    "# Generate + Submit / Load Jobs\n",
    "# job_ids = gen_qpu_jobs(qcs, backend = jakarta, label=\"data/3cnot_qpu\")\n",
    "job_ids = np.load(\"data/3cnot_qpu_jobs_20220414__193247.npy\",allow_pickle=True).item()"
   ]
  },
  {
   "cell_type": "code",
   "execution_count": null,
   "id": "f2c33cde-97ac-4b4e-84a6-3a7e6cddcb0f",
   "metadata": {},
   "outputs": [],
   "source": [
    "# Monitor / Store / Load Results\n",
    "results = gen_qpu_results(qcs, job_ids, backend=jakarta, filename=\"data/results_qpu_20220414_120000.npy\")\n",
    "# results = np.load(\"data/results_qpu_20220414_120000.npy\",allow_pickle=True).item()"
   ]
  },
  {
   "cell_type": "markdown",
   "id": "e264ec43-a13f-4354-a319-8136ea8d84f1",
   "metadata": {
    "tags": []
   },
   "source": [
    "# Run Analysis"
   ]
  },
  {
   "cell_type": "code",
   "execution_count": null,
   "id": "a3b0fc90-2d13-4e29-96fd-07802ac32c43",
   "metadata": {},
   "outputs": [],
   "source": [
    "res_analysis = run_analysis(results) "
   ]
  },
  {
   "cell_type": "code",
   "execution_count": null,
   "id": "83ab47ae-f043-4a5e-97c6-48824bf32342",
   "metadata": {},
   "outputs": [],
   "source": [
    "compare_Z_parity(res_analysis)"
   ]
  },
  {
   "cell_type": "code",
   "execution_count": null,
   "id": "dcbc7f9e-62a1-49ef-b215-c76d6bf0b174",
   "metadata": {},
   "outputs": [],
   "source": [
    "res_analysis[\"data\"][5][\"avg_infid\"], np.mean(res_analysis[\"data\"][5][\"infids\"]) # these should match"
   ]
  },
  {
   "cell_type": "markdown",
   "id": "dcad037f-b61e-4391-b83b-4596562f21c1",
   "metadata": {},
   "source": [
    "#### Plots"
   ]
  },
  {
   "cell_type": "code",
   "execution_count": null,
   "id": "dad57b61-61f5-4f93-ab0e-94d7de662d00",
   "metadata": {},
   "outputs": [],
   "source": [
    "axs = plot_parity(res_analysis)"
   ]
  },
  {
   "cell_type": "code",
   "execution_count": null,
   "id": "da7ec51f-cf38-4d8c-b817-851253d7ca0a",
   "metadata": {},
   "outputs": [],
   "source": [
    "axs = plot_parity(res_analysis, parity_strings=[\"ZZZ\", \"ZZI\", \"ZIZ\", \"IZZ\", \"ZII\", \"IZI\", \"IIZ\"], legend=True)"
   ]
  },
  {
   "cell_type": "code",
   "execution_count": null,
   "id": "d5c72e8e-c17d-416d-a6c2-7f8476513270",
   "metadata": {},
   "outputs": [],
   "source": [
    "axs = plot_parity_dist(res_analysis)"
   ]
  },
  {
   "cell_type": "code",
   "execution_count": null,
   "id": "36c8dc54-bb29-43f2-8b79-9cce6f238ef4",
   "metadata": {},
   "outputs": [],
   "source": [
    "axs = plot_parity_dist(res_analysis, parity_strings=[\"ZZZ\", \"ZZI\", \"ZIZ\", \"IZZ\", \"ZII\", \"IZI\", \"IIZ\"], legend=True)"
   ]
  },
  {
   "cell_type": "code",
   "execution_count": null,
   "id": "8b5fb8a4-98b6-4782-8ef9-c3b54d558e01",
   "metadata": {},
   "outputs": [],
   "source": [
    "_ = plot_fidelities(res_analysis)"
   ]
  },
  {
   "cell_type": "code",
   "execution_count": null,
   "id": "83234b4c-f671-41c9-951f-5066fe466d21",
   "metadata": {},
   "outputs": [],
   "source": [
    "_ = plot_l1_dist(res_analysis)"
   ]
  },
  {
   "cell_type": "code",
   "execution_count": null,
   "id": "ac1d6a78-1473-4361-b2e7-ef75d0127d3e",
   "metadata": {},
   "outputs": [],
   "source": [
    "_ = plot_element_dist(res_analysis)"
   ]
  },
  {
   "cell_type": "code",
   "execution_count": null,
   "id": "fdfe106c-8750-44d8-91f4-0a0121f55f36",
   "metadata": {},
   "outputs": [],
   "source": [
    "_ = plot_element_dist(res_analysis, row=5, col=5)"
   ]
  },
  {
   "cell_type": "code",
   "execution_count": null,
   "id": "0198aaa8-0e56-457a-a872-12fbc8614d8b",
   "metadata": {},
   "outputs": [],
   "source": [
    "_ = plot_element_dist(res_analysis, row=6, col=5)"
   ]
  },
  {
   "cell_type": "code",
   "execution_count": null,
   "id": "0b7a3ed8-2203-4082-b6e5-d5ee479bedcb",
   "metadata": {},
   "outputs": [],
   "source": [
    "_ = plot_element_dist(res_analysis, row=3, col=4)"
   ]
  }
 ],
 "metadata": {
  "kernelspec": {
   "display_name": "Python 3 (ipykernel)",
   "language": "python",
   "name": "python3"
  },
  "language_info": {
   "codemirror_mode": {
    "name": "ipython",
    "version": 3
   },
   "file_extension": ".py",
   "mimetype": "text/x-python",
   "name": "python",
   "nbconvert_exporter": "python",
   "pygments_lexer": "ipython3",
   "version": "3.9.5"
  }
 },
 "nbformat": 4,
 "nbformat_minor": 5
}
