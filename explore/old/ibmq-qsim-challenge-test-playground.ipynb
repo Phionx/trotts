{
 "cells": [
  {
   "cell_type": "markdown",
   "id": "852ab4ac-e501-4694-bf67-90cd4122140e",
   "metadata": {},
   "source": [
    "# 1 Introduction\n",
    "\n",
    "### 1-1 Quantum Simulation\n",
    "One of the leading uses for quantum computers will be to simulate quantum systems such as molecules or engineered materials. Actually executing a quantum simulation on a current quantum computer, however, can be difficult and error prone. Your objective for this Open Science Prize is to significantly improve the state-of-the-art for quantum simulation (details in Section 2).\n",
    "\n",
    "The quantum system you will simulate is a quantum spin-1/2 model, where each qubit represents a quantum [spin-1/2](https://en.wikipedia.org/wiki/Spin-1/2) particle in a 1D chain. Quantum spin models have some amazing properties and uses. Computationally speaking, [certain optimization problems can be mapped](https://arxiv.org/pdf/1712.05771.pdf) to spin models and hence minimized on a quantum computer. Physically speaking, spin models show a variety of quantum behavior such as large entangled states, quantum phases of matter, quantum many-body affects, and many other open questions in physics research.\n",
    "\n",
    "There are many different spin models, but we will focus on the [$XXX$ Heisenberg spin model](https://en.wikipedia.org/wiki/Quantum_Heisenberg_model#XXX_model). Though it is not as well known as the [transverse-field Ising model](https://en.wikipedia.org/wiki/Transverse-field_Ising_model), the $XXX$ Heisenberg model is of practical and theoretical interest. It can also be difficult to simulate, which is where you come in.\n",
    "\n",
    "The notebook is organized as follows:\n",
    "1) Section 1 (labeled 1-X) provides you with brief introductions to the $XXX$ Heisenberg model, time evolving a Hamiltonian, and decomposing a time evolution operator into gates for a quantum computer to execute.\n",
    "2) Section 2 (labeled 2-X) outlines the specific requirements and boundaries associated with completing and competing in the Open Science Prize. Continuing from Section 1, the notebook showns an example solution."
   ]
  },
  {
   "cell_type": "code",
   "execution_count": 1,
   "id": "d1548b05-e691-40a5-8b35-c0eaa87a2a72",
   "metadata": {},
   "outputs": [],
   "source": [
    "import numpy as np\n",
    "import matplotlib.pyplot as plt\n",
    "plt.rcParams.update({'font.size': 16})  # enlarge matplotlib fonts\n",
    "\n",
    "# Import qubit states Zero (|0>) and One (|1>), and Pauli operators (X, Y, Z)\n",
    "from qiskit.opflow import Zero, One, I, X, Y, Z, Plus, Minus\n",
    "\n",
    "# Suppress warnings\n",
    "import warnings\n",
    "warnings.filterwarnings('ignore')"
   ]
  },
  {
   "cell_type": "markdown",
   "id": "c764af20-017f-4209-9483-4f89f10cb562",
   "metadata": {},
   "source": [
    "### 1-2 The $XXX$ Heisenberg Spin Model\n",
    "\n",
    "To simulate a quantum system, we first need to define how the quantum particles that make up the system interact with each other. In quantum physics, this is done by defining a [Hamiltonian operator](https://en.wikipedia.org/wiki/Hamiltonian_(quantum_mechanics)). For this Open Science Prize, you will work with the $XXX$ Heisenberg Hamiltonian $H_{\\text{Heis}}$ as defined below\n",
    "\n",
    "$$\n",
    "\\begin{equation}\n",
    "H_{\\text{Heis}} = \\sum_{\\langle ij \\rangle}^{N} J \\left(\\sigma_x^{(i)}\\sigma_x^{(j)} + \\sigma_y^{(i)}\\sigma_y^{(j)} + \\sigma_z^{(i)}\\sigma_z^{(j)}\\right).\n",
    "\\end{equation}\n",
    "$$\n",
    "\n",
    "$N$ is the number of spin-1/2 particles in model. The operators $\\sigma_x$, $\\sigma_y$, and $\\sigma_z$ are [Pauli operators](https://en.wikipedia.org/wiki/Pauli_matrices) where the $i$ and $j$ superscripts label which qubit they act on. For example, $\\sigma_x^{(1)}$ would be the $\\sigma_x$ operator acting on only qubit 1 (which is the 2nd qubit since indexing starts at 0). This version of the general Heisenberg spin model is called $XXX$ because the same $J$ value multiplies each pair of Pauli operators. The sum notation $\\langle ij \\rangle$ means the sum is over nearest neighbors (only qubits next to each other interact), and $J$ is the interaction strength, which we will set $J=1$.\n",
    "\n",
    "You will work with the explicit case of $N=3$ with the 3 spins arranged in a line. Written out fully, the Hamiltonian is\n",
    "$$\n",
    "H_{\\text{Heis3}} = \\sigma_x^{(0)}\\sigma_x^{(1)} + \\sigma_x^{(1)}\\sigma_x^{(2)} + \\sigma_y^{(0)}\\sigma_y^{(1)} + \\sigma_y^{(1)}\\sigma_y^{(2)} + \\sigma_z^{(0)}\\sigma_z^{(1)} + \\sigma_z^{(1)}\\sigma_z^{(2)}.\n",
    "$$\n",
    "Now that we have a Hamiltonian ($H_{\\text{Heis3}}$), we can use it to determine how the quantum system of 3 spin-1/2 particles changes in time.\n",
    "\n",
    "*See the supplementary material for further details on $H_{\\text{Heis}}$, $H_{\\text{Heis3}}$ and its matrix repsentation.*"
   ]
  },
  {
   "cell_type": "code",
   "execution_count": 2,
   "id": "e6d371fd-f5c4-446a-83f4-ac7593fdcee1",
   "metadata": {},
   "outputs": [],
   "source": [
    "# Returns the matrix representation of the XXX Heisenberg model for 3 spin-1/2 particles in a line\n",
    "def H_heis3():\n",
    "    # Interactions (I is the identity matrix; X, Y, and Z are Pauli matricies; ^ is a tensor product)\n",
    "    XXs = (I^X^X) + (X^X^I)\n",
    "    YYs = (I^Y^Y) + (Y^Y^I)\n",
    "    ZZs = (I^Z^Z) + (Z^Z^I)\n",
    "    \n",
    "    # Sum interactions\n",
    "    H = XXs + YYs + ZZs\n",
    "    \n",
    "    # Return Hamiltonian\n",
    "    return H"
   ]
  },
  {
   "cell_type": "markdown",
   "id": "35323a1f-9aac-493a-87a8-116c3b7980ca",
   "metadata": {},
   "source": [
    "### 1-3 Time Evolution\n",
    "\n",
    "Knowing the Hamiltonian, we can determine how quantum states of that system evolve in time by solving the [Schrödinger equation](https://en.wikipedia.org/wiki/Schrödinger_equation)\n",
    "$$\n",
    "i\\hbar \\dfrac{d}{dt}|\\psi(t)\\rangle = H |\\psi(t)\\rangle\n",
    "$$\n",
    "\n",
    "For simplicity, let's set $\\hbar = 1$. We know that the Hamiltonian $H_{\\text{heis3}}$ does not change in time, so the solution to the Schrödinger equation is an exponential of the Hamiltonian operator\n",
    "$$\n",
    "\\begin{align}\n",
    "U_{\\text{Heis3}}(t) &= e^{-it H_\\text{Heis3}} = \\exp\\left(-it H_\\text{Heis3}\\right) \\\\\n",
    "U_{\\text{Heis3}}(t) &= \\exp\\left[-it \\sum_{\\langle ij \\rangle}^{N=3} \\left(\\sigma_x^{(i)}\\sigma_x^{(j)} + \\sigma_y^{(i)}\\sigma_y^{(j)} + \\sigma_z^{(i)}\\sigma_z^{(j)}\\right) \\right] \\\\\n",
    "U_{\\text{Heis3}}(t) &= \\exp\\left[-it \\left(\\sigma_x^{(0)}\\sigma_x^{(1)} + \\sigma_x^{(1)}\\sigma_x^{(2)} + \\sigma_y^{(0)}\\sigma_y^{(1)} + \\sigma_y^{(1)}\\sigma_y^{(2)} + \\sigma_z^{(0)}\\sigma_z^{(1)} + \\sigma_z^{(1)}\\sigma_z^{(2)}\\right) \\right]\n",
    "\\end{align}\n",
    "$$.\n",
    "\n",
    "Now that we have the time evolution operator $U_{\\text{Heis3}}(t)$, we can simulate changes in a state of the system ($|\\psi(t)\\rangle$) over time $|\\psi(t)\\rangle = U_{\\text{Heis3}}(t)|\\psi(t=0)\\rangle$. \n",
    "\n",
    "*See the supplementary material for more information on exponentiating an operator or matrix.*"
   ]
  },
  {
   "cell_type": "code",
   "execution_count": 3,
   "id": "ccdedbc8-f335-468c-9db5-b594aa2e50bd",
   "metadata": {},
   "outputs": [],
   "source": [
    "# Returns the matrix representation of U_heis3(t) for a given time t assuming an XXX Heisenberg Hamiltonian for 3 spins-1/2 particles in a line\n",
    "def U_heis3(t):\n",
    "    # Compute XXX Hamiltonian for 3 spins in a line\n",
    "    H = H_heis3()\n",
    "    \n",
    "    # Return the exponential of -i multipled by time t multipled by the 3 spin XXX Heisenberg Hamilonian \n",
    "    return (t * H).exp_i()"
   ]
  },
  {
   "cell_type": "markdown",
   "id": "1668a459-1c19-4769-9263-ff0d8de330af",
   "metadata": {},
   "source": [
    "### 1-4 Classical Simulation of $H_{\\text{Heis3}}$\n",
    "\n",
    "Now that we have the operator $U_{\\text{Heis3}}(t)$ which describes how any state of the quantum system changes in time, we can simulate the $XXX$ Heisenberg spin model! Just for fun, let's simulate the system using a classical computer first.\n",
    "\n",
    "(Fun fact: Notice the size of $U_{\\text{Heis3}}(t)$ in matrix form. It's representated by an $8$x$8$ matrix. This is because there are $2^3=8$ states in the $N=3$ system. If the simulation were of $50$ particles ($N=50$), $U_{\\text{Heis}}(t)$ would be approximately $10^{15}$x$10^{15}$! Well beyond the capacity of today's computers.)"
   ]
  },
  {
   "cell_type": "code",
   "execution_count": 54,
   "id": "0813fede-9945-4477-9304-9f9891ce50a7",
   "metadata": {},
   "outputs": [
    {
     "data": {
      "image/png": "[encoded data removed]",
      "text/plain": [
       "<Figure size 432x288 with 1 Axes>"
      ]
     },
     "metadata": {
      "needs_background": "light"
     },
     "output_type": "display_data"
    }
   ],
   "source": [
    "# Define array of time points\n",
    "ts = np.linspace(0, np.pi, 100)\n",
    "\n",
    "# Define initial state |110>\n",
    "initial_state = One^One^Zero\n",
    "\n",
    "# Compute probability of remaining in |110> state over the array of time points\n",
    " # ~initial_state gives the bra of the initial state (<110|)\n",
    " # @ is short hand for matrix multiplication\n",
    " # U_heis3(t) is the unitary time evolution at time t\n",
    " # t needs to be wrapped with float(t) to avoid a bug\n",
    " # (...).eval() returns the inner product <110|U_heis3(t)|110>\n",
    " #  np.abs(...)**2 is the modulus squared of the innner product which is the expectation value, or probability, of remaining in |110>\n",
    "probs_110 = [np.abs((~initial_state @ U_heis3(float(t)) @ initial_state).eval())**2 for t in ts]\n",
    "\n",
    "# Plot evolution of |110>\n",
    "plt.plot(ts, probs_110)\n",
    "plt.xlabel('time')\n",
    "plt.ylabel(r'probability of state $|110\\rangle$')\n",
    "plt.title(r'Evolution of state $|110\\rangle$ under $H_{Heis3}$')\n",
    "plt.grid()\n",
    "plt.show()"
   ]
  },
  {
   "cell_type": "code",
   "execution_count": 80,
   "id": "e3b62f40",
   "metadata": {},
   "outputs": [
    {
     "data": {
      "image/png": "[encoded data removed]",
      "text/plain": [
       "<Figure size 432x288 with 1 Axes>"
      ]
     },
     "metadata": {
      "needs_background": "light"
     },
     "output_type": "display_data"
    }
   ],
   "source": [
    "# Define test state |011>\n",
    "test_state = Zero^One^One\n",
    "probs_110 = [np.abs((~initial_state @ U_heis3(float(t)) @ test_state).eval())**2 for t in ts]\n",
    "probs_011 = [np.abs((~test_state @ U_heis3(float(t)) @ test_state).eval())**2 for t in ts]\n",
    "\n",
    "\n",
    "\n",
    "# test_state = (Zero^One^One).to_matrix()\n",
    "# probs_011 = [np.abs((test_state.conj() @ U_heis3(float(t)).to_matrix() @ test_state))**2 for t in ts]\n",
    "# probs_110 = [np.abs((initial_state.conj() @ U_heis3(float(t)).to_matrix() @ test_state))**2 for t in ts]\n",
    "\n",
    "\n",
    "\n",
    "# Plot evolution of |011>\n",
    "plt.plot(ts, probs_110, ts, probs_011)\n",
    "plt.xlabel('time')\n",
    "plt.ylabel(r'probability of state $|011\\rangle$')\n",
    "plt.title(r'Evolution of state $|011\\rangle$ under $H_{Heis3}$')\n",
    "plt.grid()\n",
    "plt.show()"
   ]
  },
  {
   "cell_type": "code",
   "execution_count": null,
   "id": "c847d22d",
   "metadata": {},
   "outputs": [],
   "source": []
  },
  {
   "cell_type": "markdown",
   "id": "04db5341-8ba0-433b-b671-d929aba1fbe0",
   "metadata": {},
   "source": [
    "### 1-5 Decomposition of $U_{\\text{Heis3}}(t)$ Into Quantum Gates\n",
    "\n",
    "To execute $U_{\\text{Heis3}}(t)$ on a [circuit model](https://qiskit.org/documentation/apidoc/circuit.html) quantum computer, we must decompose $U_{\\text{Heis3}}(t)$ into a product of single and two-qubit gates that are native to that quantum computer. There are a [variety of techniques](https://en.wikipedia.org/wiki/Hamiltonian_simulation) to do this. For this Open Science Prize, you will only use [Trotterization](https://en.wikipedia.org/wiki/Hamiltonian_simulation#Product_Formulas) (which is sometimes refered to as Suzuki-Trotterization decomposition, Trotter formulas, product formulas, and other names).\n",
    "\n",
    "Below, we show an example Trotterization as outlined in \\[1-2\\].\n",
    "\n",
    "Since the [Pauli operators do not commute](https://en.wikipedia.org/wiki/Pauli_matrices#Commutation_relations) with each other, the exponential $U_{\\text{Heis3}}(t)$ cannot be split into a product of simpler exponentials. However, we can approximate $U_{\\text{Heis3}}(t)$ as a product of simpler exponentials through Trotterization. Consider a subsystem of 2 spin-1/2 particles within the larger 3 spin system. The Hamiltonian on spins $i$ and $j$ ($i,j \\in \\{0,1,2\\}$) would be $H^{(i,j)}_{\\text{Heis2}} = \\sigma_x^{(i)}\\sigma_x^{(j)} + \\sigma_y^{(i)}\\sigma_y^{(j)} + \\sigma_z^{(i)}\\sigma_z^{(j)}$. Rewritting $U_{\\text{Heis3}}(t)$ in terms of the two possible subsystems within the total $N=3$ system you will simulate,\n",
    "\n",
    "$$\n",
    "U_{\\text{Heis3}}(t) = \\exp\\left[-i t \\left(H^{(0,1)}_{\\text{Heis2}} + H^{(1,2)}_{\\text{Heis2}} \\right)\\right].\n",
    "$$\n",
    "\n",
    "$H^{(0,1)}_{\\text{Heis2}}$ and $H^{(1,2)}_{\\text{Heis2}}$ do not commute, so $U_{\\text{Heis3}}(t) \\neq \\exp\\left(-i t H^{(0,1)}_{\\text{Heis2}}\\right) \\exp\\left(-i t H^{(1,2)}_{\\text{Heis2}} \\right)$. But, this product decomposition can be approximated with Trotterization which says $U_{\\text{Heis3}}(t)$ is approximately a short evolution of $H^{(0,1)}_{\\text{Heis2}}$ (time = $t/n$) and followed by a short evolution of $H^{(1,2)}_{\\text{Heis2}}$ (time = $t/n$) repeated $n$ times\n",
    "\n",
    "$$\n",
    "\\begin{align}\n",
    "U_{\\text{Heis3}}(t) &= \\exp\\left[-i t \\left(H^{(0,1)}_{\\text{Heis2}} + H^{(1,2)}_{\\text{Heis2}} \\right)\\right] \\\\\n",
    "U_{\\text{Heis3}}(t) &\\approx \\left[\\exp\\left(\\dfrac{-it}{n}H^{(0,1)}_{\\text{Heis2}}\\right) \\exp\\left(\\dfrac{-it}{n}H^{(1,2)}_{\\text{Heis2}} \\right)\\right]^n.\n",
    "\\end{align}\n",
    "$$\n",
    "\n",
    "$n$ is the number of Trotter steps, and as $n$ increases, the approximation becomes more accurate. (Note that how a untiary is split up into subsystems for Trotterization is not necessarily unique.) The decomposition goes further. Within each 2 spin subsystems, the Pauli operator pairs ($\\sigma_x^{(i)}\\sigma_x^{(j)}$, $\\sigma_y^{(i)}\\sigma_y^{(j)}$, and $\\sigma_z^{(i)}\\sigma_z^{(j)}$) commute. This means we can decompose the exponential of a subsystem Hamiltonian ($H^{(i,j)}_{\\text{Heis2}}$) into a product of even simpler exponentials getting us closer to a gate implementation of $U_{\\text{Heis3}}(t)$\n",
    "\n",
    "$$\n",
    "\\begin{align}\n",
    "U_{\\text{Heis3}}(t) &\\approx \\left[\\exp\\left(\\dfrac{-it}{n}H^{(0,1)}_{\\text{Heis2}}\\right) \\exp\\left(\\dfrac{-it}{n}H^{(1,2)}_{\\text{Heis2}} \\right)\\right]^n \\\\\n",
    "U_{\\text{Heis3}}(t) &\\approx \\left[\\exp\\left(\\dfrac{-it}{n}\\left(\\sigma_x^{(0)}\\sigma_x^{(1)} + \\sigma_y^{(0)}\\sigma_y^{(1)} + \\sigma_z^{(0)}\\sigma_z^{(1)}\\right)\\right) \\exp\\left(\\dfrac{-it}{n}\\left(\\sigma_x^{(1)}\\sigma_x^{(2)} + \\sigma_y^{(1)}\\sigma_y^{(2)} + \\sigma_z^{(1)}\\sigma_z^{(2)}\\right)\\right)\\right]^{n} \\\\\n",
    "U_{\\text{Heis3}}(t) &\\approx \\left[\\exp\\left(\\dfrac{-it}{n}\\sigma_x^{(0)}\\sigma_x^{(1)}\\right) \\exp\\left(\\dfrac{-it}{n}\\sigma_y^{(0)}\\sigma_y^{(1)}\\right) \\exp\\left(\\dfrac{-it}{n}\\sigma_z^{(0)}\\sigma_z^{(1)}\\right) \\exp\\left(\\dfrac{-it}{n}\\sigma_x^{(1)}\\sigma_x^{(2)}\\right) \\exp\\left(\\dfrac{-it}{n}\\sigma_y^{(1)}\\sigma_y^{(2)}\\right) \\exp\\left(\\dfrac{-it}{n}\\sigma_z^{(1)}\\sigma_z^{(2)}\\right)\\right]^{n}\n",
    "\\end{align}\n",
    "$$\n",
    "\n",
    "For simplicity, and to use more common notation, let's rename the products with $XX(2t) = \\exp\\left(-it \\sigma_x\\sigma_x\\right)$, $YY(2t) = \\exp\\left(-it \\sigma_y\\sigma_y\\right)$, and $ZZ(2t) = \\exp\\left(-it \\sigma_z\\sigma_z\\right)$ and rewrite the Trotterized $U_{\\text{Heis3}}(t)$\n",
    "$$\n",
    "U_{\\text{Heis3}}(t) \\approx \\left[XX\\left(\\frac{2t}{n}\\right)^{(0,1)} YY\\left(\\frac{2t}{n}\\right)^{(0,1)} ZZ\\left(\\frac{2t}{n}\\right)^{(0,1)} XX\\left(\\frac{2t}{n}\\right)^{(1,2)} YY\\left(\\frac{2t}{n}\\right)^{(1,2)} ZZ\\left(\\frac{2t}{n}\\right)^{(1,2)} \\right]^{n}\n",
    "$$\n",
    "And that's it! We have now approximately decomposed $U_{\\text{Heis3}}(t)$ into two-qubit gates $XX(t)$, $YY(t)$, and $ZZ(t)$. These gates are not native to superconducting qubits, but in Section 2, they will be further decomposed into native single and two-qubit gates with *further details found in the supplementary material.*\n",
    "\n",
    "\n",
    "\\[1\\] Y. Salathe, et al., *Digital Quantum Simulation of Spin Models with Circuit Quantum Electrodynamics*, [Phys. Rev. X **5**, 021027 (2015)](https://link.aps.org/doi/10.1103/PhysRevX.5.021027)\n",
    "\n",
    "\\[2\\] F. Tacchino, et al., *Quantum Computers as Universal Quantum Simulators: State-of-the-Art and Perspectives*, [Adv. Quantum Technol. *3* 3 (2020)](https://doi.org/10.1002/qute.201900052) \\[[free arxiv version](https://arxiv.org/abs/1907.03505)\\]\n"
   ]
  },
  {
   "cell_type": "markdown",
   "id": "509e3761-6196-4b8f-aa5d-434bf1070eeb",
   "metadata": {},
   "source": [
    "# 2 The Open Science Prize\n",
    "### 2-1 Contest Details\n",
    "The Open Science Prize requirements and judging criteria can be found in the terms and conditions when registering on the [website](https://ibmquantumawards.bemyapp.com/#/event). Below is an outline of those requirements.\n",
    "\n",
    "You are to time evolve the state $|110\\rangle$ to time $t=\\pi$ under the $XXX$ Heisenberg model Hamiltonian $H_{\\text{heis3}}$ as defined in Section 1. This will be done on the ibmq_jakarta quantum computer. From left to right, the qubits in $|110\\rangle$ correspond to ibmq_jakarta's qubits 5, 3, and 1. The evolution must be done using Trotterization with at least 4 steps ($n\\geq4$). You will be judged on the clarity, originiality, and creativity of your solution, as well as the fidelity of the evolved state at time $t=\\pi$ using [state tomography](https://qiskit.org/documentation/tutorials/noise/8_tomography.html). State tomography is a way of determining the exact quantum state--even phase information--at the end of a quantum circuit by running the circuit multiple times and measuring in different bases. The closer your final quantum state to the expected state, the higher the fidelity. Ibmq_jakarta's qubits 0, 2, 4, and 6 will not be evaluated by the state tomography calculation, so you may use them as you wish. You do not need to follow the same decomposition given in the example above, but your solution must be a Trotterization of $U_{\\text{heis3}}(t)$ with at least 4 steps ($n\\geq4$). You may find it useful to implement techniques that reduce errors and improve qubit coherence."
   ]
  },
  {
   "cell_type": "markdown",
   "id": "c794b8f1-6de7-497b-a000-0b37f9d094b3",
   "metadata": {},
   "source": [
    "### 2-2 Import Qiskit\n",
    "\n",
    "Feel free to import packages as needed. However, only free packages and those obtained through ```pip install``` or ```conda install``` are allowed."
   ]
  },
  {
   "cell_type": "code",
   "execution_count": 5,
   "id": "8b3e598e-1156-4263-abc6-890e554cf4fb",
   "metadata": {},
   "outputs": [],
   "source": [
    "# Importing standard Qiskit modules\n",
    "from qiskit import QuantumCircuit, QuantumRegister, IBMQ, execute, transpile\n",
    "from qiskit.providers.aer import QasmSimulator\n",
    "from qiskit.tools.monitor import job_monitor\n",
    "from qiskit.circuit import Parameter\n",
    "\n",
    "# Import state tomography modules\n",
    "from qiskit.ignis.verification.tomography import state_tomography_circuits, StateTomographyFitter\n",
    "from qiskit.quantum_info import state_fidelity\n",
    "\n",
    "# suppress warnings\n",
    "import warnings\n",
    "warnings.filterwarnings('ignore')"
   ]
  },
  {
   "cell_type": "markdown",
   "id": "900d2ab8-b568-4d28-87d8-473962fdc998",
   "metadata": {},
   "source": [
    "### 2-3 Quantum Devices\n",
    "Connect to IBM provider and connect to a real or simulated backend. Final submissions must be run on a real backend, but simulated devices are faster for debugging and testing."
   ]
  },
  {
   "cell_type": "code",
   "execution_count": 6,
   "id": "7345d1e9-4803-4bd8-a578-0af5294cb22a",
   "metadata": {},
   "outputs": [],
   "source": [
    "# load IBMQ Account data\n",
    "\n",
    "# IBMQ.save_account(TOKEN)  # replace TOKEN with your API token string (https://quantum-computing.ibm.com/lab/docs/iql/manage/account/ibmq)\n",
    "provider = IBMQ.load_account()"
   ]
  },
  {
   "cell_type": "code",
   "execution_count": 7,
   "id": "78e0af5d-6da9-4a08-912a-5a172535e03b",
   "metadata": {},
   "outputs": [],
   "source": [
    "# Get backend for experiment\n",
    "provider = IBMQ.get_provider(hub='ibm-q-community', group='ibmquantumawards', project='open-science-22')\n",
    "jakarta = provider.get_backend('ibmq_jakarta')\n",
    "# properties = jakarta.properties()\n",
    "\n",
    "# Simulated backend based on ibmq_jakarta's device noise profile\n",
    "sim_noisy_jakarta = QasmSimulator.from_backend(provider.get_backend('ibmq_jakarta'))\n",
    "\n",
    "# Noiseless simulated backend\n",
    "sim = QasmSimulator()"
   ]
  },
  {
   "cell_type": "markdown",
   "id": "d4e8a24c-5846-4de9-95ea-3033653c4037",
   "metadata": {},
   "source": [
    "### 2-4 Decomposition of $U_{\\text{Heis3}}(t)$ into Quantum Gates (Example)\n",
    "\n",
    "The following circuit code is written based on the example given in Section 1. This is where you write your solution."
   ]
  },
  {
   "cell_type": "markdown",
   "id": "207beaa7-58e9-40c1-a35c-f359ddb7aa8b",
   "metadata": {},
   "source": [
    "YOUR TROTTERIZATION GOES HERE -- START (beginning of example)"
   ]
  },
  {
   "cell_type": "code",
   "execution_count": 8,
   "id": "9156980e-d3a7-4494-8ad4-7ec15ca92e7f",
   "metadata": {},
   "outputs": [],
   "source": [
    "# Parameterize variable t to be evaluated at t=pi later\n",
    "t = Parameter('t')"
   ]
  },
  {
   "cell_type": "code",
   "execution_count": 9,
   "id": "ec328a9f-809c-49d6-8400-fa09579c1d8c",
   "metadata": {},
   "outputs": [],
   "source": [
    "# Build a subcircuit for XX(t) two-qubit gate\n",
    "XX_qr = QuantumRegister(2)\n",
    "XX_qc = QuantumCircuit(XX_qr, name='XX')\n",
    "\n",
    "XX_qc.ry(np.pi/2,[0,1])\n",
    "XX_qc.cnot(0,1)\n",
    "XX_qc.rz(2 * t, 1)\n",
    "XX_qc.cnot(0,1)\n",
    "XX_qc.ry(-np.pi/2,[0,1])\n",
    "\n",
    "# Convert custom quantum circuit into a gate\n",
    "XX = XX_qc.to_instruction()"
   ]
  },
  {
   "cell_type": "code",
   "execution_count": 10,
   "id": "52977709-1b68-4ebf-98de-dc5c88265acb",
   "metadata": {},
   "outputs": [],
   "source": [
    "# Build a subcircuit for YY(t) two-qubit gate\n",
    "YY_qr = QuantumRegister(2)\n",
    "YY_qc = QuantumCircuit(YY_qr, name='YY')\n",
    "\n",
    "YY_qc.rx(np.pi/2,[0,1])\n",
    "YY_qc.cnot(0,1)\n",
    "YY_qc.rz(2 * t, 1)\n",
    "YY_qc.cnot(0,1)\n",
    "YY_qc.rx(-np.pi/2,[0,1])\n",
    "\n",
    "# Convert custom quantum circuit into a gate\n",
    "YY = YY_qc.to_instruction()"
   ]
  },
  {
   "cell_type": "code",
   "execution_count": 11,
   "id": "4fd739df-0dc4-48ef-823e-230fb0c8fd64",
   "metadata": {},
   "outputs": [],
   "source": [
    "# Build a subcircuit for ZZ(t) two-qubit gate\n",
    "ZZ_qr = QuantumRegister(2)\n",
    "ZZ_qc = QuantumCircuit(ZZ_qr, name='ZZ')\n",
    "\n",
    "ZZ_qc.cnot(0,1)\n",
    "ZZ_qc.rz(2 * t, 1)\n",
    "ZZ_qc.cnot(0,1)\n",
    "\n",
    "# Convert custom quantum circuit into a gate\n",
    "ZZ = ZZ_qc.to_instruction()"
   ]
  },
  {
   "cell_type": "markdown",
   "id": "4335d6d3-4a8e-4140-aad0-97b9b189905a",
   "metadata": {},
   "source": [
    "Combine subcircuits into single gate representing one ($n=1$) trotter step."
   ]
  },
  {
   "cell_type": "code",
   "execution_count": 12,
   "id": "8ef03f79-2c47-49da-93d5-0c0ae3ea5872",
   "metadata": {},
   "outputs": [],
   "source": [
    "# Combine subcircuits into a single multiqubit gate representing a single trotter step\n",
    "num_qubits = 3\n",
    "\n",
    "Trot_qr = QuantumRegister(num_qubits)\n",
    "Trot_qc = QuantumCircuit(Trot_qr, name='Trot')\n",
    "\n",
    "for i in range(0, num_qubits - 1):\n",
    "    Trot_qc.append(ZZ, [Trot_qr[i], Trot_qr[i+1]])\n",
    "    Trot_qc.append(YY, [Trot_qr[i], Trot_qr[i+1]])\n",
    "    Trot_qc.append(XX, [Trot_qr[i], Trot_qr[i+1]])\n",
    "\n",
    "# Convert custom quantum circuit into a gate\n",
    "Trot_gate = Trot_qc.to_instruction()"
   ]
  },
  {
   "cell_type": "markdown",
   "id": "0641237c-048e-41e7-b47c-88a364683fb7",
   "metadata": {},
   "source": [
    "YOUR TROTTERIZATION GOES HERE -- FINISH (end of example)"
   ]
  },
  {
   "cell_type": "markdown",
   "id": "b9fb21ba-a2ea-4595-ba76-a4cef87ea666",
   "metadata": {},
   "source": [
    "### 2-5 Trotterized Time Evolution\n",
    "\n",
    "Time evolve the state $|110\\rangle$ from $\\theta=0$ to $\\theta=\\pi$ under $H_{\\text{heis3}}$. Although jakarta has 7 qubits, only the qubits 1, 3, and 5 will be used for the state $|110\\rangle$. From left to right, the qubits in $|110\\rangle$ corresponds to the qubits 5, 3, and 1 on jakarta. State tomography will evaluate how well the quantum simulation matches to the expected state at $\\theta= \\pi$. (Note qubits 0, 2, 4, and 6 are not part of the state tomography calculation.)\n",
    "\n",
    "You choose how many trotter steps (```trotter_steps```) to take in the simulation, but it must be at least 4. The code below is written to be generic enough for you may add to it if necessary for your solution."
   ]
  },
  {
   "cell_type": "code",
   "execution_count": 13,
   "id": "c6135540-dcea-4313-8ce8-0eb8e3ee23e7",
   "metadata": {},
   "outputs": [
    {
     "data": {
      "text/html": [
       "<pre style=\"word-wrap: normal;white-space: pre;background: #fff0;line-height: 1.1;font-family: &quot;Courier New&quot;,Courier,monospace\">                                                                    ░          \n",
       "q4_0: ──────────────────────────────────────────────────────────────░──────────\n",
       "           ┌────────────┐┌────────────┐┌────────────┐┌────────────┐ ░ ┌─┐      \n",
       "q4_1: ─────┤0           ├┤0           ├┤0           ├┤0           ├─░─┤M├──────\n",
       "           │            ││            ││            ││            │ ░ └╥┘      \n",
       "q4_2: ─────┤            ├┤            ├┤            ├┤            ├─░──╫───────\n",
       "      ┌───┐│            ││            ││            ││            │ ░  ║ ┌─┐   \n",
       "q4_3: ┤ X ├┤1 Trot(π/4) ├┤1 Trot(π/4) ├┤1 Trot(π/4) ├┤1 Trot(π/4) ├─░──╫─┤M├───\n",
       "      └───┘│            ││            ││            ││            │ ░  ║ └╥┘   \n",
       "q4_4: ─────┤            ├┤            ├┤            ├┤            ├─░──╫──╫────\n",
       "      ┌───┐│            ││            ││            ││            │ ░  ║  ║ ┌─┐\n",
       "q4_5: ┤ X ├┤2           ├┤2           ├┤2           ├┤2           ├─░──╫──╫─┤M├\n",
       "      └───┘└────────────┘└────────────┘└────────────┘└────────────┘ ░  ║  ║ └╥┘\n",
       "q4_6: ──────────────────────────────────────────────────────────────░──╫──╫──╫─\n",
       "                                                                    ░  ║  ║  ║ \n",
       "c0: 3/═════════════════════════════════════════════════════════════════╩══╩══╩═\n",
       "                                                                       0  1  2 </pre>"
      ],
      "text/plain": [
       "                                                                    ░          \n",
       "q4_0: ──────────────────────────────────────────────────────────────░──────────\n",
       "           ┌────────────┐┌────────────┐┌────────────┐┌────────────┐ ░ ┌─┐      \n",
       "q4_1: ─────┤0           ├┤0           ├┤0           ├┤0           ├─░─┤M├──────\n",
       "           │            ││            ││            ││            │ ░ └╥┘      \n",
       "q4_2: ─────┤            ├┤            ├┤            ├┤            ├─░──╫───────\n",
       "      ┌───┐│            ││            ││            ││            │ ░  ║ ┌─┐   \n",
       "q4_3: ┤ X ├┤1 Trot(π/4) ├┤1 Trot(π/4) ├┤1 Trot(π/4) ├┤1 Trot(π/4) ├─░──╫─┤M├───\n",
       "      └───┘│            ││            ││            ││            │ ░  ║ └╥┘   \n",
       "q4_4: ─────┤            ├┤            ├┤            ├┤            ├─░──╫──╫────\n",
       "      ┌───┐│            ││            ││            ││            │ ░  ║  ║ ┌─┐\n",
       "q4_5: ┤ X ├┤2           ├┤2           ├┤2           ├┤2           ├─░──╫──╫─┤M├\n",
       "      └───┘└────────────┘└────────────┘└────────────┘└────────────┘ ░  ║  ║ └╥┘\n",
       "q4_6: ──────────────────────────────────────────────────────────────░──╫──╫──╫─\n",
       "                                                                    ░  ║  ║  ║ \n",
       "c0: 3/═════════════════════════════════════════════════════════════════╩══╩══╩═\n",
       "                                                                       0  1  2 "
      ]
     },
     "execution_count": 13,
     "metadata": {},
     "output_type": "execute_result"
    }
   ],
   "source": [
    "# The final time of the state evolution\n",
    "target_time = np.pi\n",
    "\n",
    "# Number of trotter steps\n",
    "trotter_steps = 4  ### CAN BE >= 4\n",
    "\n",
    "# Initialize quantum circuit for 3 qubits\n",
    "qr = QuantumRegister(7)\n",
    "qc = QuantumCircuit(qr)\n",
    "\n",
    "# Prepare initial state (remember we are only evolving 3 of the 7 qubits on jakarta qubits (q_5, q_3, q_1) corresponding to the state |110>)\n",
    "qc.x([3,5])  # DO NOT MODIFY (|q_5,q_3,q_1> = |110>)\n",
    "\n",
    "# Simulate time evolution under H_heis3 Hamiltonian\n",
    "for _ in range(trotter_steps):\n",
    "    qc.append(Trot_gate, [qr[1], qr[3], qr[5]])\n",
    "\n",
    "# Evaluate simulation at target_time (t=pi) meaning each trotter step evolves pi/trotter_steps in time\n",
    "qc = qc.bind_parameters({t: target_time/trotter_steps})\n",
    "\n",
    "# Generate state tomography circuits to evaluate fidelity of simulation\n",
    "st_qcs = state_tomography_circuits(qc, [qr[1], qr[3], qr[5]])\n",
    "\n",
    "# Display circuit for confirmation\n",
    "# st_qcs[-1].decompose().draw()  # view decomposition of trotter gates\n",
    "st_qcs[-1].draw()  # only view trotter gates"
   ]
  },
  {
   "cell_type": "markdown",
   "id": "1742151c-1261-4b42-80a4-da2c0ad90ac5",
   "metadata": {},
   "source": [
    "### 2-6 Execute\n",
    "For your final submission, you will need to execute your solution on a real backend with 8 repetitions. For faster debugging, considering using a simulated backend and/or 1 repetition."
   ]
  },
  {
   "cell_type": "code",
   "execution_count": 14,
   "id": "79c3ef21-c143-418a-8b50-f0ab39c5ae35",
   "metadata": {},
   "outputs": [
    {
     "name": "stdout",
     "output_type": "stream",
     "text": [
      "Job ID 7d89265f-2c5c-4d5a-9f12-5d531bcd95e8\n"
     ]
    }
   ],
   "source": [
    "shots = 8192\n",
    "reps = 1\n",
    "backend = sim_noisy_jakarta\n",
    "# reps = 8\n",
    "# backend = jakarta\n",
    "\n",
    "jobs = []\n",
    "for _ in range(reps):\n",
    "    # execute\n",
    "    job = execute(st_qcs, backend, shots=shots)\n",
    "    print('Job ID', job.job_id())\n",
    "    jobs.append(job)"
   ]
  },
  {
   "cell_type": "markdown",
   "id": "be7acc76-86f0-4b1f-94e4-e4e1014f3956",
   "metadata": {},
   "source": [
    "We can monitor the status of the jobs using Qiskit's job monitoring tools."
   ]
  },
  {
   "cell_type": "code",
   "execution_count": 15,
   "id": "1b142880-af5b-4913-8f50-9248e5d1646f",
   "metadata": {},
   "outputs": [
    {
     "name": "stdout",
     "output_type": "stream",
     "text": [
      "\r",
      "Job Status: job has successfully run\n"
     ]
    }
   ],
   "source": [
    "for job in jobs:\n",
    "    job_monitor(job)\n",
    "    try:\n",
    "        if job.error_message() is not None:\n",
    "            print(job.error_message())\n",
    "    except:\n",
    "        pass"
   ]
  },
  {
   "cell_type": "markdown",
   "id": "e4186e06-db3d-4d0d-aef4-51906f41df61",
   "metadata": {},
   "source": [
    "### (a) Testing Fids"
   ]
  },
  {
   "cell_type": "code",
   "execution_count": 16,
   "id": "b98420ec",
   "metadata": {},
   "outputs": [],
   "source": [
    "result = job.result()"
   ]
  },
  {
   "cell_type": "code",
   "execution_count": 17,
   "id": "d201028d",
   "metadata": {},
   "outputs": [],
   "source": [
    "from qiskit.ignis.verification.tomography import marginal_counts, count_keys, combine_counts,\n",
    "from qiskit.ignis.verification.tomography.fitters.lstsq_fit import lstsq_fit"
   ]
  },
  {
   "cell_type": "code",
   "execution_count": 18,
   "id": "8940e6a4",
   "metadata": {},
   "outputs": [],
   "source": [
    "tomo_fitter = StateTomographyFitter(result, st_qcs)"
   ]
  },
  {
   "cell_type": "code",
   "execution_count": 19,
   "id": "6405c4ec",
   "metadata": {},
   "outputs": [
    {
     "data": {
      "text/plain": [
       "{('X', 'X', 'X'): {'100': 1075,\n",
       "  '110': 1120,\n",
       "  '001': 958,\n",
       "  '111': 968,\n",
       "  '011': 938,\n",
       "  '101': 925,\n",
       "  '010': 1072,\n",
       "  '000': 1136},\n",
       " ('X', 'X', 'Y'): {'000': 1098,\n",
       "  '010': 1125,\n",
       "  '101': 947,\n",
       "  '100': 1066,\n",
       "  '001': 978,\n",
       "  '110': 1059,\n",
       "  '111': 968,\n",
       "  '011': 951},\n",
       " ('X', 'X', 'Z'): {'101': 300,\n",
       "  '100': 325,\n",
       "  '001': 1580,\n",
       "  '110': 389,\n",
       "  '111': 338,\n",
       "  '011': 1670,\n",
       "  '010': 1784,\n",
       "  '000': 1806},\n",
       " ('X', 'Y', 'X'): {'100': 1133,\n",
       "  '110': 1091,\n",
       "  '001': 983,\n",
       "  '011': 864,\n",
       "  '111': 961,\n",
       "  '000': 1152,\n",
       "  '010': 1054,\n",
       "  '101': 954},\n",
       " ('X', 'Y', 'Y'): {'101': 963,\n",
       "  '011': 961,\n",
       "  '111': 966,\n",
       "  '001': 985,\n",
       "  '110': 1001,\n",
       "  '100': 1092,\n",
       "  '010': 1051,\n",
       "  '000': 1173},\n",
       " ('X', 'Y', 'Z'): {'101': 332,\n",
       "  '001': 1604,\n",
       "  '100': 359,\n",
       "  '110': 307,\n",
       "  '111': 305,\n",
       "  '011': 1552,\n",
       "  '010': 1889,\n",
       "  '000': 1844},\n",
       " ('X', 'Z', 'X'): {'101': 347,\n",
       "  '011': 1569,\n",
       "  '111': 1581,\n",
       "  '100': 386,\n",
       "  '110': 1867,\n",
       "  '001': 317,\n",
       "  '000': 417,\n",
       "  '010': 1708},\n",
       " ('X', 'Z', 'Y'): {'101': 331,\n",
       "  '001': 338,\n",
       "  '110': 1768,\n",
       "  '100': 402,\n",
       "  '111': 1583,\n",
       "  '011': 1589,\n",
       "  '010': 1775,\n",
       "  '000': 406},\n",
       " ('X', 'Z', 'Z'): {'101': 196,\n",
       "  '011': 2811,\n",
       "  '111': 509,\n",
       "  '100': 204,\n",
       "  '110': 405,\n",
       "  '001': 492,\n",
       "  '000': 589,\n",
       "  '010': 2986},\n",
       " ('Y', 'X', 'X'): {'000': 1103,\n",
       "  '010': 1104,\n",
       "  '011': 926,\n",
       "  '111': 994,\n",
       "  '001': 894,\n",
       "  '110': 1131,\n",
       "  '100': 1103,\n",
       "  '101': 937},\n",
       " ('Y', 'X', 'Y'): {'011': 886,\n",
       "  '111': 957,\n",
       "  '001': 993,\n",
       "  '110': 1108,\n",
       "  '100': 1025,\n",
       "  '010': 1137,\n",
       "  '000': 1176,\n",
       "  '101': 910},\n",
       " ('Y', 'X', 'Z'): {'110': 345,\n",
       "  '100': 318,\n",
       "  '001': 1540,\n",
       "  '101': 291,\n",
       "  '111': 325,\n",
       "  '011': 1607,\n",
       "  '000': 1880,\n",
       "  '010': 1886},\n",
       " ('Y', 'Y', 'X'): {'101': 967,\n",
       "  '110': 1076,\n",
       "  '100': 1165,\n",
       "  '001': 933,\n",
       "  '011': 933,\n",
       "  '111': 917,\n",
       "  '000': 1109,\n",
       "  '010': 1092},\n",
       " ('Y', 'Y', 'Y'): {'011': 951,\n",
       "  '111': 918,\n",
       "  '000': 1211,\n",
       "  '010': 1070,\n",
       "  '101': 958,\n",
       "  '100': 1064,\n",
       "  '001': 989,\n",
       "  '110': 1031},\n",
       " ('Y', 'Y', 'Z'): {'101': 276,\n",
       "  '100': 388,\n",
       "  '110': 401,\n",
       "  '001': 1616,\n",
       "  '000': 1921,\n",
       "  '010': 1780,\n",
       "  '111': 316,\n",
       "  '011': 1494},\n",
       " ('Y', 'Z', 'X'): {'101': 319,\n",
       "  '011': 1501,\n",
       "  '111': 1543,\n",
       "  '100': 414,\n",
       "  '110': 1894,\n",
       "  '001': 336,\n",
       "  '000': 388,\n",
       "  '010': 1797},\n",
       " ('Y', 'Z', 'Y'): {'101': 333,\n",
       "  '001': 336,\n",
       "  '110': 1781,\n",
       "  '100': 388,\n",
       "  '111': 1547,\n",
       "  '011': 1537,\n",
       "  '000': 382,\n",
       "  '010': 1888},\n",
       " ('Y', 'Z', 'Z'): {'110': 494,\n",
       "  '001': 491,\n",
       "  '100': 211,\n",
       "  '010': 3175,\n",
       "  '000': 571,\n",
       "  '101': 178,\n",
       "  '111': 441,\n",
       "  '011': 2631},\n",
       " ('Z', 'X', 'X'): {'100': 614,\n",
       "  '110': 647,\n",
       "  '001': 1369,\n",
       "  '011': 1364,\n",
       "  '111': 1494,\n",
       "  '101': 1443,\n",
       "  '000': 648,\n",
       "  '010': 613},\n",
       " ('Z', 'X', 'Y'): {'101': 1367,\n",
       "  '011': 1517,\n",
       "  '111': 1299,\n",
       "  '010': 647,\n",
       "  '000': 624,\n",
       "  '100': 636,\n",
       "  '110': 663,\n",
       "  '001': 1439},\n",
       " ('Z', 'X', 'Z'): {'101': 382,\n",
       "  '110': 261,\n",
       "  '001': 2387,\n",
       "  '100': 261,\n",
       "  '000': 1015,\n",
       "  '010': 1002,\n",
       "  '111': 427,\n",
       "  '011': 2457},\n",
       " ('Z', 'Y', 'X'): {'000': 605,\n",
       "  '010': 646,\n",
       "  '101': 1426,\n",
       "  '100': 666,\n",
       "  '001': 1445,\n",
       "  '110': 647,\n",
       "  '111': 1402,\n",
       "  '011': 1355},\n",
       " ('Z', 'Y', 'Y'): {'101': 1411,\n",
       "  '011': 1377,\n",
       "  '111': 1369,\n",
       "  '010': 635,\n",
       "  '000': 648,\n",
       "  '100': 625,\n",
       "  '001': 1508,\n",
       "  '110': 619},\n",
       " ('Z', 'Y', 'Z'): {'101': 412,\n",
       "  '010': 966,\n",
       "  '000': 992,\n",
       "  '111': 401,\n",
       "  '011': 2450,\n",
       "  '100': 243,\n",
       "  '110': 242,\n",
       "  '001': 2486},\n",
       " ('Z', 'Z', 'X'): {'101': 390,\n",
       "  '001': 474,\n",
       "  '110': 1025,\n",
       "  '100': 263,\n",
       "  '111': 2505,\n",
       "  '011': 2316,\n",
       "  '010': 938,\n",
       "  '000': 281},\n",
       " ('Z', 'Z', 'Y'): {'100': 274,\n",
       "  '110': 944,\n",
       "  '001': 514,\n",
       "  '011': 2410,\n",
       "  '111': 2323,\n",
       "  '010': 996,\n",
       "  '000': 270,\n",
       "  '101': 461},\n",
       " ('Z', 'Z', 'Z'): {'101': 231,\n",
       "  '110': 385,\n",
       "  '100': 147,\n",
       "  '001': 648,\n",
       "  '111': 609,\n",
       "  '011': 4128,\n",
       "  '000': 407,\n",
       "  '010': 1637}}"
      ]
     },
     "execution_count": 19,
     "metadata": {},
     "output_type": "execute_result"
    }
   ],
   "source": [
    "tomo_fitter._data"
   ]
  },
  {
   "cell_type": "code",
   "execution_count": 20,
   "id": "0167d19a",
   "metadata": {},
   "outputs": [],
   "source": [
    "(data, basis_matrix, weights) = tomo_fitter._fitter_data(True, 0.5)"
   ]
  },
  {
   "cell_type": "code",
   "execution_count": 21,
   "id": "1106c796",
   "metadata": {},
   "outputs": [
    {
     "data": {
      "text/plain": [
       "array([261.89380787, 281.64793705, 268.38087025, 284.2406979 ,\n",
       "       268.06275011, 285.97401356, 263.45862655, 280.38389133])"
      ]
     },
     "execution_count": 21,
     "metadata": {},
     "output_type": "execute_result"
    }
   ],
   "source": [
    "ctkeys = count_keys(len(('X', 'X', 'X')))\n",
    "cts = tomo_fitter._data[('X', 'X', 'X')]\n",
    "\n",
    "if isinstance(cts, dict):\n",
    "    cts = np.array([cts.get(key, 0) for key in ctkeys])\n",
    "\n",
    "# Get probabilities\n",
    "shots = np.sum(cts)\n",
    "probs = np.array(cts) / shots\n",
    "\n",
    "tomo_fitter._binomial_weights(cts, 0.5)"
   ]
  },
  {
   "cell_type": "code",
   "execution_count": 32,
   "id": "42a5b20e",
   "metadata": {},
   "outputs": [
    {
     "data": {
      "text/plain": [
       "array([1136,  958, 1072,  938, 1075,  925, 1120,  968])"
      ]
     },
     "execution_count": 32,
     "metadata": {},
     "output_type": "execute_result"
    }
   ],
   "source": [
    "cts"
   ]
  },
  {
   "cell_type": "code",
   "execution_count": 22,
   "id": "7e257400",
   "metadata": {},
   "outputs": [
    {
     "data": {
      "text/plain": [
       "<bound method TomographyBasis.measurement_matrix of <qiskit.ignis.verification.tomography.basis.tomographybasis.TomographyBasis object at 0x15a2506d0>>"
      ]
     },
     "execution_count": 22,
     "metadata": {},
     "output_type": "execute_result"
    }
   ],
   "source": [
    "#tomo_fitter._preparation_op(None, )\n",
    "\n",
    "tomo_fitter.measure_basis.measurement_matrix"
   ]
  },
  {
   "cell_type": "code",
   "execution_count": 23,
   "id": "9f4318fb",
   "metadata": {},
   "outputs": [],
   "source": [
    "prep_op = tomo_fitter._preparation_op(None, None)\n",
    "meas_op = tomo_fitter._measurement_ops(('X', 'X', 'X'), tomo_fitter.measure_basis.measurement_matrix)"
   ]
  },
  {
   "cell_type": "code",
   "execution_count": 24,
   "id": "93779fca",
   "metadata": {
    "scrolled": true
   },
   "outputs": [
    {
     "data": {
      "text/latex": [
       "Quantum object: dims = [[8], [8]], shape = (8, 8), type = oper, isherm = True\\begin{equation*}\\left(\\begin{array}{*{11}c}0.0 & 0.0 & 0.0 & 0.0 & 0.0 & 0.0 & 0.0 & 0.0\\\\0.0 & 0.0 & 0.0 & 0.0 & 0.0 & 0.0 & 0.0 & 0.0\\\\0.0 & 0.0 & 0.0 & 0.0 & 0.0 & 0.0 & 0.0 & 0.0\\\\0.0 & 0.0 & 0.0 & 0.0 & 0.0 & 0.0 & 0.0 & 0.0\\\\0.0 & 0.0 & 0.0 & 0.0 & 0.250 & -0.250 & -0.250 & 0.250\\\\0.0 & 0.0 & 0.0 & 0.0 & -0.250 & 0.250 & 0.250 & -0.250\\\\0.0 & 0.0 & 0.0 & 0.0 & -0.250 & 0.250 & 0.250 & -0.250\\\\0.0 & 0.0 & 0.0 & 0.0 & 0.250 & -0.250 & -0.250 & 0.250\\\\\\end{array}\\right)\\end{equation*}"
      ],
      "text/plain": [
       "Quantum object: dims = [[8], [8]], shape = (8, 8), type = oper, isherm = True\n",
       "Qobj data =\n",
       "[[ 0.    0.    0.    0.    0.    0.    0.    0.  ]\n",
       " [ 0.    0.    0.    0.    0.    0.    0.    0.  ]\n",
       " [ 0.    0.    0.    0.    0.    0.    0.    0.  ]\n",
       " [ 0.    0.    0.    0.    0.    0.    0.    0.  ]\n",
       " [ 0.    0.    0.    0.    0.25 -0.25 -0.25  0.25]\n",
       " [ 0.    0.    0.    0.   -0.25  0.25  0.25 -0.25]\n",
       " [ 0.    0.    0.    0.   -0.25  0.25  0.25 -0.25]\n",
       " [ 0.    0.    0.    0.    0.25 -0.25 -0.25  0.25]]"
      ]
     },
     "execution_count": 24,
     "metadata": {},
     "output_type": "execute_result"
    }
   ],
   "source": [
    "import qutip as qt\n",
    "qt.ket2dm(qt.Qobj((One^Minus^Minus).to_matrix()))"
   ]
  },
  {
   "cell_type": "code",
   "execution_count": 123,
   "id": "511d8468",
   "metadata": {},
   "outputs": [
    {
     "name": "stdout",
     "output_type": "stream",
     "text": [
      "{'counts': {'0x4': 1075, '0x6': 1120, '0x1': 958, '0x7': 968, '0x3': 938, '0x5': 925, '0x2': 1072, '0x0': 1136}}\n",
      "{'100': 1075, '110': 1120, '001': 958, '111': 968, '011': 938, '101': 925, '010': 1072, '000': 1136}\n"
     ]
    }
   ],
   "source": [
    "print(result.data(st_qcs[0]))\n",
    "\n",
    "print(result.get_counts(st_qcs[0]))"
   ]
  },
  {
   "cell_type": "code",
   "execution_count": 109,
   "id": "7249982a",
   "metadata": {
    "scrolled": true
   },
   "outputs": [
    {
     "data": {
      "text/plain": [
       "{('X', 'X', 'X'): {'100': 1075,\n",
       "  '110': 1120,\n",
       "  '001': 958,\n",
       "  '111': 968,\n",
       "  '011': 938,\n",
       "  '101': 925,\n",
       "  '010': 1072,\n",
       "  '000': 1136},\n",
       " ('X', 'X', 'Y'): {'000': 1098,\n",
       "  '010': 1125,\n",
       "  '101': 947,\n",
       "  '100': 1066,\n",
       "  '001': 978,\n",
       "  '110': 1059,\n",
       "  '111': 968,\n",
       "  '011': 951},\n",
       " ('X', 'X', 'Z'): {'101': 300,\n",
       "  '100': 325,\n",
       "  '001': 1580,\n",
       "  '110': 389,\n",
       "  '111': 338,\n",
       "  '011': 1670,\n",
       "  '010': 1784,\n",
       "  '000': 1806},\n",
       " ('X', 'Y', 'X'): {'100': 1133,\n",
       "  '110': 1091,\n",
       "  '001': 983,\n",
       "  '011': 864,\n",
       "  '111': 961,\n",
       "  '000': 1152,\n",
       "  '010': 1054,\n",
       "  '101': 954},\n",
       " ('X', 'Y', 'Y'): {'101': 963,\n",
       "  '011': 961,\n",
       "  '111': 966,\n",
       "  '001': 985,\n",
       "  '110': 1001,\n",
       "  '100': 1092,\n",
       "  '010': 1051,\n",
       "  '000': 1173},\n",
       " ('X', 'Y', 'Z'): {'101': 332,\n",
       "  '001': 1604,\n",
       "  '100': 359,\n",
       "  '110': 307,\n",
       "  '111': 305,\n",
       "  '011': 1552,\n",
       "  '010': 1889,\n",
       "  '000': 1844},\n",
       " ('X', 'Z', 'X'): {'101': 347,\n",
       "  '011': 1569,\n",
       "  '111': 1581,\n",
       "  '100': 386,\n",
       "  '110': 1867,\n",
       "  '001': 317,\n",
       "  '000': 417,\n",
       "  '010': 1708},\n",
       " ('X', 'Z', 'Y'): {'101': 331,\n",
       "  '001': 338,\n",
       "  '110': 1768,\n",
       "  '100': 402,\n",
       "  '111': 1583,\n",
       "  '011': 1589,\n",
       "  '010': 1775,\n",
       "  '000': 406},\n",
       " ('X', 'Z', 'Z'): {'101': 196,\n",
       "  '011': 2811,\n",
       "  '111': 509,\n",
       "  '100': 204,\n",
       "  '110': 405,\n",
       "  '001': 492,\n",
       "  '000': 589,\n",
       "  '010': 2986},\n",
       " ('Y', 'X', 'X'): {'000': 1103,\n",
       "  '010': 1104,\n",
       "  '011': 926,\n",
       "  '111': 994,\n",
       "  '001': 894,\n",
       "  '110': 1131,\n",
       "  '100': 1103,\n",
       "  '101': 937},\n",
       " ('Y', 'X', 'Y'): {'011': 886,\n",
       "  '111': 957,\n",
       "  '001': 993,\n",
       "  '110': 1108,\n",
       "  '100': 1025,\n",
       "  '010': 1137,\n",
       "  '000': 1176,\n",
       "  '101': 910},\n",
       " ('Y', 'X', 'Z'): {'110': 345,\n",
       "  '100': 318,\n",
       "  '001': 1540,\n",
       "  '101': 291,\n",
       "  '111': 325,\n",
       "  '011': 1607,\n",
       "  '000': 1880,\n",
       "  '010': 1886},\n",
       " ('Y', 'Y', 'X'): {'101': 967,\n",
       "  '110': 1076,\n",
       "  '100': 1165,\n",
       "  '001': 933,\n",
       "  '011': 933,\n",
       "  '111': 917,\n",
       "  '000': 1109,\n",
       "  '010': 1092},\n",
       " ('Y', 'Y', 'Y'): {'011': 951,\n",
       "  '111': 918,\n",
       "  '000': 1211,\n",
       "  '010': 1070,\n",
       "  '101': 958,\n",
       "  '100': 1064,\n",
       "  '001': 989,\n",
       "  '110': 1031},\n",
       " ('Y', 'Y', 'Z'): {'101': 276,\n",
       "  '100': 388,\n",
       "  '110': 401,\n",
       "  '001': 1616,\n",
       "  '000': 1921,\n",
       "  '010': 1780,\n",
       "  '111': 316,\n",
       "  '011': 1494},\n",
       " ('Y', 'Z', 'X'): {'101': 319,\n",
       "  '011': 1501,\n",
       "  '111': 1543,\n",
       "  '100': 414,\n",
       "  '110': 1894,\n",
       "  '001': 336,\n",
       "  '000': 388,\n",
       "  '010': 1797},\n",
       " ('Y', 'Z', 'Y'): {'101': 333,\n",
       "  '001': 336,\n",
       "  '110': 1781,\n",
       "  '100': 388,\n",
       "  '111': 1547,\n",
       "  '011': 1537,\n",
       "  '000': 382,\n",
       "  '010': 1888},\n",
       " ('Y', 'Z', 'Z'): {'110': 494,\n",
       "  '001': 491,\n",
       "  '100': 211,\n",
       "  '010': 3175,\n",
       "  '000': 571,\n",
       "  '101': 178,\n",
       "  '111': 441,\n",
       "  '011': 2631},\n",
       " ('Z', 'X', 'X'): {'100': 614,\n",
       "  '110': 647,\n",
       "  '001': 1369,\n",
       "  '011': 1364,\n",
       "  '111': 1494,\n",
       "  '101': 1443,\n",
       "  '000': 648,\n",
       "  '010': 613},\n",
       " ('Z', 'X', 'Y'): {'101': 1367,\n",
       "  '011': 1517,\n",
       "  '111': 1299,\n",
       "  '010': 647,\n",
       "  '000': 624,\n",
       "  '100': 636,\n",
       "  '110': 663,\n",
       "  '001': 1439},\n",
       " ('Z', 'X', 'Z'): {'101': 382,\n",
       "  '110': 261,\n",
       "  '001': 2387,\n",
       "  '100': 261,\n",
       "  '000': 1015,\n",
       "  '010': 1002,\n",
       "  '111': 427,\n",
       "  '011': 2457},\n",
       " ('Z', 'Y', 'X'): {'000': 605,\n",
       "  '010': 646,\n",
       "  '101': 1426,\n",
       "  '100': 666,\n",
       "  '001': 1445,\n",
       "  '110': 647,\n",
       "  '111': 1402,\n",
       "  '011': 1355},\n",
       " ('Z', 'Y', 'Y'): {'101': 1411,\n",
       "  '011': 1377,\n",
       "  '111': 1369,\n",
       "  '010': 635,\n",
       "  '000': 648,\n",
       "  '100': 625,\n",
       "  '001': 1508,\n",
       "  '110': 619},\n",
       " ('Z', 'Y', 'Z'): {'101': 412,\n",
       "  '010': 966,\n",
       "  '000': 992,\n",
       "  '111': 401,\n",
       "  '011': 2450,\n",
       "  '100': 243,\n",
       "  '110': 242,\n",
       "  '001': 2486},\n",
       " ('Z', 'Z', 'X'): {'101': 390,\n",
       "  '001': 474,\n",
       "  '110': 1025,\n",
       "  '100': 263,\n",
       "  '111': 2505,\n",
       "  '011': 2316,\n",
       "  '010': 938,\n",
       "  '000': 281},\n",
       " ('Z', 'Z', 'Y'): {'100': 274,\n",
       "  '110': 944,\n",
       "  '001': 514,\n",
       "  '011': 2410,\n",
       "  '111': 2323,\n",
       "  '010': 996,\n",
       "  '000': 270,\n",
       "  '101': 461},\n",
       " ('Z', 'Z', 'Z'): {'101': 231,\n",
       "  '110': 385,\n",
       "  '100': 147,\n",
       "  '001': 648,\n",
       "  '111': 609,\n",
       "  '011': 4128,\n",
       "  '000': 407,\n",
       "  '010': 1637}}"
      ]
     },
     "execution_count": 109,
     "metadata": {},
     "output_type": "execute_result"
    }
   ],
   "source": [
    "tomo_fitter._data"
   ]
  },
  {
   "cell_type": "code",
   "execution_count": 25,
   "id": "9cec3f5a",
   "metadata": {},
   "outputs": [
    {
     "data": {
      "text/plain": [
       "[array([[0.25+0.j, 0.25+0.j, 0.25+0.j, 0.25+0.j, 0.  +0.j, 0.  +0.j,\n",
       "         0.  +0.j, 0.  +0.j],\n",
       "        [0.25+0.j, 0.25+0.j, 0.25+0.j, 0.25+0.j, 0.  +0.j, 0.  +0.j,\n",
       "         0.  +0.j, 0.  +0.j],\n",
       "        [0.25+0.j, 0.25+0.j, 0.25+0.j, 0.25+0.j, 0.  +0.j, 0.  +0.j,\n",
       "         0.  +0.j, 0.  +0.j],\n",
       "        [0.25+0.j, 0.25+0.j, 0.25+0.j, 0.25+0.j, 0.  +0.j, 0.  +0.j,\n",
       "         0.  +0.j, 0.  +0.j],\n",
       "        [0.  +0.j, 0.  +0.j, 0.  +0.j, 0.  +0.j, 0.  +0.j, 0.  +0.j,\n",
       "         0.  +0.j, 0.  +0.j],\n",
       "        [0.  +0.j, 0.  +0.j, 0.  +0.j, 0.  +0.j, 0.  +0.j, 0.  +0.j,\n",
       "         0.  +0.j, 0.  +0.j],\n",
       "        [0.  +0.j, 0.  +0.j, 0.  +0.j, 0.  +0.j, 0.  +0.j, 0.  +0.j,\n",
       "         0.  +0.j, 0.  +0.j],\n",
       "        [0.  +0.j, 0.  +0.j, 0.  +0.j, 0.  +0.j, 0.  +0.j, 0.  +0.j,\n",
       "         0.  +0.j, 0.  +0.j]]),\n",
       " array([[ 0.25+0.j, -0.25+0.j,  0.25+0.j, -0.25+0.j,  0.  +0.j, -0.  +0.j,\n",
       "          0.  +0.j, -0.  +0.j],\n",
       "        [-0.25+0.j,  0.25+0.j, -0.25+0.j,  0.25+0.j, -0.  +0.j,  0.  +0.j,\n",
       "         -0.  +0.j,  0.  +0.j],\n",
       "        [ 0.25+0.j, -0.25+0.j,  0.25+0.j, -0.25+0.j,  0.  +0.j, -0.  +0.j,\n",
       "          0.  +0.j, -0.  +0.j],\n",
       "        [-0.25+0.j,  0.25+0.j, -0.25+0.j,  0.25+0.j, -0.  +0.j,  0.  +0.j,\n",
       "         -0.  +0.j,  0.  +0.j],\n",
       "        [ 0.  +0.j, -0.  +0.j,  0.  +0.j, -0.  +0.j,  0.  +0.j, -0.  +0.j,\n",
       "          0.  +0.j, -0.  +0.j],\n",
       "        [-0.  +0.j,  0.  +0.j, -0.  +0.j,  0.  +0.j, -0.  +0.j,  0.  +0.j,\n",
       "         -0.  +0.j,  0.  +0.j],\n",
       "        [ 0.  +0.j, -0.  +0.j,  0.  +0.j, -0.  +0.j,  0.  +0.j, -0.  +0.j,\n",
       "          0.  +0.j, -0.  +0.j],\n",
       "        [-0.  +0.j,  0.  +0.j, -0.  +0.j,  0.  +0.j, -0.  +0.j,  0.  +0.j,\n",
       "         -0.  +0.j,  0.  +0.j]]),\n",
       " array([[ 0.25+0.j,  0.25+0.j, -0.25+0.j, -0.25+0.j,  0.  +0.j,  0.  +0.j,\n",
       "         -0.  +0.j, -0.  +0.j],\n",
       "        [ 0.25+0.j,  0.25+0.j, -0.25+0.j, -0.25+0.j,  0.  +0.j,  0.  +0.j,\n",
       "         -0.  +0.j, -0.  +0.j],\n",
       "        [-0.25+0.j, -0.25+0.j,  0.25+0.j,  0.25+0.j, -0.  +0.j, -0.  +0.j,\n",
       "          0.  +0.j,  0.  +0.j],\n",
       "        [-0.25+0.j, -0.25+0.j,  0.25+0.j,  0.25+0.j, -0.  +0.j, -0.  +0.j,\n",
       "          0.  +0.j,  0.  +0.j],\n",
       "        [ 0.  +0.j,  0.  +0.j, -0.  +0.j, -0.  +0.j,  0.  +0.j,  0.  +0.j,\n",
       "         -0.  +0.j, -0.  +0.j],\n",
       "        [ 0.  +0.j,  0.  +0.j, -0.  +0.j, -0.  +0.j,  0.  +0.j,  0.  +0.j,\n",
       "         -0.  +0.j, -0.  +0.j],\n",
       "        [-0.  +0.j, -0.  +0.j,  0.  +0.j,  0.  +0.j, -0.  +0.j, -0.  +0.j,\n",
       "          0.  +0.j,  0.  +0.j],\n",
       "        [-0.  +0.j, -0.  +0.j,  0.  +0.j,  0.  +0.j, -0.  +0.j, -0.  +0.j,\n",
       "          0.  +0.j,  0.  +0.j]]),\n",
       " array([[ 0.25+0.j, -0.25+0.j, -0.25+0.j,  0.25-0.j,  0.  +0.j, -0.  +0.j,\n",
       "         -0.  +0.j,  0.  -0.j],\n",
       "        [-0.25+0.j,  0.25+0.j,  0.25-0.j, -0.25+0.j, -0.  +0.j,  0.  +0.j,\n",
       "          0.  -0.j, -0.  +0.j],\n",
       "        [-0.25+0.j,  0.25-0.j,  0.25+0.j, -0.25+0.j, -0.  +0.j,  0.  -0.j,\n",
       "          0.  +0.j, -0.  +0.j],\n",
       "        [ 0.25-0.j, -0.25+0.j, -0.25+0.j,  0.25+0.j,  0.  -0.j, -0.  +0.j,\n",
       "         -0.  +0.j,  0.  +0.j],\n",
       "        [ 0.  +0.j, -0.  +0.j, -0.  +0.j,  0.  -0.j,  0.  +0.j, -0.  +0.j,\n",
       "         -0.  +0.j,  0.  -0.j],\n",
       "        [-0.  +0.j,  0.  +0.j,  0.  -0.j, -0.  +0.j, -0.  +0.j,  0.  +0.j,\n",
       "          0.  -0.j, -0.  +0.j],\n",
       "        [-0.  +0.j,  0.  -0.j,  0.  +0.j, -0.  +0.j, -0.  +0.j,  0.  -0.j,\n",
       "          0.  +0.j, -0.  +0.j],\n",
       "        [ 0.  -0.j, -0.  +0.j, -0.  +0.j,  0.  +0.j,  0.  -0.j, -0.  +0.j,\n",
       "         -0.  +0.j,  0.  +0.j]]),\n",
       " array([[0.  +0.j, 0.  +0.j, 0.  +0.j, 0.  +0.j, 0.  +0.j, 0.  +0.j,\n",
       "         0.  +0.j, 0.  +0.j],\n",
       "        [0.  +0.j, 0.  +0.j, 0.  +0.j, 0.  +0.j, 0.  +0.j, 0.  +0.j,\n",
       "         0.  +0.j, 0.  +0.j],\n",
       "        [0.  +0.j, 0.  +0.j, 0.  +0.j, 0.  +0.j, 0.  +0.j, 0.  +0.j,\n",
       "         0.  +0.j, 0.  +0.j],\n",
       "        [0.  +0.j, 0.  +0.j, 0.  +0.j, 0.  +0.j, 0.  +0.j, 0.  +0.j,\n",
       "         0.  +0.j, 0.  +0.j],\n",
       "        [0.  +0.j, 0.  +0.j, 0.  +0.j, 0.  +0.j, 0.25+0.j, 0.25+0.j,\n",
       "         0.25+0.j, 0.25+0.j],\n",
       "        [0.  +0.j, 0.  +0.j, 0.  +0.j, 0.  +0.j, 0.25+0.j, 0.25+0.j,\n",
       "         0.25+0.j, 0.25+0.j],\n",
       "        [0.  +0.j, 0.  +0.j, 0.  +0.j, 0.  +0.j, 0.25+0.j, 0.25+0.j,\n",
       "         0.25+0.j, 0.25+0.j],\n",
       "        [0.  +0.j, 0.  +0.j, 0.  +0.j, 0.  +0.j, 0.25+0.j, 0.25+0.j,\n",
       "         0.25+0.j, 0.25+0.j]]),\n",
       " array([[ 0.  +0.j, -0.  +0.j,  0.  +0.j, -0.  +0.j,  0.  +0.j, -0.  +0.j,\n",
       "          0.  +0.j, -0.  +0.j],\n",
       "        [-0.  +0.j,  0.  +0.j, -0.  +0.j,  0.  +0.j, -0.  +0.j,  0.  +0.j,\n",
       "         -0.  +0.j,  0.  +0.j],\n",
       "        [ 0.  +0.j, -0.  +0.j,  0.  +0.j, -0.  +0.j,  0.  +0.j, -0.  +0.j,\n",
       "          0.  +0.j, -0.  +0.j],\n",
       "        [-0.  +0.j,  0.  +0.j, -0.  +0.j,  0.  +0.j, -0.  +0.j,  0.  +0.j,\n",
       "         -0.  +0.j,  0.  +0.j],\n",
       "        [ 0.  +0.j, -0.  +0.j,  0.  +0.j, -0.  +0.j,  0.25+0.j, -0.25+0.j,\n",
       "          0.25+0.j, -0.25+0.j],\n",
       "        [-0.  +0.j,  0.  +0.j, -0.  +0.j,  0.  +0.j, -0.25+0.j,  0.25+0.j,\n",
       "         -0.25+0.j,  0.25+0.j],\n",
       "        [ 0.  +0.j, -0.  +0.j,  0.  +0.j, -0.  +0.j,  0.25+0.j, -0.25+0.j,\n",
       "          0.25+0.j, -0.25+0.j],\n",
       "        [-0.  +0.j,  0.  +0.j, -0.  +0.j,  0.  +0.j, -0.25+0.j,  0.25+0.j,\n",
       "         -0.25+0.j,  0.25+0.j]]),\n",
       " array([[ 0.  +0.j,  0.  +0.j, -0.  +0.j, -0.  +0.j,  0.  +0.j,  0.  +0.j,\n",
       "         -0.  +0.j, -0.  +0.j],\n",
       "        [ 0.  +0.j,  0.  +0.j, -0.  +0.j, -0.  +0.j,  0.  +0.j,  0.  +0.j,\n",
       "         -0.  +0.j, -0.  +0.j],\n",
       "        [-0.  +0.j, -0.  +0.j,  0.  +0.j,  0.  +0.j, -0.  +0.j, -0.  +0.j,\n",
       "          0.  +0.j,  0.  +0.j],\n",
       "        [-0.  +0.j, -0.  +0.j,  0.  +0.j,  0.  +0.j, -0.  +0.j, -0.  +0.j,\n",
       "          0.  +0.j,  0.  +0.j],\n",
       "        [ 0.  +0.j,  0.  +0.j, -0.  +0.j, -0.  +0.j,  0.25+0.j,  0.25+0.j,\n",
       "         -0.25+0.j, -0.25+0.j],\n",
       "        [ 0.  +0.j,  0.  +0.j, -0.  +0.j, -0.  +0.j,  0.25+0.j,  0.25+0.j,\n",
       "         -0.25+0.j, -0.25+0.j],\n",
       "        [-0.  +0.j, -0.  +0.j,  0.  +0.j,  0.  +0.j, -0.25+0.j, -0.25+0.j,\n",
       "          0.25+0.j,  0.25+0.j],\n",
       "        [-0.  +0.j, -0.  +0.j,  0.  +0.j,  0.  +0.j, -0.25+0.j, -0.25+0.j,\n",
       "          0.25+0.j,  0.25+0.j]]),\n",
       " array([[ 0.  +0.j, -0.  +0.j, -0.  +0.j,  0.  -0.j,  0.  +0.j, -0.  +0.j,\n",
       "         -0.  +0.j,  0.  -0.j],\n",
       "        [-0.  +0.j,  0.  +0.j,  0.  -0.j, -0.  +0.j, -0.  +0.j,  0.  +0.j,\n",
       "          0.  -0.j, -0.  +0.j],\n",
       "        [-0.  +0.j,  0.  -0.j,  0.  +0.j, -0.  +0.j, -0.  +0.j,  0.  -0.j,\n",
       "          0.  +0.j, -0.  +0.j],\n",
       "        [ 0.  -0.j, -0.  +0.j, -0.  +0.j,  0.  +0.j,  0.  -0.j, -0.  +0.j,\n",
       "         -0.  +0.j,  0.  +0.j],\n",
       "        [ 0.  +0.j, -0.  +0.j, -0.  +0.j,  0.  -0.j,  0.25+0.j, -0.25+0.j,\n",
       "         -0.25+0.j,  0.25-0.j],\n",
       "        [-0.  +0.j,  0.  +0.j,  0.  -0.j, -0.  +0.j, -0.25+0.j,  0.25+0.j,\n",
       "          0.25-0.j, -0.25+0.j],\n",
       "        [-0.  +0.j,  0.  -0.j,  0.  +0.j, -0.  +0.j, -0.25+0.j,  0.25-0.j,\n",
       "          0.25+0.j, -0.25+0.j],\n",
       "        [ 0.  -0.j, -0.  +0.j, -0.  +0.j,  0.  +0.j,  0.25-0.j, -0.25+0.j,\n",
       "         -0.25+0.j,  0.25+0.j]])]"
      ]
     },
     "execution_count": 25,
     "metadata": {},
     "output_type": "execute_result"
    }
   ],
   "source": [
    "tomo_fitter._measurement_ops(('X', 'X', 'Z'), tomo_fitter.measure_basis.measurement_matrix)"
   ]
  },
  {
   "cell_type": "code",
   "execution_count": 26,
   "id": "cee0ddf4",
   "metadata": {},
   "outputs": [],
   "source": [
    "block = tomo_fitter._basis_operator_matrix([np.kron(prep_op.T, mop) for mop in meas_op])"
   ]
  },
  {
   "cell_type": "code",
   "execution_count": 27,
   "id": "224ff7ce",
   "metadata": {},
   "outputs": [],
   "source": [
    "rho_fit = lstsq_fit(data, basis_matrix, weights, trace=1)"
   ]
  },
  {
   "cell_type": "code",
   "execution_count": 28,
   "id": "9067e0da",
   "metadata": {},
   "outputs": [
    {
     "data": {
      "text/plain": [
       "(216, 64)"
      ]
     },
     "execution_count": 28,
     "metadata": {},
     "output_type": "execute_result"
    }
   ],
   "source": [
    "basis_matrix.shape"
   ]
  },
  {
   "cell_type": "code",
   "execution_count": 86,
   "id": "a4038530",
   "metadata": {},
   "outputs": [],
   "source": [
    "from qiskit.quantum_info import DensityMatrix\n",
    "ts = DensityMatrix(target_state).data"
   ]
  },
  {
   "cell_type": "code",
   "execution_count": 90,
   "id": "83b0a4f8",
   "metadata": {},
   "outputs": [
    {
     "data": {
      "text/plain": [
       "<matplotlib.image.AxesImage at 0x292278b20>"
      ]
     },
     "execution_count": 90,
     "metadata": {},
     "output_type": "execute_result"
    },
    {
     "data": {
      "image/png": "[encoded data removed]",
      "text/plain": [
       "<Figure size 432x288 with 1 Axes>"
      ]
     },
     "metadata": {
      "needs_background": "light"
     },
     "output_type": "display_data"
    }
   ],
   "source": [
    "plt.imshow(np.real(rho_fit))"
   ]
  },
  {
   "cell_type": "code",
   "execution_count": 84,
   "id": "729166d8",
   "metadata": {},
   "outputs": [
    {
     "data": {
      "text/plain": [
       "0.04403733444293246"
      ]
     },
     "execution_count": 84,
     "metadata": {},
     "output_type": "execute_result"
    }
   ],
   "source": [
    "target_state = (One^One^Zero).to_matrix()\n",
    "\n",
    "state_fidelity(rho_fit, target_state)"
   ]
  },
  {
   "cell_type": "markdown",
   "id": "23ba2549",
   "metadata": {},
   "source": [
    "### (b) Using tomo_fitter"
   ]
  },
  {
   "cell_type": "code",
   "execution_count": 98,
   "id": "059990b5",
   "metadata": {},
   "outputs": [],
   "source": [
    "rho_fit_tomo = tomo_fitter.fit(method='cvx')"
   ]
  },
  {
   "cell_type": "code",
   "execution_count": 99,
   "id": "e501df1e",
   "metadata": {},
   "outputs": [
    {
     "data": {
      "text/plain": [
       "0.04403920833483145"
      ]
     },
     "execution_count": 99,
     "metadata": {},
     "output_type": "execute_result"
    }
   ],
   "source": [
    "state_fidelity(rho_fit_tomo, target_state)"
   ]
  },
  {
   "cell_type": "code",
   "execution_count": 100,
   "id": "eea36934",
   "metadata": {},
   "outputs": [
    {
     "data": {
      "text/plain": [
       "<matplotlib.image.AxesImage at 0x2923a7220>"
      ]
     },
     "execution_count": 100,
     "metadata": {},
     "output_type": "execute_result"
    },
    {
     "data": {
      "image/png": "[encoded data removed]",
      "text/plain": [
       "<Figure size 432x288 with 1 Axes>"
      ]
     },
     "metadata": {
      "needs_background": "light"
     },
     "output_type": "display_data"
    }
   ],
   "source": [
    "plt.imshow(np.real(rho_fit_tomo))"
   ]
  },
  {
   "cell_type": "markdown",
   "id": "930d5051",
   "metadata": {},
   "source": [
    "### 2-7 Results Analysis\n",
    "Extract the results for the completed jobs and compute the state tomography fidelity for each repetition. You may choose to include other post-processing analyses here as well."
   ]
  },
  {
   "cell_type": "code",
   "execution_count": 82,
   "id": "f87c0c22-1f37-4f56-9ec5-7e3c5d7a8384",
   "metadata": {},
   "outputs": [
    {
     "name": "stdout",
     "output_type": "stream",
     "text": [
      "state tomography fidelity = 0.0440 ± 0.0000\n"
     ]
    }
   ],
   "source": [
    "# Compute the state tomography based on the st_qcs quantum circuits and the results from those ciricuits\n",
    "def state_tomo(result, st_qcs):\n",
    "    # The expected final state; necessary to determine state tomography fidelity\n",
    "    target_state = (One^One^Zero).to_matrix()  # DO NOT MODIFY (|q_5,q_3,q_1> = |110>)\n",
    "    # Fit state tomography results\n",
    "    tomo_fitter = StateTomographyFitter(result, st_qcs)\n",
    "    rho_fit = tomo_fitter.fit(method='lstsq')\n",
    "    # Compute fidelity\n",
    "    fid = state_fidelity(rho_fit, target_state)\n",
    "    return fid\n",
    "\n",
    "# Compute tomography fidelities for each repetition\n",
    "fids = []\n",
    "for job in jobs:\n",
    "    fid = state_tomo(job.result(), st_qcs)\n",
    "    fids.append(fid)\n",
    "    \n",
    "print('state tomography fidelity = {:.4f} \\u00B1 {:.4f}'.format(np.mean(fids), np.std(fids)))"
   ]
  },
  {
   "cell_type": "code",
   "execution_count": 31,
   "id": "a7a0994c-f8bf-4613-8b1e-c78eb2864b8e",
   "metadata": {},
   "outputs": [
    {
     "data": {
      "text/html": [
       "<h3>Version Information</h3><table><tr><th>Qiskit Software</th><th>Version</th></tr><tr><td><code>qiskit-terra</code></td><td>0.20.0</td></tr><tr><td><code>qiskit-aer</code></td><td>0.10.4</td></tr><tr><td><code>qiskit-ignis</code></td><td>0.7.0</td></tr><tr><td><code>qiskit-ibmq-provider</code></td><td>0.19.0</td></tr><tr><td><code>qiskit</code></td><td>0.36.0</td></tr><tr><th>System information</th></tr><tr><td>Python version</td><td>3.10.4</td></tr><tr><td>Python compiler</td><td>Clang 12.0.1 </td></tr><tr><td>Python build</td><td>main, Mar 24 2022 17:39:37</td></tr><tr><td>OS</td><td>Darwin</td></tr><tr><td>CPUs</td><td>10</td></tr><tr><td>Memory (Gb)</td><td>32.0</td></tr><tr><td colspan='2'>Fri Apr 15 01:02:37 2022 EDT</td></tr></table>"
      ],
      "text/plain": [
       "<IPython.core.display.HTML object>"
      ]
     },
     "metadata": {},
     "output_type": "display_data"
    }
   ],
   "source": [
    "import qiskit.tools.jupyter\n",
    "%qiskit_version_table"
   ]
  }
 ],
 "metadata": {
  "kernelspec": {
   "display_name": "Python 3 (ipykernel)",
   "language": "python",
   "name": "python3"
  },
  "language_info": {
   "codemirror_mode": {
    "name": "ipython",
    "version": 3
   },
   "file_extension": ".py",
   "mimetype": "text/x-python",
   "name": "python",
   "nbconvert_exporter": "python",
   "pygments_lexer": "ipython3",
   "version": "3.10.4"
  },
  "toc-autonumbering": false,
  "toc-showcode": false,
  "toc-showmarkdowntxt": false,
  "toc-showtags": false
 },
 "nbformat": 4,
 "nbformat_minor": 5
}
