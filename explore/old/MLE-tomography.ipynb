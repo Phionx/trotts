{
 "cells": [
  {
   "cell_type": "markdown",
   "id": "20189242",
   "metadata": {},
   "source": [
    "# Quantum State Tomography via MLE in Qiskit"
   ]
  },
  {
   "cell_type": "code",
   "execution_count": 28,
   "id": "66f2c59b",
   "metadata": {},
   "outputs": [],
   "source": [
    "# Importing standard Qiskit modules\n",
    "from qiskit import QuantumCircuit, QuantumRegister, IBMQ, execute, transpile\n",
    "from qiskit.providers.aer import QasmSimulator\n",
    "from qiskit.tools.monitor import job_monitor\n",
    "from qiskit.circuit import Parameter, Instruction\n",
    "from qiskit.quantum_info import Pauli\n",
    "\n",
    "# Import state tomography modules\n",
    "from qiskit.ignis.verification.tomography import state_tomography_circuits, StateTomographyFitter\n",
    "from qiskit.ignis.verification.tomography.fitters.lstsq_fit import lstsq_fit\n",
    "from qiskit.ignis.verification.tomography.fitters.cvx_fit import cvx_fit\n",
    "\n",
    "from qiskit.quantum_info import state_fidelity\n",
    "from qiskit.opflow import Zero, One, I, X, Y, Z\n",
    "\n",
    "# suppress warnings\n",
    "import warnings\n",
    "warnings.filterwarnings('ignore')\n",
    "\n",
    "import numpy as np\n",
    "from tqdm import tqdm\n",
    "import matplotlib.pyplot as plt\n",
    "import copy\n",
    "import qutip as qt\n",
    "import itertools\n",
    "\n",
    "import seaborn as sns"
   ]
  },
  {
   "cell_type": "markdown",
   "id": "84d4d612",
   "metadata": {},
   "source": [
    "## Target State Parities\n",
    "We consider the target state $|110\\rangle$ and generate the parity values associated with each Pauli string. "
   ]
  },
  {
   "cell_type": "code",
   "execution_count": 102,
   "id": "5ad1730d",
   "metadata": {},
   "outputs": [],
   "source": [
    "g = qt.basis(2,0)\n",
    "e = qt.basis(2,1)\n",
    "\n",
    "# fidelity: the reconstructed state has the (flipped) ordering |q5q3q1> \n",
    "target_state_qt = qt.tensor(e,e,g)\n",
    "target_state_qt = qt.ket2dm(target_state_qt)\n",
    "target_state = target_state_qt.full()\n",
    "\n",
    "# parity: \"XYZ\" corresponds to X measurement on q1, Y measurement on q3, and Z measurement on q5\n",
    "target_state_parity_qt = qt.ket2dm(qt.tensor(g,e,e))\n",
    "target_state_parity = target_state_parity_qt.full()"
   ]
  },
  {
   "cell_type": "code",
   "execution_count": 103,
   "id": "03fd4e52",
   "metadata": {},
   "outputs": [
    {
     "data": {
      "text/plain": [
       "array([[0.+0.j, 0.+0.j, 0.+0.j, 0.+0.j, 0.+0.j, 0.+0.j, 0.+0.j, 0.+0.j],\n",
       "       [0.+0.j, 0.+0.j, 0.+0.j, 0.+0.j, 0.+0.j, 0.+0.j, 0.+0.j, 0.+0.j],\n",
       "       [0.+0.j, 0.+0.j, 0.+0.j, 0.+0.j, 0.+0.j, 0.+0.j, 0.+0.j, 0.+0.j],\n",
       "       [0.+0.j, 0.+0.j, 0.+0.j, 1.+0.j, 0.+0.j, 0.+0.j, 0.+0.j, 0.+0.j],\n",
       "       [0.+0.j, 0.+0.j, 0.+0.j, 0.+0.j, 0.+0.j, 0.+0.j, 0.+0.j, 0.+0.j],\n",
       "       [0.+0.j, 0.+0.j, 0.+0.j, 0.+0.j, 0.+0.j, 0.+0.j, 0.+0.j, 0.+0.j],\n",
       "       [0.+0.j, 0.+0.j, 0.+0.j, 0.+0.j, 0.+0.j, 0.+0.j, 0.+0.j, 0.+0.j],\n",
       "       [0.+0.j, 0.+0.j, 0.+0.j, 0.+0.j, 0.+0.j, 0.+0.j, 0.+0.j, 0.+0.j]])"
      ]
     },
     "execution_count": 103,
     "metadata": {},
     "output_type": "execute_result"
    }
   ],
   "source": [
    "target_state_parity"
   ]
  },
  {
   "cell_type": "code",
   "execution_count": 114,
   "id": "d291e2c1",
   "metadata": {},
   "outputs": [],
   "source": [
    "infid_level = 0.05\n",
    "\n",
    "probs = np.random.uniform(0, 1, 8)\n",
    "\n",
    "# Make sure the element 3 corresponding to target state parity has the right prob\n",
    "probs[3] = ((1-infid_level) / infid_level) * (np.sum(probs) - probs[3]) \n",
    "\n",
    "# Normalize so that the total probability sums to one\n",
    "probs = probs / np.sum(probs) \n",
    "\n",
    "target_state_parity_noisy = probs * np.eye(8)"
   ]
  },
  {
   "cell_type": "code",
   "execution_count": 115,
   "id": "8fe31c65",
   "metadata": {},
   "outputs": [],
   "source": [
    "pauli = {\"X\":qt.sigmax(),\"Y\":qt.sigmay(),\"Z\":qt.sigmaz(),\"I\":qt.identity(2)}\n",
    "target_parity = {}\n",
    "for k1, p1 in pauli.items():\n",
    "    for k2, p2 in pauli.items():\n",
    "        for k3, p3 in pauli.items():\n",
    "            pauli_string = k1+k2+k3\n",
    "            if pauli_string == \"III\":\n",
    "                continue\n",
    "            op = qt.tensor(p1,p2,p3)\n",
    "            meas = (target_state_parity_qt*op).tr()\n",
    "            \n",
    "            # Noisy simulation\n",
    "            meas2 = np.trace(op.full() @ target_state_parity_noisy)\n",
    "            \n",
    "            target_parity[pauli_string] = meas2"
   ]
  },
  {
   "cell_type": "code",
   "execution_count": 116,
   "id": "7e42e3b2",
   "metadata": {
    "scrolled": true
   },
   "outputs": [
    {
     "data": {
      "text/plain": [
       "{'XXX': 0j,\n",
       " 'XXY': 0j,\n",
       " 'XXZ': 0j,\n",
       " 'XXI': 0j,\n",
       " 'XYX': 0j,\n",
       " 'XYY': 0j,\n",
       " 'XYZ': 0j,\n",
       " 'XYI': 0j,\n",
       " 'XZX': 0j,\n",
       " 'XZY': 0j,\n",
       " 'XZZ': 0j,\n",
       " 'XZI': 0j,\n",
       " 'XIX': 0j,\n",
       " 'XIY': 0j,\n",
       " 'XIZ': 0j,\n",
       " 'XII': 0j,\n",
       " 'YXX': 0j,\n",
       " 'YXY': 0j,\n",
       " 'YXZ': 0j,\n",
       " 'YXI': 0j,\n",
       " 'YYX': 0j,\n",
       " 'YYY': 0j,\n",
       " 'YYZ': 0j,\n",
       " 'YYI': 0j,\n",
       " 'YZX': 0j,\n",
       " 'YZY': 0j,\n",
       " 'YZZ': 0j,\n",
       " 'YZI': 0j,\n",
       " 'YIX': 0j,\n",
       " 'YIY': 0j,\n",
       " 'YIZ': 0j,\n",
       " 'YII': 0j,\n",
       " 'ZXX': 0j,\n",
       " 'ZXY': 0j,\n",
       " 'ZXZ': 0j,\n",
       " 'ZXI': 0j,\n",
       " 'ZYX': 0j,\n",
       " 'ZYY': 0j,\n",
       " 'ZYZ': 0j,\n",
       " 'ZYI': 0j,\n",
       " 'ZZX': 0j,\n",
       " 'ZZY': 0j,\n",
       " 'ZZZ': (0.9248143085350639+0j),\n",
       " 'ZZI': (-0.9433733384552355+0j),\n",
       " 'ZIX': 0j,\n",
       " 'ZIY': 0j,\n",
       " 'ZIZ': (-0.9589953781743025+0j),\n",
       " 'ZII': (0.9388826264514168+0j),\n",
       " 'IXX': 0j,\n",
       " 'IXY': 0j,\n",
       " 'IXZ': 0j,\n",
       " 'IXI': 0j,\n",
       " 'IYX': 0j,\n",
       " 'IYY': 0j,\n",
       " 'IYZ': 0j,\n",
       " 'IYI': 0j,\n",
       " 'IZX': 0j,\n",
       " 'IZY': 0j,\n",
       " 'IZZ': (0.9372711713602284+0j),\n",
       " 'IZI': (-0.9462511630369251+0j),\n",
       " 'IIX': 0j,\n",
       " 'IIY': 0j,\n",
       " 'IIZ': (-0.9504120139868282+0j)}"
      ]
     },
     "execution_count": 116,
     "metadata": {},
     "output_type": "execute_result"
    }
   ],
   "source": [
    "target_parity"
   ]
  },
  {
   "cell_type": "markdown",
   "id": "6d5b9ead",
   "metadata": {},
   "source": [
    "## Tomography"
   ]
  },
  {
   "cell_type": "code",
   "execution_count": 117,
   "id": "031af9fb",
   "metadata": {},
   "outputs": [],
   "source": [
    "basis_matrix = []\n",
    "data = []\n",
    "\n",
    "for pauli, val in target_parity.items():\n",
    "    ### Parity \"XYZ\" > actual order \"ZYX\" > vectorize to get |ZYX⟩⟩ > conjugate ket to its dual\n",
    "    row = Pauli(pauli[::-1]).to_matrix().flatten(order='F').conjugate()\n",
    "    basis_matrix.append(row)\n",
    "    data.append(val)\n",
    "\n",
    "basis_matrix = np.array(basis_matrix)"
   ]
  },
  {
   "cell_type": "code",
   "execution_count": 118,
   "id": "2014af14",
   "metadata": {},
   "outputs": [],
   "source": [
    "rho_fit = cvx_fit(data=data, basis_matrix=basis_matrix, weights=None, trace=1)"
   ]
  },
  {
   "cell_type": "code",
   "execution_count": 119,
   "id": "99ba6bb4",
   "metadata": {},
   "outputs": [
    {
     "data": {
      "text/plain": [
       "array([[2.42015644e-04+0.j, 0.00000000e+00+0.j, 0.00000000e+00+0.j,\n",
       "        0.00000000e+00+0.j, 0.00000000e+00+0.j, 0.00000000e+00+0.j,\n",
       "        0.00000000e+00+0.j, 0.00000000e+00+0.j],\n",
       "       [0.00000000e+00+0.j, 9.90997384e-03+0.j, 0.00000000e+00+0.j,\n",
       "        0.00000000e+00+0.j, 0.00000000e+00+0.j, 0.00000000e+00+0.j,\n",
       "        0.00000000e+00+0.j, 0.00000000e+00+0.j],\n",
       "       [0.00000000e+00+0.j, 0.00000000e+00+0.j, 7.12678383e-03+0.j,\n",
       "        0.00000000e+00+0.j, 0.00000000e+00+0.j, 0.00000000e+00+0.j,\n",
       "        0.00000000e+00+0.j, 0.00000000e+00+0.j],\n",
       "       [0.00000000e+00+0.j, 0.00000000e+00+0.j, 0.00000000e+00+0.j,\n",
       "        7.51521428e-03+0.j, 0.00000000e+00+0.j, 0.00000000e+00+0.j,\n",
       "        0.00000000e+00+0.j, 0.00000000e+00+0.j],\n",
       "       [0.00000000e+00+0.j, 0.00000000e+00+0.j, 0.00000000e+00+0.j,\n",
       "        0.00000000e+00+0.j, 1.20725065e-02+0.j, 0.00000000e+00+0.j,\n",
       "        0.00000000e+00+0.j, 0.00000000e+00+0.j],\n",
       "       [0.00000000e+00+0.j, 0.00000000e+00+0.j, 0.00000000e+00+0.j,\n",
       "        0.00000000e+00+0.j, 0.00000000e+00+0.j, 4.64991709e-03+0.j,\n",
       "        0.00000000e+00+0.j, 0.00000000e+00+0.j],\n",
       "       [0.00000000e+00+0.j, 0.00000000e+00+0.j, 0.00000000e+00+0.j,\n",
       "        0.00000000e+00+0.j, 0.00000000e+00+0.j, 0.00000000e+00+0.j,\n",
       "        9.50000000e-01+0.j, 0.00000000e+00+0.j],\n",
       "       [0.00000000e+00+0.j, 0.00000000e+00+0.j, 0.00000000e+00+0.j,\n",
       "        0.00000000e+00+0.j, 0.00000000e+00+0.j, 0.00000000e+00+0.j,\n",
       "        0.00000000e+00+0.j, 8.48358894e-03+0.j]])"
      ]
     },
     "execution_count": 119,
     "metadata": {},
     "output_type": "execute_result"
    }
   ],
   "source": [
    "rho_fit"
   ]
  },
  {
   "cell_type": "code",
   "execution_count": 120,
   "id": "ac356a14",
   "metadata": {},
   "outputs": [
    {
     "data": {
      "text/plain": [
       "0.9499999998747717"
      ]
     },
     "execution_count": 120,
     "metadata": {},
     "output_type": "execute_result"
    }
   ],
   "source": [
    "state_fidelity(rho_fit, target_state)"
   ]
  },
  {
   "cell_type": "code",
   "execution_count": 121,
   "id": "32142228",
   "metadata": {},
   "outputs": [],
   "source": [
    "def mu_optimize(mu, n):\n",
    "    # calculate eigenvalues of µ matrix\n",
    "    eigen = np.linalg.eig(mu)\n",
    "    vals  = eigen[0]\n",
    "    vecs  = eigen[1].transpose()\n",
    "\n",
    "    # order eigenvalues from largest to smallest\n",
    "    eig_vals = sorted(vals, reverse=True)\n",
    "    idx      = []\n",
    "    for val in eig_vals:\n",
    "        idx.append(np.where(vals == val)[0][0])\n",
    "    eig_vecs = []\n",
    "    for i in idx:\n",
    "        eig_vecs.append(vecs[i])\n",
    "        \n",
    "    # calculate eigenvalues of the density matrix\n",
    "    accumulator = 0\n",
    "    lamb_vals   = [None] * len(eig_vals)\n",
    "    for i in range(len(eig_vals) - 1, -1, -1):\n",
    "        if eig_vals[i] + (accumulator / (i + 1)) >= 0:\n",
    "            for j in range(i + 1):\n",
    "                lamb_vals[j] = eig_vals[j] +  (accumulator / (i + 1))\n",
    "            break\n",
    "        else:\n",
    "            lamb_vals[i] = 0\n",
    "            accumulator  += eig_vals[i]\n",
    "\n",
    "    # calculate density matrix\n",
    "    predicted_state = np.zeros((2 ** n, 2 ** n), 'complex')\n",
    "    for idx, lamb_val in enumerate(lamb_vals):\n",
    "        predicted_state += lamb_vals[idx] * np.outer(eig_vecs[idx], eig_vecs[idx].conj())\n",
    "    \n",
    "    return predicted_state\n",
    "\n",
    "def measurements_strings(n, arr=['X', 'Y', 'Z']):\n",
    "    strs  = []\n",
    "    combs = list(itertools.combinations_with_replacement(arr, n))\n",
    "    for comb in combs:\n",
    "        for item in set(list(itertools.permutations(comb))):\n",
    "            strs.append(\"\".join(item))\n",
    "    return strs\n",
    "\n",
    "def tensor_operator(arr):\n",
    "    arr = list(arr)[::-1]\n",
    "    \n",
    "    I = np.array([[1, 0], [0, 1]])\n",
    "    X = np.array([[0, 1], [1, 0]])\n",
    "    Y  = np.array([[0, -1j], [1j, 0]])\n",
    "    Z = np.array([[1, 0], [0, -1]])\n",
    "    \n",
    "    first = arr.pop(0)\n",
    "    if first == 'I':\n",
    "        out = I\n",
    "    elif first == 'X':\n",
    "        out = X\n",
    "    elif first == 'Y':\n",
    "        out = Y\n",
    "    else:\n",
    "        out = Z\n",
    "        \n",
    "    for op in arr:\n",
    "        if op == 'I':\n",
    "            out = np.kron(out, I)\n",
    "        elif op == 'X':\n",
    "            out = np.kron(out, X)\n",
    "        elif op == 'Y':\n",
    "            out = np.kron(out, Y)\n",
    "        else:\n",
    "            out = np.kron(out, Z)\n",
    "\n",
    "    return out.astype('complex')"
   ]
  },
  {
   "cell_type": "code",
   "execution_count": 122,
   "id": "5983e362",
   "metadata": {
    "scrolled": true
   },
   "outputs": [],
   "source": [
    "# get all expectation values\n",
    "ops      = measurements_strings(3, arr=['I', 'X', 'Y', 'Z'])[1:] # we need to consider identity operator here\n",
    "exp_vals = []\n",
    "for op in ops:\n",
    "    exp_vals.append(target_parity[op])\n",
    "\n",
    "# calculate µ matrix \n",
    "mu = tensor_operator(['I' for _ in range(3)])\n",
    "for idx, op in enumerate(ops):\n",
    "    mu += exp_vals[idx] * tensor_operator(op)\n",
    "mu /= (2 ** 3)\n",
    "\n",
    "# optimize the µ matrix to get the predicted density matrix\n",
    "predicted_state = mu_optimize(mu, 3)\n",
    "\n",
    "# calculate fidelity\n",
    "fidelity = target_state.conj().dot(predicted_state).dot(target_state)"
   ]
  },
  {
   "cell_type": "code",
   "execution_count": 123,
   "id": "4e2f7518",
   "metadata": {},
   "outputs": [
    {
     "data": {
      "text/plain": [
       "0.9500000000000001"
      ]
     },
     "execution_count": 123,
     "metadata": {},
     "output_type": "execute_result"
    }
   ],
   "source": [
    "state_fidelity(predicted_state, target_state)"
   ]
  },
  {
   "cell_type": "code",
   "execution_count": null,
   "id": "5e506c7c",
   "metadata": {},
   "outputs": [],
   "source": []
  }
 ],
 "metadata": {
  "kernelspec": {
   "display_name": "Python 3 (ipykernel)",
   "language": "python",
   "name": "python3"
  },
  "language_info": {
   "codemirror_mode": {
    "name": "ipython",
    "version": 3
   },
   "file_extension": ".py",
   "mimetype": "text/x-python",
   "name": "python",
   "nbconvert_exporter": "python",
   "pygments_lexer": "ipython3",
   "version": "3.10.4"
  }
 },
 "nbformat": 4,
 "nbformat_minor": 5
}
