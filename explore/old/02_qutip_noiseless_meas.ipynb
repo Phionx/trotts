{
 "cells": [
  {
   "cell_type": "code",
   "execution_count": 17,
   "id": "3e7c73cc-68a5-42f6-a857-2d9b737567ff",
   "metadata": {},
   "outputs": [],
   "source": [
    "import qutip as qt\n",
    "import numpy as np\n",
    "import matplotlib.pyplot as plt\n",
    "import scipy.optimize\n",
    "plt.rcParams.update({'font.size': 16})  # enlarge matplotlib fonts"
   ]
  },
  {
   "cell_type": "code",
   "execution_count": 2,
   "id": "a50e4bc1-29f6-4a1b-b77c-d806d392aad7",
   "metadata": {},
   "outputs": [],
   "source": [
    "def pauli_3_op(ii, pauli_str):\n",
    "    ## ii refers to subsystem out of 0, 1, or, 2\n",
    "    pauli_dict = {\"X\": qt.sigmax(), \"Y\": qt.sigmay(), \"Z\": qt.sigmaz(), \"I\": qt.qeye(2)}\n",
    "    pauli = pauli_dict[pauli_str]\n",
    "    if ii == 0:\n",
    "        return qt.tensor(pauli, qt.qeye(2), qt.qeye(2))\n",
    "    if ii == 1:\n",
    "        return qt.tensor(qt.qeye(2), pauli, qt.qeye(2))\n",
    "    if ii == 2:\n",
    "        return qt.tensor(qt.qeye(2), qt.qeye(2), pauli)\n",
    "    \n",
    "def pauli_pair(ii, jj, pauli_1, pauli_2):\n",
    "    return pauli_3_op(ii, pauli_1) * pauli_3_op(jj, pauli_2)"
   ]
  },
  {
   "cell_type": "code",
   "execution_count": 5,
   "id": "39756580-596d-40ec-91c5-f276f9836c7d",
   "metadata": {},
   "outputs": [],
   "source": [
    "def trip_state(ii, jj, kk):\n",
    "    return qt.tensor(qt.basis(2, ii), qt.basis(2, jj), qt.basis(2, kk))\n",
    "\n",
    "def comp_basis_list():\n",
    "    comp_basis = [trip_state(0, 0, 0), trip_state(0, 0, 1), trip_state(0, 1, 0), trip_state(0, 1, 1)]\n",
    "    comp_basis += [trip_state(1, 0, 0), trip_state(1, 0, 1), trip_state(1, 1, 0), trip_state(1, 1, 1)]\n",
    "    return comp_basis"
   ]
  },
  {
   "cell_type": "code",
   "execution_count": 3,
   "id": "1d90129a-68de-4b5a-97f0-1fc5928b2d13",
   "metadata": {},
   "outputs": [],
   "source": [
    "def U_heis(t):\n",
    "    J = 1\n",
    "    heis_H = J * (pauli_pair(0, 1, \"X\", \"X\") + pauli_pair(0, 1, \"Y\", \"Y\") + pauli_pair(0, 1, \"Z\", \"Z\"))\n",
    "    heis_H += J * (pauli_pair(1, 2, \"X\", \"X\") + pauli_pair(1, 2, \"Y\", \"Y\") + pauli_pair(1, 2, \"Z\", \"Z\"))\n",
    "    return (- 1j * t * heis_H).expm()\n",
    "\n",
    "def U_heis_trotter_step(delta_t):\n",
    "    J = 1\n",
    "    pauli_list = [pauli_pair(0, 1, \"X\", \"X\"), pauli_pair(0, 1, \"Y\", \"Y\"), pauli_pair(0, 1, \"Z\", \"Z\")]\n",
    "    pauli_list += [pauli_pair(1, 2, \"X\", \"X\"), pauli_pair(1, 2, \"Y\", \"Y\"), pauli_pair(1, 2, \"Z\", \"Z\")]\n",
    "    \n",
    "    cur_U = pauli_pair(0, 1, \"I\", \"I\")\n",
    "    for pauli in pauli_list:\n",
    "        cur_U *= (- 1j * delta_t * pauli).expm()\n",
    "    \n",
    "    return cur_U"
   ]
  },
  {
   "cell_type": "code",
   "execution_count": 6,
   "id": "83c0905c-9147-420e-876d-20cae4563377",
   "metadata": {},
   "outputs": [],
   "source": [
    "def trotter_comp_output(n_steps, initial_state, total_time = np.pi):\n",
    "    # Define array of time points\n",
    "    ts = np.linspace(0, total_time, n_steps)\n",
    "\n",
    "    # Define initial state |110>\n",
    "    delta_t = ts[1] - ts[0]\n",
    "    cur_state = initial_state\n",
    "    for t in ts[:len(ts) - 1]:\n",
    "        cur_state = U_heis_trotter_step(delta_t) * cur_state\n",
    "        \n",
    "    comp_basis = comp_basis_list()\n",
    "    prob_list = [np.abs((cur_state.dag() * comp_basis[ii])[0][0][0]) ** 2 for ii in range(len(comp_basis))]\n",
    "    \n",
    "    return prob_list"
   ]
  },
  {
   "cell_type": "code",
   "execution_count": 11,
   "id": "56de0126-d978-4b04-a525-e9c205dbda50",
   "metadata": {},
   "outputs": [],
   "source": [
    "def ideal_prob_dist(initial_state, total_time):\n",
    "    ideal_state = U_heis(T) * initial_state\n",
    "    comp_basis = comp_basis_list()\n",
    "    prob_list = [np.abs((ideal_state.dag() * comp_basis[ii])[0][0][0]) ** 2 for ii in range(len(comp_basis))]\n",
    "    return prob_list"
   ]
  },
  {
   "cell_type": "code",
   "execution_count": 69,
   "id": "95cba699-0d5b-414a-b22d-6d8fa9368a97",
   "metadata": {},
   "outputs": [],
   "source": [
    "def prob_norm(prob_1, prob_2):\n",
    "    return np.sum([np.abs(prob_1[ii] - prob_2[ii]) for ii in range(len(prob_1))])"
   ]
  },
  {
   "cell_type": "code",
   "execution_count": 89,
   "id": "e9e7194b-9039-4a52-a62f-8435504a6525",
   "metadata": {},
   "outputs": [],
   "source": [
    "def fit_meas_lists(meas_lists, trot_steps):\n",
    "    \n",
    "    def monoExp(x, m, t, b):\n",
    "        return m * np.exp(-t * x) + b\n",
    "    \n",
    "    fin_est = []\n",
    "    for kk in range(len(meas_lists)):\n",
    "        cur_list = meas_lists[kk]\n",
    "        bkk0 = cur_list[-1]\n",
    "        tkk0 = np.abs(cur_list[-1] - cur_list[0]) / trot_steps[0]\n",
    "        mkk0 = cur_list[0] * trot_steps[0]\n",
    "        params, cv = scipy.optimize.curve_fit(monoExp, trot_steps, cur_list, (mkk0, tkk0, bkk0), bounds=(0, np.inf))\n",
    "        m, t, b = params\n",
    "        fin_est.append(b)\n",
    "    return [int(f) for f in fin_est]"
   ]
  },
  {
   "cell_type": "code",
   "execution_count": 82,
   "id": "e0e42be8-f42f-4752-8f5e-845785613b71",
   "metadata": {},
   "outputs": [],
   "source": [
    "N_min = 15\n",
    "N_max = 25\n",
    "T = np.pi / 2\n",
    "initial_state = qt.tensor(qt.basis(2, 1), qt.basis(2, 1), qt.basis(2, 0))\n",
    "\n",
    "def trot_prob_dist_NN(initial_state, total_time, N_min, N_max, total_shots = 8192):\n",
    "\n",
    "    # ideal_state = U_heis(T) * initial_state\n",
    "    ideal_prob_list = ideal_prob_dist(initial_state, T)\n",
    "    prob_lists = []\n",
    "    for nn in range(N_min, N_max):\n",
    "        prob_lists.append(trotter_comp_output(nn, initial_state, total_time = T))\n",
    "\n",
    "    b_ii_lists = []\n",
    "    for b_ii in range(len(prob_lists[0])):\n",
    "        b_ii_list = [prob_lists[jj][b_ii] for jj in range(len(prob_lists))]\n",
    "        b_ii_lists.append(b_ii_list)\n",
    "        \n",
    "    trot_meas_nums = [np.array([b_ii_lists[kk][jj] * 8192 for jj in range(len(b_ii_lists[kk]))]) for kk in range(len(b_ii_lists))]\n",
    "        \n",
    "    return trot_meas_nums"
   ]
  },
  {
   "cell_type": "code",
   "execution_count": 83,
   "id": "423ddbc6-c8a8-4f65-a5aa-769e9aae84ff",
   "metadata": {},
   "outputs": [],
   "source": [
    "N_min = 15\n",
    "N_max = 30\n",
    "T = np.pi / 2\n",
    "initial_state = qt.tensor(qt.basis(2, 1), qt.basis(2, 1), qt.basis(2, 0))\n",
    "ideal_prob_list = ideal_prob_dist(initial_state, T)\n",
    "trot_meas_nums = trot_prob_dist_NN(initial_state, T, N_min, N_max, total_shots = 8192) "
   ]
  },
  {
   "cell_type": "code",
   "execution_count": 99,
   "id": "65823d0f-5fdd-47f0-8852-38227abfb17d",
   "metadata": {},
   "outputs": [
    {
     "name": "stdout",
     "output_type": "stream",
     "text": [
      "0\n",
      "1\n",
      "2\n",
      "3\n",
      "4\n",
      "5\n",
      "6\n",
      "7\n",
      "8\n",
      "9\n"
     ]
    }
   ],
   "source": [
    "N_min = 15\n",
    "N_max = 30\n",
    "T = np.pi / 2\n",
    "initial_state = qt.tensor(qt.basis(2, 1), qt.basis(2, 1), qt.basis(2, 0))\n",
    "ideal_prob_list = ideal_prob_dist(initial_state, T)\n",
    "\n",
    "fit_dev = []\n",
    "for dpts in range(10):\n",
    "    print(dpts)\n",
    "    N_max_temp = N_min + 5 + dpts\n",
    "    trot_meas_nums_temp = trot_prob_dist_NN(initial_state, T, N_min, N_max_temp, total_shots = 8192) \n",
    "    fitted_temp = fit_meas_lists(trot_meas_nums_temp, np.arange(N_min, N_max_temp))\n",
    "    extrapolated_prob = [fitted_temp[ii] / np.sum(fitted_temp) for ii in range(len(fitted_temp))]\n",
    "    fit_dev.append(prob_norm(ideal_prob_list, extrapolated_prob))"
   ]
  },
  {
   "cell_type": "code",
   "execution_count": 101,
   "id": "adf7cb59-b04f-4dc1-9fbb-61017b454725",
   "metadata": {},
   "outputs": [
    {
     "data": {
      "text/plain": [
       "Text(0, 0.5, 'prob L1 dist')"
      ]
     },
     "execution_count": 101,
     "metadata": {},
     "output_type": "execute_result"
    },
    {
     "data": {
      "image/png": "[encoded data removed]",
      "text/plain": [
       "<Figure size 432x288 with 1 Axes>"
      ]
     },
     "metadata": {
      "needs_background": "light"
     },
     "output_type": "display_data"
    }
   ],
   "source": [
    "plt.scatter(range(5, 15), fit_dev)\n",
    "plt.title(\"probability distance against number of trotter data points (N_min = 15)\")\n",
    "plt.xlabel(\"trotter data points\")\n",
    "plt.ylabel(\"prob L1 dist\")"
   ]
  },
  {
   "cell_type": "code",
   "execution_count": 105,
   "id": "10ffaa23-e49a-477b-83a6-43ea9e02cecc",
   "metadata": {},
   "outputs": [
    {
     "name": "stdout",
     "output_type": "stream",
     "text": [
      "0\n",
      "1\n",
      "2\n",
      "3\n",
      "4\n",
      "5\n",
      "6\n",
      "7\n",
      "8\n",
      "9\n"
     ]
    }
   ],
   "source": [
    "N_min = 10\n",
    "N_max = 25\n",
    "T = np.pi / 2\n",
    "initial_state = qt.tensor(qt.basis(2, 1), qt.basis(2, 1), qt.basis(2, 0))\n",
    "ideal_prob_list = ideal_prob_dist(initial_state, T)\n",
    "\n",
    "fit_dev = []\n",
    "for dpts in range(10):\n",
    "    print(dpts)\n",
    "    N_max_temp = N_min + 5 + dpts\n",
    "    trot_meas_nums_temp = trot_prob_dist_NN(initial_state, T, N_min, N_max_temp, total_shots = 8192) \n",
    "    fitted_temp = fit_meas_lists(trot_meas_nums_temp, np.arange(N_min, N_max_temp))\n",
    "    extrapolated_prob = [fitted_temp[ii] / np.sum(fitted_temp) for ii in range(len(fitted_temp))]\n",
    "    fit_dev.append(prob_norm(ideal_prob_list, extrapolated_prob))"
   ]
  },
  {
   "cell_type": "code",
   "execution_count": 106,
   "id": "d255e451-db93-4829-9517-84faae92cb19",
   "metadata": {},
   "outputs": [
    {
     "data": {
      "text/plain": [
       "Text(0, 0.5, 'prob L1 dist')"
      ]
     },
     "execution_count": 106,
     "metadata": {},
     "output_type": "execute_result"
    },
    {
     "data": {
      "image/png": "[encoded data removed]",
      "text/plain": [
       "<Figure size 432x288 with 1 Axes>"
      ]
     },
     "metadata": {
      "needs_background": "light"
     },
     "output_type": "display_data"
    }
   ],
   "source": [
    "plt.scatter(range(5, 15), fit_dev)\n",
    "plt.title(\"probability distance against number of trotter data points (N_min = 10)\")\n",
    "plt.xlabel(\"trotter data points\")\n",
    "plt.ylabel(\"prob L1 dist\")"
   ]
  },
  {
   "cell_type": "code",
   "execution_count": 109,
   "id": "2b94523c-ccbd-48ad-a629-b431d8ec174d",
   "metadata": {},
   "outputs": [
    {
     "name": "stdout",
     "output_type": "stream",
     "text": [
      "0\n",
      "1\n",
      "2\n",
      "3\n",
      "4\n",
      "5\n",
      "6\n",
      "7\n",
      "8\n",
      "9\n",
      "10\n",
      "11\n",
      "12\n",
      "13\n",
      "14\n"
     ]
    }
   ],
   "source": [
    "N_min = 10\n",
    "N_max = 30\n",
    "T = np.pi / 2\n",
    "initial_state = qt.tensor(qt.basis(2, 1), qt.basis(2, 1), qt.basis(2, 0))\n",
    "ideal_prob_list = ideal_prob_dist(initial_state, T)\n",
    "\n",
    "fit_dev = []\n",
    "for dpts in range(15):\n",
    "    print(dpts)\n",
    "    N_max_temp = N_min + 5 + dpts\n",
    "    trot_meas_nums_temp = trot_prob_dist_NN(initial_state, T, N_min, N_max_temp, total_shots = 8192) \n",
    "    fitted_temp = fit_meas_lists(trot_meas_nums_temp, np.arange(N_min, N_max_temp))\n",
    "    extrapolated_prob = [fitted_temp[ii] / np.sum(fitted_temp) for ii in range(len(fitted_temp))]\n",
    "    fit_dev.append(prob_norm(ideal_prob_list, extrapolated_prob))"
   ]
  },
  {
   "cell_type": "code",
   "execution_count": 110,
   "id": "9e0fe27b-82ef-42ca-b530-9873ffb2ab16",
   "metadata": {},
   "outputs": [
    {
     "data": {
      "text/plain": [
       "Text(0, 0.5, 'prob L1 dist')"
      ]
     },
     "execution_count": 110,
     "metadata": {},
     "output_type": "execute_result"
    },
    {
     "data": {
      "image/png": "[encoded data removed]",
      "text/plain": [
       "<Figure size 432x288 with 1 Axes>"
      ]
     },
     "metadata": {
      "needs_background": "light"
     },
     "output_type": "display_data"
    }
   ],
   "source": [
    "plt.scatter(range(5, 20), fit_dev)\n",
    "plt.title(\"probability distance against number of trotter data points (N_min = 10)\")\n",
    "plt.xlabel(\"trotter data points\")\n",
    "plt.ylabel(\"prob L1 dist\")"
   ]
  },
  {
   "cell_type": "markdown",
   "id": "0792e35e-959c-4e30-a49e-9ef5ce2e0e48",
   "metadata": {},
   "source": [
    "Exponential fitting code taken from\n",
    "https://swharden.com/blog/2020-09-24-python-exponential-fit/"
   ]
  }
 ],
 "metadata": {
  "kernelspec": {
   "display_name": "Python 3 (ipykernel)",
   "language": "python",
   "name": "python3"
  },
  "language_info": {
   "codemirror_mode": {
    "name": "ipython",
    "version": 3
   },
   "file_extension": ".py",
   "mimetype": "text/x-python",
   "name": "python",
   "nbconvert_exporter": "python",
   "pygments_lexer": "ipython3",
   "version": "3.9.5"
  }
 },
 "nbformat": 4,
 "nbformat_minor": 5
}
