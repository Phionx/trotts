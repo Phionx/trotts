{
 "cells": [
  {
   "cell_type": "code",
   "execution_count": 1,
   "id": "35a40841-3015-424f-ac64-61a0ccce2b97",
   "metadata": {},
   "outputs": [],
   "source": [
    "%load_ext autoreload\n",
    "%autoreload 2"
   ]
  },
  {
   "cell_type": "code",
   "execution_count": 2,
   "id": "a8479f2f-5f04-4515-b388-f37f3cc448af",
   "metadata": {},
   "outputs": [],
   "source": [
    "from trott import *\n",
    "import numpy as np\n",
    "import itertools"
   ]
  },
  {
   "cell_type": "markdown",
   "id": "457baf11-05c1-4ddb-a27e-bca31ddace44",
   "metadata": {},
   "source": [
    "# Load Results and Run Analysis"
   ]
  },
  {
   "cell_type": "code",
   "execution_count": 3,
   "id": "50d5fbb7-c286-4ae9-b9ad-f80971bd52fb",
   "metadata": {},
   "outputs": [],
   "source": [
    "results = np.load('data/3cnot_noiseless_sim_results_20220414__191350.npy',allow_pickle=True, ).item()"
   ]
  },
  {
   "cell_type": "code",
   "execution_count": 4,
   "id": "93df8948-16a6-4251-a9b6-2bcbaccf31c0",
   "metadata": {},
   "outputs": [],
   "source": [
    "res_analysis = run_analysis(results, unitary_folding=False) "
   ]
  },
  {
   "cell_type": "markdown",
   "id": "7e9be63e-443e-404d-a5cb-19be887ccabd",
   "metadata": {},
   "source": [
    "# Original Data Map"
   ]
  },
  {
   "cell_type": "code",
   "execution_count": 9,
   "id": "01ebe866-cd25-4a63-a25f-0f8369855e09",
   "metadata": {},
   "outputs": [
    {
     "data": {
      "text/plain": [
       "{'0x3': 0.0116424560546875,\n",
       " '0x6': 0.9849700927734375,\n",
       " '0x5': 0.003387451171875}"
      ]
     },
     "execution_count": 9,
     "metadata": {},
     "output_type": "execute_result"
    }
   ],
   "source": [
    "test_og = res_analysis[\"data\"][14][\"data_map\"][\"ZZZ\"]\n",
    "norm = np.sum(list(test_og.values()))\n",
    "test_og = {key:val/norm for key, val in test_og.items()}\n",
    "test_og"
   ]
  },
  {
   "cell_type": "code",
   "execution_count": 10,
   "id": "4cef770c-4f5a-493a-8264-2f35ccb62cde",
   "metadata": {},
   "outputs": [],
   "source": [
    "example_parity_results = res_analysis[\"data\"][14][\"parity\"]\n",
    "# example_parity_results"
   ]
  },
  {
   "cell_type": "code",
   "execution_count": 16,
   "id": "740d0188-7a67-4e4b-8c99-6e12ba142380",
   "metadata": {},
   "outputs": [
    {
     "data": {
      "text/plain": [
       "{'111': -0.00012503729926213736,\n",
       " '011': 0.011234283447265597,\n",
       " '101': 0.003344641791449693,\n",
       " '001': -8.180406358507253e-05,\n",
       " '110': 0.98534181382921,\n",
       " '010': 0.00015470716688370523,\n",
       " '100': 5.2134195963532415e-05,\n",
       " '000': 7.926093207463736e-05}"
      ]
     },
     "execution_count": 16,
     "metadata": {},
     "output_type": "execute_result"
    }
   ],
   "source": [
    "results = parity2prob(example_parity_results, return_probs=True)\n",
    "results[\"ZZZ\"]"
   ]
  },
  {
   "cell_type": "code",
   "execution_count": 17,
   "id": "0b45d3c8-11d7-42f8-8caf-33b7e997ac94",
   "metadata": {},
   "outputs": [
    {
     "data": {
      "text/plain": [
       "{'011': 11, '101': 3, '110': 985, '010': 0, '100': 0, '000': 0}"
      ]
     },
     "execution_count": 17,
     "metadata": {},
     "output_type": "execute_result"
    }
   ],
   "source": [
    "results = parity2prob(example_parity_results, return_probs=False)\n",
    "results[\"ZZZ\"]"
   ]
  },
  {
   "cell_type": "markdown",
   "id": "a2faedb6-77cd-47b0-a31d-ddca7e1fa8d8",
   "metadata": {},
   "source": [
    "# Run Tomography"
   ]
  },
  {
   "cell_type": "code",
   "execution_count": 21,
   "id": "6051f45e-4e1a-4c5f-999e-ddcc97bd578d",
   "metadata": {},
   "outputs": [],
   "source": [
    "from tomography import CustomTomographyFitter"
   ]
  },
  {
   "cell_type": "code",
   "execution_count": 22,
   "id": "207abf5c-21d7-404e-91d7-444e09dbf9df",
   "metadata": {},
   "outputs": [],
   "source": [
    "ct_data = res_analysis[\"data\"][14][\"data_map\"]"
   ]
  },
  {
   "cell_type": "code",
   "execution_count": 23,
   "id": "8cc56a0b-f3ad-4763-83bc-206e1b532e52",
   "metadata": {},
   "outputs": [],
   "source": [
    "ctf = CustomTomographyFitter(ct_data)"
   ]
  },
  {
   "cell_type": "code",
   "execution_count": 24,
   "id": "8453945f-2b4a-4614-9fcc-101fa572eec5",
   "metadata": {},
   "outputs": [],
   "source": [
    "data, basis_matrix, weights = ctf._fitter_data(standard_weights=True, beta=0.5)"
   ]
  },
  {
   "cell_type": "code",
   "execution_count": null,
   "id": "9e323869-2a60-4362-8825-6651257a3632",
   "metadata": {},
   "outputs": [],
   "source": []
  }
 ],
 "metadata": {
  "kernelspec": {
   "display_name": "Python 3 (ipykernel)",
   "language": "python",
   "name": "python3"
  },
  "language_info": {
   "codemirror_mode": {
    "name": "ipython",
    "version": 3
   },
   "file_extension": ".py",
   "mimetype": "text/x-python",
   "name": "python",
   "nbconvert_exporter": "python",
   "pygments_lexer": "ipython3",
   "version": "3.9.5"
  }
 },
 "nbformat": 4,
 "nbformat_minor": 5
}
