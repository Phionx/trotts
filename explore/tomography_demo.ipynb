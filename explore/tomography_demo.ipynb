{
 "cells": [
  {
   "cell_type": "markdown",
   "id": "12600d33",
   "metadata": {},
   "source": [
    "# Tomography Fitter"
   ]
  },
  {
   "cell_type": "code",
   "execution_count": 2,
   "id": "35a40841-3015-424f-ac64-61a0ccce2b97",
   "metadata": {},
   "outputs": [],
   "source": [
    "%load_ext autoreload\n",
    "%autoreload 2"
   ]
  },
  {
   "cell_type": "code",
   "execution_count": 3,
   "id": "a8479f2f-5f04-4515-b388-f37f3cc448af",
   "metadata": {},
   "outputs": [],
   "source": [
    "from trott import *\n",
    "import numpy as np\n",
    "import itertools"
   ]
  },
  {
   "cell_type": "markdown",
   "id": "457baf11-05c1-4ddb-a27e-bca31ddace44",
   "metadata": {},
   "source": [
    "## Prepare Circuits"
   ]
  },
  {
   "cell_type": "code",
   "execution_count": 7,
   "id": "50d5fbb7-c286-4ae9-b9ad-f80971bd52fb",
   "metadata": {},
   "outputs": [],
   "source": [
    "trott_gate = gen_3cnot_trott_gate() # using the basic trott method (this can be changed)x\n",
    "trott_steps_range = np.arange(4,25,1)\n",
    "qcs = gen_st_qcs_range(trott_gate, trott_steps_range)\n",
    "# qcs[10][-2].draw() # e.g. 10 trott steps, example tomo circuit"
   ]
  },
  {
   "cell_type": "markdown",
   "id": "6248ed24",
   "metadata": {},
   "source": [
    "## Prepare Backend"
   ]
  },
  {
   "cell_type": "code",
   "execution_count": 8,
   "id": "11c1b5cc",
   "metadata": {},
   "outputs": [],
   "source": [
    "# load IBMQ Account data\n",
    "# IBMQ.save_account(TOKEN)  # replace TOKEN with your API token string (https://quantum-computing.ibm.com/lab/docs/iql/manage/account/ibmq)\n",
    "provider = IBMQ.load_account()"
   ]
  },
  {
   "cell_type": "code",
   "execution_count": 9,
   "id": "cb6e69cf",
   "metadata": {},
   "outputs": [],
   "source": [
    "# Get backend for experiment\n",
    "provider = IBMQ.get_provider(hub='ibm-q-community', group='ibmquantumawards', project='open-science-22')\n",
    "jakarta = provider.get_backend('ibmq_jakarta')\n",
    "# properties = jakarta.properties()\n",
    "\n",
    "# Simulated backend based on ibmq_jakarta's device noise profile\n",
    "sim_noisy_jakarta = QasmSimulator.from_backend(provider.get_backend('ibmq_jakarta'))\n",
    "\n",
    "# Noiseless simulated backend\n",
    "sim = QasmSimulator()"
   ]
  },
  {
   "cell_type": "markdown",
   "id": "19e0a9cb",
   "metadata": {},
   "source": [
    "## Capture Data"
   ]
  },
  {
   "cell_type": "code",
   "execution_count": 10,
   "id": "2c80e994",
   "metadata": {},
   "outputs": [
    {
     "name": "stderr",
     "output_type": "stream",
     "text": [
      "\r",
      "  0%|                                                                        | 0/21 [00:00<?, ?it/s]"
     ]
    },
    {
     "name": "stdout",
     "output_type": "stream",
     "text": [
      "====================\n",
      "Running with trott_steps = 4\n",
      "Job ID f71f1759-be60-4596-9e0d-ebcecc07a7c6\n",
      "Job ID 8ce10f63-4361-4178-9a8c-7a77a62be14c\n",
      "Job ID 0f6ef5b4-ecda-4392-8362-d1a3a93f19ea\n",
      "Job ID 1aab8cd1-1885-4d96-a407-a8cb136b5860\n",
      "Job ID 0ec7929a-4bd3-44ee-9261-12aec64e07d0\n",
      "Job ID cbad5e2b-3815-45ef-8f6c-d2e4a455c291\n",
      "Job ID 6620101a-b240-4bf6-9577-4fe01c3ca902\n",
      "Job ID b4e35756-99ae-4acf-9f74-118365daaa8b\n",
      "Job Status: job has successfully run\n",
      "Job Status: job has successfully run\n",
      "Job Status: job has successfully run\n",
      "Job Status: job has successfully run\n",
      "Job Status: job has successfully run\n",
      "Job Status: job has successfully run\n",
      "Job Status: job has successfully run\n",
      "Job Status: job is actively running"
     ]
    },
    {
     "name": "stderr",
     "output_type": "stream",
     "text": [
      "\r",
      "  5%|███                                                             | 1/21 [00:14<04:48, 14.44s/it]"
     ]
    },
    {
     "name": "stdout",
     "output_type": "stream",
     "text": [
      "Job Status: job has successfully run\n",
      "====================\n",
      "Running with trott_steps = 5\n",
      "Job ID 9778206e-03d5-4474-b72a-911178ac6fef\n",
      "Job ID 9b852bf1-7b1a-40da-91fc-a62e9df7ad4b\n",
      "Job ID 126b39fe-62c0-4e0e-ae44-7e94b9092f35\n",
      "Job ID 3e14c2c4-b2a0-4834-b97b-08cd73eca849\n",
      "Job ID 20b26e23-5e29-4116-82ec-cf80513c74fd\n",
      "Job ID 2f54388e-2fdf-4dd6-956c-0d14878deb88\n",
      "Job ID 78cfa781-2dea-4552-b9ab-c5fe8a8947a2\n",
      "Job ID 98f8ecea-e355-44a6-8ab1-ec5b0d0b3a14\n",
      "Job Status: job has successfully run\n",
      "Job Status: job has successfully run\n",
      "Job Status: job has successfully run\n",
      "Job Status: job has successfully run\n",
      "Job Status: job has successfully run\n",
      "Job Status: job has successfully run\n",
      "Job Status: job has successfully run\n",
      "Job Status: job is actively running"
     ]
    },
    {
     "name": "stderr",
     "output_type": "stream",
     "text": [
      "\r",
      " 10%|██████                                                          | 2/21 [00:30<04:52, 15.37s/it]"
     ]
    },
    {
     "name": "stdout",
     "output_type": "stream",
     "text": [
      "Job Status: job has successfully run\n",
      "====================\n",
      "Running with trott_steps = 6\n",
      "Job ID d724d526-97e5-4fa1-8660-2a9b008a7545\n",
      "Job ID 4de1edaa-87a9-4fa6-b1f1-2b3fa257bdec\n",
      "Job ID 4c3e2053-d98f-4740-9710-53c8edaa86e0\n",
      "Job ID 4af9618d-fa98-4207-8710-f2e888bfba26\n",
      "Job ID ba15ee29-2dde-48a2-b411-9fb86aade553\n",
      "Job ID 74c64e04-7d50-4335-a669-9b35d6981cce\n",
      "Job ID 483a79c9-35cc-416f-b6de-4357291a315c\n",
      "Job ID 89e7b489-8e19-41bf-9b68-6dcf0db64d29\n",
      "Job Status: job has successfully run\n",
      "Job Status: job has successfully run\n",
      "Job Status: job has successfully run\n",
      "Job Status: job has successfully run\n",
      "Job Status: job has successfully run\n",
      "Job Status: job has successfully run\n",
      "Job Status: job has successfully run\n",
      "Job Status: job is actively running"
     ]
    },
    {
     "name": "stderr",
     "output_type": "stream",
     "text": [
      "\r",
      " 14%|█████████▏                                                      | 3/21 [00:48<04:56, 16.46s/it]"
     ]
    },
    {
     "name": "stdout",
     "output_type": "stream",
     "text": [
      "Job Status: job has successfully run\n",
      "====================\n",
      "Running with trott_steps = 7\n",
      "Job ID a4a17fe7-c65d-4af5-9258-9f3e787a1b25\n",
      "Job ID dca46d01-6eae-4fdc-b0fb-03d4e059f924\n",
      "Job ID aaa86b7e-7afc-49e2-9d08-e9f5e1b79213\n",
      "Job ID d2cf67d3-7974-4e1f-9c0a-c359f67ef638\n",
      "Job ID fb73a051-fa83-41fb-8598-339b11d2e968\n",
      "Job ID 1c425d4f-bb94-49d5-abec-4a64224a748c\n",
      "Job ID 4d58c39e-0f69-4727-843a-4acf51ec036d\n"
     ]
    },
    {
     "name": "stderr",
     "output_type": "stream",
     "text": [
      "\r",
      " 19%|████████████▏                                                   | 4/21 [01:02<04:26, 15.70s/it]"
     ]
    },
    {
     "name": "stdout",
     "output_type": "stream",
     "text": [
      "Job ID 94233467-09c9-4cf2-8bf1-3da41759587f\n",
      "Job Status: job has successfully run\n",
      "Job Status: job has successfully run\n",
      "Job Status: job has successfully run\n",
      "Job Status: job has successfully run\n",
      "Job Status: job has successfully run\n",
      "Job Status: job has successfully run\n",
      "Job Status: job has successfully run\n",
      "Job Status: job has successfully run\n",
      "====================\n",
      "Running with trott_steps = 8\n",
      "Job ID d4886f39-12f7-47af-ac33-8a6c7198a321\n",
      "Job ID 221e340d-601e-4130-bd7c-22ff07f43e1a\n",
      "Job ID c2985a13-09c7-4ca9-90f1-70aa6e0e8db1\n",
      "Job ID a74d8c9b-3a42-43ee-8ec7-a1af81754213\n",
      "Job ID 63d5d57e-18bf-4628-a217-263d04bce27a\n",
      "Job ID 9726eef1-caa8-4969-8486-7cc6f9d7cc63\n",
      "Job ID bc8c5460-7a70-407e-9587-6e30b5255233\n",
      "Job ID ec19a0c2-c95d-4467-99ad-e36be06cba55\n",
      "Job Status: job has successfully run\n",
      "Job Status: job has successfully run\n",
      "Job Status: job has successfully run\n",
      "Job Status: job has successfully run\n",
      "Job Status: job has successfully run\n",
      "Job Status: job has successfully run\n",
      "Job Status: job has successfully run\n",
      "Job Status: job is actively running"
     ]
    },
    {
     "name": "stderr",
     "output_type": "stream",
     "text": [
      "\r",
      " 24%|███████████████▏                                                | 5/21 [01:24<04:43, 17.71s/it]"
     ]
    },
    {
     "name": "stdout",
     "output_type": "stream",
     "text": [
      "Job Status: job has successfully run\n",
      "====================\n",
      "Running with trott_steps = 9\n",
      "Job ID 7eea0d98-a8d1-4fdf-8672-2a5656f9a6e8\n",
      "Job ID 25546b87-81d4-4ff3-97f2-241c88b4a977\n",
      "Job ID fb5ca996-cc16-4df6-bbc3-8141c98b6c1e\n",
      "Job ID ecded10e-a46a-4ac0-b772-9ea9220e34bf\n",
      "Job ID 5a5e36b0-e7a7-4f2f-bb68-44ed42683a16\n",
      "Job ID a906e6a5-7b1a-44a4-b265-130506f34bbd\n",
      "Job ID cdbd4bac-cc1f-45aa-8ed3-34a0bdf4379c\n",
      "Job ID 2716ddec-eba7-4303-a5a2-a521c05b85e3\n",
      "Job Status: job has successfully run\n",
      "Job Status: job has successfully run\n",
      "Job Status: job has successfully run\n",
      "Job Status: job has successfully run\n",
      "Job Status: job has successfully run\n",
      "Job Status: job has successfully run\n",
      "Job Status: job has successfully run\n",
      "Job Status: job is actively running"
     ]
    },
    {
     "name": "stderr",
     "output_type": "stream",
     "text": [
      "\r",
      " 29%|██████████████████▎                                             | 6/21 [01:47<04:53, 19.57s/it]"
     ]
    },
    {
     "name": "stdout",
     "output_type": "stream",
     "text": [
      "Job Status: job has successfully run\n",
      "====================\n",
      "Running with trott_steps = 10\n",
      "Job ID df29416d-58fb-41cf-886e-eb801c92d6dd\n",
      "Job ID 51c9bc93-74a5-4483-86b1-9e5ffcc64706\n",
      "Job ID 69a31e94-a909-48fd-b40f-bebd0970dc77\n",
      "Job ID 804f1c02-ea18-434a-a582-74b6e027e380\n",
      "Job ID f762b922-a98e-4f88-ba94-49a045058571\n",
      "Job ID 82333c4c-2ecc-42dd-afa3-9b4a8bf4f9e9\n",
      "Job ID 633f0d6d-27e6-40a7-a769-194ea5fc1496\n",
      "Job ID 245a2b72-eba8-46db-98ec-ee88fb1c2c41\n",
      "Job Status: job has successfully run\n",
      "Job Status: job has successfully run\n",
      "Job Status: job has successfully run\n",
      "Job Status: job has successfully run\n",
      "Job Status: job has successfully run\n",
      "Job Status: job has successfully run\n",
      "Job Status: job has successfully run\n",
      "Job Status: job is actively running"
     ]
    },
    {
     "name": "stderr",
     "output_type": "stream",
     "text": [
      "\r",
      " 33%|█████████████████████▎                                          | 7/21 [02:11<04:57, 21.24s/it]"
     ]
    },
    {
     "name": "stdout",
     "output_type": "stream",
     "text": [
      "Job Status: job has successfully run\n",
      "====================\n",
      "Running with trott_steps = 11\n",
      "Job ID 31f5d97e-6956-418e-8560-b94833f4f205\n",
      "Job ID 852ff1fa-2da5-41eb-85f5-1b8c6216054a\n",
      "Job ID 79690ded-dedc-47e0-9876-9a1d0cca66c6\n",
      "Job ID ed762905-2648-4baf-b47a-e8d48c60a518\n",
      "Job ID 2a2c073e-f32d-432f-928e-5aa2c2fa2e44\n",
      "Job ID 204b33b8-6eac-4ed4-adeb-e87763374c35\n",
      "Job ID f604c8e3-10fe-478b-8cb5-df7730892343\n",
      "Job ID f9f63f6d-af4c-4101-b2a8-85a2f79b01bd\n",
      "Job Status: job has successfully run\n",
      "Job Status: job has successfully run\n",
      "Job Status: job has successfully run\n",
      "Job Status: job has successfully run\n",
      "Job Status: job has successfully run\n",
      "Job Status: job has successfully run\n",
      "Job Status: job has successfully run\n",
      "Job Status: job is actively running"
     ]
    },
    {
     "name": "stderr",
     "output_type": "stream",
     "text": [
      "\r",
      " 38%|████████████████████████▍                                       | 8/21 [02:38<04:58, 22.99s/it]"
     ]
    },
    {
     "name": "stdout",
     "output_type": "stream",
     "text": [
      "Job Status: job has successfully run\n",
      "====================\n",
      "Running with trott_steps = 12\n",
      "Job ID 3b1ece91-139c-468b-a69b-d5f5d4d0751c\n",
      "Job ID 321415c4-69c0-4d95-adc8-5ef9268503f9\n",
      "Job ID afcd9448-bc2a-4701-8d8f-5c3eb39f9e9d\n",
      "Job ID af1315d9-db47-4e34-a59d-13c8bc88b93d\n",
      "Job ID d6d7c490-9617-40a4-b42b-c941b14051d4\n",
      "Job ID ea924d6d-6aee-4fea-b49a-4ae49a6a194a\n",
      "Job ID 54569d90-c48b-446e-aa28-f2268cfa664a\n",
      "Job ID e53a9e93-9e38-414d-b933-ab2972c4dc7b\n",
      "Job Status: job has successfully run\n",
      "Job Status: job has successfully run\n",
      "Job Status: job has successfully run\n",
      "Job Status: job has successfully run\n",
      "Job Status: job has successfully run\n",
      "Job Status: job has successfully run\n",
      "Job Status: job has successfully run\n",
      "Job Status: job is actively running"
     ]
    },
    {
     "name": "stderr",
     "output_type": "stream",
     "text": [
      "\r",
      " 43%|███████████████████████████▍                                    | 9/21 [03:06<04:55, 24.60s/it]"
     ]
    },
    {
     "name": "stdout",
     "output_type": "stream",
     "text": [
      "Job Status: job has successfully run\n",
      "====================\n",
      "Running with trott_steps = 13\n",
      "Job ID 6bbadc20-90a1-4e20-b284-08fa6269d865\n",
      "Job ID 23f9862d-7337-4563-928a-5f4a71c27d18\n",
      "Job ID 17d4242a-f5fb-4c3a-a9de-82dc487add7a\n",
      "Job ID ae6f16d3-b366-49ed-ac01-37143e8747cb\n",
      "Job ID bb90c411-078f-4948-8f07-48261d87fc90\n",
      "Job ID 72ebf570-da74-4f29-b2a1-8f8ebe3fe7e2\n",
      "Job ID 798675cf-3ee9-481c-ab79-c71a64ed96e6\n",
      "Job ID d6e91405-704f-4e1a-a99a-7cf62f4599ae\n",
      "Job Status: job has successfully run\n",
      "Job Status: job has successfully run\n",
      "Job Status: job has successfully run\n",
      "Job Status: job has successfully run\n",
      "Job Status: job has successfully run\n",
      "Job Status: job has successfully run\n",
      "Job Status: job has successfully run\n",
      "Job Status: job is actively running"
     ]
    },
    {
     "name": "stderr",
     "output_type": "stream",
     "text": [
      "\r",
      " 48%|██████████████████████████████                                 | 10/21 [03:36<04:49, 26.29s/it]"
     ]
    },
    {
     "name": "stdout",
     "output_type": "stream",
     "text": [
      "Job Status: job has successfully run\n",
      "====================\n",
      "Running with trott_steps = 14\n",
      "Job ID 3838bc9d-195e-4c39-9360-c2489af381c1\n",
      "Job ID 92a7e141-0731-4e62-b2a3-d8bd9ce0478d\n",
      "Job ID bc4efc1f-b680-483f-89af-840e5ac85502\n",
      "Job ID 513be60d-9042-498a-84ba-fb440f58cf92\n",
      "Job ID 600eca1b-b079-4aa1-a07e-3f0004b29eba\n",
      "Job ID 14f9e083-074e-43c5-be2f-977d24b23e81\n",
      "Job ID 7ffe7868-3d65-4fa4-a49f-517b1a0d4642\n",
      "Job ID 9bde8b40-39e2-4111-b03c-2c776623bbad\n",
      "Job Status: job has successfully run\n",
      "Job Status: job has successfully run\n",
      "Job Status: job has successfully run\n",
      "Job Status: job has successfully run\n",
      "Job Status: job has successfully run\n",
      "Job Status: job has successfully run\n",
      "Job Status: job has successfully run\n",
      "Job Status: job is actively running"
     ]
    },
    {
     "name": "stderr",
     "output_type": "stream",
     "text": [
      "\r",
      " 52%|█████████████████████████████████                              | 11/21 [04:08<04:39, 27.97s/it]"
     ]
    },
    {
     "name": "stdout",
     "output_type": "stream",
     "text": [
      "Job Status: job has successfully run\n",
      "====================\n",
      "Running with trott_steps = 15\n",
      "Job ID aaf8500b-6f71-4ac1-b866-b4341e60bcfe\n",
      "Job ID e7741743-7415-4def-ac05-4a0334f6fa2a\n",
      "Job ID 6257998b-2d24-4091-bba8-f5ba64b73e25\n",
      "Job ID 62684e08-00ec-4fb9-8a54-3522a91a0657\n",
      "Job ID 3f112cf1-af24-471d-946c-f0b409da1c01\n",
      "Job ID b381495c-9bb1-4827-886a-72d5cd085282\n",
      "Job ID ffd8f730-6ca4-41e3-ab1c-7b2af574bbd5\n",
      "Job ID 3da9a081-3d66-46f4-9374-249223217c2c\n",
      "Job Status: job has successfully run\n",
      "Job Status: job has successfully run\n",
      "Job Status: job has successfully run\n",
      "Job Status: job has successfully run\n",
      "Job Status: job has successfully run\n",
      "Job Status: job has successfully run\n",
      "Job Status: job has successfully run\n",
      "Job Status: job is actively running"
     ]
    },
    {
     "name": "stderr",
     "output_type": "stream",
     "text": [
      "\r",
      " 57%|████████████████████████████████████                           | 12/21 [04:42<04:26, 29.65s/it]"
     ]
    },
    {
     "name": "stdout",
     "output_type": "stream",
     "text": [
      "Job Status: job has successfully run\n",
      "====================\n",
      "Running with trott_steps = 16\n",
      "Job ID 1352b77b-9139-4649-ab82-94ad63bcdc5e\n",
      "Job ID 70c474cc-7f2b-4712-a876-765282f6d0f0\n",
      "Job ID e8713ce0-0e6d-4538-882a-19703ea2ee28\n",
      "Job ID ad91a3a8-2376-46f2-bbb9-9476a897dba8\n",
      "Job ID 9a325f23-8c90-4a0b-b880-2f33863b3740\n",
      "Job ID 54093494-4045-4a18-a07c-e8d2e21cba61\n",
      "Job ID 714b5ff5-b95b-470b-858f-1132220aa1b3\n",
      "Job ID a6907ce6-0c3d-4de7-abd9-0009daed7cd0\n",
      "Job Status: job has successfully run\n",
      "Job Status: job has successfully run\n",
      "Job Status: job has successfully run\n",
      "Job Status: job has successfully run\n",
      "Job Status: job has successfully run\n",
      "Job Status: job has successfully run\n",
      "Job Status: job has successfully run\n",
      "Job Status: job is actively running"
     ]
    },
    {
     "name": "stderr",
     "output_type": "stream",
     "text": [
      "\r",
      " 62%|███████████████████████████████████████                        | 13/21 [05:17<04:11, 31.42s/it]"
     ]
    },
    {
     "name": "stdout",
     "output_type": "stream",
     "text": [
      "Job Status: job has successfully run\n",
      "====================\n",
      "Running with trott_steps = 17\n",
      "Job ID 36e3d178-a431-4539-86e9-66e26b68a8d3\n",
      "Job ID ddc53165-a07b-423a-ac24-d58485c1b27c\n",
      "Job ID d00848d0-238a-4e3c-a45e-b856c41f0a98\n",
      "Job ID a682d96a-f3c2-4ff1-b178-c47f5fedb9cd\n",
      "Job ID c7d833d3-bb9c-412d-b707-befd5b893686\n",
      "Job ID 83bd4fbb-4354-404c-ae97-eb2e1de60072\n",
      "Job ID 9a12804c-a152-4146-94e5-41233f675f2f\n",
      "Job ID 1fac611d-76f2-49db-9f5b-37ed4288bcc0\n",
      "Job Status: job has successfully run\n",
      "Job Status: job has successfully run\n",
      "Job Status: job has successfully run\n",
      "Job Status: job has successfully run\n",
      "Job Status: job has successfully run\n",
      "Job Status: job has successfully run\n",
      "Job Status: job has successfully run\n",
      "Job Status: job is actively running"
     ]
    },
    {
     "name": "stderr",
     "output_type": "stream",
     "text": [
      "\r",
      " 67%|██████████████████████████████████████████                     | 14/21 [05:55<03:52, 33.22s/it]"
     ]
    },
    {
     "name": "stdout",
     "output_type": "stream",
     "text": [
      "Job Status: job has successfully run\n",
      "====================\n",
      "Running with trott_steps = 18\n",
      "Job ID 258b23d4-c19b-47ee-bd59-8bd1edbc1f3d\n",
      "Job ID 091c7911-d80f-4e23-b0a8-4d9376094aa3\n",
      "Job ID 5f1efca1-1139-4b5b-91e7-3ee4dde21cb2\n",
      "Job ID 82edbb06-920a-4abf-b9b3-5845e0abb419\n",
      "Job ID af371da5-3612-4232-8920-ad1ed8a706d0\n",
      "Job ID 256f490d-b95c-47e4-bca0-adf344d5920e\n",
      "Job ID f2a9d204-780b-421d-a75a-95a8054abbe7\n",
      "Job ID 6c478a6d-53fe-47f6-aae4-17eba86935b4\n",
      "Job Status: job has successfully run\n",
      "Job Status: job has successfully run\n",
      "Job Status: job has successfully run\n",
      "Job Status: job has successfully run\n",
      "Job Status: job has successfully run\n",
      "Job Status: job has successfully run\n",
      "Job Status: job has successfully run\n",
      "Job Status: job is actively running"
     ]
    },
    {
     "name": "stderr",
     "output_type": "stream",
     "text": [
      "\r",
      " 71%|█████████████████████████████████████████████                  | 15/21 [06:34<03:30, 35.05s/it]"
     ]
    },
    {
     "name": "stdout",
     "output_type": "stream",
     "text": [
      "Job Status: job has successfully run\n",
      "====================\n",
      "Running with trott_steps = 19\n",
      "Job ID 3ca2a149-b780-43bb-ac73-636621482def\n",
      "Job ID e5f91d95-ce8b-4765-ba0b-ea396b0dfc3a\n",
      "Job ID f6419c23-3d45-49ac-958d-239e4600fd62\n",
      "Job ID c27cdb8f-61af-46e6-a1cd-a86711ca9dc0\n",
      "Job ID 897ea64b-8668-48c4-ad66-acdca42188ec\n",
      "Job ID c754a2bb-7449-4636-be01-8ae8d1ccde4a\n",
      "Job ID 95dc6b59-9775-492a-8dfc-13905ba81fd8\n",
      "Job ID 169c8bbc-e9ce-4632-a1cc-def960616b88\n",
      "Job Status: job has successfully run\n",
      "Job Status: job has successfully run\n",
      "Job Status: job has successfully run\n",
      "Job Status: job has successfully run\n",
      "Job Status: job has successfully run\n",
      "Job Status: job has successfully run\n",
      "Job Status: job has successfully run\n",
      "Job Status: job is actively running"
     ]
    },
    {
     "name": "stderr",
     "output_type": "stream",
     "text": [
      "\r",
      " 76%|████████████████████████████████████████████████               | 16/21 [07:15<03:04, 36.95s/it]"
     ]
    },
    {
     "name": "stdout",
     "output_type": "stream",
     "text": [
      "Job Status: job has successfully run\n",
      "====================\n",
      "Running with trott_steps = 20\n",
      "Job ID a692b38b-2beb-465c-8dcb-6b1a1b48814d\n",
      "Job ID c9ddd06f-c59f-4f48-b813-49959e2c8f4c\n",
      "Job ID 94a5bfe9-b426-43fd-ad33-efeb256034de\n",
      "Job ID fc4ee697-2d4a-4b3e-a5b2-e310a17ca787\n",
      "Job ID 956d7e02-6ac3-4217-93e1-3af8592cb9c5\n",
      "Job ID a50b090b-508b-4c74-a614-7690e76694e8\n",
      "Job ID 4ab9dd59-a33b-4c55-af85-af915e8dbbb5\n",
      "Job ID 786065b9-a57a-4477-986b-f1e986752f11\n",
      "Job Status: job has successfully run\n",
      "Job Status: job has successfully run\n",
      "Job Status: job has successfully run\n",
      "Job Status: job has successfully run\n",
      "Job Status: job has successfully run\n",
      "Job Status: job has successfully run\n",
      "Job Status: job has successfully run\n",
      "Job Status: job is actively running"
     ]
    },
    {
     "name": "stderr",
     "output_type": "stream",
     "text": [
      "\r",
      " 81%|███████████████████████████████████████████████████            | 17/21 [07:59<02:35, 38.89s/it]"
     ]
    },
    {
     "name": "stdout",
     "output_type": "stream",
     "text": [
      "Job Status: job has successfully run\n",
      "====================\n",
      "Running with trott_steps = 21\n",
      "Job ID b03bca58-0a7a-45d6-b7ae-39680a1407c4\n",
      "Job ID 44d9e999-04bf-4cfe-9c98-9d5ba52350ca\n",
      "Job ID f2505474-7221-4388-80f7-4f1bbfa9da97\n",
      "Job ID 066e0ada-aa65-4207-8147-39914873e916\n",
      "Job ID 73aa6411-9a13-477c-9a1e-b945b8689e67\n",
      "Job ID 19ebea69-4f6e-43e9-9d13-219fa5c28f55\n",
      "Job ID 6d7465bf-d77f-4f3d-ae4c-642b024518a4\n",
      "Job ID 77f3b286-da68-4e08-a462-cc4a11f7112f\n",
      "Job Status: job has successfully run\n",
      "Job Status: job has successfully run\n",
      "Job Status: job has successfully run\n",
      "Job Status: job has successfully run\n",
      "Job Status: job has successfully run\n",
      "Job Status: job has successfully run\n",
      "Job Status: job has successfully run\n",
      "Job Status: job is actively running"
     ]
    },
    {
     "name": "stderr",
     "output_type": "stream",
     "text": [
      "\r",
      " 86%|██████████████████████████████████████████████████████         | 18/21 [08:44<02:02, 40.95s/it]"
     ]
    },
    {
     "name": "stdout",
     "output_type": "stream",
     "text": [
      "Job Status: job has successfully run\n",
      "====================\n",
      "Running with trott_steps = 22\n",
      "Job ID 0bcffa7f-d1b9-4d64-80c3-83d1b5ae9559\n",
      "Job ID 0fe32e0f-3269-4ca6-956a-9b52fcc11d11\n",
      "Job ID e0d3d934-64b6-4a12-a506-0fbcaf936e1a\n",
      "Job ID eef281a0-a314-4e7f-b1ff-6b9edc0a9796\n",
      "Job ID 0ab742ba-29bf-47e0-b6f1-672625360ec7\n",
      "Job ID 540d1a02-cda0-4985-9374-68eabb542811\n",
      "Job ID 37bfaa4b-c56c-43c7-bb78-69cdaa012e7e\n",
      "Job ID 99eaff98-31b8-4b1b-b3d1-bd397eeb2838\n",
      "Job Status: job has successfully run\n",
      "Job Status: job has successfully run\n",
      "Job Status: job has successfully run\n",
      "Job Status: job has successfully run\n",
      "Job Status: job has successfully run\n",
      "Job Status: job has successfully run\n",
      "Job Status: job has successfully run\n",
      "Job Status: job has successfully run\n"
     ]
    },
    {
     "name": "stderr",
     "output_type": "stream",
     "text": [
      "\r",
      " 90%|█████████████████████████████████████████████████████████      | 19/21 [09:32<01:25, 42.92s/it]"
     ]
    },
    {
     "name": "stdout",
     "output_type": "stream",
     "text": [
      "====================\n",
      "Running with trott_steps = 23\n",
      "Job ID 8ffbd52b-6b6c-4c0f-aa35-c2d3b6c953ee\n",
      "Job ID 671b76f5-8585-4935-9a86-4c7d6ca0d2ee\n",
      "Job ID ef2bf14f-b741-4516-a245-e9d6072bdfda\n",
      "Job ID 0cc2f341-098e-4179-94d3-2540d8a394b7\n",
      "Job ID 42b59083-684d-4a33-a0d3-eaac1f2610df\n",
      "Job ID aebcdaae-5eea-44a2-a9d4-f523633a1cae\n",
      "Job ID 2e5a5e10-fa97-43cf-a900-259c7ada8af9\n",
      "Job ID f5de9040-1bc7-477d-84d8-79abce5f5614\n",
      "Job Status: job has successfully run\n",
      "Job Status: job has successfully run\n",
      "Job Status: job has successfully run\n",
      "Job Status: job has successfully run\n",
      "Job Status: job has successfully run\n",
      "Job Status: job has successfully run\n",
      "Job Status: job has successfully run\n",
      "Job Status: job has successfully run\n"
     ]
    },
    {
     "name": "stderr",
     "output_type": "stream",
     "text": [
      "\r",
      " 95%|████████████████████████████████████████████████████████████   | 20/21 [10:20<00:44, 44.59s/it]"
     ]
    },
    {
     "name": "stdout",
     "output_type": "stream",
     "text": [
      "====================\n",
      "Running with trott_steps = 24\n",
      "Job ID e14f9a8c-f6c7-4c7e-8c8a-5991613bbd8e\n",
      "Job ID 0b9f2099-bb2d-4a31-8361-4ba0f174d200\n",
      "Job ID ed360e55-c07e-4cee-906c-3702688db932\n",
      "Job ID aac67803-62e0-43c4-a19a-40fdbb2fc560\n",
      "Job ID 5db9a170-7cce-406b-aaff-f8c2081cfa5b\n",
      "Job ID 5da05f45-d4b3-44b8-a9d4-930121240f8b\n",
      "Job ID e01b645c-48a2-48f0-9cef-a3c76e7ad775\n",
      "Job ID fd4316af-4609-4bd6-bf1d-6f91277dbc20\n",
      "Job Status: job has successfully run\n",
      "Job Status: job has successfully run\n",
      "Job Status: job has successfully run\n",
      "Job Status: job has successfully run\n",
      "Job Status: job has successfully run\n",
      "Job Status: job has successfully run\n",
      "Job Status: job has successfully run\n",
      "Job Status: job has successfully run\n"
     ]
    },
    {
     "name": "stderr",
     "output_type": "stream",
     "text": [
      "100%|███████████████████████████████████████████████████████████████| 21/21 [11:11<00:00, 31.97s/it]\n"
     ]
    }
   ],
   "source": [
    "results = gen_results(qcs, backend=sim)"
   ]
  },
  {
   "cell_type": "code",
   "execution_count": 11,
   "id": "93df8948-16a6-4251-a9b6-2bcbaccf31c0",
   "metadata": {},
   "outputs": [],
   "source": [
    "res_analysis = run_analysis(results) "
   ]
  },
  {
   "cell_type": "markdown",
   "id": "7e9be63e-443e-404d-a5cb-19be887ccabd",
   "metadata": {},
   "source": [
    "## Original Data Map"
   ]
  },
  {
   "cell_type": "code",
   "execution_count": 12,
   "id": "01ebe866-cd25-4a63-a25f-0f8369855e09",
   "metadata": {},
   "outputs": [
    {
     "data": {
      "text/plain": [
       "{'0x3': 0.003326416015625,\n",
       " '0x5': 0.0008697509765625,\n",
       " '0x6': 0.9958038330078125}"
      ]
     },
     "execution_count": 12,
     "metadata": {},
     "output_type": "execute_result"
    }
   ],
   "source": [
    "test_og = res_analysis[\"data\"][19][\"data_map\"][\"ZZZ\"]\n",
    "norm = np.sum(list(test_og.values()))\n",
    "test_og = {key:val/norm for key, val in test_og.items()}\n",
    "test_og"
   ]
  },
  {
   "cell_type": "code",
   "execution_count": 13,
   "id": "4cef770c-4f5a-493a-8264-2f35ccb62cde",
   "metadata": {},
   "outputs": [],
   "source": [
    "example_parity_results = res_analysis[\"data\"][19][\"parity\"]\n",
    "prob_results = parity2prob(example_parity_results, return_probs=True)"
   ]
  },
  {
   "cell_type": "code",
   "execution_count": 18,
   "id": "ce3d804d-45e6-4f46-ae2e-79e928133aeb",
   "metadata": {},
   "outputs": [
    {
     "data": {
      "text/plain": [
       "{'0x7': 2.797444661456483e-05,\n",
       " '0x3': 0.0033137003580728797,\n",
       " '0x5': 0.0009214613172743302,\n",
       " '0x1': -4.238552517354943e-06,\n",
       " '0x6': 0.9957699245876735,\n",
       " '0x2': -3.8994683159709886e-05,\n",
       " '0x4': 1.52587890625e-05,\n",
       " '0x0': -5.08626302081483e-06}"
      ]
     },
     "execution_count": 18,
     "metadata": {},
     "output_type": "execute_result"
    }
   ],
   "source": [
    "prob_results[\"ZZZ\"]"
   ]
  },
  {
   "cell_type": "code",
   "execution_count": 16,
   "id": "8cc56a0b-f3ad-4763-83bc-206e1b532e52",
   "metadata": {
    "scrolled": true
   },
   "outputs": [
    {
     "data": {
      "text/plain": [
       "{'XXX': -0.000274658203125,\n",
       " 'XXI': -0.022745768229166685,\n",
       " 'XIX': 0.031575520833333315,\n",
       " 'IXX': -0.0018412272135416852,\n",
       " 'XII': -0.0018412272135416852,\n",
       " 'IXI': -4.069010416668517e-05,\n",
       " 'IIX': -0.0015801323784722654,\n",
       " 'XXY': 0.00238037109375,\n",
       " 'XIY': 0.11231486002604169,\n",
       " 'IXY': 0.00025431315104168517,\n",
       " 'IIY': -0.0013088650173611605,\n",
       " 'XXZ': 0.022247314453125,\n",
       " 'XIZ': -0.00014241536458331483,\n",
       " 'IXZ': -0.0015665690104166852,\n",
       " 'IIZ': -0.99346923828125,\n",
       " 'XYX': 0.002899169921875,\n",
       " 'XYI': -0.058034261067708315,\n",
       " 'IYX': 0.003021240234375,\n",
       " 'IYI': -0.002065022786458315,\n",
       " 'XYY': -0.0023193359375,\n",
       " 'IYY': -0.00372314453125,\n",
       " 'XYZ': 0.055328369140625,\n",
       " 'IYZ': 0.00286865234375,\n",
       " 'XZX': -0.025604248046875,\n",
       " 'XZI': 0.0018208821614583148,\n",
       " 'IZX': -0.00213623046875,\n",
       " 'IZI': -0.9981452094184027,\n",
       " 'XZY': -0.1114501953125,\n",
       " 'IZY': 0.0005391438802083148,\n",
       " 'XZZ': -0.002166748046875,\n",
       " 'IZZ': 0.9915771484375,\n",
       " 'YXX': 0.004669189453125,\n",
       " 'YXI': 0.055511474609375,\n",
       " 'YIX': -0.11213175455729169,\n",
       " 'YII': 0.0011562771267361605,\n",
       " 'YXY': 0.00128173828125,\n",
       " 'YIY': 0.026041666666666685,\n",
       " 'YXZ': -0.05255126953125,\n",
       " 'YIZ': 0.002461751302083315,\n",
       " 'YYX': 0.002197265625,\n",
       " 'YYI': -0.021046956380208315,\n",
       " 'YYY': -0.00213623046875,\n",
       " 'YYZ': 0.023345947265625,\n",
       " 'YZX': 0.11724853515625,\n",
       " 'YZI': -0.001434326171875,\n",
       " 'YZY': -0.027008056640625,\n",
       " 'YZZ': -0.00140380859375,\n",
       " 'ZXX': -0.00250244140625,\n",
       " 'ZXI': -0.0009256998697916852,\n",
       " 'ZIX': -0.00019327799479168517,\n",
       " 'ZII': 0.9914822048611112,\n",
       " 'ZXY': -0.0001220703125,\n",
       " 'ZIY': -0.003590901692708315,\n",
       " 'ZXZ': -0.003021240234375,\n",
       " 'ZIZ': -0.9981892903645833,\n",
       " 'ZYX': -0.000823974609375,\n",
       " 'ZYI': -0.002044677734375,\n",
       " 'ZYY': 0.0006103515625,\n",
       " 'ZYZ': 0.003265380859375,\n",
       " 'ZZX': -0.004852294921875,\n",
       " 'ZZI': -0.9932963053385417,\n",
       " 'ZZY': 0.001373291015625,\n",
       " 'ZZZ': 1.0}"
      ]
     },
     "execution_count": 16,
     "metadata": {},
     "output_type": "execute_result"
    }
   ],
   "source": [
    "example_parity_results"
   ]
  },
  {
   "cell_type": "markdown",
   "id": "867ea8eb",
   "metadata": {},
   "source": [
    "## Tomography MLE"
   ]
  },
  {
   "cell_type": "code",
   "execution_count": 20,
   "id": "7688f3c8",
   "metadata": {},
   "outputs": [],
   "source": [
    "# Importing standard Qiskit modules\n",
    "from qiskit import QuantumCircuit, QuantumRegister, IBMQ, execute, transpile\n",
    "from qiskit.providers.aer import QasmSimulator\n",
    "from qiskit.tools.monitor import job_monitor\n",
    "from qiskit.circuit import Parameter, Instruction\n",
    "from qiskit.quantum_info import Pauli, DensityMatrix, Statevector, partial_trace\n",
    "\n",
    "# Import state tomography modules\n",
    "from qiskit.ignis.verification.tomography import state_tomography_circuits, StateTomographyFitter\n",
    "from qiskit.ignis.verification.tomography.fitters.lstsq_fit import lstsq_fit, make_positive_semidefinite\n",
    "from qiskit.ignis.verification.tomography.fitters.cvx_fit import cvx_fit\n",
    "\n",
    "from qiskit.quantum_info import state_fidelity\n",
    "from qiskit.opflow import Zero, One, I, X, Y, Z"
   ]
  },
  {
   "cell_type": "code",
   "execution_count": 23,
   "id": "23a0f57d",
   "metadata": {},
   "outputs": [],
   "source": [
    "target_state, target_parity = gen_target()"
   ]
  },
  {
   "cell_type": "markdown",
   "id": "14ec3e25",
   "metadata": {},
   "source": [
    "### (a) Direct Simulation of Trotter Gates"
   ]
  },
  {
   "cell_type": "code",
   "execution_count": 75,
   "id": "a67b8224",
   "metadata": {},
   "outputs": [],
   "source": [
    "def gen_qc(trott_gate: Instruction, trotter_steps: int):\n",
    "    \"\"\"\n",
    "    Args:\n",
    "        n (int): number of trotter steps\n",
    "    \"\"\"\n",
    "    \n",
    "    t = trott_gate.params[0] # assuming only t param\n",
    "    \n",
    "    target_time = np.pi\n",
    "    \n",
    "    qr = QuantumRegister(7)\n",
    "    qc = QuantumCircuit(qr)\n",
    "    \n",
    "    qc.x([3,5]) # prepare init state |q5q3q1> = |110>\n",
    "    \n",
    "    \n",
    "    # Create dummy circuit\n",
    "    qc_dummy = QuantumCircuit(qr)\n",
    "    \n",
    "    for _ in range(trotter_steps):\n",
    "        qc_dummy.append(trott_gate, [qr[1], qr[3], qr[5]])\n",
    "    \n",
    "    # Decompose dummy circuit into native gates and append to qc\n",
    "    qc = qc + qc_dummy.decompose().decompose()\n",
    "    \n",
    "    # Bind timestep parameter\n",
    "    qc = qc.bind_parameters({t: target_time/trotter_steps})\n",
    "    \n",
    "    return qc"
   ]
  },
  {
   "cell_type": "code",
   "execution_count": 76,
   "id": "abf0ffaf",
   "metadata": {},
   "outputs": [],
   "source": [
    "qc_steps = {}\n",
    "for step in trott_steps_range:\n",
    "    qc_steps[step] = gen_qc(trott_gate, step)"
   ]
  },
  {
   "cell_type": "code",
   "execution_count": 78,
   "id": "12e4c519",
   "metadata": {},
   "outputs": [
    {
     "data": {
      "text/plain": [
       "0.9957862389609095"
      ]
     },
     "execution_count": 78,
     "metadata": {},
     "output_type": "execute_result"
    }
   ],
   "source": [
    "v = partial_trace(Statevector(qc_steps[19]), [0, 2, 4, 6])\n",
    "\n",
    "state_fidelity(v, target_state)"
   ]
  },
  {
   "cell_type": "markdown",
   "id": "5f7c2e85",
   "metadata": {},
   "source": [
    "### (b) MLE: Fitting via Parity Expectation Values"
   ]
  },
  {
   "cell_type": "code",
   "execution_count": 24,
   "id": "0335b7c4",
   "metadata": {},
   "outputs": [],
   "source": [
    "basis_matrix = []\n",
    "data = []\n",
    "\n",
    "for pauli, val in example_parity_results.items():\n",
    "    ### Parity \"XYZ\" > actual order \"ZYX\" > vectorize to get |ZYX⟩⟩ > conjugate ket to its dual\n",
    "    row = Pauli(pauli[::-1]).to_matrix().flatten(order='F').conjugate()\n",
    "    basis_matrix.append(row)\n",
    "    data.append(val)\n",
    "\n",
    "basis_matrix = np.array(basis_matrix)"
   ]
  },
  {
   "cell_type": "code",
   "execution_count": 52,
   "id": "026c0ea4",
   "metadata": {},
   "outputs": [],
   "source": [
    "# Only CVX works here; lstsq still has issues! Also we need to enforce PSD / unit trace\n",
    "rho_fit = cvx_fit(data=data, basis_matrix=basis_matrix, trace=1)\n",
    "rho_fit = make_positive_semidefinite(rho_fit) \n",
    "rho_fit *= 1 / np.trace(rho_fit)"
   ]
  },
  {
   "cell_type": "code",
   "execution_count": 53,
   "id": "f0696ad5",
   "metadata": {},
   "outputs": [
    {
     "data": {
      "text/plain": [
       "0.99422629255314"
      ]
     },
     "execution_count": 53,
     "metadata": {},
     "output_type": "execute_result"
    }
   ],
   "source": [
    "state_fidelity(rho_fit, target_state)"
   ]
  },
  {
   "cell_type": "code",
   "execution_count": 69,
   "id": "4256bcf8",
   "metadata": {},
   "outputs": [
    {
     "data": {
      "image/png": "[encoded data removed]",
      "text/plain": [
       "<Figure size 900x600 with 2 Axes>"
      ]
     },
     "metadata": {
      "needs_background": "light"
     },
     "output_type": "display_data"
    }
   ],
   "source": [
    "fig, ax = plt.subplots(1, 2, dpi=150)\n",
    "\n",
    "ax[0].imshow(np.real(rho_fit))\n",
    "ax[1].imshow(np.real(target_state))\n",
    "ax[0].title.set_text(r\"$\\rho_{\\rm fit}$ via parity\")\n",
    "ax[1].title.set_text(r\"$\\rho_{\\rm targ}$\")"
   ]
  },
  {
   "cell_type": "markdown",
   "id": "ee4a29dd",
   "metadata": {},
   "source": [
    "### (c) MLE: Fitting via Measured Probability Distribution"
   ]
  },
  {
   "cell_type": "code",
   "execution_count": 55,
   "id": "462d0f7b",
   "metadata": {},
   "outputs": [],
   "source": [
    "from ast import literal_eval\n",
    "from qiskit import QiskitError\n",
    "from qiskit import QuantumCircuit\n",
    "from qiskit.ignis.verification.tomography import marginal_counts, count_keys, combine_counts\n",
    "from tomography import CustomTomographyFitter"
   ]
  },
  {
   "cell_type": "code",
   "execution_count": 56,
   "id": "507b2d94",
   "metadata": {},
   "outputs": [],
   "source": [
    "# Parsing the counts ourselves, though CustomTomographyFitter can get it directly from results\n",
    "ct_data = {}\n",
    "\n",
    "for circuit in qcs[19]:\n",
    "    counts = None\n",
    "    for result in res_analysis[\"data\"][19][\"raw_data\"]:\n",
    "        counts = result.get_counts(circuit)\n",
    "        \n",
    "        # should be inside for loop to sum over results?\n",
    "        if counts is None:\n",
    "            raise QiskitError(\"Result for {} not found\".format(circ.name))\n",
    "        if isinstance(circuit, str):\n",
    "            pauli_tup = literal_eval(circuit)\n",
    "        elif isinstance(circuit, QuantumCircuit):\n",
    "            pauli_tup = literal_eval(circuit.name)\n",
    "        else:\n",
    "            pauli_tup = circuit\n",
    "        if pauli_tup in data:\n",
    "            ct_data[pauli_tup] = combine_counts(data[pauli_tup], counts)\n",
    "        else:\n",
    "            ct_data[pauli_tup] = counts"
   ]
  },
  {
   "cell_type": "code",
   "execution_count": 57,
   "id": "61882a1b",
   "metadata": {},
   "outputs": [],
   "source": [
    "ctf = CustomTomographyFitter(ct_data)"
   ]
  },
  {
   "cell_type": "code",
   "execution_count": 81,
   "id": "f9e20aba",
   "metadata": {},
   "outputs": [],
   "source": [
    "rho_fit_prob = ctf.fit(method='cvx', trace=1)\n",
    "rho_fit_prob = make_positive_semidefinite(rho_fit_prob)\n",
    "rho_fit_prob *= 1 / np.trace(rho_fit_prob)"
   ]
  },
  {
   "cell_type": "code",
   "execution_count": 82,
   "id": "7941b9ae",
   "metadata": {},
   "outputs": [
    {
     "data": {
      "text/plain": [
       "0.9958330611407304"
      ]
     },
     "execution_count": 82,
     "metadata": {},
     "output_type": "execute_result"
    }
   ],
   "source": [
    "state_fidelity(rho_fit_prob, target_state)"
   ]
  },
  {
   "cell_type": "code",
   "execution_count": 70,
   "id": "df839050",
   "metadata": {},
   "outputs": [
    {
     "data": {
      "image/png": "[encoded data removed]",
      "text/plain": [
       "<Figure size 900x600 with 2 Axes>"
      ]
     },
     "metadata": {
      "needs_background": "light"
     },
     "output_type": "display_data"
    }
   ],
   "source": [
    "fig, ax = plt.subplots(1, 2, dpi=150)\n",
    "\n",
    "ax[0].imshow(np.real(rho_fit_prob))\n",
    "ax[1].imshow(np.real(target_state))\n",
    "ax[0].title.set_text(r\"$\\rho_{\\rm fit}$ via probability\")\n",
    "ax[1].title.set_text(r\"$\\rho_{\\rm targ}$\")"
   ]
  },
  {
   "cell_type": "markdown",
   "id": "f837707f",
   "metadata": {},
   "source": [
    "### (d) Fitting via Reconstructed Probabilities"
   ]
  },
  {
   "cell_type": "code",
   "execution_count": 93,
   "id": "609a9800",
   "metadata": {},
   "outputs": [],
   "source": [
    "formatted_prob_results = {}\n",
    "\n",
    "for pauli_string, counts_dict in prob_results.items():\n",
    "    \n",
    "    formatted_counts_dict = {}\n",
    "    for count_label, prob in counts_dict.items():\n",
    "        count_string = ''.join([x for x in list(format(int(count_label[2:]), \"#05b\")[2:])])\n",
    "        formatted_counts_dict[count_string] = prob\n",
    "        \n",
    "    formatted_prob_results[pauli_string] = formatted_counts_dict"
   ]
  },
  {
   "cell_type": "code",
   "execution_count": 96,
   "id": "6058f290",
   "metadata": {},
   "outputs": [],
   "source": [
    "ctf2 = CustomTomographyFitter(formatted_prob_results)"
   ]
  },
  {
   "cell_type": "code",
   "execution_count": 98,
   "id": "e60a298c",
   "metadata": {},
   "outputs": [],
   "source": [
    "rho_fit_parity2prob = ctf.fit(method='cvx', trace=1)\n",
    "rho_fit_parity2prob = make_positive_semidefinite(rho_fit_parity2prob)\n",
    "rho_fit_parity2prob *= 1 / np.trace(rho_fit_parity2prob)"
   ]
  },
  {
   "cell_type": "code",
   "execution_count": 99,
   "id": "ca618c7c",
   "metadata": {},
   "outputs": [
    {
     "data": {
      "text/plain": [
       "0.9958330611407304"
      ]
     },
     "execution_count": 99,
     "metadata": {},
     "output_type": "execute_result"
    }
   ],
   "source": [
    "state_fidelity(rho_fit_parity2prob, target_state)"
   ]
  },
  {
   "cell_type": "code",
   "execution_count": 100,
   "id": "27b47fd9",
   "metadata": {},
   "outputs": [
    {
     "data": {
      "image/png": "[encoded data removed]",
      "text/plain": [
       "<Figure size 900x600 with 2 Axes>"
      ]
     },
     "metadata": {
      "needs_background": "light"
     },
     "output_type": "display_data"
    }
   ],
   "source": [
    "fig, ax = plt.subplots(1, 2, dpi=150)\n",
    "\n",
    "ax[0].imshow(np.real(rho_fit_parity2prob))\n",
    "ax[1].imshow(np.real(target_state))\n",
    "ax[0].title.set_text(r\"$\\rho_{\\rm fit}$ via reconstructed probability\")\n",
    "ax[1].title.set_text(r\"$\\rho_{\\rm targ}$\")"
   ]
  },
  {
   "cell_type": "code",
   "execution_count": null,
   "id": "eb945d36",
   "metadata": {},
   "outputs": [],
   "source": []
  }
 ],
 "metadata": {
  "kernelspec": {
   "display_name": "Python 3 (ipykernel)",
   "language": "python",
   "name": "python3"
  },
  "language_info": {
   "codemirror_mode": {
    "name": "ipython",
    "version": 3
   },
   "file_extension": ".py",
   "mimetype": "text/x-python",
   "name": "python",
   "nbconvert_exporter": "python",
   "pygments_lexer": "ipython3",
   "version": "3.8.13"
  }
 },
 "nbformat": 4,
 "nbformat_minor": 5
}
