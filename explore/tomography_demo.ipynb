{
 "cells": [
  {
   "cell_type": "markdown",
   "id": "12600d33",
   "metadata": {},
   "source": [
    "# Tomography Fitter"
   ]
  },
  {
   "cell_type": "code",
   "execution_count": 1,
   "id": "35a40841-3015-424f-ac64-61a0ccce2b97",
   "metadata": {},
   "outputs": [],
   "source": [
    "%load_ext autoreload\n",
    "%autoreload 2"
   ]
  },
  {
   "cell_type": "code",
   "execution_count": 2,
   "id": "a8479f2f-5f04-4515-b388-f37f3cc448af",
   "metadata": {},
   "outputs": [],
   "source": [
    "from trott import *\n",
    "import numpy as np\n",
    "import itertools"
   ]
  },
  {
   "cell_type": "markdown",
   "id": "457baf11-05c1-4ddb-a27e-bca31ddace44",
   "metadata": {},
   "source": [
    "## Prepare Circuits"
   ]
  },
  {
   "cell_type": "code",
   "execution_count": 7,
   "id": "50d5fbb7-c286-4ae9-b9ad-f80971bd52fb",
   "metadata": {},
   "outputs": [],
   "source": [
    "trott_gate = gen_3cnot_trott_gate() # using the basic trott method (this can be changed)x\n",
    "trott_steps_range = np.arange(4,25,1)\n",
    "qcs = gen_st_qcs_range(trott_gate, trott_steps_range)\n",
    "# qcs[10][-2].draw() # e.g. 10 trott steps, example tomo circuit"
   ]
  },
  {
   "cell_type": "markdown",
   "id": "6248ed24",
   "metadata": {},
   "source": [
    "## Prepare Backend"
   ]
  },
  {
   "cell_type": "code",
   "execution_count": 8,
   "id": "11c1b5cc",
   "metadata": {},
   "outputs": [],
   "source": [
    "# load IBMQ Account data\n",
    "# IBMQ.save_account(TOKEN)  # replace TOKEN with your API token string (https://quantum-computing.ibm.com/lab/docs/iql/manage/account/ibmq)\n",
    "provider = IBMQ.load_account()"
   ]
  },
  {
   "cell_type": "code",
   "execution_count": 9,
   "id": "cb6e69cf",
   "metadata": {},
   "outputs": [],
   "source": [
    "# Get backend for experiment\n",
    "provider = IBMQ.get_provider(hub='ibm-q-community', group='ibmquantumawards', project='open-science-22')\n",
    "jakarta = provider.get_backend('ibmq_jakarta')\n",
    "# properties = jakarta.properties()\n",
    "\n",
    "# Simulated backend based on ibmq_jakarta's device noise profile\n",
    "sim_noisy_jakarta = QasmSimulator.from_backend(provider.get_backend('ibmq_jakarta'))\n",
    "\n",
    "# Noiseless simulated backend\n",
    "sim = QasmSimulator()"
   ]
  },
  {
   "cell_type": "markdown",
   "id": "19e0a9cb",
   "metadata": {},
   "source": [
    "## Capture Data"
   ]
  },
  {
   "cell_type": "code",
   "execution_count": 10,
   "id": "2c80e994",
   "metadata": {},
   "outputs": [
    {
     "name": "stderr",
     "output_type": "stream",
     "text": [
      "  0%|                                                                        | 0/21 [00:00<?, ?it/s]"
     ]
    },
    {
     "name": "stdout",
     "output_type": "stream",
     "text": [
      "====================\n",
      "Running with trott_steps = (4, 0)\n",
      "Job ID 5dd56227-757a-4feb-b977-a2dd240180f0\n",
      "Job ID b1762801-813b-4647-918f-dfa70b88886e\n",
      "Job ID 645cef53-66c3-437b-9002-6503478941c6\n",
      "Job ID 8efb2aa3-6b97-4aec-bd6c-c410cffb5900\n",
      "Job ID d015a838-6d7a-4d65-9bf9-3a077927c425\n",
      "Job ID 8b943b27-666e-495a-bf86-a9e838ebe16f\n",
      "Job ID df2a16a0-8da5-4031-a6af-c85000509cd4\n",
      "Job ID 515c8224-ce38-4ca8-8c1c-768c2980de99\n",
      "Job Status: job has successfully run\n",
      "Job Status: job has successfully run\n",
      "Job Status: job has successfully run\n",
      "Job Status: job has successfully run\n",
      "Job Status: job has successfully run\n",
      "Job Status: job has successfully run\n",
      "Job Status: job has successfully run\n",
      "Job Status: job is actively running"
     ]
    },
    {
     "name": "stderr",
     "output_type": "stream",
     "text": [
      "  5%|███                                                             | 1/21 [00:08<02:49,  8.48s/it]"
     ]
    },
    {
     "name": "stdout",
     "output_type": "stream",
     "text": [
      "Job Status: job has successfully run\n",
      "====================\n",
      "Running with trott_steps = (5, 0)\n",
      "Job ID b212e813-e5d8-45c2-acfb-12686ed1afbc\n",
      "Job ID 7749eaca-de91-4915-be88-a8565f5a8ea2\n",
      "Job ID adbbed05-2d5d-43c6-8f84-2b6236ffd48f\n",
      "Job ID 970b33e6-58c9-41ce-b5e3-a07a54caa3b8\n",
      "Job ID b28987c2-6f7f-47a5-ba5c-d14585d66db8\n",
      "Job ID a5d69bc9-2f0e-4225-b6d1-cf331253009a\n",
      "Job ID 714f05b3-46dd-4cb5-b0da-09f90ad144fa\n"
     ]
    },
    {
     "name": "stderr",
     "output_type": "stream",
     "text": [
      " 10%|██████                                                          | 2/21 [00:12<01:46,  5.59s/it]"
     ]
    },
    {
     "name": "stdout",
     "output_type": "stream",
     "text": [
      "Job ID 9e641c6b-ec5f-4cc9-88b8-bfb2c1c59254\n",
      "Job Status: job has successfully run\n",
      "Job Status: job has successfully run\n",
      "Job Status: job has successfully run\n",
      "Job Status: job has successfully run\n",
      "Job Status: job has successfully run\n",
      "Job Status: job has successfully run\n",
      "Job Status: job has successfully run\n",
      "Job Status: job has successfully run\n",
      "====================\n",
      "Running with trott_steps = (6, 0)\n",
      "Job ID 4a0c5bae-bec2-4428-9c9c-8da7cf8cfeb7\n",
      "Job ID b608332e-924e-4f6f-a8e3-1efa74748a10\n",
      "Job ID 5a2e075f-32f0-4878-b12c-e23fb22281a7\n",
      "Job ID d50ba4ad-69d9-4a57-b578-1650087c7deb\n",
      "Job ID 25a1b62b-f4b9-4e95-aa75-f097c5d32fa6\n",
      "Job ID 1e6a1c4b-f7ed-4b93-8c85-f5ce5641e10b\n",
      "Job ID ae74d1d7-cf1d-4d47-8f23-03bf0e5bc860\n",
      "Job ID 738ccd1f-183a-4b5d-8133-fec3151407e1\n",
      "Job Status: job has successfully run\n",
      "Job Status: job has successfully run\n",
      "Job Status: job has successfully run\n",
      "Job Status: job has successfully run\n",
      "Job Status: job has successfully run\n",
      "Job Status: job has successfully run\n",
      "Job Status: job has successfully run\n",
      "Job Status: job is actively running"
     ]
    },
    {
     "name": "stderr",
     "output_type": "stream",
     "text": [
      " 14%|█████████▏                                                      | 3/21 [00:21<02:09,  7.19s/it]"
     ]
    },
    {
     "name": "stdout",
     "output_type": "stream",
     "text": [
      "Job Status: job has successfully run\n",
      "====================\n",
      "Running with trott_steps = (7, 0)\n",
      "Job ID 157fc97b-d837-4c72-96d9-1b2e1134b70a\n",
      "Job ID cb9c71fb-b817-4d14-8cb3-d5ef58d32fba\n",
      "Job ID 5e6e7f27-9dfa-4e13-8572-8b73cc79a15d\n",
      "Job ID 7c86bd80-aa7f-4c81-9979-180711cd619e\n",
      "Job ID e4ba335d-6406-43a5-8c05-dc2a2f067726\n",
      "Job ID cadfe865-2cce-467b-b569-0ef8bd842083\n",
      "Job ID 45fb24df-ccff-4de6-be08-8fdcf8be34a3\n",
      "Job ID 558ac514-1f81-4ff2-a613-0aa7cf65654b\n",
      "Job Status: job has successfully run\n",
      "Job Status: job has successfully run\n",
      "Job Status: job has successfully run\n",
      "Job Status: job has successfully run\n",
      "Job Status: job has successfully run\n",
      "Job Status: job has successfully run\n",
      "Job Status: job has successfully run\n",
      "Job Status: job is actively running"
     ]
    },
    {
     "name": "stderr",
     "output_type": "stream",
     "text": [
      " 19%|████████████▏                                                   | 4/21 [00:30<02:18,  8.12s/it]"
     ]
    },
    {
     "name": "stdout",
     "output_type": "stream",
     "text": [
      "Job Status: job has successfully run\n",
      "====================\n",
      "Running with trott_steps = (8, 0)\n",
      "Job ID 6432d4e1-421c-4418-ba56-27385ba5b647\n",
      "Job ID d2660ed9-d7c3-4326-922b-a9164836fe0a\n",
      "Job ID 728dfd44-496f-4cc2-945c-99713037b636\n",
      "Job ID 64a7d825-5204-4fb7-a212-bfba250c4e52\n",
      "Job ID 3e59118d-3f48-436a-82b3-ed13ae1d8d02\n",
      "Job ID 23868726-93c9-455e-bf79-2d8bf52ff2c2\n",
      "Job ID 438e9483-da7e-463f-b0bf-a5b666179db4\n",
      "Job ID de1bb4c9-1566-47a6-b410-a6583311a240\n",
      "Job Status: job has successfully run\n",
      "Job Status: job has successfully run\n",
      "Job Status: job has successfully run\n",
      "Job Status: job has successfully run\n",
      "Job Status: job has successfully run\n",
      "Job Status: job has successfully run\n",
      "Job Status: job has successfully run\n",
      "Job Status: job is actively running"
     ]
    },
    {
     "name": "stderr",
     "output_type": "stream",
     "text": [
      " 24%|███████████████▏                                                | 5/21 [00:40<02:22,  8.88s/it]"
     ]
    },
    {
     "name": "stdout",
     "output_type": "stream",
     "text": [
      "Job Status: job has successfully run\n",
      "====================\n",
      "Running with trott_steps = (9, 0)\n",
      "Job ID cc68aaed-a899-4471-8273-afb09b926790\n",
      "Job ID f6b25d47-875c-453c-b2d0-eb7af6123a73\n",
      "Job ID 11a4a4f1-cddf-4d82-9dd8-63752255b0b1\n",
      "Job ID b994f136-7568-4962-a53c-6d1f63933c7e\n",
      "Job ID 8b99046f-e635-43b9-ad88-c13404b65bd6\n",
      "Job ID 02e12f02-9573-4509-af7f-70fe510f60fa\n",
      "Job ID a2f2e890-34e3-4f2f-85e9-12daec57772b\n",
      "Job ID e026b081-4f8d-4ba2-ae78-03bc9f66edec\n",
      "Job Status: job has successfully run\n",
      "Job Status: job has successfully run\n",
      "Job Status: job has successfully run\n",
      "Job Status: job has successfully run\n",
      "Job Status: job has successfully run\n",
      "Job Status: job has successfully run\n",
      "Job Status: job has successfully run\n",
      "Job Status: job is actively running"
     ]
    },
    {
     "name": "stderr",
     "output_type": "stream",
     "text": [
      " 29%|██████████████████▎                                             | 6/21 [00:51<02:20,  9.39s/it]"
     ]
    },
    {
     "name": "stdout",
     "output_type": "stream",
     "text": [
      "Job Status: job has successfully run\n",
      "====================\n",
      "Running with trott_steps = (10, 0)\n",
      "Job ID 760f4857-7426-4250-a0af-920f69e0649d\n",
      "Job ID 1cfe166f-a4a8-4e02-8332-4587a64df12f\n",
      "Job ID 419351d2-fcb9-4046-bf74-791afb518f9d\n",
      "Job ID b73949d3-7558-412f-ac15-01d52abe3d89\n",
      "Job ID fe1aa978-21a1-4038-823a-4e92b95fc50a\n",
      "Job ID 0bac24be-ef82-4d29-827e-0e81970afa7a\n",
      "Job ID 5f444f94-d552-48b8-9c14-4b576cf97464\n",
      "Job ID f7ab3bf6-db8b-49b8-b766-ea309f5d2625\n",
      "Job Status: job has successfully run\n",
      "Job Status: job has successfully run\n",
      "Job Status: job has successfully run\n",
      "Job Status: job has successfully run\n",
      "Job Status: job has successfully run\n",
      "Job Status: job has successfully run\n",
      "Job Status: job has successfully run\n",
      "Job Status: job is actively running"
     ]
    },
    {
     "name": "stderr",
     "output_type": "stream",
     "text": [
      " 33%|█████████████████████▎                                          | 7/21 [01:02<02:17,  9.84s/it]"
     ]
    },
    {
     "name": "stdout",
     "output_type": "stream",
     "text": [
      "Job Status: job has successfully run\n",
      "====================\n",
      "Running with trott_steps = (11, 0)\n",
      "Job ID bcc4e34c-1c42-4aac-a711-2cf2344d25fc\n",
      "Job ID 93fbd6c9-e178-4fc9-aff8-7f7ec00ced81\n",
      "Job ID fa513285-def6-4ae9-a740-26944f61d426\n",
      "Job ID 1c830cea-6bd0-4dbf-8f21-09d64f376b4d\n",
      "Job ID 22d79495-f93d-4f25-9db9-daa1d78f81b5\n",
      "Job ID 772a28c2-1218-4632-a6fa-b4d9e427f572\n",
      "Job ID 24852633-a65f-4c93-a27e-b89082b10903\n",
      "Job ID ad9982b7-e0b8-4143-924a-7fc7bb925b8d\n",
      "Job Status: job has successfully run\n",
      "Job Status: job has successfully run\n",
      "Job Status: job has successfully run\n",
      "Job Status: job has successfully run\n",
      "Job Status: job has successfully run\n",
      "Job Status: job has successfully run\n",
      "Job Status: job has successfully run\n",
      "Job Status: job is actively running"
     ]
    },
    {
     "name": "stderr",
     "output_type": "stream",
     "text": [
      " 38%|████████████████████████▍                                       | 8/21 [01:13<02:14, 10.33s/it]"
     ]
    },
    {
     "name": "stdout",
     "output_type": "stream",
     "text": [
      "Job Status: job has successfully run\n",
      "====================\n",
      "Running with trott_steps = (12, 0)\n",
      "Job ID 9c4b6187-7b0b-4360-945b-5bf6561a4b3b\n",
      "Job ID 919c302f-760d-4d30-b23d-213bf1ad7c9a\n",
      "Job ID ff5b11af-2847-4aae-bda0-e080112d1b21\n",
      "Job ID 1bb54b68-441b-4a22-ae23-9f3770dffeeb\n",
      "Job ID 297b1605-6202-4e58-af88-e372cb1787ef\n",
      "Job ID a6d4bc71-65e0-48f5-bac4-835e51621428\n",
      "Job ID 98e6032a-40f5-4f85-ad38-ddfbfbc8927a\n",
      "Job ID be030215-802b-4378-a034-d20d16685753\n",
      "Job Status: job has successfully run\n",
      "Job Status: job has successfully run\n",
      "Job Status: job has successfully run\n",
      "Job Status: job has successfully run\n",
      "Job Status: job has successfully run\n",
      "Job Status: job has successfully run\n",
      "Job Status: job has successfully run\n",
      "Job Status: job is actively running"
     ]
    },
    {
     "name": "stderr",
     "output_type": "stream",
     "text": [
      " 43%|███████████████████████████▍                                    | 9/21 [01:25<02:10, 10.89s/it]"
     ]
    },
    {
     "name": "stdout",
     "output_type": "stream",
     "text": [
      "Job Status: job has successfully run\n",
      "====================\n",
      "Running with trott_steps = (13, 0)\n",
      "Job ID bf7ed286-c249-4947-87a0-12eec5684bd0\n",
      "Job ID 86d478e9-79ef-48cf-b1f4-5093767e22de\n",
      "Job ID 042b2b4b-59c4-40ae-8567-e770ae9484ee\n",
      "Job ID 6daffff2-2338-47cc-a37d-ebe2f876a70a\n",
      "Job ID 564ee1b1-5624-4e81-87ae-521aaabbd1fc\n",
      "Job ID 560a0952-89d6-43a4-86c2-02be94b8b9c0\n",
      "Job ID 62f17825-67d9-4769-a344-c9705696d3e5\n",
      "Job ID 8209a35b-59ab-4e9d-9f1a-d9befca37827\n",
      "Job Status: job has successfully run\n",
      "Job Status: job has successfully run\n",
      "Job Status: job has successfully run\n",
      "Job Status: job has successfully run\n",
      "Job Status: job has successfully run\n",
      "Job Status: job has successfully run\n",
      "Job Status: job has successfully run\n",
      "Job Status: job has successfully run\n"
     ]
    },
    {
     "name": "stderr",
     "output_type": "stream",
     "text": [
      " 48%|██████████████████████████████                                 | 10/21 [01:38<02:05, 11.44s/it]"
     ]
    },
    {
     "name": "stdout",
     "output_type": "stream",
     "text": [
      "====================\n",
      "Running with trott_steps = (14, 0)\n",
      "Job ID 8faafa62-3419-4410-b5c6-a4e0843dc75d\n",
      "Job ID a041cc50-f69d-48e1-8240-63a6f034a1c0\n",
      "Job ID a7326e88-2536-4812-857f-a006deec8f48\n",
      "Job ID af8f1ca4-7006-4897-8a00-8b121628454e\n",
      "Job ID 8b9625b0-9193-41b1-b35d-2908a8442c28\n",
      "Job ID 10a26f1c-2e47-4f70-a2e9-6e4540d6f8da\n",
      "Job ID 2069dfc4-3c68-4786-90af-8504e35c0cc5\n",
      "Job ID 3295fa9d-0670-4388-9f59-4694ed5fb69a\n",
      "Job Status: job has successfully run\n",
      "Job Status: job has successfully run\n",
      "Job Status: job has successfully run\n",
      "Job Status: job has successfully run\n",
      "Job Status: job has successfully run\n",
      "Job Status: job has successfully run\n",
      "Job Status: job has successfully run\n",
      "Job Status: job is actively running"
     ]
    },
    {
     "name": "stderr",
     "output_type": "stream",
     "text": [
      " 52%|█████████████████████████████████                              | 11/21 [01:51<01:59, 11.95s/it]"
     ]
    },
    {
     "name": "stdout",
     "output_type": "stream",
     "text": [
      "Job Status: job has successfully run\n",
      "====================\n",
      "Running with trott_steps = (15, 0)\n",
      "Job ID 1a00ccda-c2ee-46e0-a82d-6b41314f0925\n",
      "Job ID c1cffe76-90be-49b8-a655-3fe52d61c2c5\n",
      "Job ID a9f6a26e-466b-4b03-92c2-1612a642443a\n",
      "Job ID d5ff039e-1cbb-480d-86dd-876521adec81\n",
      "Job ID 856b8a7d-47f4-44de-9f30-5b2c5711b806\n",
      "Job ID fb701a3a-c56e-42bb-aac9-fc85457707d5\n",
      "Job ID 27b16274-f6ea-4f8f-8281-72eb341044e0\n",
      "Job ID 3720a9a1-9bd5-4b0b-81f0-9d6569634b15\n",
      "Job Status: job has successfully run\n",
      "Job Status: job has successfully run\n",
      "Job Status: job has successfully run\n",
      "Job Status: job has successfully run\n",
      "Job Status: job has successfully run\n",
      "Job Status: job has successfully run\n",
      "Job Status: job has successfully run\n",
      "Job Status: job is actively running"
     ]
    },
    {
     "name": "stderr",
     "output_type": "stream",
     "text": [
      " 57%|████████████████████████████████████                           | 12/21 [02:04<01:51, 12.36s/it]"
     ]
    },
    {
     "name": "stdout",
     "output_type": "stream",
     "text": [
      "Job Status: job has successfully run\n",
      "====================\n",
      "Running with trott_steps = (16, 0)\n",
      "Job ID 88bc60c2-0e0c-45bb-a66e-7c4e2bec1a05\n",
      "Job ID 7577d7a9-b3bd-44b4-a31f-1e19cc0d7a95\n",
      "Job ID 41f4a587-1da4-43b9-9471-de97c27cbefa\n",
      "Job ID 448c496c-1888-4b11-aca3-3a13e4265439\n",
      "Job ID 398de74f-342a-411e-82f1-ec0d210ec8ad\n",
      "Job ID 6b1b1e74-9142-4959-b30b-f4fb21842661\n",
      "Job ID f5e7e3e8-0c3e-4853-b829-c5ba6c818eb1\n",
      "Job ID 18d39591-02e1-4c64-8022-4560a98ad3ab\n",
      "Job Status: job has successfully run\n",
      "Job Status: job has successfully run\n",
      "Job Status: job has successfully run\n",
      "Job Status: job has successfully run\n",
      "Job Status: job has successfully run\n",
      "Job Status: job has successfully run\n",
      "Job Status: job has successfully run\n",
      "Job Status: job is actively running"
     ]
    },
    {
     "name": "stderr",
     "output_type": "stream",
     "text": [
      " 62%|███████████████████████████████████████                        | 13/21 [02:18<01:42, 12.84s/it]"
     ]
    },
    {
     "name": "stdout",
     "output_type": "stream",
     "text": [
      "Job Status: job has successfully run\n",
      "====================\n",
      "Running with trott_steps = (17, 0)\n",
      "Job ID 94f65cfe-edb5-41b2-af69-a2fe8a4473f3\n",
      "Job ID e1643c90-7ab5-4b41-9065-f826a51bd10a\n",
      "Job ID 080499f1-b879-4108-ab6e-a2d49c00fb5f\n",
      "Job ID 6f423507-e10b-4f1c-a233-561309bf3ccc\n",
      "Job ID fe5016f2-c693-4e86-a1d0-5e2f3ebd42e6\n",
      "Job ID 47f7c874-7caf-4638-8126-b0c1bdcc33d6\n",
      "Job ID 7b7434d2-926e-4243-8440-b2958a9731dd\n",
      "Job ID 755023dd-8c13-44d7-b3d3-c0d3ef0385f5\n",
      "Job Status: job has successfully run\n",
      "Job Status: job has successfully run\n",
      "Job Status: job has successfully run\n",
      "Job Status: job has successfully run\n",
      "Job Status: job has successfully run\n",
      "Job Status: job has successfully run\n",
      "Job Status: job has successfully run\n",
      "Job Status: job is actively running"
     ]
    },
    {
     "name": "stderr",
     "output_type": "stream",
     "text": [
      " 67%|██████████████████████████████████████████                     | 14/21 [02:33<01:33, 13.33s/it]"
     ]
    },
    {
     "name": "stdout",
     "output_type": "stream",
     "text": [
      "Job Status: job has successfully run\n",
      "====================\n",
      "Running with trott_steps = (18, 0)\n",
      "Job ID 01ace8f9-5aa8-494a-ac4a-465c4b08b2f2\n",
      "Job ID cc8107ea-c43a-4c20-9fa9-9b13cd78dd54\n",
      "Job ID 603b7e8a-2fc9-4bab-a7f2-6082ad04ce9d\n",
      "Job ID 37670a13-c65e-4617-afab-ac23362f1c84\n",
      "Job ID 87e6fe79-bacc-4ea8-a1f7-786b7ecb8c2b\n",
      "Job ID 7b3bcbfa-80e6-4a4b-8c92-85587e550c31\n",
      "Job ID 71559cb8-72d8-4cc0-a483-facb55a08d6f\n",
      "Job ID 1b778791-ad45-4d52-939a-a52d7b3c8ad7\n",
      "Job Status: job has successfully run\n",
      "Job Status: job has successfully run\n",
      "Job Status: job has successfully run\n",
      "Job Status: job has successfully run\n",
      "Job Status: job has successfully run\n",
      "Job Status: job has successfully run\n",
      "Job Status: job has successfully run\n",
      "Job Status: job is actively running"
     ]
    },
    {
     "name": "stderr",
     "output_type": "stream",
     "text": [
      " 71%|█████████████████████████████████████████████                  | 15/21 [02:47<01:22, 13.76s/it]"
     ]
    },
    {
     "name": "stdout",
     "output_type": "stream",
     "text": [
      "Job Status: job has successfully run\n",
      "====================\n",
      "Running with trott_steps = (19, 0)\n",
      "Job ID e13c2ff4-a5cb-48e2-afdd-47d66997e89d\n",
      "Job ID bd47a5ec-b962-41e4-82b5-6efb4b9c0b07\n",
      "Job ID fe293c83-22ed-447f-9c9e-739526c683bc\n",
      "Job ID 65d23ba2-baa5-4a74-8cc7-a2f763d8fc02\n",
      "Job ID 8a503a40-6588-4d7a-b4b9-dbe0d182e124\n",
      "Job ID 121094f4-31b5-43d3-a2fe-2620c8dd0e0d\n",
      "Job ID a8f8099b-6de0-44b7-a695-3f1bbeb3fef7\n",
      "Job ID 4a15f23a-ccd7-4a57-a472-678931c49ccd\n",
      "Job Status: job has successfully run\n",
      "Job Status: job has successfully run\n",
      "Job Status: job has successfully run\n",
      "Job Status: job has successfully run\n",
      "Job Status: job has successfully run\n",
      "Job Status: job has successfully run\n",
      "Job Status: job has successfully run\n",
      "Job Status: job is actively running"
     ]
    },
    {
     "name": "stderr",
     "output_type": "stream",
     "text": [
      " 76%|████████████████████████████████████████████████               | 16/21 [03:03<01:11, 14.32s/it]"
     ]
    },
    {
     "name": "stdout",
     "output_type": "stream",
     "text": [
      "Job Status: job has successfully run\n",
      "====================\n",
      "Running with trott_steps = (20, 0)\n",
      "Job ID c6531d7e-467e-4405-b0f1-271606658017\n",
      "Job ID 6cd3d848-3ec4-47a1-885a-add620e1a934\n",
      "Job ID 5805452c-b050-4331-83ea-504da913b29a\n",
      "Job ID 7f4676cf-1fae-4d45-91b2-a4932f9ad4ad\n",
      "Job ID f212b4b7-0f03-4a04-aa75-8aab9456eec2\n",
      "Job ID 0b211582-fa2e-4706-9753-99ec24ed365c\n",
      "Job ID 5d3a0e73-1588-4793-a8bc-b5c5e53d903b\n",
      "Job ID e4956cef-77fc-43e4-be94-71f2d5d79706\n",
      "Job Status: job has successfully run\n",
      "Job Status: job has successfully run\n",
      "Job Status: job has successfully run\n",
      "Job Status: job has successfully run\n",
      "Job Status: job has successfully run\n",
      "Job Status: job has successfully run\n",
      "Job Status: job has successfully run\n",
      "Job Status: job is actively running"
     ]
    },
    {
     "name": "stderr",
     "output_type": "stream",
     "text": [
      " 81%|███████████████████████████████████████████████████            | 17/21 [03:19<00:59, 14.86s/it]"
     ]
    },
    {
     "name": "stdout",
     "output_type": "stream",
     "text": [
      "Job Status: job has successfully run\n",
      "====================\n",
      "Running with trott_steps = (21, 0)\n",
      "Job ID 37c9af74-2737-4f98-b92d-7031a1be8f5b\n",
      "Job ID 32a4d6be-2f5e-40e6-858f-2a89f7c40067\n",
      "Job ID 69a6a8a5-e262-4573-91f1-ea180b97b3dc\n",
      "Job ID 5544ee75-f537-4f14-b34e-dcda0cc872c6\n",
      "Job ID 34a1cbda-387d-420a-99f7-188e77cf8545\n",
      "Job ID 60a8fc77-dda0-4790-b2f3-223554fe89db\n",
      "Job ID fdbbd9cb-63e5-4956-aba8-e2e55d8a50ac\n",
      "Job ID fffd8eae-87ed-4188-b5ff-842bf6cdab98\n",
      "Job Status: job has successfully run\n",
      "Job Status: job has successfully run\n",
      "Job Status: job has successfully run\n",
      "Job Status: job has successfully run\n",
      "Job Status: job has successfully run\n",
      "Job Status: job has successfully run\n",
      "Job Status: job has successfully run\n",
      "Job Status: job has successfully run\n"
     ]
    },
    {
     "name": "stderr",
     "output_type": "stream",
     "text": [
      " 86%|██████████████████████████████████████████████████████         | 18/21 [03:36<00:46, 15.47s/it]"
     ]
    },
    {
     "name": "stdout",
     "output_type": "stream",
     "text": [
      "====================\n",
      "Running with trott_steps = (22, 0)\n",
      "Job ID 22bb49cd-7c96-44be-ab8c-1aa3b0c6f55b\n",
      "Job ID 5898630e-c317-4930-abf6-cb4b1dd60f8f\n",
      "Job ID 4f9c92a5-2ccf-4d86-bbd9-6ace3f3d00b9\n",
      "Job ID 0cbb0625-cbab-4c58-9c0d-5e839b68151f\n",
      "Job ID 0f7c71b5-809c-4fb1-969a-da956373ab91\n",
      "Job ID 8b140813-b1bc-4549-977e-2506382bdc0d\n",
      "Job ID 87c1955d-07f6-473e-ba2c-3786c837c8cd\n",
      "Job ID 6e34d52d-b576-4a23-9d44-0f0ff418f7de\n",
      "Job Status: job has successfully run\n",
      "Job Status: job has successfully run\n",
      "Job Status: job has successfully run\n",
      "Job Status: job has successfully run\n",
      "Job Status: job has successfully run\n",
      "Job Status: job has successfully run\n",
      "Job Status: job has successfully run\n",
      "Job Status: job has successfully run\n"
     ]
    },
    {
     "name": "stderr",
     "output_type": "stream",
     "text": [
      " 90%|█████████████████████████████████████████████████████████      | 19/21 [03:53<00:31, 15.96s/it]"
     ]
    },
    {
     "name": "stdout",
     "output_type": "stream",
     "text": [
      "====================\n",
      "Running with trott_steps = (23, 0)\n",
      "Job ID 3e4577e1-d505-49ce-8bf6-d19744338cae\n",
      "Job ID 75758bfa-4672-47fd-8800-3a1e0caa397f\n",
      "Job ID b8f60c14-994a-4c06-b7a5-490a95a05c2e\n",
      "Job ID 9310d8a1-0bf3-4f29-938e-fb43cf7c72ec\n",
      "Job ID ebcc0fcb-85bd-473d-bb8a-d27eb4c4bad2\n",
      "Job ID 407a0b45-259e-4cd2-814c-8f755320d618\n",
      "Job ID a14e4417-4e33-4062-977e-a81cf9a73e93\n",
      "Job ID 4860f79d-7aef-491e-8110-6201a2064cdc\n",
      "Job Status: job has successfully run\n",
      "Job Status: job has successfully run\n",
      "Job Status: job has successfully run\n",
      "Job Status: job has successfully run\n",
      "Job Status: job has successfully run\n",
      "Job Status: job has successfully run\n",
      "Job Status: job has successfully run\n",
      "Job Status: job has successfully run\n"
     ]
    },
    {
     "name": "stderr",
     "output_type": "stream",
     "text": [
      " 95%|████████████████████████████████████████████████████████████   | 20/21 [04:11<00:16, 16.43s/it]"
     ]
    },
    {
     "name": "stdout",
     "output_type": "stream",
     "text": [
      "====================\n",
      "Running with trott_steps = (24, 0)\n",
      "Job ID 07fb4721-cb4c-4084-ac00-2d627f58733f\n",
      "Job ID f7748f85-ed46-48fd-870e-e83dab1441b0\n",
      "Job ID d871f175-c7bf-4f7e-8cfc-6aca0916ef87\n",
      "Job ID 37fa7cbf-0c81-4022-80d2-30aa77e7fa24\n",
      "Job ID 5248994e-b1d7-4a0d-88c0-6d0c08032a4d\n",
      "Job ID e2274f96-5970-4bf6-b8be-45b1c485fa6e\n",
      "Job ID 0b9e2541-2eb2-4fc5-be0b-b26a8ca271d5\n",
      "Job ID 5ab76028-aecf-49c4-bf51-c3e9bed0b9ea\n",
      "Job Status: job has successfully run\n",
      "Job Status: job has successfully run\n",
      "Job Status: job has successfully run\n",
      "Job Status: job has successfully run\n",
      "Job Status: job has successfully run\n",
      "Job Status: job has successfully run\n",
      "Job Status: job has successfully run\n",
      "Job Status: job has successfully run\n"
     ]
    },
    {
     "name": "stderr",
     "output_type": "stream",
     "text": [
      "100%|███████████████████████████████████████████████████████████████| 21/21 [04:29<00:00, 12.82s/it]\n"
     ]
    }
   ],
   "source": [
    "results = gen_results(qcs, backend=sim)"
   ]
  },
  {
   "cell_type": "code",
   "execution_count": 11,
   "id": "93df8948-16a6-4251-a9b6-2bcbaccf31c0",
   "metadata": {},
   "outputs": [],
   "source": [
    "res_analysis = run_analysis(results, unitary_folding=False) "
   ]
  },
  {
   "cell_type": "markdown",
   "id": "7e9be63e-443e-404d-a5cb-19be887ccabd",
   "metadata": {},
   "source": [
    "## Original Data Map"
   ]
  },
  {
   "cell_type": "code",
   "execution_count": 20,
   "id": "01ebe866-cd25-4a63-a25f-0f8369855e09",
   "metadata": {},
   "outputs": [
    {
     "data": {
      "text/plain": [
       "{'0x3': 0.0033111572265625, '0x5': 0.0010833740234375, '0x6': 0.99560546875}"
      ]
     },
     "execution_count": 20,
     "metadata": {},
     "output_type": "execute_result"
    }
   ],
   "source": [
    "test_og = res_analysis[\"data\"][(19, 0)][\"data_map\"][\"ZZZ\"]\n",
    "norm = np.sum(list(test_og.values()))\n",
    "test_og = {key:val/norm for key, val in test_og.items()}\n",
    "test_og"
   ]
  },
  {
   "cell_type": "code",
   "execution_count": 40,
   "id": "4cef770c-4f5a-493a-8264-2f35ccb62cde",
   "metadata": {},
   "outputs": [],
   "source": [
    "example_parity_results = res_analysis[\"data\"][(19, 0)][\"parity\"]\n",
    "prob_results = parity2prob(example_parity_results, return_probs=False)"
   ]
  },
  {
   "cell_type": "code",
   "execution_count": 68,
   "id": "8cc56a0b-f3ad-4763-83bc-206e1b532e52",
   "metadata": {
    "scrolled": true
   },
   "outputs": [
    {
     "data": {
      "text/plain": [
       "{'XXX': {'111': 125,\n",
       "  '011': 118,\n",
       "  '101': 132,\n",
       "  '001': 124,\n",
       "  '110': 124,\n",
       "  '010': 131,\n",
       "  '100': 118,\n",
       "  '000': 125},\n",
       " 'XXY': {'111': 135,\n",
       "  '011': 108,\n",
       "  '101': 142,\n",
       "  '001': 113,\n",
       "  '110': 114,\n",
       "  '010': 141,\n",
       "  '100': 106,\n",
       "  '000': 136},\n",
       " 'XXZ': {'111': 241,\n",
       "  '011': 1,\n",
       "  '101': 256,\n",
       "  '110': 256,\n",
       "  '010': 0,\n",
       "  '100': 242,\n",
       "  '000': 1},\n",
       " 'XYX': {'111': 120,\n",
       "  '011': 114,\n",
       "  '101': 136,\n",
       "  '001': 128,\n",
       "  '110': 128,\n",
       "  '010': 135,\n",
       "  '100': 114,\n",
       "  '000': 121},\n",
       " 'XYY': {'111': 131,\n",
       "  '011': 104,\n",
       "  '101': 147,\n",
       "  '001': 118,\n",
       "  '110': 116,\n",
       "  '010': 147,\n",
       "  '100': 104,\n",
       "  '000': 131},\n",
       " 'XYZ': {'111': 233,\n",
       "  '011': 1,\n",
       "  '101': 264,\n",
       "  '001': 0,\n",
       "  '110': 263,\n",
       "  '010': 0,\n",
       "  '100': 235,\n",
       "  '000': 0},\n",
       " 'XZX': {'111': 256,\n",
       "  '011': 243,\n",
       "  '101': 0,\n",
       "  '001': 0,\n",
       "  '110': 241,\n",
       "  '010': 257,\n",
       "  '100': 0},\n",
       " 'XZY': {'111': 277,\n",
       "  '011': 221,\n",
       "  '101': 0,\n",
       "  '001': 0,\n",
       "  '110': 221,\n",
       "  '010': 277,\n",
       "  '000': 0},\n",
       " 'XZZ': {'111': 498, '011': 0, '001': 0, '110': 496, '010': 2, '100': 1},\n",
       " 'YXX': {'111': 117,\n",
       "  '011': 147,\n",
       "  '101': 104,\n",
       "  '001': 131,\n",
       "  '110': 131,\n",
       "  '010': 103,\n",
       "  '100': 146,\n",
       "  '000': 118},\n",
       " 'YXY': {'111': 135,\n",
       "  '011': 128,\n",
       "  '101': 121,\n",
       "  '001': 114,\n",
       "  '110': 113,\n",
       "  '010': 121,\n",
       "  '100': 128,\n",
       "  '000': 136},\n",
       " 'YXZ': {'111': 264,\n",
       "  '011': 0,\n",
       "  '101': 234,\n",
       "  '001': 1,\n",
       "  '110': 233,\n",
       "  '010': 1,\n",
       "  '100': 264,\n",
       "  '000': 0},\n",
       " 'YYX': {'111': 107,\n",
       "  '011': 135,\n",
       "  '101': 114,\n",
       "  '001': 142,\n",
       "  '110': 141,\n",
       "  '010': 114,\n",
       "  '100': 136,\n",
       "  '000': 107},\n",
       " 'YYY': {'111': 123,\n",
       "  '011': 119,\n",
       "  '101': 133,\n",
       "  '001': 123,\n",
       "  '110': 123,\n",
       "  '010': 132,\n",
       "  '100': 118,\n",
       "  '000': 125},\n",
       " 'YYZ': {'111': 242,\n",
       "  '011': 1,\n",
       "  '101': 256,\n",
       "  '001': 0,\n",
       "  '110': 254,\n",
       "  '010': 0,\n",
       "  '100': 243,\n",
       "  '000': 0},\n",
       " 'YZX': {'111': 220,\n",
       "  '011': 278,\n",
       "  '101': 0,\n",
       "  '110': 277,\n",
       "  '010': 221,\n",
       "  '100': 0,\n",
       "  '000': 0},\n",
       " 'YZY': {'111': 256, '011': 242, '101': 0, '110': 242, '010': 257, '000': 0},\n",
       " 'YZZ': {'111': 497,\n",
       "  '011': 2,\n",
       "  '101': 0,\n",
       "  '110': 498,\n",
       "  '010': 1,\n",
       "  '100': 0,\n",
       "  '000': 0},\n",
       " 'ZXX': {'011': 2,\n",
       "  '101': 2,\n",
       "  '001': 0,\n",
       "  '110': 249,\n",
       "  '010': 248,\n",
       "  '100': 248,\n",
       "  '000': 249},\n",
       " 'ZXY': {'111': 1,\n",
       "  '011': 0,\n",
       "  '101': 1,\n",
       "  '001': 1,\n",
       "  '110': 248,\n",
       "  '010': 249,\n",
       "  '100': 248,\n",
       "  '000': 249},\n",
       " 'ZXZ': {'111': 0,\n",
       "  '011': 1,\n",
       "  '101': 0,\n",
       "  '001': 1,\n",
       "  '110': 497,\n",
       "  '010': 0,\n",
       "  '100': 498},\n",
       " 'ZYX': {'111': 1,\n",
       "  '011': 1,\n",
       "  '101': 0,\n",
       "  '001': 1,\n",
       "  '110': 247,\n",
       "  '010': 248,\n",
       "  '100': 251,\n",
       "  '000': 248},\n",
       " 'ZYY': {'111': 0,\n",
       "  '011': 2,\n",
       "  '101': 2,\n",
       "  '110': 246,\n",
       "  '010': 248,\n",
       "  '100': 249,\n",
       "  '000': 249},\n",
       " 'ZYZ': {'111': 0,\n",
       "  '011': 2,\n",
       "  '101': 0,\n",
       "  '001': 1,\n",
       "  '110': 496,\n",
       "  '100': 499,\n",
       "  '000': 0},\n",
       " 'ZZX': {'111': 1,\n",
       "  '011': 1,\n",
       "  '101': 0,\n",
       "  '001': 0,\n",
       "  '110': 497,\n",
       "  '010': 498,\n",
       "  '100': 0},\n",
       " 'ZZY': {'111': 2,\n",
       "  '011': 0,\n",
       "  '101': 0,\n",
       "  '001': 0,\n",
       "  '110': 496,\n",
       "  '010': 498,\n",
       "  '100': 0},\n",
       " 'ZZZ': {'011': 3, '101': 1, '001': 0, '110': 995, '010': 0}}"
      ]
     },
     "execution_count": 68,
     "metadata": {},
     "output_type": "execute_result"
    }
   ],
   "source": [
    "prob_results"
   ]
  },
  {
   "cell_type": "markdown",
   "id": "867ea8eb",
   "metadata": {},
   "source": [
    "## Tomography MLE"
   ]
  },
  {
   "cell_type": "code",
   "execution_count": 42,
   "id": "7688f3c8",
   "metadata": {},
   "outputs": [],
   "source": [
    "# Importing standard Qiskit modules\n",
    "from qiskit import QuantumCircuit, QuantumRegister, IBMQ, execute, transpile\n",
    "from qiskit.providers.aer import QasmSimulator\n",
    "from qiskit.tools.monitor import job_monitor\n",
    "from qiskit.circuit import Parameter, Instruction\n",
    "from qiskit.quantum_info import Pauli, DensityMatrix, Statevector, partial_trace\n",
    "\n",
    "# Import state tomography modules\n",
    "from qiskit.ignis.verification.tomography import state_tomography_circuits, StateTomographyFitter\n",
    "from qiskit.ignis.verification.tomography.fitters.lstsq_fit import lstsq_fit, make_positive_semidefinite\n",
    "from qiskit.ignis.verification.tomography.fitters.cvx_fit import cvx_fit\n",
    "\n",
    "from qiskit.quantum_info import state_fidelity\n",
    "from qiskit.opflow import Zero, One, I, X, Y, Z"
   ]
  },
  {
   "cell_type": "code",
   "execution_count": 43,
   "id": "23a0f57d",
   "metadata": {},
   "outputs": [],
   "source": [
    "target_state, target_parity = gen_target()"
   ]
  },
  {
   "cell_type": "markdown",
   "id": "14ec3e25",
   "metadata": {},
   "source": [
    "### (a) Direct Simulation of Trotter Gates"
   ]
  },
  {
   "cell_type": "code",
   "execution_count": 44,
   "id": "a67b8224",
   "metadata": {},
   "outputs": [],
   "source": [
    "def gen_qc(trott_gate: Instruction, trotter_steps: int):\n",
    "    \"\"\"\n",
    "    Args:\n",
    "        n (int): number of trotter steps\n",
    "    \"\"\"\n",
    "    \n",
    "    t = trott_gate.params[0] # assuming only t param\n",
    "    \n",
    "    target_time = np.pi\n",
    "    \n",
    "    qr = QuantumRegister(7)\n",
    "    qc = QuantumCircuit(qr)\n",
    "    \n",
    "    qc.x([3,5]) # prepare init state |q5q3q1> = |110>\n",
    "    \n",
    "    \n",
    "    # Create dummy circuit\n",
    "    qc_dummy = QuantumCircuit(qr)\n",
    "    \n",
    "    for _ in range(trotter_steps):\n",
    "        qc_dummy.append(trott_gate, [qr[1], qr[3], qr[5]])\n",
    "    \n",
    "    # Decompose dummy circuit into native gates and append to qc\n",
    "    qc = qc + qc_dummy.decompose().decompose()\n",
    "    \n",
    "    # Bind timestep parameter\n",
    "    qc = qc.bind_parameters({t: target_time/trotter_steps})\n",
    "    \n",
    "    return qc"
   ]
  },
  {
   "cell_type": "code",
   "execution_count": 45,
   "id": "abf0ffaf",
   "metadata": {},
   "outputs": [],
   "source": [
    "qc_steps = {}\n",
    "for step in trott_steps_range:\n",
    "    qc_steps[step] = gen_qc(trott_gate, step)"
   ]
  },
  {
   "cell_type": "code",
   "execution_count": 46,
   "id": "12e4c519",
   "metadata": {},
   "outputs": [
    {
     "data": {
      "text/plain": [
       "0.9957862389609095"
      ]
     },
     "execution_count": 46,
     "metadata": {},
     "output_type": "execute_result"
    }
   ],
   "source": [
    "v = partial_trace(Statevector(qc_steps[19]), [0, 2, 4, 6])\n",
    "\n",
    "state_fidelity(v, target_state)"
   ]
  },
  {
   "cell_type": "markdown",
   "id": "5f7c2e85",
   "metadata": {},
   "source": [
    "### (b) MLE: Fitting via Parity Expectation Values"
   ]
  },
  {
   "cell_type": "code",
   "execution_count": 89,
   "id": "0335b7c4",
   "metadata": {},
   "outputs": [],
   "source": [
    "basis_matrix = []\n",
    "data = []\n",
    "\n",
    "for pauli, val in example_parity_results.items():\n",
    "    ### Parity \"XYZ\" > actual order \"ZYX\" > vectorize to get |ZYX⟩⟩ > conjugate ket to its dual\n",
    "    row = Pauli(pauli[::-1]).to_matrix().flatten(order='F').conjugate()\n",
    "    basis_matrix.append(row)\n",
    "    data.append(val)\n",
    "\n",
    "basis_matrix = np.array(basis_matrix)"
   ]
  },
  {
   "cell_type": "code",
   "execution_count": 90,
   "id": "026c0ea4",
   "metadata": {},
   "outputs": [],
   "source": [
    "# Only CVX works here; lstsq still has issues! Also we need to enforce PSD / unit trace\n",
    "rho_fit = cvx_fit(data=data, basis_matrix=basis_matrix, trace=1, psd=True)\n",
    "rho_fit = make_positive_semidefinite(rho_fit) \n",
    "rho_fit *= 1 / np.trace(rho_fit)"
   ]
  },
  {
   "cell_type": "code",
   "execution_count": 91,
   "id": "f0696ad5",
   "metadata": {},
   "outputs": [
    {
     "data": {
      "text/plain": [
       "0.9938192010199804"
      ]
     },
     "execution_count": 91,
     "metadata": {},
     "output_type": "execute_result"
    }
   ],
   "source": [
    "state_fidelity(rho_fit, target_state)"
   ]
  },
  {
   "cell_type": "code",
   "execution_count": 92,
   "id": "4256bcf8",
   "metadata": {},
   "outputs": [
    {
     "data": {
      "image/png": "[encoded data removed]",
      "text/plain": [
       "<Figure size 900x600 with 2 Axes>"
      ]
     },
     "metadata": {
      "needs_background": "light"
     },
     "output_type": "display_data"
    }
   ],
   "source": [
    "fig, ax = plt.subplots(1, 2, dpi=150)\n",
    "\n",
    "ax[0].imshow(np.real(rho_fit))\n",
    "ax[1].imshow(np.real(target_state))\n",
    "ax[0].title.set_text(r\"$\\rho_{\\rm fit}$ via parity\")\n",
    "ax[1].title.set_text(r\"$\\rho_{\\rm targ}$\")"
   ]
  },
  {
   "cell_type": "markdown",
   "id": "83e7b726",
   "metadata": {},
   "source": [
    "#### Fitting Paulis using `fit_pauli_exp_vals` directly"
   ]
  },
  {
   "cell_type": "code",
   "execution_count": 102,
   "id": "3f8d24be",
   "metadata": {},
   "outputs": [],
   "source": [
    "ρ = ctf.fit_pauli_exp_vals(example_parity_results, trace=1, psd=True)"
   ]
  },
  {
   "cell_type": "code",
   "execution_count": 103,
   "id": "e0868a57",
   "metadata": {},
   "outputs": [
    {
     "data": {
      "text/plain": [
       "0.9938192010199804"
      ]
     },
     "execution_count": 103,
     "metadata": {},
     "output_type": "execute_result"
    }
   ],
   "source": [
    "state_fidelity(ρ, target_state)"
   ]
  },
  {
   "cell_type": "markdown",
   "id": "ee4a29dd",
   "metadata": {},
   "source": [
    "### (c) MLE: Fitting via Measured Probability Distribution"
   ]
  },
  {
   "cell_type": "code",
   "execution_count": 51,
   "id": "462d0f7b",
   "metadata": {},
   "outputs": [],
   "source": [
    "from ast import literal_eval\n",
    "from qiskit import QiskitError\n",
    "from qiskit import QuantumCircuit\n",
    "from qiskit.ignis.verification.tomography import marginal_counts, count_keys, combine_counts\n",
    "from tomography import CustomTomographyFitter"
   ]
  },
  {
   "cell_type": "code",
   "execution_count": 53,
   "id": "507b2d94",
   "metadata": {},
   "outputs": [],
   "source": [
    "# Parsing the counts ourselves, though CustomTomographyFitter can get it directly from results\n",
    "ct_data = {}\n",
    "\n",
    "for circuit in qcs[(19, 0)]:\n",
    "    counts = None\n",
    "    for result in res_analysis[\"data\"][(19, 0)][\"raw_data\"]:\n",
    "        counts = result.get_counts(circuit)\n",
    "        \n",
    "        # should be inside for loop to sum over results?\n",
    "        if counts is None:\n",
    "            raise QiskitError(\"Result for {} not found\".format(circ.name))\n",
    "        if isinstance(circuit, str):\n",
    "            pauli_tup = literal_eval(circuit)\n",
    "        elif isinstance(circuit, QuantumCircuit):\n",
    "            pauli_tup = literal_eval(circuit.name)\n",
    "        else:\n",
    "            pauli_tup = circuit\n",
    "        if pauli_tup in data:\n",
    "            ct_data[pauli_tup] = combine_counts(data[pauli_tup], counts)\n",
    "        else:\n",
    "            ct_data[pauli_tup] = counts"
   ]
  },
  {
   "cell_type": "code",
   "execution_count": 54,
   "id": "61882a1b",
   "metadata": {},
   "outputs": [],
   "source": [
    "ctf = CustomTomographyFitter(ct_data)"
   ]
  },
  {
   "cell_type": "code",
   "execution_count": 83,
   "id": "f9e20aba",
   "metadata": {},
   "outputs": [],
   "source": [
    "rho_fit_prob = ctf.fit(method='cvx', trace=1, psd=True)\n",
    "rho_fit_prob = make_positive_semidefinite(rho_fit_prob)\n",
    "rho_fit_prob *= 1 / np.trace(rho_fit_prob)"
   ]
  },
  {
   "cell_type": "code",
   "execution_count": 84,
   "id": "7941b9ae",
   "metadata": {},
   "outputs": [
    {
     "data": {
      "text/plain": [
       "0.9959718192793845"
      ]
     },
     "execution_count": 84,
     "metadata": {},
     "output_type": "execute_result"
    }
   ],
   "source": [
    "state_fidelity(rho_fit_prob, target_state)"
   ]
  },
  {
   "cell_type": "code",
   "execution_count": 57,
   "id": "df839050",
   "metadata": {},
   "outputs": [
    {
     "data": {
      "image/png": "[encoded data removed]",
      "text/plain": [
       "<Figure size 900x600 with 2 Axes>"
      ]
     },
     "metadata": {
      "needs_background": "light"
     },
     "output_type": "display_data"
    }
   ],
   "source": [
    "fig, ax = plt.subplots(1, 2, dpi=150)\n",
    "\n",
    "ax[0].imshow(np.real(rho_fit_prob))\n",
    "ax[1].imshow(np.real(target_state))\n",
    "ax[0].title.set_text(r\"$\\rho_{\\rm fit}$ via probability\")\n",
    "ax[1].title.set_text(r\"$\\rho_{\\rm targ}$\")"
   ]
  },
  {
   "cell_type": "markdown",
   "id": "f837707f",
   "metadata": {},
   "source": [
    "### (d) Fitting via Reconstructed Probabilities"
   ]
  },
  {
   "cell_type": "code",
   "execution_count": 69,
   "id": "6058f290",
   "metadata": {},
   "outputs": [],
   "source": [
    "ctf2 = CustomTomographyFitter(prob_results)"
   ]
  },
  {
   "cell_type": "code",
   "execution_count": 70,
   "id": "e60a298c",
   "metadata": {},
   "outputs": [],
   "source": [
    "rho_fit_parity2prob = ctf.fit(method='cvx', trace=1)\n",
    "rho_fit_parity2prob = make_positive_semidefinite(rho_fit_parity2prob)\n",
    "rho_fit_parity2prob *= 1 / np.trace(rho_fit_parity2prob)"
   ]
  },
  {
   "cell_type": "code",
   "execution_count": 71,
   "id": "ca618c7c",
   "metadata": {},
   "outputs": [
    {
     "data": {
      "text/plain": [
       "0.9959718192793845"
      ]
     },
     "execution_count": 71,
     "metadata": {},
     "output_type": "execute_result"
    }
   ],
   "source": [
    "state_fidelity(rho_fit_parity2prob, target_state)"
   ]
  },
  {
   "cell_type": "code",
   "execution_count": 67,
   "id": "27b47fd9",
   "metadata": {},
   "outputs": [
    {
     "data": {
      "image/png": "[encoded data removed]",
      "text/plain": [
       "<Figure size 900x600 with 2 Axes>"
      ]
     },
     "metadata": {
      "needs_background": "light"
     },
     "output_type": "display_data"
    }
   ],
   "source": [
    "fig, ax = plt.subplots(1, 2, dpi=150)\n",
    "\n",
    "ax[0].imshow(np.real(rho_fit_parity2prob))\n",
    "ax[1].imshow(np.real(target_state))\n",
    "ax[0].title.set_text(r\"$\\rho_{\\rm fit}$ via reconstructed probability\")\n",
    "ax[1].title.set_text(r\"$\\rho_{\\rm targ}$\")"
   ]
  },
  {
   "cell_type": "code",
   "execution_count": null,
   "id": "eb945d36",
   "metadata": {},
   "outputs": [],
   "source": [
    "ctf = CustomTomographyFitter(ct_data)"
   ]
  },
  {
   "cell_type": "code",
   "execution_count": null,
   "id": "8453945f-2b4a-4614-9fcc-101fa572eec5",
   "metadata": {},
   "outputs": [],
   "source": [
    "data, basis_matrix, weights = ctf._fitter_data(standard_weights=True, beta=0.5)"
   ]
  },
  {
   "cell_type": "code",
   "execution_count": null,
   "id": "9e323869-2a60-4362-8825-6651257a3632",
   "metadata": {},
   "outputs": [],
   "source": []
  }
 ],
 "metadata": {
  "kernelspec": {
   "display_name": "Python 3 (ipykernel)",
   "language": "python",
   "name": "python3"
  },
  "language_info": {
   "codemirror_mode": {
    "name": "ipython",
    "version": 3
   },
   "file_extension": ".py",
   "mimetype": "text/x-python",
   "name": "python",
   "nbconvert_exporter": "python",
   "pygments_lexer": "ipython3",
   "version": "3.9.5"
  }
 },
 "nbformat": 4,
 "nbformat_minor": 5
}
