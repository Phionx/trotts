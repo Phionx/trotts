{
 "cells": [
  {
   "cell_type": "code",
   "execution_count": 1,
   "id": "35a40841-3015-424f-ac64-61a0ccce2b97",
   "metadata": {},
   "outputs": [],
   "source": [
    "%load_ext autoreload\n",
    "%autoreload 2"
   ]
  },
  {
   "cell_type": "code",
   "execution_count": 2,
   "id": "a8479f2f-5f04-4515-b388-f37f3cc448af",
   "metadata": {},
   "outputs": [],
   "source": [
    "from trott import *\n",
    "import numpy as np\n",
    "import itertools"
   ]
  },
  {
   "cell_type": "markdown",
   "id": "457baf11-05c1-4ddb-a27e-bca31ddace44",
   "metadata": {},
   "source": [
    "# Load Results and Run Analysis"
   ]
  },
  {
   "cell_type": "code",
   "execution_count": 3,
   "id": "50d5fbb7-c286-4ae9-b9ad-f80971bd52fb",
   "metadata": {},
   "outputs": [],
   "source": [
    "results = np.load('data/3cnot_noiseless_sim_results_20220414__191350.npy',allow_pickle=True, ).item()"
   ]
  },
  {
   "cell_type": "code",
   "execution_count": 4,
   "id": "93df8948-16a6-4251-a9b6-2bcbaccf31c0",
   "metadata": {},
   "outputs": [],
   "source": [
    "res_analysis = run_analysis(results) "
   ]
  },
  {
   "cell_type": "markdown",
   "id": "7e9be63e-443e-404d-a5cb-19be887ccabd",
   "metadata": {},
   "source": [
    "# Original Data Map"
   ]
  },
  {
   "cell_type": "code",
   "execution_count": 5,
   "id": "01ebe866-cd25-4a63-a25f-0f8369855e09",
   "metadata": {},
   "outputs": [
    {
     "data": {
      "text/plain": [
       "{'0x6': 0.9954376220703125, '0x3': 0.00347900390625, '0x5': 0.0010833740234375}"
      ]
     },
     "execution_count": 5,
     "metadata": {},
     "output_type": "execute_result"
    }
   ],
   "source": [
    "test_og = res_analysis[\"data\"][19][\"data_map\"][\"ZZZ\"]\n",
    "norm = np.sum(list(test_og.values()))\n",
    "test_og = {key:val/norm for key, val in test_og.items()}\n",
    "test_og"
   ]
  },
  {
   "cell_type": "code",
   "execution_count": 6,
   "id": "4cef770c-4f5a-493a-8264-2f35ccb62cde",
   "metadata": {},
   "outputs": [],
   "source": [
    "example_parity_results = res_analysis[\"data\"][19][\"parity\"]\n",
    "# example_parity_results"
   ]
  },
  {
   "cell_type": "code",
   "execution_count": 7,
   "id": "740d0188-7a67-4e4b-8c99-6e12ba142380",
   "metadata": {},
   "outputs": [],
   "source": [
    "prob_results = parity2prob(example_parity_results, return_probs=True)"
   ]
  },
  {
   "cell_type": "code",
   "execution_count": 9,
   "id": "ce3d804d-45e6-4f46-ae2e-79e928133aeb",
   "metadata": {},
   "outputs": [
    {
     "data": {
      "text/plain": [
       "{'0x7': -5.340576171875e-05,\n",
       " '0x3': 0.003353542751736105,\n",
       " '0x5': 0.0010011461046007253,\n",
       " '0x1': -0.00010850694444441977,\n",
       " '0x6': 0.9956300523546007,\n",
       " '0x2': 0.00014071994357633955,\n",
       " '0x4': 2.1192762586774716e-05,\n",
       " '0x0': 1.52587890625e-05}"
      ]
     },
     "execution_count": 9,
     "metadata": {},
     "output_type": "execute_result"
    }
   ],
   "source": [
    "prob_results[\"ZZZ\"]"
   ]
  },
  {
   "cell_type": "code",
   "execution_count": null,
   "id": "8cc56a0b-f3ad-4763-83bc-206e1b532e52",
   "metadata": {},
   "outputs": [],
   "source": []
  }
 ],
 "metadata": {
  "kernelspec": {
   "display_name": "Python 3 (ipykernel)",
   "language": "python",
   "name": "python3"
  },
  "language_info": {
   "codemirror_mode": {
    "name": "ipython",
    "version": 3
   },
   "file_extension": ".py",
   "mimetype": "text/x-python",
   "name": "python",
   "nbconvert_exporter": "python",
   "pygments_lexer": "ipython3",
   "version": "3.9.5"
  }
 },
 "nbformat": 4,
 "nbformat_minor": 5
}
