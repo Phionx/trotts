{
 "cells": [
  {
   "cell_type": "code",
   "execution_count": 1,
   "id": "07bdba28-fe9c-446a-a30b-d7bccc7dfcd8",
   "metadata": {},
   "outputs": [],
   "source": [
    "%load_ext autoreload\n",
    "%autoreload 2"
   ]
  },
  {
   "cell_type": "code",
   "execution_count": 2,
   "id": "b1c50c72-7c8b-4f7e-8640-c39c0155e832",
   "metadata": {},
   "outputs": [],
   "source": [
    "from trott import *\n",
    "from qiskit import IBMQ\n",
    "from qiskit.providers.aer import QasmSimulator\n",
    "import numpy as np\n",
    "import warnings\n",
    "warnings.filterwarnings('ignore')"
   ]
  },
  {
   "cell_type": "code",
   "execution_count": 4,
   "id": "fc50b5d8-adcf-4d91-9755-6620b909c28f",
   "metadata": {},
   "outputs": [],
   "source": [
    "trott_gate = gen_3cnot_trott_gate() # using the basic trott method (this can be changed)x\n",
    "trott_steps_range = np.arange(4,25,1)\n",
    "unitary_folding_steps_range = np.arange(0,6,1)\n",
    "qcs = gen_st_qcs_range(trott_gate, trott_steps_range, unitary_folding_steps_range=unitary_folding_steps_range)\n",
    "# qcs[10][-2].draw() # e.g. 10 trott steps, example tomo circuit"
   ]
  },
  {
   "cell_type": "code",
   "execution_count": 8,
   "id": "afa0638f-83ed-470b-92eb-a86a78075062",
   "metadata": {},
   "outputs": [
    {
     "data": {
      "text/html": [
       "<pre style=\"word-wrap: normal;white-space: pre;background: #fff0;line-height: 1.1;font-family: &quot;Courier New&quot;,Courier,monospace\">                                                                    »\n",
       "q12_0: ─────────────────────────────────────────────────────────────»\n",
       "            ┌────────────┐┌────────────┐┌────────────┐┌────────────┐»\n",
       "q12_1: ─────┤0           ├┤0           ├┤0           ├┤0           ├»\n",
       "            │            ││            ││            ││            │»\n",
       "q12_2: ─────┤            ├┤            ├┤            ├┤            ├»\n",
       "       ┌───┐│            ││            ││            ││            │»\n",
       "q12_3: ┤ X ├┤1 Trot(π/4) ├┤1 Trot(π/4) ├┤1 Trot(π/4) ├┤1 Trot(π/4) ├»\n",
       "       └───┘│            ││            ││            ││            │»\n",
       "q12_4: ─────┤            ├┤            ├┤            ├┤            ├»\n",
       "       ┌───┐│            ││            ││            ││            │»\n",
       "q12_5: ┤ X ├┤2           ├┤2           ├┤2           ├┤2           ├»\n",
       "       └───┘└────────────┘└────────────┘└────────────┘└────────────┘»\n",
       "q12_6: ─────────────────────────────────────────────────────────────»\n",
       "                                                                    »\n",
       " c3: 3/═════════════════════════════════════════════════════════════»\n",
       "                                                                    »\n",
       "«                                                                     »\n",
       "«q12_0: ──────────────────────────────────────────────────────────────»\n",
       "«       ┌────────────┐┌───────────────┐┌────────────┐┌───────────────┐»\n",
       "«q12_1: ┤0           ├┤0              ├┤0           ├┤0              ├»\n",
       "«       │            ││               ││            ││               │»\n",
       "«q12_2: ┤            ├┤               ├┤            ├┤               ├»\n",
       "«       │            ││               ││            ││               │»\n",
       "«q12_3: ┤1 Trot(π/4) ├┤1 Trot_dg(π/4) ├┤1 Trot(π/4) ├┤1 Trot_dg(π/4) ├»\n",
       "«       │            ││               ││            ││               │»\n",
       "«q12_4: ┤            ├┤               ├┤            ├┤               ├»\n",
       "«       │            ││               ││            ││               │»\n",
       "«q12_5: ┤2           ├┤2              ├┤2           ├┤2              ├»\n",
       "«       └────────────┘└───────────────┘└────────────┘└───────────────┘»\n",
       "«q12_6: ──────────────────────────────────────────────────────────────»\n",
       "«                                                                     »\n",
       "« c3: 3/══════════════════════════════════════════════════════════════»\n",
       "«                                                                     »\n",
       "«                                       ░          \n",
       "«q12_0: ────────────────────────────────░──────────\n",
       "«       ┌────────────┐┌───────────────┐ ░ ┌─┐      \n",
       "«q12_1: ┤0           ├┤0              ├─░─┤M├──────\n",
       "«       │            ││               │ ░ └╥┘      \n",
       "«q12_2: ┤            ├┤               ├─░──╫───────\n",
       "«       │            ││               │ ░  ║ ┌─┐   \n",
       "«q12_3: ┤1 Trot(π/4) ├┤1 Trot_dg(π/4) ├─░──╫─┤M├───\n",
       "«       │            ││               │ ░  ║ └╥┘   \n",
       "«q12_4: ┤            ├┤               ├─░──╫──╫────\n",
       "«       │            ││               │ ░  ║  ║ ┌─┐\n",
       "«q12_5: ┤2           ├┤2              ├─░──╫──╫─┤M├\n",
       "«       └────────────┘└───────────────┘ ░  ║  ║ └╥┘\n",
       "«q12_6: ────────────────────────────────░──╫──╫──╫─\n",
       "«                                       ░  ║  ║  ║ \n",
       "« c3: 3/═══════════════════════════════════╩══╩══╩═\n",
       "«                                          0  1  2 </pre>"
      ],
      "text/plain": [
       "                                                                    »\n",
       "q12_0: ─────────────────────────────────────────────────────────────»\n",
       "            ┌────────────┐┌────────────┐┌────────────┐┌────────────┐»\n",
       "q12_1: ─────┤0           ├┤0           ├┤0           ├┤0           ├»\n",
       "            │            ││            ││            ││            │»\n",
       "q12_2: ─────┤            ├┤            ├┤            ├┤            ├»\n",
       "       ┌───┐│            ││            ││            ││            │»\n",
       "q12_3: ┤ X ├┤1 Trot(π/4) ├┤1 Trot(π/4) ├┤1 Trot(π/4) ├┤1 Trot(π/4) ├»\n",
       "       └───┘│            ││            ││            ││            │»\n",
       "q12_4: ─────┤            ├┤            ├┤            ├┤            ├»\n",
       "       ┌───┐│            ││            ││            ││            │»\n",
       "q12_5: ┤ X ├┤2           ├┤2           ├┤2           ├┤2           ├»\n",
       "       └───┘└────────────┘└────────────┘└────────────┘└────────────┘»\n",
       "q12_6: ─────────────────────────────────────────────────────────────»\n",
       "                                                                    »\n",
       " c3: 3/═════════════════════════════════════════════════════════════»\n",
       "                                                                    »\n",
       "«                                                                     »\n",
       "«q12_0: ──────────────────────────────────────────────────────────────»\n",
       "«       ┌────────────┐┌───────────────┐┌────────────┐┌───────────────┐»\n",
       "«q12_1: ┤0           ├┤0              ├┤0           ├┤0              ├»\n",
       "«       │            ││               ││            ││               │»\n",
       "«q12_2: ┤            ├┤               ├┤            ├┤               ├»\n",
       "«       │            ││               ││            ││               │»\n",
       "«q12_3: ┤1 Trot(π/4) ├┤1 Trot_dg(π/4) ├┤1 Trot(π/4) ├┤1 Trot_dg(π/4) ├»\n",
       "«       │            ││               ││            ││               │»\n",
       "«q12_4: ┤            ├┤               ├┤            ├┤               ├»\n",
       "«       │            ││               ││            ││               │»\n",
       "«q12_5: ┤2           ├┤2              ├┤2           ├┤2              ├»\n",
       "«       └────────────┘└───────────────┘└────────────┘└───────────────┘»\n",
       "«q12_6: ──────────────────────────────────────────────────────────────»\n",
       "«                                                                     »\n",
       "« c3: 3/══════════════════════════════════════════════════════════════»\n",
       "«                                                                     »\n",
       "«                                       ░          \n",
       "«q12_0: ────────────────────────────────░──────────\n",
       "«       ┌────────────┐┌───────────────┐ ░ ┌─┐      \n",
       "«q12_1: ┤0           ├┤0              ├─░─┤M├──────\n",
       "«       │            ││               │ ░ └╥┘      \n",
       "«q12_2: ┤            ├┤               ├─░──╫───────\n",
       "«       │            ││               │ ░  ║ ┌─┐   \n",
       "«q12_3: ┤1 Trot(π/4) ├┤1 Trot_dg(π/4) ├─░──╫─┤M├───\n",
       "«       │            ││               │ ░  ║ └╥┘   \n",
       "«q12_4: ┤            ├┤               ├─░──╫──╫────\n",
       "«       │            ││               │ ░  ║  ║ ┌─┐\n",
       "«q12_5: ┤2           ├┤2              ├─░──╫──╫─┤M├\n",
       "«       └────────────┘└───────────────┘ ░  ║  ║ └╥┘\n",
       "«q12_6: ────────────────────────────────░──╫──╫──╫─\n",
       "«                                       ░  ║  ║  ║ \n",
       "« c3: 3/═══════════════════════════════════╩══╩══╩═\n",
       "«                                          0  1  2 "
      ]
     },
     "execution_count": 8,
     "metadata": {},
     "output_type": "execute_result"
    }
   ],
   "source": [
    "qcs[(4,3)][-1].draw()"
   ]
  },
  {
   "cell_type": "markdown",
   "id": "8e91a39b-41ff-49bb-ade2-6ecc937f21d0",
   "metadata": {},
   "source": [
    "# Prepare Backend"
   ]
  },
  {
   "cell_type": "code",
   "execution_count": 9,
   "id": "7606c60c-6ca9-48d9-9741-ca3f000eba08",
   "metadata": {},
   "outputs": [],
   "source": [
    "# load IBMQ Account data\n",
    "\n",
    "# IBMQ.save_account(TOKEN)  # replace TOKEN with your API token string (https://quantum-computing.ibm.com/lab/docs/iql/manage/account/ibmq)\n",
    "provider = IBMQ.load_account()"
   ]
  },
  {
   "cell_type": "code",
   "execution_count": 10,
   "id": "e423993a-70b0-407b-9efb-1c9d76cd110d",
   "metadata": {},
   "outputs": [],
   "source": [
    "# Get backend for experiment\n",
    "provider = IBMQ.get_provider(hub='ibm-q-community', group='ibmquantumawards', project='open-science-22')\n",
    "jakarta = provider.get_backend('ibmq_jakarta')\n",
    "# properties = jakarta.properties()\n",
    "\n",
    "# Simulated backend based on ibmq_jakarta's device noise profile\n",
    "sim_noisy_jakarta = QasmSimulator.from_backend(provider.get_backend('ibmq_jakarta'))\n",
    "\n",
    "# Noiseless simulated backend\n",
    "sim = QasmSimulator()"
   ]
  },
  {
   "cell_type": "markdown",
   "id": "8d939a02-a7cd-4746-b563-20a6c820a43a",
   "metadata": {},
   "source": [
    "# Capture Data"
   ]
  },
  {
   "cell_type": "code",
   "execution_count": null,
   "id": "230b8174-2654-42fe-b7de-d11b40fa2e4c",
   "metadata": {},
   "outputs": [
    {
     "name": "stderr",
     "output_type": "stream",
     "text": [
      "  0%|                                                                                                                                                                                                 | 0/126 [00:00<?, ?it/s]"
     ]
    },
    {
     "name": "stdout",
     "output_type": "stream",
     "text": [
      "====================\n",
      "Running with trott_steps = (4, 0)\n",
      "Job ID 309a612e-d8c6-4fb0-8920-cf87697a99ba\n",
      "Job ID f0a51473-907e-43fa-8457-410733f39271\n",
      "Job ID 8b4ff018-a251-4af5-b989-27adee51c568\n",
      "Job ID 831ae1e2-e477-4a80-b52f-b853d1edfc1d\n",
      "Job ID 1052a7d5-925b-4f42-b42d-b071a75420d6\n",
      "Job ID 43ce01f1-278a-4161-9347-d6168de02351\n",
      "Job ID 8b8ff404-c2ad-42c8-83a7-5eeb6880fd7e\n",
      "Job ID 4f689948-9680-4da7-a9a3-100d5527c554\n",
      "Job Status: job has successfully run\n",
      "Job Status: job has successfully run\n",
      "Job Status: job has successfully run\n",
      "Job Status: job has successfully run\n",
      "Job Status: job has successfully run\n",
      "Job Status: job has successfully run\n",
      "Job Status: job has successfully run\n",
      "Job Status: job has successfully run\n"
     ]
    },
    {
     "name": "stderr",
     "output_type": "stream",
     "text": [
      "  1%|█▍                                                                                                                                                                                     | 1/126 [00:37<1:18:00, 37.45s/it]"
     ]
    },
    {
     "name": "stdout",
     "output_type": "stream",
     "text": [
      "====================\n",
      "Running with trott_steps = (4, 1)\n",
      "Job ID 302c666a-68a4-497b-be34-ff73e70c50f5\n",
      "Job ID 3a62af03-7936-4755-81e1-eabfa5a20182\n",
      "Job ID 51524c0f-6b11-4fe9-a7e9-05ec340c9098\n",
      "Job ID 8df44fa8-991f-4162-b5ba-5ed83adc6632\n",
      "Job ID 62fa194e-0c2c-4d82-a95c-7e31a8078b26\n",
      "Job ID 20df5de6-1a8d-49f6-a8f2-6473cc13650d\n",
      "Job ID c23a8ef2-bf88-41f7-9ddd-6709ea87926c\n",
      "Job ID 4372fc84-84b9-4f37-9690-3cb0d1cb6078\n",
      "Job Status: job has successfully run\n",
      "Job Status: job has successfully run\n",
      "Job Status: job has successfully run\n",
      "Job Status: job has successfully run\n",
      "Job Status: job has successfully run\n",
      "Job Status: job has successfully run\n",
      "Job Status: job has successfully run\n",
      "Job Status: job has successfully run\n"
     ]
    },
    {
     "name": "stderr",
     "output_type": "stream",
     "text": [
      "  2%|██▉                                                                                                                                                                                    | 2/126 [02:23<2:40:59, 77.90s/it]"
     ]
    },
    {
     "name": "stdout",
     "output_type": "stream",
     "text": [
      "====================\n",
      "Running with trott_steps = (4, 2)\n",
      "Job ID ab77c385-6394-4bea-8eb6-babb03216485\n",
      "Job ID 7540504f-cde0-4d46-9b22-80715096223c\n",
      "Job ID b79cfa44-62da-4e27-9753-9cb1ed9672ef\n",
      "Job ID a3d2d8ca-85e5-4779-86c3-9d025240ee69\n",
      "Job ID c952078f-a1e8-4e8b-adb3-b909e12e95bf\n",
      "Job ID 9ee6d3bc-b31f-4af6-a8a6-9f030e6efcf0\n",
      "Job ID 241f4d9d-85af-40b9-acce-3906de0dc362\n",
      "Job ID 25c69b0a-4d74-4305-a8b5-97119f48947b\n",
      "Job Status: job has successfully run\n",
      "Job Status: job has successfully run\n",
      "Job Status: job has successfully run\n",
      "Job Status: job has successfully run\n",
      "Job Status: job has successfully run\n",
      "Job Status: job has successfully run\n",
      "Job Status: job has successfully run\n",
      "Job Status: job has successfully run\n"
     ]
    },
    {
     "name": "stderr",
     "output_type": "stream",
     "text": [
      "  2%|████▎                                                                                                                                                                                  | 3/126 [04:18<3:13:56, 94.61s/it]"
     ]
    },
    {
     "name": "stdout",
     "output_type": "stream",
     "text": [
      "====================\n",
      "Running with trott_steps = (4, 3)\n",
      "Job ID e3bb8a1a-64db-4b5c-996f-75900e54ecd9\n",
      "Job ID 2bdf1c97-30ba-4835-b0c3-3015d0384070\n",
      "Job ID 9ee248c5-ceb9-4c86-8eff-5e170bc9a602\n",
      "Job ID 4339a51e-b117-4e92-84f3-ec393113ff54\n",
      "Job ID 777f6319-6298-4286-87da-c0d151db6ed4\n",
      "Job ID 84d65576-6ab5-4dcd-a8e8-20a9456426cc\n",
      "Job ID 4e90140b-fc3b-4b12-98b1-f5b4813c37fa\n",
      "Job ID 7ded5817-8d24-469f-8664-12e1b46d1ba6\n",
      "Job Status: job has successfully run\n",
      "Job Status: job has successfully run\n",
      "Job Status: job has successfully run\n",
      "Job Status: job has successfully run\n",
      "Job Status: job has successfully run\n",
      "Job Status: job has successfully run\n",
      "Job Status: job has successfully run\n",
      "Job Status: job has successfully run\n"
     ]
    },
    {
     "name": "stderr",
     "output_type": "stream",
     "text": [
      "  3%|█████▊                                                                                                                                                                                | 4/126 [06:19<3:33:38, 105.07s/it]"
     ]
    },
    {
     "name": "stdout",
     "output_type": "stream",
     "text": [
      "====================\n",
      "Running with trott_steps = (4, 4)\n",
      "Job ID 533be17b-6c07-42b1-a456-de7c046afa44\n",
      "Job ID 4a1337ce-dd26-45be-9246-3934b12191a4\n",
      "Job ID 1139b644-6394-4750-80e9-052cae12ab4c\n",
      "Job ID 816e84b1-9406-4a0f-be8f-19c99827e6a9\n",
      "Job ID 3ea3725f-7831-4a28-aed4-4e6d013c1515\n",
      "Job ID 7c30be61-4622-4b5c-a3a5-550d19537aad\n",
      "Job ID 2da7887d-0577-425c-ab83-5c8ceab9a3bb\n",
      "Job ID 6829a1d6-1c67-4887-abae-a8e314ff0a8a\n",
      "Job Status: job has successfully run\n",
      "Job Status: job has successfully run\n",
      "Job Status: job has successfully run\n",
      "Job Status: job has successfully run\n",
      "Job Status: job has successfully run\n",
      "Job Status: job has successfully run\n",
      "Job Status: job has successfully run\n",
      "Job Status: job has successfully run\n"
     ]
    },
    {
     "name": "stderr",
     "output_type": "stream",
     "text": [
      "  4%|███████▏                                                                                                                                                                              | 5/126 [08:33<3:52:59, 115.54s/it]"
     ]
    },
    {
     "name": "stdout",
     "output_type": "stream",
     "text": [
      "====================\n",
      "Running with trott_steps = (4, 5)\n",
      "Job ID 9d273ff1-950e-4629-acf9-a9ca8b7c1714\n",
      "Job ID 7fcafc59-b429-4ca2-a99f-7be3054f4383\n",
      "Job ID 06dae346-3e61-4d2b-ba20-a4a5149652dd\n",
      "Job ID 1b35ae4d-1b20-461d-a460-d5fbff598b0c\n",
      "Job ID b401740d-b17c-436d-9290-85d973912ac2\n",
      "Job ID e9cc854d-1ab7-4311-971d-8f3172506800\n",
      "Job ID 109a328f-220b-4307-85e4-ab3509093a78\n",
      "Job ID e32363b6-dee8-41a0-bc65-f4d6481bcb6a\n",
      "Job Status: job has successfully run\n",
      "Job Status: job has successfully run\n",
      "Job Status: job has successfully run\n",
      "Job Status: job has successfully run\n",
      "Job Status: job has successfully run\n",
      "Job Status: job has successfully run\n",
      "Job Status: job has successfully run\n",
      "Job Status: job has successfully run\n"
     ]
    },
    {
     "name": "stderr",
     "output_type": "stream",
     "text": [
      "  5%|████████▋                                                                                                                                                                             | 6/126 [10:39<3:58:18, 119.15s/it]"
     ]
    },
    {
     "name": "stdout",
     "output_type": "stream",
     "text": [
      "====================\n",
      "Running with trott_steps = (5, 0)\n",
      "Job ID c82bc5b9-8dc0-4cb3-b946-0cfa6e8fcdb6\n",
      "Job ID 92104de4-751b-4756-add2-de7f3c017412\n",
      "Job ID 4c10d935-ed74-4ff4-8430-5847222d6410\n",
      "Job ID b287b18d-e587-4ea0-8058-9254a343e5be\n",
      "Job ID 906ad7e3-42cf-45bd-94b8-6027c7614997\n",
      "Job ID 29563ca2-bf06-4a5e-b7a1-024eb13d08d3\n",
      "Job ID 48f5b59f-db95-468f-9c52-5e6c225d0a76\n",
      "Job ID 4346cb20-ee6a-4488-b70b-5c6d78ad7b54\n",
      "Job Status: job has successfully run\n",
      "Job Status: job has successfully run\n",
      "Job Status: job has successfully run\n",
      "Job Status: job has successfully run\n",
      "Job Status: job has successfully run\n",
      "Job Status: job has successfully run\n",
      "Job Status: job has successfully run\n",
      "Job Status: job has successfully run\n"
     ]
    },
    {
     "name": "stderr",
     "output_type": "stream",
     "text": [
      "  6%|██████████▏                                                                                                                                                                            | 7/126 [11:26<3:09:49, 95.71s/it]"
     ]
    },
    {
     "name": "stdout",
     "output_type": "stream",
     "text": [
      "====================\n",
      "Running with trott_steps = (5, 1)\n",
      "Job ID f83f5345-ed75-4cec-8124-0d8ac6b7fa70\n",
      "Job ID 0c178d60-05ed-4521-bae7-8323a3f628a0\n",
      "Job ID 2aa10ebd-e92d-44bc-a155-0675e4e5909b\n",
      "Job ID ced95238-a6ff-4467-b94d-095cc769ddd7\n",
      "Job ID 22a0f984-0988-4cd8-a9c1-d23dc0cb0471\n",
      "Job ID dc4e0c6e-fcb7-4538-92e6-3c2d04f1a59b\n",
      "Job ID cd39e732-b5ba-49c4-b763-99c8e3ddc8a7\n",
      "Job ID bb84b630-caf6-4139-8cdb-9ab6262786ee\n",
      "Job Status: job has successfully run\n",
      "Job Status: job has successfully run\n",
      "Job Status: job has successfully run\n",
      "Job Status: job has successfully run\n",
      "Job Status: job has successfully run\n",
      "Job Status: job has successfully run\n",
      "Job Status: job has successfully run\n",
      "Job Status: job has successfully run\n"
     ]
    },
    {
     "name": "stderr",
     "output_type": "stream",
     "text": [
      "  6%|███████████▌                                                                                                                                                                          | 8/126 [13:18<3:18:16, 100.81s/it]"
     ]
    },
    {
     "name": "stdout",
     "output_type": "stream",
     "text": [
      "====================\n",
      "Running with trott_steps = (5, 2)\n",
      "Job ID 6f4f84c3-696e-470f-957c-9ced36a1d072\n",
      "Job ID 0eda5d28-0b16-4b77-ae6a-9d6a35e16502\n",
      "Job ID 782d62ba-b259-47fc-ab2a-e0fcecc6089a\n",
      "Job ID e3faffd2-9db2-4674-9d64-421349529501\n",
      "Job ID 1fce7f96-6dd1-4991-bd15-2c57ae8b1c80\n",
      "Job ID af610483-2e67-4677-ab9f-db0f7bf7b099\n",
      "Job ID c444b379-7869-4e2b-8817-e438a690a27f\n",
      "Job ID 55a46616-4aa2-4730-b8ed-3f0c9a49a016\n",
      "Job Status: job has successfully run\n",
      "Job Status: job has successfully run\n",
      "Job Status: job has successfully run\n",
      "Job Status: job has successfully run\n",
      "Job Status: job has successfully run\n",
      "Job Status: job has successfully run\n",
      "Job Status: job has successfully run\n",
      "Job Status: job has successfully run\n"
     ]
    },
    {
     "name": "stderr",
     "output_type": "stream",
     "text": [
      "  7%|█████████████                                                                                                                                                                         | 9/126 [15:13<3:25:04, 105.16s/it]"
     ]
    },
    {
     "name": "stdout",
     "output_type": "stream",
     "text": [
      "====================\n",
      "Running with trott_steps = (5, 3)\n",
      "Job ID 2eaf426e-6b84-4d69-911d-91781cb9628f\n",
      "Job ID 0675234e-2ad6-430e-8365-3867441160cf\n",
      "Job ID 259dcc75-bea9-4681-987b-fd4080e32ba0\n",
      "Job ID 910ded83-3a3c-4f18-8860-bffd603887bd\n",
      "Job ID 95641d0a-9b7d-4ee3-8d7b-6381ae16b768\n",
      "Job ID 24bfaa73-3b01-48d4-94bf-679ad9c1775d\n",
      "Job ID baf838bc-578b-4852-aa2a-a1090136f61f\n",
      "Job ID 1ea469de-ef48-4aba-b4fe-23629e8869fc\n",
      "Job Status: job has successfully run\n",
      "Job Status: job has successfully run\n",
      "Job Status: job has successfully run\n",
      "Job Status: job has successfully run\n",
      "Job Status: job has successfully run\n",
      "Job Status: job has successfully run\n",
      "Job Status: job has successfully run\n",
      "Job Status: job has successfully run\n"
     ]
    },
    {
     "name": "stderr",
     "output_type": "stream",
     "text": [
      "  8%|██████████████▎                                                                                                                                                                      | 10/126 [17:17<3:34:24, 110.90s/it]"
     ]
    },
    {
     "name": "stdout",
     "output_type": "stream",
     "text": [
      "====================\n",
      "Running with trott_steps = (5, 4)\n",
      "Job ID 1df60911-3eba-454e-8fe1-b3c225e83148\n",
      "Job ID 6b199019-fa99-44a2-b244-ca4213a0e6a3\n",
      "Job ID 4c7e23d7-d235-453d-a3b4-e8012d525efb\n",
      "Job ID b7534e1b-3c08-4b76-8a61-3e6dcafebd2b\n",
      "Job ID d7fc86c3-42b9-4d7a-a2b7-89aea85c1e78\n",
      "Job ID a17b0ee8-a5b5-4735-b212-dbd2c23c2a37\n",
      "Job ID 5303dfda-42a1-4182-863c-5716bae40e38\n",
      "Job ID 31874fc6-03b1-40a2-b36a-799869addd9c\n",
      "Job Status: job has successfully run\n",
      "Job Status: job has successfully run\n",
      "Job Status: job has successfully run\n",
      "Job Status: job has successfully run\n",
      "Job Status: job has successfully run\n",
      "Job Status: job has successfully run\n",
      "Job Status: job has successfully run\n",
      "Job Status: job has successfully run\n"
     ]
    },
    {
     "name": "stderr",
     "output_type": "stream",
     "text": [
      "  9%|███████████████▊                                                                                                                                                                     | 11/126 [19:33<3:47:40, 118.78s/it]"
     ]
    },
    {
     "name": "stdout",
     "output_type": "stream",
     "text": [
      "====================\n",
      "Running with trott_steps = (5, 5)\n",
      "Job ID 5f165dbc-e8fb-43d0-922a-3678c005cf2a\n",
      "Job ID d973f490-c222-465e-83dd-6c37fd683138\n",
      "Job ID b1a4dc5d-ad12-4db3-9400-a35b767a6ed0\n",
      "Job ID d3c9250d-5b5c-4f4f-a7ad-287c058c9c54\n",
      "Job ID 845d8238-38df-47f2-ba3a-01680926673a\n",
      "Job ID 4d55cc3f-c6d3-47b0-98ae-f817740c46f7\n",
      "Job ID 7ee2a1c1-eee2-4248-8f34-8b1969d0d46e\n",
      "Job ID 1509855e-c0c3-496d-ac0c-709d763e70ee\n",
      "Job Status: job has successfully run\n",
      "Job Status: job has successfully run\n",
      "Job Status: job has successfully run\n",
      "Job Status: job has successfully run\n",
      "Job Status: job has successfully run\n",
      "Job Status: job has successfully run\n",
      "Job Status: job has successfully run\n",
      "Job Status: job has successfully run\n"
     ]
    },
    {
     "name": "stderr",
     "output_type": "stream",
     "text": [
      " 10%|█████████████████▏                                                                                                                                                                   | 12/126 [22:07<4:06:06, 129.53s/it]"
     ]
    },
    {
     "name": "stdout",
     "output_type": "stream",
     "text": [
      "====================\n",
      "Running with trott_steps = (6, 0)\n",
      "Job ID b0295971-c290-4d1d-9de2-6633b88de14c\n",
      "Job ID 5d5db3e7-e772-40c7-953f-2081e4c00c7f\n",
      "Job ID c0cc960d-3a4b-4c08-a7c3-72eade217b6b\n",
      "Job ID 08d0bcb1-f976-4cfd-aa99-aa6d88717045\n",
      "Job ID 0de7eab4-5ace-4432-90ef-c53c53e17390\n",
      "Job ID 9b47750b-b2d2-4126-9f8c-1e0944ceedf3\n",
      "Job ID 39500948-f437-4e9d-9a43-1e19e3560bd3\n",
      "Job ID c5acffd7-ba6d-4f7f-bc3a-df584025c0e0\n",
      "Job Status: job has successfully run\n",
      "Job Status: job has successfully run\n",
      "Job Status: job has successfully run\n",
      "Job Status: job has successfully run\n",
      "Job Status: job has successfully run\n",
      "Job Status: job has successfully run\n",
      "Job Status: job has successfully run\n",
      "Job Status: job has successfully run\n"
     ]
    },
    {
     "name": "stderr",
     "output_type": "stream",
     "text": [
      " 10%|██████████████████▋                                                                                                                                                                  | 13/126 [23:04<3:22:25, 107.49s/it]"
     ]
    },
    {
     "name": "stdout",
     "output_type": "stream",
     "text": [
      "====================\n",
      "Running with trott_steps = (6, 1)\n",
      "Job ID c1f506fc-db04-4fde-8f03-f27daf473803\n",
      "Job ID 486dd056-f6b4-4121-8f23-6111e205eae1\n",
      "Job ID 6fe5ae9e-5ba4-47fd-926f-7ec1a39c0535\n",
      "Job ID 2d3d490d-870b-42e5-ae45-659e1c25a54c\n",
      "Job ID 5e57dfab-8e14-4944-98c4-3690f53913fd\n",
      "Job ID d31a8117-33db-471a-a0c8-2b562e6b06a8\n",
      "Job ID 3e1cb218-3aa4-40e0-a942-ad7d5aadd1d7\n",
      "Job ID 755fa8db-d9b7-4deb-bdd7-15747c4e9291\n",
      "Job Status: job has successfully run\n",
      "Job Status: job has successfully run\n",
      "Job Status: job has successfully run\n",
      "Job Status: job has successfully run\n",
      "Job Status: job has successfully run\n",
      "Job Status: job has successfully run\n",
      "Job Status: job has successfully run\n",
      "Job Status: job has successfully run\n"
     ]
    },
    {
     "name": "stderr",
     "output_type": "stream",
     "text": [
      " 11%|████████████████████                                                                                                                                                                 | 14/126 [25:23<3:38:26, 117.02s/it]"
     ]
    },
    {
     "name": "stdout",
     "output_type": "stream",
     "text": [
      "====================\n",
      "Running with trott_steps = (6, 2)\n",
      "Job ID 834421b1-3246-46ac-a3de-c2247d1ed11a\n",
      "Job ID bb173f4e-b609-4f82-ae07-a0266e690c82\n",
      "Job ID d6fa4684-6a61-4ba5-8af0-a8e834135879\n",
      "Job ID a570002c-5fc1-4bfa-84de-2eb85dc3f9ec\n",
      "Job ID 06e1b400-7371-406c-baf7-c32749b2fe87\n",
      "Job ID aa6c7613-ee55-40a0-b6a0-2705aff96bba\n",
      "Job ID d35ba97a-3448-4cea-b68e-952af1a75d6d\n",
      "Job ID c2972e40-3e6d-45f6-8d94-44a65e46bc52\n",
      "Job Status: job has successfully run\n",
      "Job Status: job has successfully run\n",
      "Job Status: job has successfully run\n",
      "Job Status: job has successfully run\n",
      "Job Status: job has successfully run\n",
      "Job Status: job has successfully run\n",
      "Job Status: job has successfully run\n",
      "Job Status: job has successfully run\n"
     ]
    },
    {
     "name": "stderr",
     "output_type": "stream",
     "text": [
      " 12%|█████████████████████▌                                                                                                                                                               | 15/126 [27:49<3:52:38, 125.75s/it]"
     ]
    },
    {
     "name": "stdout",
     "output_type": "stream",
     "text": [
      "====================\n",
      "Running with trott_steps = (6, 3)\n",
      "Job ID 851b4f9d-5eb7-47a1-baf4-ec06194d100b\n",
      "Job ID 834f1b27-67dc-46d2-8c9b-b0f4c362c971\n",
      "Job ID cb0f5c7a-ff63-473b-a924-c4f44480181d\n",
      "Job ID 2272c3b1-ffc9-4255-a183-cbcd84a02d4f\n",
      "Job ID 97d584a5-b7b5-42b7-a713-e646589e1c74\n",
      "Job ID 8a494993-5f77-4680-a123-1b674e51acef\n",
      "Job ID 3883c57b-1218-4d1c-a489-f0041b770f59\n",
      "Job ID 6d66711f-c802-40a6-9020-ca039b22f2c6\n",
      "Job Status: job has successfully run\n",
      "Job Status: job has successfully run\n",
      "Job Status: job has successfully run\n",
      "Job Status: job has successfully run\n",
      "Job Status: job has successfully run\n",
      "Job Status: job has successfully run\n",
      "Job Status: job has successfully run\n",
      "Job Status: job has successfully run\n"
     ]
    },
    {
     "name": "stderr",
     "output_type": "stream",
     "text": [
      " 13%|██████████████████████▉                                                                                                                                                              | 16/126 [30:25<4:07:13, 134.85s/it]"
     ]
    },
    {
     "name": "stdout",
     "output_type": "stream",
     "text": [
      "====================\n",
      "Running with trott_steps = (6, 4)\n",
      "Job ID ed28e73c-f3a8-4986-aecd-cd662dc95bf4\n",
      "Job ID ed5d721f-be0e-4e8d-8022-fed1f3a33777\n",
      "Job ID fd01bc68-152d-4ee7-bb9c-12182984c349\n",
      "Job ID ade341e7-1d36-438b-a525-0c87641c158f\n",
      "Job ID a1beab21-793a-47d5-925b-5aa0e9cd42a6\n",
      "Job ID 70f76970-377e-4692-95af-9e85a47b124b\n",
      "Job ID 9b382d77-31b5-4053-adde-3eda94b626ca\n",
      "Job ID 0c678a64-1d78-44ae-91df-bd50f3bfd253\n",
      "Job Status: job has successfully run\n",
      "Job Status: job has successfully run\n",
      "Job Status: job has successfully run\n",
      "Job Status: job has successfully run\n",
      "Job Status: job has successfully run\n",
      "Job Status: job has successfully run\n",
      "Job Status: job has successfully run\n",
      "Job Status: job has successfully run\n"
     ]
    },
    {
     "name": "stderr",
     "output_type": "stream",
     "text": [
      " 13%|████████████████████████▍                                                                                                                                                            | 17/126 [34:21<5:00:20, 165.32s/it]"
     ]
    },
    {
     "name": "stdout",
     "output_type": "stream",
     "text": [
      "====================\n",
      "Running with trott_steps = (6, 5)\n",
      "Job ID 0a3b4582-efec-4f7c-b054-49b5615e3785\n",
      "Job ID 03844f6b-a533-4d8a-acf8-6893672bc51a\n",
      "Job ID 907bbf8f-7fa0-4ca1-9794-c3f0fdca3383\n",
      "Job ID f2d432e2-085c-4297-9df9-324521fa973d\n",
      "Job ID c37a0182-8846-4e56-9ad3-08fa37db793c\n",
      "Job ID 06c04ac1-0b5d-4734-8490-dd8809548c44\n",
      "Job ID d33e29c4-59a4-4515-b189-7497382da487\n",
      "Job ID e597a3ed-af17-47a1-8664-8fcd59351eea\n",
      "Job Status: job has successfully run\n",
      "Job Status: job has successfully run\n",
      "Job Status: job has successfully run\n",
      "Job Status: job has successfully run\n",
      "Job Status: job has successfully run\n",
      "Job Status: job has successfully run\n",
      "Job Status: job has successfully run\n",
      "Job Status: job has successfully run\n"
     ]
    },
    {
     "name": "stderr",
     "output_type": "stream",
     "text": [
      " 14%|█████████████████████████▊                                                                                                                                                           | 18/126 [37:07<4:57:46, 165.43s/it]"
     ]
    },
    {
     "name": "stdout",
     "output_type": "stream",
     "text": [
      "====================\n",
      "Running with trott_steps = (7, 0)\n",
      "Job ID b3eb10c8-3d8f-46b1-94a9-2c19674420f0\n",
      "Job ID e1e55f20-7a03-440a-a7be-dd28f78ffd19\n",
      "Job ID 5c365aa2-6301-4581-a3d8-cca26f570d54\n",
      "Job ID 3c985de0-5daf-45ed-9734-dec5a6e505e5\n",
      "Job ID d042daa8-65fb-4c85-b6c6-0b7d9762d1e4\n",
      "Job ID e6a09a76-5174-46d9-b808-8682f130d8ec\n",
      "Job ID a295be54-a37c-4b75-823f-199ad0d5b174\n",
      "Job ID b218d2c7-120b-485b-b538-23c457fab77e\n",
      "Job Status: job has successfully run\n",
      "Job Status: job has successfully run\n",
      "Job Status: job has successfully run\n",
      "Job Status: job has successfully run\n",
      "Job Status: job has successfully run\n",
      "Job Status: job has successfully run\n",
      "Job Status: job has successfully run\n",
      "Job Status: job has successfully run\n"
     ]
    },
    {
     "name": "stderr",
     "output_type": "stream",
     "text": [
      " 15%|███████████████████████████▎                                                                                                                                                         | 19/126 [38:09<3:59:25, 134.25s/it]"
     ]
    },
    {
     "name": "stdout",
     "output_type": "stream",
     "text": [
      "====================\n",
      "Running with trott_steps = (7, 1)\n",
      "Job ID 65d8cfd6-704b-4ba8-b4ce-8bdb02a084e7\n",
      "Job ID 96bbb02c-33c5-4842-83bd-185f8e8dcf0d\n",
      "Job ID f86009d4-8d8d-49d0-9efc-677161fda174\n",
      "Job ID 76d5a5c0-a2c5-4ae8-95c1-7067afcd4bc1\n",
      "Job ID 361befd4-579d-45d0-b2a7-b90d01dae5e0\n",
      "Job ID 032d914c-141a-46cb-87f4-8fadac60516b\n",
      "Job ID aae7cf6a-b5b4-42ab-8d5c-9ea94b9c58b0\n",
      "Job ID 8d8889b8-8ad3-4a7e-930e-8a52aa712c1a\n",
      "Job Status: job has successfully run\n",
      "Job Status: job has successfully run\n",
      "Job Status: job has successfully run\n",
      "Job Status: job has successfully run\n",
      "Job Status: job has successfully run\n",
      "Job Status: job has successfully run\n",
      "Job Status: job has successfully run\n",
      "Job Status: job has successfully run\n"
     ]
    },
    {
     "name": "stderr",
     "output_type": "stream",
     "text": [
      " 16%|████████████████████████████▋                                                                                                                                                        | 20/126 [40:32<4:01:57, 136.96s/it]"
     ]
    },
    {
     "name": "stdout",
     "output_type": "stream",
     "text": [
      "====================\n",
      "Running with trott_steps = (7, 2)\n",
      "Job ID e34d4822-e8bd-4974-8662-948e98c1826f\n",
      "Job ID 4a684fa4-ae0e-4a60-b7da-bd748da76f08\n",
      "Job ID 0692828c-3680-45a0-af64-e9b6f5aaf5ff\n",
      "Job ID 963952c4-cb89-461e-8e9d-c6f839e8d153\n",
      "Job ID a3c98415-2d6b-45d7-95ba-b36affd1202b\n",
      "Job ID 0cedd4e8-0879-4dbe-915f-e60fed02dea4\n",
      "Job ID 6daeb49c-1233-4284-9772-66e075efe528\n",
      "Job ID 2b89e793-11f8-4a1a-9519-8eb04051cfb3\n",
      "Job Status: job has successfully run\n",
      "Job Status: job has successfully run\n",
      "Job Status: job has successfully run\n",
      "Job Status: job has successfully run\n",
      "Job Status: job has successfully run\n",
      "Job Status: job has successfully run\n",
      "Job Status: job has successfully run\n",
      "Job Status: job has successfully run\n"
     ]
    },
    {
     "name": "stderr",
     "output_type": "stream",
     "text": [
      " 17%|██████████████████████████████▏                                                                                                                                                      | 21/126 [43:05<4:08:01, 141.73s/it]"
     ]
    },
    {
     "name": "stdout",
     "output_type": "stream",
     "text": [
      "====================\n",
      "Running with trott_steps = (7, 3)\n",
      "Job ID 6cb6d1fa-cd98-4326-ae2e-db1160b9e659\n",
      "Job ID 920e3d95-3136-425f-8435-7ea4d1fb71be\n",
      "Job ID fbe45977-adfa-4512-bed8-6f922deec865\n",
      "Job ID 183d7779-39c1-4076-91fc-25fcca662a52\n",
      "Job ID fb575b2f-25d9-4180-866a-d69c318cf021\n",
      "Job ID 0f5a8b07-0e11-496d-b6d0-0c6aff209045\n",
      "Job ID bcb2fc48-e463-44b7-9169-1d7c4b086392\n",
      "Job ID 69050b1f-53cf-438f-ab20-524d5837f8a5\n",
      "Job Status: job has successfully run\n",
      "Job Status: job has successfully run\n",
      "Job Status: job has successfully run\n",
      "Job Status: job has successfully run\n",
      "Job Status: job has successfully run\n",
      "Job Status: job has successfully run\n",
      "Job Status: job has successfully run\n",
      "Job Status: job has successfully run\n"
     ]
    },
    {
     "name": "stderr",
     "output_type": "stream",
     "text": [
      " 17%|███████████████████████████████▌                                                                                                                                                     | 22/126 [45:50<4:17:46, 148.72s/it]"
     ]
    },
    {
     "name": "stdout",
     "output_type": "stream",
     "text": [
      "====================\n",
      "Running with trott_steps = (7, 4)\n",
      "Job ID 50ee900a-cfd6-4c81-b665-ebe1d04567b6\n",
      "Job ID 0e90899a-61b4-491a-bffd-d9099be94f42\n",
      "Job ID ef278c06-f1a0-423a-a37e-d0ce41de6f80\n",
      "Job ID b60b92af-2a8c-4e8b-9f7e-605909f991c2\n",
      "Job ID c9ce9ee2-fbd4-4044-91dc-79f6c3ec25da\n",
      "Job ID a77668a2-18b5-41e3-a5c1-714038191094\n",
      "Job ID 3a72e86f-9139-4883-98f1-ceea5d0b5329\n",
      "Job ID 908217cd-9ddf-44e3-aed3-f85521abca9d\n",
      "Job Status: job has successfully run\n",
      "Job Status: job has successfully run\n",
      "Job Status: job has successfully run\n",
      "Job Status: job has successfully run\n",
      "Job Status: job has successfully run\n",
      "Job Status: job has successfully run\n",
      "Job Status: job has successfully run\n",
      "Job Status: job has successfully run\n"
     ]
    },
    {
     "name": "stderr",
     "output_type": "stream",
     "text": [
      " 18%|█████████████████████████████████                                                                                                                                                    | 23/126 [48:39<4:25:56, 154.92s/it]"
     ]
    },
    {
     "name": "stdout",
     "output_type": "stream",
     "text": [
      "====================\n",
      "Running with trott_steps = (7, 5)\n",
      "Job ID 75b055b2-f367-4aca-ac94-3052f007c710\n",
      "Job ID 50671ef8-f137-4fe6-8d9d-5495a81bd913\n",
      "Job ID cd98e790-d13c-47af-be30-1055ba20b673\n",
      "Job ID b43793ec-f595-49d9-b171-88df4598ba74\n",
      "Job ID 5b267df2-e1c0-4d2b-9d42-39b6bdfa30c8\n",
      "Job ID 0df7de12-52ee-47a6-8a0f-09d7e960d829\n",
      "Job ID 3050a2d5-7fe3-40cb-a9e7-cae15b729801\n",
      "Job ID e08972aa-c715-41fc-90f9-97dd2233dd49\n",
      "Job Status: job has successfully run\n",
      "Job Status: job has successfully run\n",
      "Job Status: job has successfully run\n",
      "Job Status: job has successfully run\n",
      "Job Status: job has successfully run\n",
      "Job Status: job has successfully run\n",
      "Job Status: job has successfully run\n",
      "Job Status: job has successfully run\n"
     ]
    },
    {
     "name": "stderr",
     "output_type": "stream",
     "text": [
      " 19%|██████████████████████████████████▍                                                                                                                                                  | 24/126 [51:37<4:35:04, 161.81s/it]"
     ]
    },
    {
     "name": "stdout",
     "output_type": "stream",
     "text": [
      "====================\n",
      "Running with trott_steps = (8, 0)\n",
      "Job ID 835c4daa-dcbb-41bc-96ef-430d93d2c3ec\n",
      "Job ID eebc75c3-d18d-4172-ab65-fede243831c9\n",
      "Job ID cbabfb22-bc84-4823-a6f6-b0039f3c67b0\n",
      "Job ID 1fddde5e-73dc-47be-9bb1-eb6940debb31\n",
      "Job ID 871cb743-f106-4f41-a08a-983bbc0210c7\n",
      "Job ID 8a313e35-33f8-447f-ae2a-46fda4e3443f\n",
      "Job ID ae76ee4e-8817-4001-8b1a-89a4da61798b\n",
      "Job ID d409920d-7a8e-4414-94a9-e3bd38f302e1\n",
      "Job Status: job has successfully run\n",
      "Job Status: job has successfully run\n",
      "Job Status: job has successfully run\n",
      "Job Status: job has successfully run\n",
      "Job Status: job has successfully run\n",
      "Job Status: job has successfully run\n",
      "Job Status: job has successfully run\n",
      "Job Status: job has successfully run\n"
     ]
    },
    {
     "name": "stderr",
     "output_type": "stream",
     "text": [
      " 20%|███████████████████████████████████▉                                                                                                                                                 | 25/126 [52:41<3:42:42, 132.30s/it]"
     ]
    },
    {
     "name": "stdout",
     "output_type": "stream",
     "text": [
      "====================\n",
      "Running with trott_steps = (8, 1)\n",
      "Job ID accb010a-00cf-45ef-bbb4-55cb43011960\n",
      "Job ID 85e80078-751f-4bf6-a6bf-e1c9cbf7b668\n",
      "Job ID ed0895ef-e4ea-434f-82e9-a39592e7ff46\n",
      "Job ID 76d22da2-e69e-4152-9c35-3b4a7c99400b\n",
      "Job ID 63e5bcf7-c7fa-4d28-883f-f2ebba06b274\n",
      "Job ID ae68e650-5b5c-4d30-9bca-696a8cfd147a\n",
      "Job ID f420ba15-d6c4-4a49-bcaa-275c63b35639\n",
      "Job ID fa6be6fa-2fd2-4154-a0fe-2c1982643f80\n",
      "Job Status: job has successfully run\n",
      "Job Status: job has successfully run\n",
      "Job Status: job has successfully run\n",
      "Job Status: job has successfully run\n",
      "Job Status: job has successfully run\n",
      "Job Status: job has successfully run\n",
      "Job Status: job has successfully run\n",
      "Job Status: job has successfully run\n"
     ]
    },
    {
     "name": "stderr",
     "output_type": "stream",
     "text": [
      " 21%|█████████████████████████████████████▎                                                                                                                                               | 26/126 [56:17<4:22:47, 157.68s/it]"
     ]
    },
    {
     "name": "stdout",
     "output_type": "stream",
     "text": [
      "====================\n",
      "Running with trott_steps = (8, 2)\n",
      "Job ID d825edf2-45de-41d0-91b9-58ee4edbb338\n",
      "Job ID cb1826b3-07ed-4e82-b294-eb709a7a0fc3\n",
      "Job ID 2b2a2ef3-b623-4702-87bd-44af2ff275af\n",
      "Job ID 1eaeab77-a6ea-43ef-9576-e9f8f4d89012\n",
      "Job ID 8ffbb630-ef09-4df7-be7c-8b79396ceb0e\n",
      "Job ID a334ccdb-7936-4526-bbbc-61a69e5f684c\n",
      "Job ID 2a0244b4-f584-4a1b-b5e7-36f51e16f94c\n",
      "Job ID 932ebf38-ad17-4243-abd6-f8a37f45b88c\n",
      "Job Status: job has successfully run\n",
      "Job Status: job has successfully run\n",
      "Job Status: job has successfully run\n",
      "Job Status: job has successfully run\n",
      "Job Status: job has successfully run\n",
      "Job Status: job has successfully run\n",
      "Job Status: job has successfully run\n",
      "Job Status: job has successfully run\n"
     ]
    },
    {
     "name": "stderr",
     "output_type": "stream",
     "text": [
      " 21%|██████████████████████████████████████▎                                                                                                                                            | 27/126 [1:02:38<6:10:26, 224.51s/it]"
     ]
    },
    {
     "name": "stdout",
     "output_type": "stream",
     "text": [
      "====================\n",
      "Running with trott_steps = (8, 3)\n",
      "Job ID 546318e4-72b0-42fc-b7b2-31d153f178f1\n",
      "Job ID 0bd66d38-0dfa-4b9d-9be8-264122b35fa7\n",
      "Job ID b2326ab2-b35c-467b-833e-4ab0c261b902\n",
      "Job ID 99f8e724-833b-4d9d-82c5-ab1dc7014eeb\n",
      "Job ID 06e2b5f1-e25c-46c4-9e6b-f0f4de93ccf1\n",
      "Job ID aa10c1b8-a8f3-434d-8fe2-1f80e552b4ed\n",
      "Job ID d59eb342-303a-4377-9b16-488e2d873064\n",
      "Job ID 7a655b2a-c089-470d-a2bd-0cd948d7ac7d\n",
      "Job Status: job has successfully run\n",
      "Job Status: job has successfully run\n",
      "Job Status: job has successfully run\n",
      "Job Status: job has successfully run\n",
      "Job Status: job has successfully run\n",
      "Job Status: job has successfully run\n",
      "Job Status: job has successfully run\n",
      "Job Status: job has successfully run\n"
     ]
    },
    {
     "name": "stderr",
     "output_type": "stream",
     "text": [
      " 22%|███████████████████████████████████████▊                                                                                                                                           | 28/126 [1:08:23<7:05:34, 260.56s/it]"
     ]
    },
    {
     "name": "stdout",
     "output_type": "stream",
     "text": [
      "====================\n",
      "Running with trott_steps = (8, 4)\n",
      "Job ID f7d15053-9c19-4352-9988-152635092d75\n",
      "Job ID 37b82ca4-d2d3-4156-b2f6-504f7cd48856\n",
      "Job ID fc70d50c-0f42-429a-9e64-7eb767ed0447\n",
      "Job ID 6be5ad7a-bbc2-43a1-9818-33341d96a017\n",
      "Job ID 209a5f56-7628-4afa-b3c6-1a326a3cbbfa\n",
      "Job ID fc2825b2-a509-449b-b725-d62ce2e9d1f0\n",
      "Job ID f8b2eabb-7567-404e-a413-7a4779ad452f\n",
      "Job ID 1df67da6-8f2a-4e02-b6d5-d67b4091979e\n",
      "Job Status: job has successfully run\n",
      "Job Status: job has successfully run\n",
      "Job Status: job has successfully run\n",
      "Job Status: job has successfully run\n",
      "Job Status: job has successfully run\n",
      "Job Status: job has successfully run\n",
      "Job Status: job has successfully run\n",
      "Job Status: job has successfully run\n"
     ]
    },
    {
     "name": "stderr",
     "output_type": "stream",
     "text": [
      " 23%|█████████████████████████████████████████▏                                                                                                                                         | 29/126 [1:14:51<8:03:07, 298.84s/it]"
     ]
    },
    {
     "name": "stdout",
     "output_type": "stream",
     "text": [
      "====================\n",
      "Running with trott_steps = (8, 5)\n",
      "Job ID ed55ff98-4bca-41a2-b3f3-ad7c1769555e\n",
      "Job ID 27bfc1e1-bd51-4e59-8a5d-8ce5d3425009\n",
      "Job ID b3635c06-c94c-450e-aa2a-3e5399f6bbb8\n",
      "Job ID e6091b75-67d3-49f7-8637-41b100db5dfc\n",
      "Job ID 156c9c25-8925-4f74-81b2-9adcf80b3808\n",
      "Job ID fa680d89-0f31-495a-8414-378bff0e0a1e\n",
      "Job ID 31369877-8db2-4ef1-9198-a870298ba368\n",
      "Job ID bdedcd02-ec5f-4eef-b110-9b4f05561cad\n",
      "Job Status: job has successfully run\n",
      "Job Status: job has successfully run\n",
      "Job Status: job has successfully run\n",
      "Job Status: job has successfully run\n",
      "Job Status: job has successfully run\n",
      "Job Status: job has successfully run\n",
      "Job Status: job has successfully run\n",
      "Job Status: job has successfully run\n"
     ]
    },
    {
     "name": "stderr",
     "output_type": "stream",
     "text": [
      " 24%|██████████████████████████████████████████▌                                                                                                                                        | 30/126 [1:21:29<8:45:56, 328.71s/it]"
     ]
    },
    {
     "name": "stdout",
     "output_type": "stream",
     "text": [
      "====================\n",
      "Running with trott_steps = (9, 0)\n",
      "Job ID 468f57c8-113d-4b18-af1d-daaa99c05e90\n",
      "Job ID f2951d45-c0ed-4fd0-9c2f-a338f00def7e\n",
      "Job ID bd741868-274d-457e-8195-25f0b04ad5e1\n",
      "Job ID 0e2fdd2b-5605-4c38-8188-f9a208da2e31\n",
      "Job ID 965b29b9-b715-410c-a1c1-f87ad6293489\n",
      "Job ID 9d0787e4-cbc4-4713-a331-d8570b5c0b68\n",
      "Job ID ff8db88c-9788-4fb0-a588-a3202f5a6029\n",
      "Job ID 46dfd745-4c6e-4510-8e6f-e57e94c08a57\n",
      "Job Status: job has successfully run\n",
      "Job Status: job has successfully run\n",
      "Job Status: job has successfully run\n",
      "Job Status: job has successfully run\n",
      "Job Status: job has successfully run\n",
      "Job Status: job has successfully run\n",
      "Job Status: job has successfully run\n",
      "Job Status: job has successfully run\n"
     ]
    },
    {
     "name": "stderr",
     "output_type": "stream",
     "text": [
      " 25%|████████████████████████████████████████████                                                                                                                                       | 31/126 [1:24:16<7:23:44, 280.26s/it]"
     ]
    },
    {
     "name": "stdout",
     "output_type": "stream",
     "text": [
      "====================\n",
      "Running with trott_steps = (9, 1)\n",
      "Job ID 63a1c292-a67a-46d4-8e62-78d2dc79f096\n",
      "Job ID 7ae33b25-f86d-48e9-a265-4bbd04f4c776\n",
      "Job ID 6717b0a6-1ccd-4d27-a7c6-2d067272cff1\n",
      "Job ID e23b56a0-9f7d-4967-9f98-9aeba7c20e80\n",
      "Job ID 1476e9d3-fe2f-4cea-b354-c37acaece309\n",
      "Job ID 2b535584-17db-4463-a8e7-559016df2725\n",
      "Job ID 59a67271-5996-47f3-afc3-0a9569dbb0e9\n",
      "Job ID b2f0a504-7b84-4097-bac9-3c60947efed6\n",
      "Job Status: job has successfully run\n",
      "Job Status: job has successfully run\n",
      "Job Status: job has successfully run\n",
      "Job Status: job has successfully run\n",
      "Job Status: job has successfully run\n",
      "Job Status: job has successfully run\n",
      "Job Status: job has successfully run\n",
      "Job Status: job has successfully run\n"
     ]
    },
    {
     "name": "stderr",
     "output_type": "stream",
     "text": [
      " 25%|█████████████████████████████████████████████▍                                                                                                                                     | 32/126 [1:29:59<7:48:18, 298.92s/it]"
     ]
    },
    {
     "name": "stdout",
     "output_type": "stream",
     "text": [
      "====================\n",
      "Running with trott_steps = (9, 2)\n",
      "Job ID 3a5555f3-bf34-439c-a5ef-b455f0c402e2\n",
      "Job ID 5514d794-45af-42e9-85e2-5c45069edf03\n",
      "Job ID 0a4d8273-cdfb-4adf-8114-eba0ddacf01a\n",
      "Job ID 95f2e327-bb4a-405a-bdc1-82ada8c6d517\n",
      "Job ID 56a41475-7358-4178-865e-06b0d26f763b\n",
      "Job ID c75b08a4-a490-4f23-8fa4-89167c143ed5\n",
      "Job ID d91e4945-66ee-4e81-be04-e6296a66eed2\n",
      "Job ID 2d7547d5-0886-4deb-b3fc-306b4c1e162f\n",
      "Job Status: job has successfully run\n",
      "Job Status: job has successfully run\n",
      "Job Status: job has successfully run\n",
      "Job Status: job has successfully run\n",
      "Job Status: job has successfully run\n",
      "Job Status: job has successfully run\n",
      "Job Status: job has successfully run\n",
      "Job Status: job has successfully run\n"
     ]
    },
    {
     "name": "stderr",
     "output_type": "stream",
     "text": [
      " 26%|██████████████████████████████████████████████▉                                                                                                                                    | 33/126 [1:36:22<8:22:19, 324.08s/it]"
     ]
    },
    {
     "name": "stdout",
     "output_type": "stream",
     "text": [
      "====================\n",
      "Running with trott_steps = (9, 3)\n",
      "Job ID 8fae8bb9-a3ab-4c38-b401-5a942a814cb0\n",
      "Job ID 87b74999-f134-4bca-acdc-914f37ced191\n",
      "Job ID ff9dfd9c-0469-4011-9033-fd8a1d847ce4\n",
      "Job ID 81703cfe-f15f-4712-84c9-f737cfcd8df4\n",
      "Job ID 1bb667b6-a53d-498d-b930-03a75128ba66\n",
      "Job ID ab684d74-09b1-46eb-9d80-55d32e7c4523\n",
      "Job ID b3e7f567-9b0d-45cd-a5f9-9e2d90b55723\n",
      "Job ID 51cf46ed-39cb-4655-8d8e-64fb2b0d7382\n",
      "Job Status: job has successfully run\n",
      "Job Status: job has successfully run\n",
      "Job Status: job has successfully run\n",
      "Job Status: job has successfully run\n",
      "Job Status: job has successfully run\n",
      "Job Status: job has successfully run\n",
      "Job Status: job has successfully run\n",
      "Job Status: job has successfully run\n"
     ]
    },
    {
     "name": "stderr",
     "output_type": "stream",
     "text": [
      " 27%|████████████████████████████████████████████████▎                                                                                                                                  | 34/126 [1:43:27<9:03:25, 354.41s/it]"
     ]
    },
    {
     "name": "stdout",
     "output_type": "stream",
     "text": [
      "====================\n",
      "Running with trott_steps = (9, 4)\n",
      "Job ID d4d93bc6-8e8f-4ed7-b342-44a06fb3dd30\n",
      "Job ID 648e84b6-6529-41ad-b909-98eb06c12b66\n",
      "Job ID 3daf7d0c-0ba6-478f-b1c7-8cc429d1f716\n",
      "Job ID 98c65c1e-2e2b-4cc8-a67f-c44921a45940\n",
      "Job ID 2c299e58-a7fd-4fc1-a867-d2b0bbe3da73\n",
      "Job ID a1d4f1c6-55c2-47f9-9ef1-59bcd312d195\n",
      "Job ID be2f6397-915e-44e3-99bc-844ab2ce55e4\n",
      "Job ID 0d06117c-b0bc-45f3-ab47-563c884619e1\n",
      "Job Status: job has successfully run\n",
      "Job Status: job has successfully run\n",
      "Job Status: job has successfully run\n",
      "Job Status: job has successfully run\n",
      "Job Status: job has successfully run\n",
      "Job Status: job has successfully run\n",
      "Job Status: job has successfully run\n",
      "Job Status: job has successfully run\n"
     ]
    },
    {
     "name": "stderr",
     "output_type": "stream",
     "text": [
      " 28%|█████████████████████████████████████████████████▋                                                                                                                                 | 35/126 [1:51:03<9:43:41, 384.85s/it]"
     ]
    },
    {
     "name": "stdout",
     "output_type": "stream",
     "text": [
      "====================\n",
      "Running with trott_steps = (9, 5)\n",
      "Job ID a9bdd6bc-fe50-4ccc-a14c-edff52de18b7\n",
      "Job ID 9ca2863c-4547-4ea5-abdd-50ac4867fb5c\n",
      "Job ID ace5c9cd-cf66-4dd3-8b7c-b726d073204b\n",
      "Job ID 75b7356e-d5ff-443d-97a6-09add484cdf0\n",
      "Job ID 6f7b68fe-61de-48a0-967e-62a60fa3d8fc\n",
      "Job ID 9266c047-9d6f-49c8-92d3-bb09b6c7772b\n",
      "Job ID 9effba0f-e286-405e-a763-cb878a9b7c78\n",
      "Job ID 8944dda5-068f-417c-a245-ff8d5d815d89\n",
      "Job Status: job has successfully run\n",
      "Job Status: job has successfully run\n",
      "Job Status: job has successfully run\n",
      "Job Status: job has successfully run\n",
      "Job Status: job has successfully run\n",
      "Job Status: job has successfully run\n",
      "Job Status: job has successfully run\n",
      "Job Status: job has successfully run\n"
     ]
    },
    {
     "name": "stderr",
     "output_type": "stream",
     "text": [
      " 29%|██████████████████████████████████████████████████▊                                                                                                                               | 36/126 [1:58:44<10:11:34, 407.72s/it]"
     ]
    },
    {
     "name": "stdout",
     "output_type": "stream",
     "text": [
      "====================\n",
      "Running with trott_steps = (10, 0)\n",
      "Job ID c841d779-5eb9-461e-a546-26496112514a\n",
      "Job ID 42b2ab6e-56a9-466b-8200-a95f2cc5fd1b\n",
      "Job ID 108f62d3-5d41-4a57-8069-e7f7211d1aab\n",
      "Job ID d244bd26-8cbf-4c45-bad5-9bbe8fdea64a\n",
      "Job ID 8afefbf6-bb54-4b93-b0ea-4c6af5ca1e72\n",
      "Job ID a48f6b9b-0421-4188-b4af-bbe46597a15e\n",
      "Job ID a9299a50-5689-4287-99e1-cb4ac5ffaff4\n",
      "Job ID 5be10327-75f4-4f9b-a43d-7fa4f9bb6474\n",
      "Job Status: job has successfully run\n",
      "Job Status: job has successfully run\n",
      "Job Status: job has successfully run\n",
      "Job Status: job has successfully run\n",
      "Job Status: job has successfully run\n",
      "Job Status: job has successfully run\n",
      "Job Status: job has successfully run\n",
      "Job Status: job has successfully run\n"
     ]
    },
    {
     "name": "stderr",
     "output_type": "stream",
     "text": [
      " 29%|████████████████████████████████████████████████████▌                                                                                                                              | 37/126 [2:01:29<8:16:44, 334.88s/it]"
     ]
    },
    {
     "name": "stdout",
     "output_type": "stream",
     "text": [
      "====================\n",
      "Running with trott_steps = (10, 1)\n",
      "Job ID f624d3c1-170f-4bb3-822e-12332177ccfb\n",
      "Job ID d0f1e648-b62d-40d1-9ad2-327db01930d3\n",
      "Job ID 8e91ac4a-3a02-49e3-97b5-a519b2a237eb\n",
      "Job ID f82735e2-1d62-47c8-b1ca-7baa06d7095a\n",
      "Job ID bcaf0978-b021-4287-b0ab-75ecd6a400b9\n",
      "Job ID 1fb4d123-a9c4-40f7-994e-a303313650bd\n",
      "Job ID 60eed882-8571-401f-950b-f9365502f46f\n",
      "Job ID f4f7e8ec-5621-458a-8f24-bd92d60bafd2\n",
      "Job Status: job has successfully run\n",
      "Job Status: job has successfully run\n",
      "Job Status: job has successfully run\n",
      "Job Status: job has successfully run\n",
      "Job Status: job has successfully run\n",
      "Job Status: job has successfully run\n",
      "Job Status: job has successfully run\n",
      "Job Status: job has successfully run\n"
     ]
    },
    {
     "name": "stderr",
     "output_type": "stream",
     "text": [
      " 30%|█████████████████████████████████████████████████████▉                                                                                                                             | 38/126 [2:08:10<8:40:14, 354.71s/it]"
     ]
    },
    {
     "name": "stdout",
     "output_type": "stream",
     "text": [
      "====================\n",
      "Running with trott_steps = (10, 2)\n",
      "Job ID d9782f90-255e-4fbf-9dbd-ee74f1683fbf\n",
      "Job ID 9207ebc1-64e3-4093-9471-da69eaf16afd\n",
      "Job ID 57b0bad8-d077-4b91-8225-ee292a192f84\n",
      "Job ID 4cf00b69-9068-4304-9bdb-0d7d874453dd\n",
      "Job ID ffa46725-c8ce-42fb-9366-16267845a929\n",
      "Job ID dcee6e8a-6c2f-459d-83ec-59a86a046870\n",
      "Job ID d7287447-a70e-4fdd-bf09-c9201e31029a\n",
      "Job ID 2e7472a0-310f-4479-95ef-583b77a56464\n",
      "Job Status: job has successfully run\n",
      "Job Status: job has successfully run\n",
      "Job Status: job has successfully run\n",
      "Job Status: job has successfully run\n",
      "Job Status: job has successfully run\n",
      "Job Status: job has successfully run\n",
      "Job Status: job has successfully run\n",
      "Job Status: job has successfully run\n"
     ]
    },
    {
     "name": "stderr",
     "output_type": "stream",
     "text": [
      " 31%|███████████████████████████████████████████████████████▍                                                                                                                           | 39/126 [2:15:40<9:16:06, 383.52s/it]"
     ]
    },
    {
     "name": "stdout",
     "output_type": "stream",
     "text": [
      "====================\n",
      "Running with trott_steps = (10, 3)\n",
      "Job ID 6bc72218-a350-41f4-a396-7f99dd17d107\n",
      "Job ID 1ba42903-48f6-48ac-8c5a-489675e4dcbe\n",
      "Job ID 2437a448-fa17-4f30-a94e-ff453925d367\n",
      "Job ID 8338a057-5a7c-4b5f-9793-aa6f640ba692\n",
      "Job ID 5111fa5d-58f8-4da6-a21b-ab5c98acd4a7\n",
      "Job ID b92bd95a-219a-4711-978a-eb80aa3f29c7\n",
      "Job ID d40debd6-d4f3-4e0e-8dfa-704920bc179a\n",
      "Job ID 65005959-eca1-4459-8357-47316752262f\n",
      "Job Status: job has successfully run\n",
      "Job Status: job has successfully run\n",
      "Job Status: job has successfully run\n",
      "Job Status: job has successfully run\n",
      "Job Status: job has successfully run\n",
      "Job Status: job has successfully run\n",
      "Job Status: job has successfully run\n",
      "Job Status: job has successfully run\n"
     ]
    },
    {
     "name": "stderr",
     "output_type": "stream",
     "text": [
      " 32%|████████████████████████████████████████████████████████▊                                                                                                                          | 40/126 [2:22:47<9:28:26, 396.59s/it]"
     ]
    },
    {
     "name": "stdout",
     "output_type": "stream",
     "text": [
      "====================\n",
      "Running with trott_steps = (10, 4)\n",
      "Job ID f15bfb35-00d3-4973-a550-172c443ea366\n",
      "Job ID 8124713d-8818-483e-a240-bcf899c65133\n",
      "Job ID 3dbe6d01-6c10-44cb-8078-f098228c6cf9\n",
      "Job ID 0e407c4c-b287-4e04-8210-e3c1a96419ad\n",
      "Job ID 2c6c0cff-14db-4d97-92a2-9882f23eea2c\n",
      "Job ID 126384ba-c796-4b52-b495-06b88fd7608a\n",
      "Job ID f1515d31-b70a-4d55-9023-c3b00dd6e22f\n",
      "Job ID 8aa802a9-6e35-4dea-b4f6-0cfe78f4ebae\n",
      "Job Status: job has successfully run\n",
      "Job Status: job has successfully run\n",
      "Job Status: job has successfully run\n",
      "Job Status: job has successfully run\n",
      "Job Status: job has successfully run\n",
      "Job Status: job has successfully run\n",
      "Job Status: job has successfully run\n",
      "Job Status: job has successfully run\n"
     ]
    },
    {
     "name": "stderr",
     "output_type": "stream",
     "text": [
      " 33%|██████████████████████████████████████████████████████████▏                                                                                                                        | 41/126 [2:30:09<9:41:05, 410.19s/it]"
     ]
    },
    {
     "name": "stdout",
     "output_type": "stream",
     "text": [
      "====================\n",
      "Running with trott_steps = (10, 5)\n",
      "Job ID c77eb287-3b85-4f34-920f-3df17671ef03\n",
      "Job ID 7aa818d7-96de-4a02-b005-7e6d7cd616b5\n",
      "Job ID 4de86c62-12dd-439a-a0cc-937aa98d1142\n",
      "Job ID a24d97fd-3522-4060-9b4d-189edb6ec2c6\n",
      "Job ID 8381d14e-c68d-4838-a6f8-71ba28bd8678\n",
      "Job ID f36b980b-2fb3-44db-8a78-cf485b01ac86\n",
      "Job ID 27a5448d-002f-4769-82f3-b751700dd302\n",
      "Job ID 25043138-4625-45ad-8be4-b967967831ac\n",
      "Job Status: job has successfully run\n",
      "Job Status: job has successfully run\n",
      "Job Status: job has successfully run\n",
      "Job Status: job has successfully run\n",
      "Job Status: job has successfully run\n",
      "Job Status: job has successfully run\n",
      "Job Status: job has successfully run\n",
      "Job Status: job has successfully run\n"
     ]
    },
    {
     "name": "stderr",
     "output_type": "stream",
     "text": [
      " 33%|███████████████████████████████████████████████████████████▎                                                                                                                      | 42/126 [2:38:09<10:03:19, 430.95s/it]"
     ]
    },
    {
     "name": "stdout",
     "output_type": "stream",
     "text": [
      "====================\n",
      "Running with trott_steps = (11, 0)\n",
      "Job ID 29a63273-921d-45fe-9287-82c051741c50\n",
      "Job ID 7afe667d-7e12-46e0-a2c1-8bf150604457\n",
      "Job ID dcc827c6-3d80-4b92-b627-47c71b35a351\n",
      "Job ID 2479b878-31db-4450-af8b-4bf8d6aad5c9\n",
      "Job ID 962a6077-044f-4fb1-979a-e2e77d0e8306\n",
      "Job ID 21bf06e2-fffd-48c5-beb7-ba5e40e05f59\n",
      "Job ID b8945f47-fbce-402a-8738-f4384899f381\n",
      "Job ID 32cf8b76-3165-4c32-80d4-5b36365ed403\n",
      "Job Status: job has successfully run\n",
      "Job Status: job has successfully run\n",
      "Job Status: job has successfully run\n",
      "Job Status: job has successfully run\n",
      "Job Status: job has successfully run\n",
      "Job Status: job has successfully run\n",
      "Job Status: job has successfully run\n",
      "Job Status: job has successfully run\n"
     ]
    },
    {
     "name": "stderr",
     "output_type": "stream",
     "text": [
      " 34%|█████████████████████████████████████████████████████████████                                                                                                                      | 43/126 [2:41:39<8:24:44, 364.87s/it]"
     ]
    },
    {
     "name": "stdout",
     "output_type": "stream",
     "text": [
      "====================\n",
      "Running with trott_steps = (11, 1)\n",
      "Job ID 5a55cf8b-c3d5-4cec-bad1-6243d073481e\n",
      "Job ID 07e2ad2e-2ecf-450d-ae97-7121970c9eb0\n",
      "Job ID b9c6f675-cc16-4e69-b26e-77c72f3cb4ba\n",
      "Job ID 7e8939da-04d0-47ca-86bb-c3424e646f44\n",
      "Job ID 7fbab9c5-b88d-4543-a9ac-c32992a07d2c\n",
      "Job ID 5b3e2d3c-5bce-4dc7-a110-72adbf605e63\n",
      "Job ID 9b74abc2-5535-420a-b532-e5d0e64a477c\n",
      "Job ID 4a0df816-0c42-4da0-be41-01d3faaed55b\n",
      "Job Status: job has successfully run\n",
      "Job Status: job has successfully run\n",
      "Job Status: job has successfully run\n",
      "Job Status: job has successfully run\n",
      "Job Status: job has successfully run\n",
      "Job Status: job has successfully run\n",
      "Job Status: job has successfully run\n",
      "Job Status: job has successfully run\n"
     ]
    },
    {
     "name": "stderr",
     "output_type": "stream",
     "text": [
      " 35%|██████████████████████████████████████████████████████████████▌                                                                                                                    | 44/126 [2:48:09<8:28:52, 372.35s/it]"
     ]
    },
    {
     "name": "stdout",
     "output_type": "stream",
     "text": [
      "====================\n",
      "Running with trott_steps = (11, 2)\n",
      "Job ID 2e02056c-eaf7-4d22-a56e-811e1bd33bd9\n",
      "Job ID abcac93d-98f9-4697-9f61-db13a57790a1\n",
      "Job ID 97a2ade3-9074-44b2-9f9c-10193d99ed8b\n",
      "Job ID 27adec4c-527e-4e9e-9d93-76ab6bcc81b9\n",
      "Job ID e9f162a5-c660-4990-97d5-8f6e5558cc2f\n",
      "Job ID f646b6b8-b9aa-4a7f-9f65-d64120ec0b5d\n",
      "Job ID af48abb2-bf89-4f13-9f9a-baa5d0066481\n",
      "Job ID c0e18502-7c71-404f-95fe-612f5a41d0ff\n",
      "Job Status: job has successfully run\n",
      "Job Status: job has successfully run\n",
      "Job Status: job has successfully run\n",
      "Job Status: job has successfully run\n",
      "Job Status: job has successfully run\n",
      "Job Status: job has successfully run\n",
      "Job Status: job has successfully run\n",
      "Job Status: job has successfully run\n"
     ]
    },
    {
     "name": "stderr",
     "output_type": "stream",
     "text": [
      " 36%|███████████████████████████████████████████████████████████████▉                                                                                                                   | 45/126 [2:55:59<9:02:15, 401.67s/it]"
     ]
    },
    {
     "name": "stdout",
     "output_type": "stream",
     "text": [
      "====================\n",
      "Running with trott_steps = (11, 3)\n",
      "Job ID 8273d588-c401-48f9-af11-e6aa67ce596c\n",
      "Job ID 105c5b32-b5c4-4772-9547-5f205e6eaed6\n",
      "Job ID 73336981-2ea2-4c8c-98cb-9d8cb04ad052\n",
      "Job ID f5d96938-9c67-41e3-8ad3-f837d7376143\n",
      "Job ID 2cbad287-2f48-4c17-a4f6-8c8e30edee12\n",
      "Job ID 43e642ed-367a-4630-920e-81c25a5149e6\n",
      "Job ID 53e2c596-eb28-40b9-88a7-d35f6692ea8d\n",
      "Job ID ed15025e-c41c-4cea-b88f-874af3027de4\n",
      "Job Status: job has successfully run\n",
      "Job Status: job has successfully run\n",
      "Job Status: job has successfully run\n",
      "Job Status: job has successfully run\n",
      "Job Status: job has successfully run\n",
      "Job Status: job has successfully run\n",
      "Job Status: job has successfully run\n",
      "Job Status: job has successfully run\n"
     ]
    },
    {
     "name": "stderr",
     "output_type": "stream",
     "text": [
      " 37%|█████████████████████████████████████████████████████████████████▎                                                                                                                 | 46/126 [3:04:17<9:34:01, 430.51s/it]"
     ]
    },
    {
     "name": "stdout",
     "output_type": "stream",
     "text": [
      "====================\n",
      "Running with trott_steps = (11, 4)\n",
      "Job ID b041e56a-e051-4e05-9092-7a92592714cf\n",
      "Job ID 40a32232-9b7c-4706-a4ec-892a64f3679f\n",
      "Job ID 973e7806-22c7-4fc1-a720-a05ad7170252\n",
      "Job ID 9c227e25-678a-42a5-b3fc-454abce1912a\n",
      "Job ID a483c61f-912b-4586-98ae-cf6acef6c63d\n",
      "Job ID 1caddc9d-0e22-4a69-b5df-b9297918df5e\n",
      "Job ID 6cb8f75f-7c16-47db-8e00-4dd0f32facd4\n",
      "Job ID b693fc1f-9cde-4729-a68a-abf862e68e41\n",
      "Job Status: job has successfully run\n",
      "Job Status: job has successfully run\n",
      "Job Status: job has successfully run\n",
      "Job Status: job has successfully run\n",
      "Job Status: job has successfully run\n",
      "Job Status: job has successfully run\n",
      "Job Status: job has successfully run\n",
      "Job Status: job has successfully run\n"
     ]
    },
    {
     "name": "stderr",
     "output_type": "stream",
     "text": [
      " 37%|██████████████████████████████████████████████████████████████████▊                                                                                                                | 47/126 [3:12:24<9:49:14, 447.53s/it]"
     ]
    },
    {
     "name": "stdout",
     "output_type": "stream",
     "text": [
      "====================\n",
      "Running with trott_steps = (11, 5)\n",
      "Job ID 569129af-04b3-4d99-8217-fba235968750\n",
      "Job ID 513f74c8-b63a-43ac-8761-5a3f7153d397\n",
      "Job ID 2b5e7576-fc09-4ac1-8bb3-6242983b8a11\n",
      "Job ID 349d15a6-35f2-40bc-bd41-1e21535d5d4f\n",
      "Job ID c887d8ca-fb31-46c2-8b6d-a4b01ba4d9cc\n",
      "Job ID 26b73828-b828-48fd-ab51-35a0ca4f4c42\n",
      "Job ID 14394253-50a2-4d46-a2e4-6de99b54f131\n",
      "Job ID c77a8769-2c74-42f9-a1dd-50d7e2c3a991\n",
      "Job Status: job has successfully run\n",
      "Job Status: job has successfully run\n",
      "Job Status: job has successfully run\n",
      "Job Status: job has successfully run\n",
      "Job Status: job has successfully run\n",
      "Job Status: job has successfully run\n",
      "Job Status: job has successfully run\n",
      "Job Status: job has successfully run\n"
     ]
    },
    {
     "name": "stderr",
     "output_type": "stream",
     "text": [
      " 38%|███████████████████████████████████████████████████████████████████▊                                                                                                              | 48/126 [3:21:00<10:08:30, 468.09s/it]"
     ]
    },
    {
     "name": "stdout",
     "output_type": "stream",
     "text": [
      "====================\n",
      "Running with trott_steps = (12, 0)\n",
      "Job ID a635499e-d351-43f0-ba14-f15bff0b15c8\n",
      "Job ID 22fe9e35-42f9-4757-8728-7bc4134f741f\n",
      "Job ID 02a27792-dab0-4c5a-be5f-87d9a6bb5b0c\n",
      "Job ID a3d5f85d-f541-4ea7-ba87-ae70ed6b748e\n",
      "Job ID 1a3cfee3-52c2-4edb-b66e-7c4d44fa2d68\n",
      "Job ID 47129c1a-b30b-43b2-b4ad-78de2eb9f3b4\n",
      "Job ID 12c17b4d-74f2-4a4e-9511-7180bdb39265\n",
      "Job ID 429db6e0-ec75-48c5-95f2-f056c049050c\n",
      "Job Status: job has successfully run\n",
      "Job Status: job has successfully run\n",
      "Job Status: job has successfully run\n",
      "Job Status: job has successfully run\n",
      "Job Status: job has successfully run\n",
      "Job Status: job has successfully run\n",
      "Job Status: job has successfully run\n",
      "Job Status: job has successfully run\n"
     ]
    },
    {
     "name": "stderr",
     "output_type": "stream",
     "text": [
      " 39%|█████████████████████████████████████████████████████████████████████▌                                                                                                             | 49/126 [3:24:08<8:12:42, 383.93s/it]"
     ]
    },
    {
     "name": "stdout",
     "output_type": "stream",
     "text": [
      "====================\n",
      "Running with trott_steps = (12, 1)\n",
      "Job ID 8d569bf7-6182-4c82-b87d-29a31f07850b\n",
      "Job ID d3074b54-8f19-43bc-9131-3fca3c92e09d\n",
      "Job ID f16c5b28-0b1a-4dda-a8a2-ab6019fe727c\n",
      "Job ID d830fb01-3b41-459f-865e-db4e35a9c916\n",
      "Job ID e9dadb6d-ccef-46ad-af26-96c8e2538d32\n",
      "Job ID e9859364-3208-4f93-9d81-36d0c8e5a682\n",
      "Job ID 4de092d6-3d1e-40c2-a272-72cd12d38372\n",
      "Job ID f90faf6d-4a10-49e1-95e9-0e0ac0ddc1e8\n",
      "Job Status: job has successfully run\n",
      "Job Status: job has successfully run\n",
      "Job Status: job has successfully run\n",
      "Job Status: job has successfully run\n",
      "Job Status: job has successfully run\n",
      "Job Status: job has successfully run\n",
      "Job Status: job has successfully run\n",
      "Job Status: job has successfully run\n"
     ]
    },
    {
     "name": "stderr",
     "output_type": "stream",
     "text": [
      " 40%|███████████████████████████████████████████████████████████████████████                                                                                                            | 50/126 [3:31:53<8:37:00, 408.16s/it]"
     ]
    },
    {
     "name": "stdout",
     "output_type": "stream",
     "text": [
      "====================\n",
      "Running with trott_steps = (12, 2)\n",
      "Job ID 0a306067-111e-41cb-b328-7dc1a0ee65e0\n",
      "Job ID f56c0d57-dc0a-4d31-bcdd-bea8b9f6c456\n",
      "Job ID e8469345-ea95-4378-bf9b-1a258529fd03\n",
      "Job ID f3681e0c-2937-4f67-9fff-4bf12a7039af\n",
      "Job ID 78e9cc80-ec30-44b8-a5aa-259b24c05684\n",
      "Job ID c97cad38-e491-4959-a74f-ded131202e82\n",
      "Job ID 1cdf2c9f-f0fe-45a2-a2f5-3e1da45a2710\n",
      "Job ID 5be41124-09ef-4fcb-be14-7110b646dce0\n",
      "Job Status: job has successfully run\n",
      "Job Status: job has successfully run\n",
      "Job Status: job has successfully run\n",
      "Job Status: job has successfully run\n",
      "Job Status: job has successfully run\n",
      "Job Status: job has successfully run\n",
      "Job Status: job has successfully run\n",
      "Job Status: job has successfully run\n"
     ]
    },
    {
     "name": "stderr",
     "output_type": "stream",
     "text": [
      " 40%|████████████████████████████████████████████████████████████████████████▍                                                                                                          | 51/126 [3:40:06<9:02:16, 433.82s/it]"
     ]
    },
    {
     "name": "stdout",
     "output_type": "stream",
     "text": [
      "====================\n",
      "Running with trott_steps = (12, 3)\n",
      "Job ID b734bd5b-b795-4657-8f3b-e1287c8106eb\n",
      "Job ID 7fa36c1d-3fd3-49dc-8ff3-c7b4caf2c1da\n",
      "Job ID 42c4d85a-963e-4c72-83c2-44f8cc6a9c68\n",
      "Job ID 467f0dc2-ebbd-418c-9af3-fea796f83902\n",
      "Job ID 3a2934fc-9a34-4592-bcc9-1fbe2efd59d2\n",
      "Job ID a2be6a25-f1d5-4bea-a788-dd8189481f3c\n",
      "Job ID 480c2db4-bbb3-4e47-bf2c-1a0d67802f3c\n",
      "Job ID b31137bc-cf0b-42e8-be8d-97e887096f4b\n",
      "Job Status: job has successfully run\n",
      "Job Status: job has successfully run\n",
      "Job Status: job has successfully run\n",
      "Job Status: job has successfully run\n",
      "Job Status: job has successfully run\n",
      "Job Status: job has successfully run\n",
      "Job Status: job has successfully run\n",
      "Job Status: job has successfully run\n"
     ]
    },
    {
     "name": "stderr",
     "output_type": "stream",
     "text": [
      " 41%|█████████████████████████████████████████████████████████████████████████▊                                                                                                         | 52/126 [3:48:44<9:26:03, 458.97s/it]"
     ]
    },
    {
     "name": "stdout",
     "output_type": "stream",
     "text": [
      "====================\n",
      "Running with trott_steps = (12, 4)\n",
      "Job ID 000333ce-a345-412f-8a65-0f225f96a9b6\n",
      "Job ID 9aea5a91-9d65-464c-9e09-31970460d649\n",
      "Job ID 372620cf-ce4e-4998-af96-4d4a2a77ee4a\n",
      "Job ID 470719b0-5da3-4030-9ed6-1ec01c71b277\n",
      "Job ID d7fb931c-1bbc-418b-b445-0c74acc2daaa\n",
      "Job ID 378a52b3-5089-49f3-b29c-f20110566125\n",
      "Job ID f5bf0f8e-9890-43ae-85f7-ff3e4dbf283e\n",
      "Job ID 68b852af-20e3-4862-8203-7198d6a8abc5\n",
      "Job Status: job has successfully run\n",
      "Job Status: job has successfully run\n",
      "Job Status: job has successfully run\n",
      "Job Status: job has successfully run\n",
      "Job Status: job has successfully run\n",
      "Job Status: job has successfully run\n",
      "Job Status: job has successfully run\n",
      "Job Status: job has successfully run\n"
     ]
    },
    {
     "name": "stderr",
     "output_type": "stream",
     "text": [
      " 42%|███████████████████████████████████████████████████████████████████████████▎                                                                                                       | 53/126 [3:57:46<9:48:47, 483.94s/it]"
     ]
    },
    {
     "name": "stdout",
     "output_type": "stream",
     "text": [
      "====================\n",
      "Running with trott_steps = (12, 5)\n",
      "Job ID 78e3ae6f-2abd-465c-8caa-a0098288d339\n",
      "Job ID f27b0350-ead9-4d5a-b4f0-714eae3a788e\n",
      "Job ID 4cda0695-85ff-4e4e-808c-1fdf4094b015\n",
      "Job ID ce93fa2f-7169-4393-bb5e-49e4b88f6d8c\n",
      "Job ID 3a44ac13-ee50-481a-896b-9f240e1157db\n",
      "Job ID 0956ad41-f84e-49c0-8c0d-8aa939e83a75\n",
      "Job ID 56cbaacc-9a38-4fbd-be9c-0ac90b1755a5\n",
      "Job ID 68b24190-9f17-4ec4-bddd-b79e8c8cce05\n",
      "Job Status: job has successfully run\n",
      "Job Status: job has successfully run\n",
      "Job Status: job has successfully run\n",
      "Job Status: job has successfully run\n",
      "Job Status: job has successfully run\n",
      "Job Status: job has successfully run\n",
      "Job Status: job has successfully run\n",
      "Job Status: job has successfully run\n"
     ]
    },
    {
     "name": "stderr",
     "output_type": "stream",
     "text": [
      " 43%|████████████████████████████████████████████████████████████████████████████▎                                                                                                     | 54/126 [4:07:23<10:14:10, 511.82s/it]"
     ]
    },
    {
     "name": "stdout",
     "output_type": "stream",
     "text": [
      "====================\n",
      "Running with trott_steps = (13, 0)\n",
      "Job ID 9d2b1695-8302-4194-82b7-9be7885d75fc\n",
      "Job ID 5053e591-7618-4c6b-a840-bb8f4b5fdf74\n",
      "Job ID 15ed0000-0a8d-493c-9985-aa1988093459\n",
      "Job ID 43517747-118c-4069-8f89-23f1433e1cb2\n",
      "Job ID 4d3d7088-dd94-4f34-9b9a-99acbe5bc976\n",
      "Job ID 117d7c2f-a0d8-4bed-9763-e8b487b56bf1\n",
      "Job ID b8e749fa-ad57-4acd-a928-9de57a2f58a3\n",
      "Job ID a0904961-8b92-4ab7-a20a-86e4516e584d\n",
      "Job Status: job has successfully run\n",
      "Job Status: job has successfully run\n",
      "Job Status: job has successfully run\n",
      "Job Status: job has successfully run\n",
      "Job Status: job has successfully run\n",
      "Job Status: job has successfully run\n",
      "Job Status: job has successfully run\n",
      "Job Status: job has successfully run\n"
     ]
    },
    {
     "name": "stderr",
     "output_type": "stream",
     "text": [
      " 44%|██████████████████████████████████████████████████████████████████████████████▏                                                                                                    | 55/126 [4:10:57<8:20:03, 422.58s/it]"
     ]
    },
    {
     "name": "stdout",
     "output_type": "stream",
     "text": [
      "====================\n",
      "Running with trott_steps = (13, 1)\n",
      "Job ID 5aa92309-fd74-4687-bcd3-b24b3a3176e9\n",
      "Job ID 90007df9-5d30-43c5-b2dc-f88d1f3f2d9f\n",
      "Job ID e04a9fb0-da3c-4591-8534-d2c3f62b0218\n",
      "Job ID a78d5f9d-ba35-44da-94db-b06b2062d874\n",
      "Job ID ec664383-784e-49c1-8316-8619a5a6f967\n",
      "Job ID 19243304-690c-481f-9879-c2c129d76e92\n",
      "Job ID c7f5d119-daaa-4d18-abd7-c1914048e7eb\n",
      "Job ID 9e374e0b-b23a-4ef9-8988-a98e4e95f507\n",
      "Job Status: job has successfully run\n",
      "Job Status: job has successfully run\n",
      "Job Status: job has successfully run\n",
      "Job Status: job has successfully run\n",
      "Job Status: job has successfully run\n",
      "Job Status: job has successfully run\n",
      "Job Status: job has successfully run\n",
      "Job Status: job has successfully run\n"
     ]
    },
    {
     "name": "stderr",
     "output_type": "stream",
     "text": [
      " 44%|███████████████████████████████████████████████████████████████████████████████▌                                                                                                   | 56/126 [4:19:09<8:37:17, 443.39s/it]"
     ]
    },
    {
     "name": "stdout",
     "output_type": "stream",
     "text": [
      "====================\n",
      "Running with trott_steps = (13, 2)\n",
      "Job ID db89ec22-feef-48c2-b18a-1df1bbc6c2a4\n",
      "Job ID e8d0d244-7fba-453b-b265-a421430cf75a\n",
      "Job ID 29902739-b03f-4910-b41a-52b3e9c5a5d2\n",
      "Job ID a28c2a9d-6913-48f9-909c-d4b140cec5a1\n",
      "Job ID 8971d63f-e11a-4d33-9ce7-14e93fbab866\n",
      "Job ID 8c485fa4-2eac-4f5b-966c-fbe54fab27ad\n",
      "Job ID 00ac58dc-3a8a-44a6-b207-66ef5f035429\n",
      "Job ID 6b63ac56-3336-44da-bd72-dee7c15e4a2f\n",
      "Job Status: job has successfully run\n",
      "Job Status: job has successfully run\n",
      "Job Status: job has successfully run\n",
      "Job Status: job has successfully run\n",
      "Job Status: job has successfully run\n",
      "Job Status: job has successfully run\n",
      "Job Status: job has successfully run\n",
      "Job Status: job has successfully run\n"
     ]
    },
    {
     "name": "stderr",
     "output_type": "stream",
     "text": [
      " 45%|████████████████████████████████████████████████████████████████████████████████▉                                                                                                  | 57/126 [4:27:18<8:45:33, 457.01s/it]"
     ]
    },
    {
     "name": "stdout",
     "output_type": "stream",
     "text": [
      "====================\n",
      "Running with trott_steps = (13, 3)\n",
      "Job ID 043450bc-1462-49eb-aa8c-3ebdde894b68\n",
      "Job ID a62daef4-4091-40f1-9216-523740aaf4a4\n",
      "Job ID 84b6de88-f228-40f4-93f1-50b9776c95c6\n",
      "Job ID a1d28dfc-b34c-4464-8b7d-a17d1f496226\n",
      "Job ID 2092f9e8-d095-430a-ad74-72654d67255a\n",
      "Job ID 1794a323-3fcd-4d76-b3fd-a88920c59159\n",
      "Job ID 9f49fae5-808b-4a6b-8eca-3b7c4b3bb260\n",
      "Job ID 6838f00a-5470-4970-86a9-92cd90c3fb75\n",
      "Job Status: job has successfully run\n",
      "Job Status: job has successfully run\n",
      "Job Status: job has successfully run\n",
      "Job Status: job has successfully run\n",
      "Job Status: job has successfully run\n",
      "Job Status: job has successfully run\n",
      "Job Status: job has successfully run\n",
      "Job Status: job has successfully run\n"
     ]
    },
    {
     "name": "stderr",
     "output_type": "stream",
     "text": [
      " 46%|██████████████████████████████████████████████████████████████████████████████████▍                                                                                                | 58/126 [4:36:39<9:13:06, 488.04s/it]"
     ]
    },
    {
     "name": "stdout",
     "output_type": "stream",
     "text": [
      "====================\n",
      "Running with trott_steps = (13, 4)\n",
      "Job ID a59df14d-4905-4932-94eb-d745d70d69ff\n",
      "Job ID 8f27cb30-6486-4574-9306-1aae10d29c38\n",
      "Job ID 904606e5-32f5-48c4-a6ce-f4e0802dfa22\n",
      "Job ID 010a5773-9710-46d5-beba-77c2890ac65d\n",
      "Job ID 1c840e39-0a47-4097-b275-b2fc1fb1d94c\n",
      "Job ID 9be7a1ff-8097-47f4-b439-d4133586e4f0\n",
      "Job ID dd1e06f3-bffe-4dae-9e89-a0c750be1f95\n",
      "Job ID 53517f53-c6c4-4725-86e5-6f0d84d8cb26\n",
      "Job Status: job has successfully run\n",
      "Job Status: job has successfully run\n",
      "Job Status: job has successfully run\n",
      "Job Status: job has successfully run\n",
      "Job Status: job has successfully run\n",
      "Job Status: job has successfully run\n",
      "Job Status: job has successfully run\n",
      "Job Status: job has successfully run\n"
     ]
    },
    {
     "name": "stderr",
     "output_type": "stream",
     "text": [
      " 47%|███████████████████████████████████████████████████████████████████████████████████▊                                                                                               | 59/126 [4:46:18<9:35:24, 515.29s/it]"
     ]
    },
    {
     "name": "stdout",
     "output_type": "stream",
     "text": [
      "====================\n",
      "Running with trott_steps = (13, 5)\n",
      "Job ID eb0d732a-9c4c-435c-9adc-1da0a4ee6309\n",
      "Job ID 2594e79a-5449-44db-9daf-0b8ef59eb21b\n",
      "Job ID c3c5d648-b62f-4b85-b199-adfbc4942e59\n",
      "Job ID ef92a9d5-58ce-4187-959b-0c17c2bdfb8c\n",
      "Job ID a01bf0f9-b1af-492b-aa41-0251179306e5\n",
      "Job ID 6923ec6e-f000-4c37-be44-329b231e44c5\n",
      "Job ID 846e193c-3521-432b-b22b-f3ac987d2c6c\n",
      "Job ID 2a25afaa-5b50-4fb9-98a9-43a9fa50697e\n",
      "Job Status: job has successfully run\n",
      "Job Status: job has successfully run\n",
      "Job Status: job has successfully run\n",
      "Job Status: job has successfully run\n",
      "Job Status: job has successfully run\n",
      "Job Status: job has successfully run\n",
      "Job Status: job has successfully run\n",
      "Job Status: job has successfully run\n"
     ]
    },
    {
     "name": "stderr",
     "output_type": "stream",
     "text": [
      " 48%|████████████████████████████████████████████████████████████████████████████████████▊                                                                                             | 60/126 [4:56:41<10:02:23, 547.63s/it]"
     ]
    },
    {
     "name": "stdout",
     "output_type": "stream",
     "text": [
      "====================\n",
      "Running with trott_steps = (14, 0)\n",
      "Job ID 84ab9f00-8301-4e76-b455-e91ff58b999a\n",
      "Job ID 145957ee-c30e-4ac3-aed0-9a907445b21f\n",
      "Job ID 53015238-1fe8-4ed9-b457-a5f4e4420fc6\n",
      "Job ID f9964971-75c2-4594-8577-be96bcc75626\n",
      "Job ID 21d6f7cb-6107-4a45-963c-f778c18461c0\n",
      "Job ID a5193b8a-152b-4964-8974-4e5dcf1b26ce\n",
      "Job ID 4605dffa-ad4c-46eb-9e01-8fddb93cc80c\n",
      "Job ID d5e4ae6c-9da4-4d5e-9177-1bef18f713bf\n",
      "Job Status: job has successfully run\n",
      "Job Status: job has successfully run\n",
      "Job Status: job has successfully run\n",
      "Job Status: job has successfully run\n",
      "Job Status: job has successfully run\n",
      "Job Status: job has successfully run\n",
      "Job Status: job has successfully run\n",
      "Job Status: job has successfully run\n"
     ]
    },
    {
     "name": "stderr",
     "output_type": "stream",
     "text": [
      " 48%|██████████████████████████████████████████████████████████████████████████████████████▋                                                                                            | 61/126 [5:00:41<8:13:22, 455.42s/it]"
     ]
    },
    {
     "name": "stdout",
     "output_type": "stream",
     "text": [
      "====================\n",
      "Running with trott_steps = (14, 1)\n",
      "Job ID f9067848-d202-4308-86f2-3ac7b7ea4432\n",
      "Job ID 68221036-a468-457a-9c97-c1bc92fb7939\n",
      "Job ID 285e8f15-9716-4aed-a35a-e7885ac5995e\n",
      "Job ID a02cd10d-b199-41e6-88d7-5d941b41e5d9\n",
      "Job ID c7312ef9-7ed0-479e-817f-9a1792ae0018\n",
      "Job ID a3c75a29-ac8c-4ea9-9478-e3a68dde1603\n",
      "Job ID 43cd1fe0-a1fd-4832-9a61-cf3ab093f915\n",
      "Job ID a4d05e5f-a120-4948-9669-0cfbe6bd4c0f\n",
      "Job Status: job has successfully run\n",
      "Job Status: job has successfully run\n",
      "Job Status: job has successfully run\n",
      "Job Status: job has successfully run\n",
      "Job Status: job has successfully run\n",
      "Job Status: job has successfully run\n",
      "Job Status: job has successfully run\n",
      "Job Status: job has successfully run\n"
     ]
    },
    {
     "name": "stderr",
     "output_type": "stream",
     "text": [
      " 49%|████████████████████████████████████████████████████████████████████████████████████████                                                                                           | 62/126 [5:09:24<8:27:23, 475.68s/it]"
     ]
    },
    {
     "name": "stdout",
     "output_type": "stream",
     "text": [
      "====================\n",
      "Running with trott_steps = (14, 2)\n",
      "Job ID 21e6dda0-48d3-4776-9f83-fb31832713c0\n",
      "Job ID 8c6e95b0-2e59-4708-a7cd-327514a0c98a\n",
      "Job ID 5e566a9e-16f8-446b-be5e-c7ef69505d6b\n",
      "Job ID c68001a9-5cdd-436d-af9a-33ae4c63fa8b\n",
      "Job ID f2de000b-8f42-4107-925a-0ea67f95d734\n",
      "Job ID 0fbe9d92-17f8-4735-9251-b0155a5c3c03\n",
      "Job ID 46675016-75b7-4f33-92db-8999119289f8\n",
      "Job ID 6f2d28ab-fadd-4dfa-a131-7b50182445fc\n",
      "Job Status: job has successfully run\n",
      "Job Status: job has successfully run\n",
      "Job Status: job has successfully run\n",
      "Job Status: job has successfully run\n",
      "Job Status: job has successfully run\n",
      "Job Status: job has successfully run\n",
      "Job Status: job has successfully run\n",
      "Job Status: job has successfully run\n"
     ]
    },
    {
     "name": "stderr",
     "output_type": "stream",
     "text": [
      " 50%|█████████████████████████████████████████████████████████████████████████████████████████▌                                                                                         | 63/126 [5:18:45<8:46:20, 501.27s/it]"
     ]
    },
    {
     "name": "stdout",
     "output_type": "stream",
     "text": [
      "====================\n",
      "Running with trott_steps = (14, 3)\n",
      "Job ID 946cc589-edb2-4d1a-98c5-8323345b2300\n",
      "Job ID 20f13af8-78fe-442e-b2f4-88810fa29fd6\n",
      "Job ID 283e5283-8981-4e3e-92d0-e4a4c4fa185b\n",
      "Job ID f5d3ed30-2fb0-492c-a14c-d51f86de00ea\n",
      "Job ID 691f668f-69ba-4bb2-8869-fb0e30c43e5a\n",
      "Job ID 6bdb95f5-7588-41cf-ad89-26b7b4de952d\n",
      "Job ID 34d9f2dc-d3d6-4b08-b05a-959273d5abfc\n",
      "Job ID 55c3da40-5391-41da-898f-1a018b4d435e\n",
      "Job Status: job has successfully run\n",
      "Job Status: job has successfully run\n",
      "Job Status: job has successfully run\n",
      "Job Status: job has successfully run\n",
      "Job Status: job has successfully run\n",
      "Job Status: job has successfully run\n",
      "Job Status: job has successfully run\n",
      "Job Status: job has successfully run\n"
     ]
    },
    {
     "name": "stderr",
     "output_type": "stream",
     "text": [
      " 51%|██████████████████████████████████████████████████████████████████████████████████████████▉                                                                                        | 64/126 [5:29:37<9:24:40, 546.46s/it]"
     ]
    },
    {
     "name": "stdout",
     "output_type": "stream",
     "text": [
      "====================\n",
      "Running with trott_steps = (14, 4)\n",
      "Job ID 86ad28b9-9ad0-4bbc-9ad8-9aff648291f4\n",
      "Job ID cd7009f2-d2f1-4586-82ec-052c42fdc10d\n",
      "Job ID 2612536e-8b40-43c2-ab7e-ccf8250c2532\n",
      "Job ID 1637ea4f-833e-4467-9359-070a9c6c72f0\n",
      "Job ID 2032abcd-e266-4088-bfb9-332245070a52\n",
      "Job ID cd0f3f57-e6cc-46c3-8ad5-2f0cac97d288\n",
      "Job ID 220966b8-d0a2-47c5-914c-16c084a46b4f\n",
      "Job ID 0807d0b5-b95f-4a90-a7cd-8864b1f780a7\n",
      "Job Status: job has successfully run\n",
      "Job Status: job has successfully run\n",
      "Job Status: job has successfully run\n",
      "Job Status: job has successfully run\n",
      "Job Status: job has successfully run\n",
      "Job Status: job has successfully run\n",
      "Job Status: job has successfully run\n",
      "Job Status: job has successfully run\n"
     ]
    },
    {
     "name": "stderr",
     "output_type": "stream",
     "text": [
      " 52%|████████████████████████████████████████████████████████████████████████████████████████████▎                                                                                      | 65/126 [5:39:41<9:33:09, 563.77s/it]"
     ]
    },
    {
     "name": "stdout",
     "output_type": "stream",
     "text": [
      "====================\n",
      "Running with trott_steps = (14, 5)\n",
      "Job ID d8e0923d-b535-477a-b0a7-d75269f2a030\n",
      "Job ID 085b15f8-60be-498e-ad5b-811a7cc0f8b0\n",
      "Job ID ec7322d9-c96f-47b0-9f56-7f14cf215ce2\n",
      "Job ID 2917f807-1550-4e1d-98d6-ebd646733ea1\n",
      "Job ID d45616b9-9cc0-4cc4-b608-7cae2f3f3d3e\n",
      "Job ID ecef10e6-dfbd-4de1-8911-0b0da4e178e0\n",
      "Job ID df9cee8e-babc-4da0-8551-359c2a38ec98\n",
      "Job ID 30f4073f-ffe6-4bbc-9ede-e3d073cb1335\n",
      "Job Status: job has successfully run\n",
      "Job Status: job has successfully run\n",
      "Job Status: job has successfully run\n",
      "Job Status: job has successfully run\n",
      "Job Status: job has successfully run\n",
      "Job Status: job has successfully run\n",
      "Job Status: job has successfully run\n",
      "Job Status: job has successfully run\n"
     ]
    },
    {
     "name": "stderr",
     "output_type": "stream",
     "text": [
      " 52%|█████████████████████████████████████████████████████████████████████████████████████████████▊                                                                                     | 66/126 [5:49:01<9:22:46, 562.78s/it]"
     ]
    },
    {
     "name": "stdout",
     "output_type": "stream",
     "text": [
      "====================\n",
      "Running with trott_steps = (15, 0)\n",
      "Job ID 96e2da75-1685-4eb5-ad2b-b8deed252e0a\n",
      "Job ID 5269cbd6-5c03-4b47-8241-82f0da922d8a\n",
      "Job ID c3d1d61d-9645-46bb-bf9a-18de0070ee61\n",
      "Job ID 930f5592-7b1c-4ba9-b907-f8c2b5781bb4\n",
      "Job ID a933611c-81e3-4462-84e0-413d4a636d22\n",
      "Job ID 7a45399d-dc12-41d1-bca7-99e78ddf9f0f\n",
      "Job ID f652e589-fff1-4b29-8260-51272c95bead\n",
      "Job ID e2736240-0ea9-4ffd-8ced-d90fc5de7834\n",
      "Job Status: job has successfully run\n",
      "Job Status: job has successfully run\n",
      "Job Status: job has successfully run\n",
      "Job Status: job has successfully run\n",
      "Job Status: job has successfully run\n",
      "Job Status: job has successfully run\n",
      "Job Status: job has successfully run\n",
      "Job Status: job has successfully run\n"
     ]
    },
    {
     "name": "stderr",
     "output_type": "stream",
     "text": [
      " 53%|███████████████████████████████████████████████████████████████████████████████████████████████▏                                                                                   | 67/126 [5:52:30<7:29:03, 456.66s/it]"
     ]
    },
    {
     "name": "stdout",
     "output_type": "stream",
     "text": [
      "====================\n",
      "Running with trott_steps = (15, 1)\n",
      "Job ID 8d7f5d76-242c-4dd0-b774-f9b0aa89cc44\n",
      "Job ID 11cc2dbc-b97a-49b9-a5d6-7da4212d62ab\n",
      "Job ID 33c5674a-093c-4224-ae3d-6eee318fe833\n",
      "Job ID 0fdd302e-42b0-4ad3-a1a1-8275a9063dad\n",
      "Job ID c7461148-7675-4dba-87d5-68d9e71b577e\n",
      "Job ID 561e4297-e57d-46ef-8fe4-b79ea9f80fd0\n",
      "Job ID d18bcf2f-b03e-4a6e-892c-895a763e1366\n",
      "Job ID 2255ff6d-f049-4b14-8c32-02fde71030bb\n",
      "Job Status: job has successfully run\n",
      "Job Status: job has successfully run\n",
      "Job Status: job has successfully run\n",
      "Job Status: job has successfully run\n",
      "Job Status: job has successfully run\n",
      "Job Status: job has successfully run\n",
      "Job Status: job has successfully run\n",
      "Job Status: job has successfully run\n"
     ]
    },
    {
     "name": "stderr",
     "output_type": "stream",
     "text": [
      " 54%|████████████████████████████████████████████████████████████████████████████████████████████████▌                                                                                  | 68/126 [6:01:25<7:44:07, 480.12s/it]"
     ]
    },
    {
     "name": "stdout",
     "output_type": "stream",
     "text": [
      "====================\n",
      "Running with trott_steps = (15, 2)\n",
      "Job ID cd58512d-42e2-487b-af02-5bc6afb3731f\n",
      "Job ID 24306845-29af-4294-afab-052ddc266732\n",
      "Job ID 50ea7643-93ed-4160-985f-2a7f1408a457\n",
      "Job ID 94fdaf08-03d3-4f72-8a7e-876dec184b80\n",
      "Job ID 309f6fd0-9816-4d77-bf6f-70befb9aa265\n",
      "Job ID 70fb4289-97f6-444a-9590-d6f480b5e051\n",
      "Job ID d10d27a1-e205-4b14-afc9-61c1f66f21af\n",
      "Job ID f43f5665-dc5d-4b9a-a0b2-9306ebe969e9\n",
      "Job Status: job has successfully run\n",
      "Job Status: job has successfully run\n",
      "Job Status: job has successfully run\n",
      "Job Status: job has successfully run\n",
      "Job Status: job has successfully run\n",
      "Job Status: job has successfully run\n",
      "Job Status: job has successfully run\n",
      "Job Status: job has successfully run\n"
     ]
    },
    {
     "name": "stderr",
     "output_type": "stream",
     "text": [
      " 55%|██████████████████████████████████████████████████████████████████████████████████████████████████                                                                                 | 69/126 [6:10:41<7:57:31, 502.66s/it]"
     ]
    },
    {
     "name": "stdout",
     "output_type": "stream",
     "text": [
      "====================\n",
      "Running with trott_steps = (15, 3)\n",
      "Job ID c30b2945-aa9f-4684-8932-23563c9378c6\n",
      "Job ID 9e8502d9-c804-44e5-9d60-42cd675268af\n",
      "Job ID 6fe9cbfb-22fd-4200-a0bf-9e76a701e774\n",
      "Job ID 836d0d4c-0ae2-4527-b15b-7387b13ddc57\n",
      "Job ID b0eeae99-f657-4fb8-8232-23e6a72c795d\n",
      "Job ID fded0c21-7e3a-492b-abe2-bf7f75a2d32b\n",
      "Job ID a82b830c-668c-44fd-ae52-9e2b5db84899\n",
      "Job ID 2883a3a3-e4fe-4ace-bb61-7c651ca525f1\n",
      "Job Status: job has successfully run\n",
      "Job Status: job has successfully run\n",
      "Job Status: job has successfully run\n",
      "Job Status: job has successfully run\n",
      "Job Status: job has successfully run\n",
      "Job Status: job has successfully run\n",
      "Job Status: job has successfully run\n",
      "Job Status: job has successfully run\n"
     ]
    },
    {
     "name": "stderr",
     "output_type": "stream",
     "text": [
      " 56%|███████████████████████████████████████████████████████████████████████████████████████████████████▍                                                                               | 70/126 [6:20:00<8:05:08, 519.79s/it]"
     ]
    },
    {
     "name": "stdout",
     "output_type": "stream",
     "text": [
      "====================\n",
      "Running with trott_steps = (15, 4)\n",
      "Job ID 116b657d-c7e0-4d9f-a4ca-d4e42ca52901\n",
      "Job ID 13130d08-8d7f-4fa1-aee4-57ac3105aa61\n",
      "Job ID 5b296b8c-ba0c-4ed8-b5d9-66b303a60179\n",
      "Job ID 0d9f8203-c091-44cc-b5a2-5b52066a79d2\n",
      "Job ID 895e3ecd-6d9d-4234-a63c-fa49188e5e80\n",
      "Job ID 5fc340b4-cfbe-4b42-91ef-6394496a0ae3\n",
      "Job ID d161ef47-dd66-4089-b939-dcfc751d75ea\n",
      "Job ID 3f8b5923-6f49-4702-bb7d-075ce1bdbee2\n",
      "Job Status: job has successfully run\n",
      "Job Status: job has successfully run\n",
      "Job Status: job has successfully run\n",
      "Job Status: job has successfully run\n",
      "Job Status: job has successfully run\n",
      "Job Status: job has successfully run\n",
      "Job Status: job has successfully run\n",
      "Job Status: job has successfully run\n"
     ]
    },
    {
     "name": "stderr",
     "output_type": "stream",
     "text": [
      " 56%|████████████████████████████████████████████████████████████████████████████████████████████████████▊                                                                              | 71/126 [6:29:01<8:02:08, 525.98s/it]"
     ]
    },
    {
     "name": "stdout",
     "output_type": "stream",
     "text": [
      "====================\n",
      "Running with trott_steps = (15, 5)\n",
      "Job ID d1308e12-62d3-400b-85f3-b2229a8d84c4\n",
      "Job ID 79555871-a1c8-4e45-98de-21c1fbf0507a\n",
      "Job ID e6f53033-9c96-44a9-86a7-5c9e6e15e94a\n",
      "Job ID 8d2145b8-ebb3-4162-9f3d-e6751904b02f\n",
      "Job ID 7cb9a7af-a55a-4d7f-90f7-99f2061c238a\n",
      "Job ID 1df4fa51-7f86-4b17-a869-867f15e4f953\n",
      "Job ID 2ae19652-ad02-41ca-9f94-b23329bfc10b\n",
      "Job ID 07365880-b166-47ac-ace4-a3f60e6e5a3b\n",
      "Job Status: job has successfully run\n",
      "Job Status: job has successfully run\n",
      "Job Status: job has successfully run\n",
      "Job Status: job has successfully run\n",
      "Job Status: job has successfully run\n",
      "Job Status: job has successfully run\n",
      "Job Status: job has successfully run\n",
      "Job Status: job has successfully run\n"
     ]
    },
    {
     "name": "stderr",
     "output_type": "stream",
     "text": [
      " 57%|██████████████████████████████████████████████████████████████████████████████████████████████████████▎                                                                            | 72/126 [6:38:51<8:10:51, 545.39s/it]"
     ]
    },
    {
     "name": "stdout",
     "output_type": "stream",
     "text": [
      "====================\n",
      "Running with trott_steps = (16, 0)\n",
      "Job ID 043bd762-a983-47a4-8c0c-4ba28dff640e\n",
      "Job ID e7a7970e-7da9-4a04-a12d-395fffb66ab3\n",
      "Job ID 39c8a45a-4db9-4c92-8916-ea4571abfeda\n",
      "Job ID 039c6727-3f4f-4e00-aac2-ac9060a44ec6\n",
      "Job ID 48c4b830-98cc-4f48-9e23-09006ca7a843\n",
      "Job ID 90faa32f-7491-4c30-81c3-ea037937309f\n",
      "Job ID 8865773b-995a-434c-be53-49cd830f91fb\n",
      "Job ID d4f4a021-7433-47d6-b10a-946c43f67c12\n",
      "Job Status: job has successfully run\n",
      "Job Status: job has successfully run\n",
      "Job Status: job has successfully run\n",
      "Job Status: job has successfully run\n",
      "Job Status: job has successfully run\n",
      "Job Status: job has successfully run\n",
      "Job Status: job has successfully run\n",
      "Job Status: job has successfully run\n"
     ]
    },
    {
     "name": "stderr",
     "output_type": "stream",
     "text": [
      " 58%|███████████████████████████████████████████████████████████████████████████████████████████████████████▋                                                                           | 73/126 [6:42:39<6:37:28, 449.97s/it]"
     ]
    },
    {
     "name": "stdout",
     "output_type": "stream",
     "text": [
      "====================\n",
      "Running with trott_steps = (16, 1)\n",
      "Job ID d2c97ea1-7005-4136-839b-87b51de087d9\n",
      "Job ID cbe2c120-7941-42cb-abc1-ae71a97dc985\n",
      "Job ID 76ad9e9f-3559-40dc-b777-f606fb02ef95\n",
      "Job ID 0fa1c20a-9b5d-48d8-b590-9f6ef3da29eb\n",
      "Job ID 64f2ece1-06ec-4c44-878f-24beb045f0be\n",
      "Job ID fa7a23f2-bd52-4762-8ec1-e3d5f57f6da1\n",
      "Job ID 18ae64b9-fb8f-4b26-b63b-db5da4abfcfb\n",
      "Job ID 50595d7f-5863-4803-8e64-796209048d58\n",
      "Job Status: job has successfully run\n",
      "Job Status: job has successfully run\n",
      "Job Status: job has successfully run\n",
      "Job Status: job has successfully run\n",
      "Job Status: job has successfully run\n",
      "Job Status: job has successfully run\n",
      "Job Status: job has successfully run\n",
      "Job Status: job has successfully run\n"
     ]
    },
    {
     "name": "stderr",
     "output_type": "stream",
     "text": [
      " 59%|█████████████████████████████████████████████████████████████████████████████████████████████████████████▏                                                                         | 74/126 [6:51:30<6:51:07, 474.37s/it]"
     ]
    },
    {
     "name": "stdout",
     "output_type": "stream",
     "text": [
      "====================\n",
      "Running with trott_steps = (16, 2)\n",
      "Job ID 8c831bfc-ea2d-4628-8dba-9e326d65960e\n",
      "Job ID b89c7105-1e7a-48bd-acef-23e6f6f8e4db\n",
      "Job ID 65660f95-ea35-4efa-ab87-e6b3cf2ddebb\n",
      "Job ID 2b0bf440-c4ba-408c-ad0b-0acb35fcda88\n",
      "Job ID 7a699b3d-5de9-4864-8c6b-4e53803ce68b\n",
      "Job ID 519b8bad-0665-40f5-b2e2-a86d1cf258b6\n",
      "Job ID 9d6dfdf5-04cd-4ee4-aa62-0c036ecc715b\n",
      "Job ID 64c8c0c6-7d07-44b1-a600-f9c1feff7464\n",
      "Job Status: job has successfully run\n",
      "Job Status: job has successfully run\n",
      "Job Status: job has successfully run\n",
      "Job Status: job has successfully run\n",
      "Job Status: job has successfully run\n",
      "Job Status: job has successfully run\n",
      "Job Status: job has successfully run\n",
      "Job Status: job has successfully run\n"
     ]
    },
    {
     "name": "stderr",
     "output_type": "stream",
     "text": [
      " 60%|██████████████████████████████████████████████████████████████████████████████████████████████████████████▌                                                                        | 75/126 [7:01:14<7:11:16, 507.38s/it]"
     ]
    },
    {
     "name": "stdout",
     "output_type": "stream",
     "text": [
      "====================\n",
      "Running with trott_steps = (16, 3)\n",
      "Job ID ebf54c95-338e-4d2e-a40e-6b34041186b3\n",
      "Job ID 441fd011-640e-409e-92ea-a8ccf0cabb4e\n",
      "Job ID 7a70144e-d201-46d7-8bc0-3fa95a1982d3\n",
      "Job ID daba4ca2-9461-4ee9-b35f-caa6cc3b3ef3\n",
      "Job ID 4bb467c6-731e-4d73-8c81-bb25a9b857dd\n",
      "Job ID a57bc1b3-c25f-47b3-b0bc-3c4976f9dd5f\n",
      "Job ID 905cd3ab-4ad5-416b-bdbd-9c3b58996d32\n",
      "Job ID f7a99d53-ccd2-4262-9184-7b3efa03ac61\n",
      "Job Status: job has successfully run\n",
      "Job Status: job has successfully run\n",
      "Job Status: job has successfully run\n",
      "Job Status: job has successfully run\n",
      "Job Status: job has successfully run\n",
      "Job Status: job has successfully run\n",
      "Job Status: job has successfully run\n",
      "Job Status: job has successfully run\n"
     ]
    },
    {
     "name": "stderr",
     "output_type": "stream",
     "text": [
      " 60%|███████████████████████████████████████████████████████████████████████████████████████████████████████████▉                                                                       | 76/126 [7:10:37<7:16:42, 524.05s/it]"
     ]
    },
    {
     "name": "stdout",
     "output_type": "stream",
     "text": [
      "====================\n",
      "Running with trott_steps = (16, 4)\n",
      "Job ID 9f5dc76d-e58d-48a6-ae88-a65d80e3ce1e\n",
      "Job ID 3712b98e-a06f-4d97-bf63-2ac4e367a920\n",
      "Job ID 7fce81e6-f4ab-4813-aed1-09a44fe2cd43\n",
      "Job ID fb56799e-25d1-461d-bbee-25596f8f32c2\n",
      "Job ID d021de41-5b9b-4545-8ea4-f086e2cdeb96\n",
      "Job ID a0d55ff1-5062-4573-b5fe-3e2dc447085f\n",
      "Job ID 167143ca-0221-4258-857b-6aceb9e36373\n",
      "Job ID 28ca8169-eeda-4cd8-9bd3-837b76856ff8\n",
      "Job Status: job has successfully run\n",
      "Job Status: job has successfully run\n",
      "Job Status: job has successfully run\n",
      "Job Status: job has successfully run\n",
      "Job Status: job has successfully run\n",
      "Job Status: job has successfully run\n",
      "Job Status: job has successfully run\n",
      "Job Status: job has successfully run\n"
     ]
    },
    {
     "name": "stderr",
     "output_type": "stream",
     "text": [
      " 61%|█████████████████████████████████████████████████████████████████████████████████████████████████████████████▍                                                                     | 77/126 [7:21:10<7:34:31, 556.56s/it]"
     ]
    },
    {
     "name": "stdout",
     "output_type": "stream",
     "text": [
      "====================\n",
      "Running with trott_steps = (16, 5)\n",
      "Job ID 5cb057ca-fddb-4589-bc92-8605872434a4\n",
      "Job ID 6f2e0823-7d4a-4bdc-971d-a1feaaee142f\n",
      "Job ID 4838b509-d4f9-4679-aad4-ce70d2f4da51\n",
      "Job ID 9082b530-cf63-4698-806a-ebd3ffc0601b\n",
      "Job ID b83d1b7b-8f87-4eeb-9ffb-2cf3bdbbec03\n",
      "Job ID d8ae75ac-b31e-4067-addc-40cca7d127a3\n",
      "Job ID f9872c52-1c3b-4a71-a2d6-7c166fee22b6\n",
      "Job ID 1066006a-5367-4473-af94-c25862b9c890\n",
      "Job Status: job has successfully run\n",
      "Job Status: job has successfully run\n",
      "Job Status: job has successfully run\n",
      "Job Status: job has successfully run\n",
      "Job Status: job has successfully run\n",
      "Job Status: job has successfully run\n",
      "Job Status: job has successfully run\n",
      "Job Status: job has successfully run\n"
     ]
    },
    {
     "name": "stderr",
     "output_type": "stream",
     "text": [
      " 62%|██████████████████████████████████████████████████████████████████████████████████████████████████████████████▊                                                                    | 78/126 [7:30:56<7:32:18, 565.39s/it]"
     ]
    },
    {
     "name": "stdout",
     "output_type": "stream",
     "text": [
      "====================\n",
      "Running with trott_steps = (17, 0)\n",
      "Job ID ede07157-f086-40b4-9212-8f963cbe0d61\n",
      "Job ID 5957528c-96ec-492b-9e6d-0ebede4623f5\n",
      "Job ID a3214649-8ef1-404d-bf61-3080ec5efd33\n",
      "Job ID 3a63893d-3538-4134-a0b5-162badac5888\n",
      "Job ID 937167fb-d031-40c8-9e6e-da8654e07895\n",
      "Job ID a9c10b07-400f-44c9-b93e-1d4c5fe14bed\n",
      "Job ID 3de295d3-d8e6-456d-ac00-eb71d6ac01f1\n",
      "Job ID 4fe36a18-16b4-45cc-a102-3ab2fcc65c2e\n",
      "Job Status: job has successfully run\n",
      "Job Status: job has successfully run\n",
      "Job Status: job has successfully run\n",
      "Job Status: job has successfully run\n",
      "Job Status: job has successfully run\n",
      "Job Status: job has successfully run\n",
      "Job Status: job has successfully run\n",
      "Job Status: job has successfully run\n"
     ]
    },
    {
     "name": "stderr",
     "output_type": "stream",
     "text": [
      " 63%|████████████████████████████████████████████████████████████████████████████████████████████████████████████████▏                                                                  | 79/126 [7:34:27<5:59:38, 459.12s/it]"
     ]
    },
    {
     "name": "stdout",
     "output_type": "stream",
     "text": [
      "====================\n",
      "Running with trott_steps = (17, 1)\n",
      "Job ID 3da70e82-2e2b-4d39-8eb8-d8942af8bdd8\n",
      "Job ID 64ebdae2-c868-4280-9223-684a1963b8e5\n",
      "Job ID 6a5de899-5b54-4958-9854-d590300cf227\n",
      "Job ID 0c8f25db-aace-4952-8634-fc22b647c719\n",
      "Job ID fa5a9237-e0ec-44e9-b5a1-6e779b48de7b\n",
      "Job ID be0b3490-4946-4f1c-bf29-4760a56d381b\n",
      "Job ID 7d344c6a-8003-480b-a1d8-a34778cabd28\n",
      "Job ID 5e9917ef-9418-4c12-9abb-0d332a7e0363\n",
      "Job Status: job has successfully run\n",
      "Job Status: job has successfully run\n",
      "Job Status: job has successfully run\n",
      "Job Status: job has successfully run\n",
      "Job Status: job has successfully run\n",
      "Job Status: job has successfully run\n",
      "Job Status: job has successfully run\n",
      "Job Status: job has successfully run\n"
     ]
    },
    {
     "name": "stderr",
     "output_type": "stream",
     "text": [
      " 63%|█████████████████████████████████████████████████████████████████████████████████████████████████████████████████▋                                                                 | 80/126 [7:43:23<6:09:45, 482.29s/it]"
     ]
    },
    {
     "name": "stdout",
     "output_type": "stream",
     "text": [
      "====================\n",
      "Running with trott_steps = (17, 2)\n",
      "Job ID 708260d4-9ac9-4275-9585-3f08a60bcaa0\n",
      "Job ID eb7aeee4-9abb-4c4c-82ab-11a5ebfaeb97\n",
      "Job ID d7f0d75f-2fb0-455e-bdb1-2d78a7a2c81f\n",
      "Job ID 1b185337-5591-4571-a71b-03a5108a7496\n",
      "Job ID ba9baee1-4312-456d-80ed-5704fa5bf857\n",
      "Job ID 27bcb7fe-abda-40a6-a15d-c346462a4ae2\n",
      "Job ID 79ead002-0f32-4f0e-8c6d-bf2ced5f1310\n",
      "Job ID f7a1e63d-b15a-4280-b7e9-4f641922fa86\n",
      "Job Status: job has successfully run\n",
      "Job Status: job has successfully run\n",
      "Job Status: job has successfully run\n",
      "Job Status: job has successfully run\n",
      "Job Status: job has successfully run\n",
      "Job Status: job has successfully run\n",
      "Job Status: job has successfully run\n",
      "Job Status: job has successfully run\n"
     ]
    },
    {
     "name": "stderr",
     "output_type": "stream",
     "text": [
      " 64%|███████████████████████████████████████████████████████████████████████████████████████████████████████████████████                                                                | 81/126 [7:52:32<6:16:40, 502.23s/it]"
     ]
    },
    {
     "name": "stdout",
     "output_type": "stream",
     "text": [
      "====================\n",
      "Running with trott_steps = (17, 3)\n",
      "Job ID 5ee009d3-0708-4457-bc4a-06a99c4c9754\n",
      "Job ID 97a66f0d-7eeb-4857-86e4-a2d42b771c88\n",
      "Job ID 802ab9da-693a-4c93-b906-c208b039b5df\n",
      "Job ID a9b928b2-0994-40a6-9987-185fd96adfd4\n",
      "Job ID 46a49e08-f5d5-4be8-a515-efa6e337cf86\n",
      "Job ID 09368342-aa04-4eab-9881-c077fca4e931\n",
      "Job ID 1b6d5146-c49e-4474-99da-73d1bdd6e681\n",
      "Job ID f428fcee-8c26-404b-ac1f-79812391c41e\n",
      "Job Status: job has successfully run\n",
      "Job Status: job has successfully run\n",
      "Job Status: job has successfully run\n",
      "Job Status: job has successfully run\n",
      "Job Status: job has successfully run\n",
      "Job Status: job has successfully run\n",
      "Job Status: job has successfully run\n",
      "Job Status: job has successfully run\n"
     ]
    },
    {
     "name": "stderr",
     "output_type": "stream",
     "text": [
      " 65%|████████████████████████████████████████████████████████████████████████████████████████████████████████████████████▍                                                              | 82/126 [8:01:46<6:19:42, 517.79s/it]"
     ]
    },
    {
     "name": "stdout",
     "output_type": "stream",
     "text": [
      "====================\n",
      "Running with trott_steps = (17, 4)\n",
      "Job ID 0c7e359f-fe8e-4c54-8615-3fc96306d608\n",
      "Job ID dc7e59ea-62f2-474e-95ca-6cb6ea8b1da0\n",
      "Job ID fda593f4-955d-4ec7-a020-af4abd26058d\n",
      "Job ID 100ae429-33b8-42c3-8e48-1cf72a4d43f1\n",
      "Job ID c81d4926-92bc-404a-a84b-76ce43390b08\n",
      "Job ID e312a49d-b57b-4cd8-8707-8ef44f860085\n",
      "Job ID 4436e2ec-8fe4-4b96-8393-1c3ac8171199\n",
      "Job ID 5995ac35-4b20-4bd9-9ba5-388b704c0293\n",
      "Job Status: job has successfully run\n",
      "Job Status: job has successfully run\n",
      "Job Status: job has successfully run\n",
      "Job Status: job has successfully run\n",
      "Job Status: job has successfully run\n",
      "Job Status: job has successfully run\n",
      "Job Status: job has successfully run\n",
      "Job Status: job has successfully run\n"
     ]
    },
    {
     "name": "stderr",
     "output_type": "stream",
     "text": [
      " 66%|█████████████████████████████████████████████████████████████████████████████████████████████████████████████████████▉                                                             | 83/126 [8:11:05<6:19:53, 530.09s/it]"
     ]
    },
    {
     "name": "stdout",
     "output_type": "stream",
     "text": [
      "====================\n",
      "Running with trott_steps = (17, 5)\n",
      "Job ID 1b0e9db7-f261-462f-9bb7-633fe8407729\n",
      "Job ID 2371d164-d6f3-42cc-81f3-3f88f1bb6004\n",
      "Job ID 39f2fbc2-a6b5-4d2e-9718-c47e52cf3686\n",
      "Job ID 88b1cdf7-e4ce-477f-a62f-33d003905f50\n",
      "Job ID 98c01b76-399e-4ff8-99a4-863f00da6b7a\n",
      "Job ID 9d77d134-a958-4926-afde-79311a792819\n",
      "Job ID f88f47ef-e34c-4072-82c4-0cced9ef4a43\n",
      "Job ID 84221ea3-98ce-400f-9627-2bc3153790df\n",
      "Job Status: job has successfully run\n",
      "Job Status: job has successfully run\n",
      "Job Status: job has successfully run\n",
      "Job Status: job has successfully run\n",
      "Job Status: job has successfully run\n",
      "Job Status: job has successfully run\n",
      "Job Status: job has successfully run\n",
      "Job Status: job has successfully run\n"
     ]
    },
    {
     "name": "stderr",
     "output_type": "stream",
     "text": [
      " 67%|███████████████████████████████████████████████████████████████████████████████████████████████████████████████████████▎                                                           | 84/126 [8:20:53<6:23:16, 547.54s/it]"
     ]
    },
    {
     "name": "stdout",
     "output_type": "stream",
     "text": [
      "====================\n",
      "Running with trott_steps = (18, 0)\n",
      "Job ID 1dae9851-9689-4afe-b3eb-f278b05d30b8\n",
      "Job ID 7190fdf8-bcef-4217-9576-feb6fe7e70e5\n",
      "Job ID 3f3ba554-9c5f-4265-9c77-aae416b5aa81\n",
      "Job ID b3f81452-e2d4-45b2-af5b-261fe829defa\n",
      "Job ID 263914a0-aaf3-4978-a486-0d2ad5adb254\n",
      "Job ID 31aa23fe-9c87-44c7-9504-6b85542db9d4\n",
      "Job ID d5b406d1-d137-4d23-abe8-2abcea739a49\n",
      "Job ID e2a16f0c-8792-438c-8756-39a60922d0aa\n",
      "Job Status: job has successfully run\n",
      "Job Status: job has successfully run\n",
      "Job Status: job has successfully run\n",
      "Job Status: job has successfully run\n",
      "Job Status: job has successfully run\n",
      "Job Status: job has successfully run\n",
      "Job Status: job has successfully run\n",
      "Job Status: job has successfully run\n"
     ]
    },
    {
     "name": "stderr",
     "output_type": "stream",
     "text": [
      " 67%|████████████████████████████████████████████████████████████████████████████████████████████████████████████████████████▊                                                          | 85/126 [8:24:36<5:07:36, 450.16s/it]"
     ]
    },
    {
     "name": "stdout",
     "output_type": "stream",
     "text": [
      "====================\n",
      "Running with trott_steps = (18, 1)\n",
      "Job ID 9cf12924-2f06-4ea6-bf4f-dcfadec77d72\n",
      "Job ID 06ebe768-bd50-40d9-9f47-c0a953b27416\n",
      "Job ID b9ac490b-ba7b-4014-84db-12b0938e2635\n",
      "Job ID a40ff504-c1bf-4a11-aa32-3ba22af0d1bc\n",
      "Job ID d11bbd12-6bbc-4f98-b970-0affc5412f7a\n",
      "Job ID b9a722bd-fdb4-417b-adfa-bd4267d7c5c2\n",
      "Job ID 8519fddc-8b3c-492c-955f-1edecdb0014c\n",
      "Job ID c80e5310-5dfa-4678-9f50-59dd5d001919\n",
      "Job Status: job has successfully run\n",
      "Job Status: job has successfully run\n",
      "Job Status: job has successfully run\n",
      "Job Status: job has successfully run\n",
      "Job Status: job has successfully run\n",
      "Job Status: job has successfully run\n",
      "Job Status: job has successfully run\n",
      "Job Status: job has successfully run\n"
     ]
    },
    {
     "name": "stderr",
     "output_type": "stream",
     "text": [
      " 68%|██████████████████████████████████████████████████████████████████████████████████████████████████████████████████████████▏                                                        | 86/126 [8:33:32<5:17:17, 475.95s/it]"
     ]
    },
    {
     "name": "stdout",
     "output_type": "stream",
     "text": [
      "====================\n",
      "Running with trott_steps = (18, 2)\n",
      "Job ID e75b2125-8d7f-4b00-a4ef-d93ccae94a31\n",
      "Job ID fa486af1-6bf3-4bf0-ba01-219860fb30f3\n",
      "Job ID 25b7f32a-0d2b-4bc5-af09-fd6359ab9084\n",
      "Job ID 9bb150fc-8a1b-440a-baf3-7961a3bb60be\n",
      "Job ID d5001c2f-3d23-45be-b96d-4afda445a7d3\n",
      "Job ID d5327049-41cf-477a-9baa-a724fd921239\n",
      "Job ID 55e9e635-6539-411f-b5b4-ac8be37fd10c\n",
      "Job ID fa16242c-3de2-4564-905e-ad2e61307c91\n",
      "Job Status: job has successfully run\n",
      "Job Status: job has successfully run\n",
      "Job Status: job has successfully run\n",
      "Job Status: job has successfully run\n",
      "Job Status: job has successfully run\n",
      "Job Status: job has successfully run\n",
      "Job Status: job has successfully run\n",
      "Job Status: job has successfully run\n"
     ]
    },
    {
     "name": "stderr",
     "output_type": "stream",
     "text": [
      " 69%|███████████████████████████████████████████████████████████████████████████████████████████████████████████████████████████▌                                                       | 87/126 [8:43:14<5:29:55, 507.58s/it]"
     ]
    },
    {
     "name": "stdout",
     "output_type": "stream",
     "text": [
      "====================\n",
      "Running with trott_steps = (18, 3)\n",
      "Job ID 038dc463-92b2-4c3c-822d-ad9fb3e34626\n",
      "Job ID 0c89ab3b-c126-41d1-b02a-9c9b289f3fa4\n",
      "Job ID 9af9ec4e-c8c7-4bb3-91c2-916f70ad680a\n",
      "Job ID c0200456-91e7-4045-aa40-649b3bafbb58\n",
      "Job ID 919cf222-ce58-499f-89cb-f4fc3b621c43\n",
      "Job ID 78587fdc-686c-4b59-89bf-cf993f78036f\n",
      "Job ID 78d99bc0-78f4-4f60-bdfb-63fdca56c0c8\n",
      "Job ID cc2aa251-6ec6-4400-8348-3a6f210172ca\n",
      "Job Status: job has successfully run\n",
      "Job Status: job has successfully run\n",
      "Job Status: job has successfully run\n",
      "Job Status: job has successfully run\n",
      "Job Status: job has successfully run\n",
      "Job Status: job has successfully run\n",
      "Job Status: job has successfully run\n",
      "Job Status: job has successfully run\n"
     ]
    },
    {
     "name": "stderr",
     "output_type": "stream",
     "text": [
      " 70%|█████████████████████████████████████████████████████████████████████████████████████████████████████████████████████████████                                                      | 88/126 [8:52:49<5:34:18, 527.84s/it]"
     ]
    },
    {
     "name": "stdout",
     "output_type": "stream",
     "text": [
      "====================\n",
      "Running with trott_steps = (18, 4)\n",
      "Job ID f7e51121-bcd2-4bfb-a4b9-76bf8974d61a\n",
      "Job ID 6d25731c-2dea-4fbd-b50d-4e8073c00750\n",
      "Job ID d7aa0e93-928d-4bb4-957a-e06a8d9e9e5e\n",
      "Job ID 1e041f7d-89ee-48ac-ad79-6c85dbdb75c7\n",
      "Job ID d9288905-f8ac-49a8-8279-506e0909d856\n",
      "Job ID 06930d54-734c-4e3c-8d8d-f15c4e3bca82\n",
      "Job ID e313d466-8515-4b83-9ca7-68b5f3fdd4f1\n",
      "Job ID f80962ab-2989-4487-80f8-b74483d4e4da\n",
      "Job Status: job has successfully run\n",
      "Job Status: job has successfully run\n",
      "Job Status: job has successfully run\n",
      "Job Status: job has successfully run\n",
      "Job Status: job has successfully run\n",
      "Job Status: job has successfully run\n",
      "Job Status: job has successfully run\n",
      "Job Status: job has successfully run\n"
     ]
    },
    {
     "name": "stderr",
     "output_type": "stream",
     "text": [
      " 71%|██████████████████████████████████████████████████████████████████████████████████████████████████████████████████████████████▍                                                    | 89/126 [8:58:40<4:52:49, 474.86s/it]"
     ]
    },
    {
     "name": "stdout",
     "output_type": "stream",
     "text": [
      "====================\n",
      "Running with trott_steps = (18, 5)\n",
      "Job ID fa22f500-4b0e-499f-9b84-6a6d98b62f05\n",
      "Job ID 32f6a885-5383-4c93-9f61-d5cab63454e6\n",
      "Job ID 71d697d7-20fc-42f0-84ac-9864912900aa\n",
      "Job ID 91e2f335-b749-4971-ab6c-511c464a3686\n",
      "Job ID 9247e0e3-0dec-4d66-a576-1ddf28bbd57f\n",
      "Job ID e0f37dd9-36a5-489b-b752-73f4fd55e874\n",
      "Job ID 5da036eb-6e70-4b2f-8a31-92ccd723e382\n",
      "Job ID ab313325-de58-457c-9a05-8b713d90e8ea\n",
      "Job Status: job has successfully run\n",
      "Job Status: job has successfully run\n",
      "Job Status: job has successfully run\n",
      "Job Status: job has successfully run\n",
      "Job Status: job has successfully run\n",
      "Job Status: job has successfully run\n",
      "Job Status: job has successfully run\n",
      "Job Status: job has successfully run\n"
     ]
    },
    {
     "name": "stderr",
     "output_type": "stream",
     "text": [
      " 71%|███████████████████████████████████████████████████████████████████████████████████████████████████████████████████████████████▊                                                   | 90/126 [9:04:10<4:18:51, 431.42s/it]"
     ]
    },
    {
     "name": "stdout",
     "output_type": "stream",
     "text": [
      "====================\n",
      "Running with trott_steps = (19, 0)\n",
      "Job ID 91f18aaf-a819-4e6d-896d-fbec8da580a0\n",
      "Job ID 82a93d90-f011-4bbe-bed7-64b776806412\n",
      "Job ID 6ba9c985-ce2d-4f46-868a-922f6439a1bf\n",
      "Job ID cbd0594b-f6f2-4bae-86c7-52b5bdea64ee\n",
      "Job ID bdfcc03e-a6a4-4977-b3fe-5fa449403768\n",
      "Job ID ccf5991c-940c-45e4-ab60-f3124c4230c0\n",
      "Job ID aca48b75-faef-4f59-9c07-d353fbea6835\n",
      "Job ID 6a746734-981e-4b0d-a0e4-40a1cfb13537\n",
      "Job Status: job has successfully run\n",
      "Job Status: job has successfully run\n",
      "Job Status: job has successfully run\n",
      "Job Status: job has successfully run\n",
      "Job Status: job has successfully run\n",
      "Job Status: job has successfully run\n",
      "Job Status: job has successfully run\n",
      "Job Status: job has successfully run\n"
     ]
    },
    {
     "name": "stderr",
     "output_type": "stream",
     "text": [
      " 72%|█████████████████████████████████████████████████████████████████████████████████████████████████████████████████████████████████▎                                                 | 91/126 [9:06:37<3:21:51, 346.04s/it]"
     ]
    },
    {
     "name": "stdout",
     "output_type": "stream",
     "text": [
      "====================\n",
      "Running with trott_steps = (19, 1)\n",
      "Job ID 7eb493fb-706e-41ff-8102-1e7a01b6d6aa\n",
      "Job ID bcd2236e-faf5-4970-a0df-feb228f906c9\n",
      "Job ID 47309e0c-b7f5-474b-a115-3f3c9a044ea2\n",
      "Job ID 978f00b2-e32a-4507-bc19-03b583fd0294\n",
      "Job ID 72b7ad00-e74f-4c30-8c44-c28c5c8b140f\n",
      "Job ID 32b3ce6b-f35f-488d-b411-11a982ab8d63\n",
      "Job ID 5dc3a048-0037-469e-adcf-013e6db110ef\n",
      "Job ID d4d4c129-6908-43ea-afa4-ac7676e15bc4\n",
      "Job Status: job has successfully run\n",
      "Job Status: job has successfully run\n",
      "Job Status: job has successfully run\n",
      "Job Status: job has successfully run\n",
      "Job Status: job has successfully run\n",
      "Job Status: job has successfully run\n",
      "Job Status: job has successfully run\n",
      "Job Status: job has successfully run\n"
     ]
    },
    {
     "name": "stderr",
     "output_type": "stream",
     "text": [
      " 73%|██████████████████████████████████████████████████████████████████████████████████████████████████████████████████████████████████▋                                                | 92/126 [9:12:18<3:15:16, 344.60s/it]"
     ]
    },
    {
     "name": "stdout",
     "output_type": "stream",
     "text": [
      "====================\n",
      "Running with trott_steps = (19, 2)\n",
      "Job ID d8b64b4a-4c1d-4785-bf72-d3d52cffbe95\n",
      "Job ID 83c289b7-6e0a-4dec-89b4-f7bffe6215a2\n",
      "Job ID af75a01a-9178-4989-8cf0-93af25fa7c2a\n",
      "Job ID 74d37306-eb38-4f3a-8021-c36aee825e30\n",
      "Job ID 5cd80cfb-970c-49b6-97af-325bf7de51be\n",
      "Job ID 65301552-312e-433a-b39c-3953aaf57492\n",
      "Job ID 66e58874-c3bf-402e-a7ce-e14a52e507e5\n",
      "Job ID 93c52a22-cf80-4587-a6b6-5570fc236ad4\n",
      "Job Status: job has successfully run\n",
      "Job Status: job has successfully run\n",
      "Job Status: job has successfully run\n",
      "Job Status: job has successfully run\n",
      "Job Status: job has successfully run\n",
      "Job Status: job has successfully run\n",
      "Job Status: job has successfully run\n",
      "Job Status: job has successfully run\n"
     ]
    },
    {
     "name": "stderr",
     "output_type": "stream",
     "text": [
      " 74%|████████████████████████████████████████████████████████████████████████████████████████████████████████████████████████████████████                                               | 93/126 [9:18:43<3:16:12, 356.74s/it]"
     ]
    },
    {
     "name": "stdout",
     "output_type": "stream",
     "text": [
      "====================\n",
      "Running with trott_steps = (19, 3)\n",
      "Job ID 61e65f21-3419-43c3-80af-408e95026e3d\n",
      "Job ID 84a20f0d-22f1-438b-b7d9-e65ad679fbf8\n",
      "Job ID 893c96d3-3c4c-440d-b187-23d127ec2994\n",
      "Job ID 052f03ad-cfe0-4a56-afe5-0ab4e3027fb7\n",
      "Job ID b44493b1-7706-469f-89db-1afb200685b1\n",
      "Job ID 8a8fd366-b62d-40c5-8f30-a762d10f9f75\n",
      "Job ID c2cfa5dc-0e76-4851-95ba-514ee502878d\n",
      "Job ID 152dcb04-bdbb-487c-bccb-5613f0e0497b\n",
      "Job Status: job has successfully run\n",
      "Job Status: job has successfully run\n",
      "Job Status: job has successfully run\n",
      "Job Status: job has successfully run\n",
      "Job Status: job has successfully run\n",
      "Job Status: job has successfully run\n",
      "Job Status: job has successfully run\n",
      "Job Status: job has successfully run\n"
     ]
    },
    {
     "name": "stderr",
     "output_type": "stream",
     "text": [
      " 75%|█████████████████████████████████████████████████████████████████████████████████████████████████████████████████████████████████████▌                                             | 94/126 [9:25:30<3:18:12, 371.64s/it]"
     ]
    },
    {
     "name": "stdout",
     "output_type": "stream",
     "text": [
      "====================\n",
      "Running with trott_steps = (19, 4)\n",
      "Job ID 8288de45-e9aa-46b7-a7c9-12f743b5b9c9\n",
      "Job ID ac21f6d3-c177-45df-843d-c7faccb41b4e\n",
      "Job ID d4ae8228-7f0b-4d27-a912-a65606dbe976\n",
      "Job ID 7bed62ad-bddc-4716-95ac-2c96e19c02c6\n",
      "Job ID 38b472a5-4e80-4ad6-b61b-cc6963013179\n",
      "Job ID fca9c01a-1877-407e-af7e-0a605ae4ba5a\n",
      "Job ID 1d62c4bc-ac37-4b2f-8350-08490c216ad3\n",
      "Job ID de3ff075-f923-4594-9f74-bdd5be081e92\n",
      "Job Status: job has successfully run\n",
      "Job Status: job has successfully run\n",
      "Job Status: job has successfully run\n",
      "Job Status: job has successfully run\n",
      "Job Status: job has successfully run\n",
      "Job Status: job has successfully run\n",
      "Job Status: job has successfully run\n",
      "Job Status: job has successfully run\n"
     ]
    },
    {
     "name": "stderr",
     "output_type": "stream",
     "text": [
      " 75%|██████████████████████████████████████████████████████████████████████████████████████████████████████████████████████████████████████▉                                            | 95/126 [9:32:19<3:17:53, 383.02s/it]"
     ]
    },
    {
     "name": "stdout",
     "output_type": "stream",
     "text": [
      "====================\n",
      "Running with trott_steps = (19, 5)\n",
      "Job ID 6cc56d2d-46bc-423b-97f0-dcd2bedd9a62\n",
      "Job ID 8d41de8f-ee12-459e-bb12-5277343656c3\n",
      "Job ID 9fb463c7-e0fe-423f-97be-f8aad84625d3\n",
      "Job ID 28d5bf72-42da-404d-b354-cc38750f772d\n",
      "Job ID 25ecb227-7dac-409e-b177-d75bc1855be8\n",
      "Job ID 5b6e9169-0837-458a-a764-d288dd5fc694\n",
      "Job ID 258cad21-96ee-499a-892a-c8aff81cc0f4\n",
      "Job ID 23238783-7da0-413e-a000-93d25ac53628\n",
      "Job Status: job has successfully run\n",
      "Job Status: job has successfully run\n",
      "Job Status: job has successfully run\n",
      "Job Status: job has successfully run\n",
      "Job Status: job has successfully run\n",
      "Job Status: job has successfully run\n",
      "Job Status: job has successfully run\n",
      "Job Status: job has successfully run\n"
     ]
    },
    {
     "name": "stderr",
     "output_type": "stream",
     "text": [
      " 76%|████████████████████████████████████████████████████████████████████████████████████████████████████████████████████████████████████████▍                                          | 96/126 [9:39:51<3:21:45, 403.52s/it]"
     ]
    },
    {
     "name": "stdout",
     "output_type": "stream",
     "text": [
      "====================\n",
      "Running with trott_steps = (20, 0)\n",
      "Job ID afa93a2a-514a-477d-9000-4d27d66fdac5\n",
      "Job ID bce06132-9041-45e0-9247-9febb26a0561\n",
      "Job ID c8c91b71-16d8-4c90-aaea-8ca7715e4617\n",
      "Job ID eff93fe9-30a4-4694-b264-1df9d970db4f\n",
      "Job ID 32c70e33-48c7-4ce3-9017-b19fc3424853\n",
      "Job ID dac6f147-622c-4e9a-92b9-7b10ab13494e\n",
      "Job ID 956d831b-5dcf-477a-8128-8734a76c8fd4\n",
      "Job ID cffeebb0-a902-4690-8e40-55ca6efbe095\n",
      "Job Status: job has successfully run\n",
      "Job Status: job has successfully run\n",
      "Job Status: job has successfully run\n",
      "Job Status: job has successfully run\n",
      "Job Status: job has successfully run\n",
      "Job Status: job has successfully run\n",
      "Job Status: job has successfully run\n",
      "Job Status: job has successfully run\n"
     ]
    },
    {
     "name": "stderr",
     "output_type": "stream",
     "text": [
      " 77%|█████████████████████████████████████████████████████████████████████████████████████████████████████████████████████████████████████████▊                                         | 97/126 [9:42:52<2:42:54, 337.05s/it]"
     ]
    },
    {
     "name": "stdout",
     "output_type": "stream",
     "text": [
      "====================\n",
      "Running with trott_steps = (20, 1)\n",
      "Job ID 6b5657d5-1740-4c1e-98fa-34b830a1b5f4\n",
      "Job ID 2040a0c3-50d2-4b1d-9eae-483f602fbef5\n",
      "Job ID 5ce71150-b7c7-441d-a660-08957f5122c2\n",
      "Job ID f5326bb4-c360-4fa6-8c9a-cca590792e75\n",
      "Job ID aa4f7964-80c8-4304-a075-235e50fad909\n",
      "Job ID 6eeab0f9-cf19-43b1-82b5-811898459d63\n",
      "Job ID ede1021e-86a8-477a-8b61-a1426c6c3a9b\n",
      "Job ID 4afe4524-7494-47de-bf96-631497267a69\n",
      "Job Status: job has successfully run\n",
      "Job Status: job has successfully run\n",
      "Job Status: job has successfully run\n",
      "Job Status: job has successfully run\n",
      "Job Status: job has successfully run\n",
      "Job Status: job has successfully run\n",
      "Job Status: job has successfully run\n",
      "Job Status: job has successfully run\n"
     ]
    },
    {
     "name": "stderr",
     "output_type": "stream",
     "text": [
      " 78%|███████████████████████████████████████████████████████████████████████████████████████████████████████████████████████████████████████████▏                                       | 98/126 [9:49:43<2:47:32, 359.02s/it]"
     ]
    },
    {
     "name": "stdout",
     "output_type": "stream",
     "text": [
      "====================\n",
      "Running with trott_steps = (20, 2)\n",
      "Job ID 8f793175-b4f5-4287-b4b3-76699236e549\n",
      "Job ID 475f2867-3543-455a-aa85-08dfb7c83478\n",
      "Job ID c38e3283-ab71-4211-8573-73a933935890\n",
      "Job ID 2ee6ef03-7a0d-4fa5-9b39-73149f4d658a\n",
      "Job ID 2518f29b-4e9b-4bc4-81da-c9c71dc098c8\n",
      "Job ID 68f19967-2b1c-49e0-84ea-b619d3e786d7\n",
      "Job ID e353238d-8b3e-4f7a-b66b-56d7639f45c4\n",
      "Job ID 78108032-6023-4358-a88b-13341b405e09\n",
      "Job Status: job has successfully run\n",
      "Job Status: job has successfully run\n",
      "Job Status: job has successfully run\n",
      "Job Status: job has successfully run\n",
      "Job Status: job has successfully run\n",
      "Job Status: job has successfully run\n",
      "Job Status: job has successfully run\n",
      "Job Status: job has successfully run\n"
     ]
    },
    {
     "name": "stderr",
     "output_type": "stream",
     "text": [
      " 79%|████████████████████████████████████████████████████████████████████████████████████████████████████████████████████████████████████████████▋                                      | 99/126 [9:56:43<2:49:52, 377.49s/it]"
     ]
    },
    {
     "name": "stdout",
     "output_type": "stream",
     "text": [
      "====================\n",
      "Running with trott_steps = (20, 3)\n",
      "Job ID 6556e3b4-3eb6-4b7c-ae53-2f503f0606f5\n",
      "Job ID 76c58e86-ba22-4820-8c8e-42e904f2faa3\n",
      "Job ID 9d421059-5ca6-46ae-be94-f6c02c67649a\n",
      "Job ID ee2449fe-8fd5-4f8a-a90f-4162e908d6df\n",
      "Job ID d183b08b-85d1-40ab-a023-e06d4bfb0cbf\n",
      "Job ID cd4d9aea-ffa1-49fe-83d1-f746f4b4b4b7\n",
      "Job ID c710c286-c075-489b-9f09-66d6732a75d4\n",
      "Job ID d08bdcd5-abe3-4615-a3a6-061cc5b88eb3\n",
      "Job Status: job has successfully run\n",
      "Job Status: job has successfully run\n",
      "Job Status: job has successfully run\n",
      "Job Status: job has successfully run\n",
      "Job Status: job has successfully run\n",
      "Job Status: job has successfully run\n",
      "Job Status: job has successfully run\n",
      "Job Status: job has successfully run\n"
     ]
    },
    {
     "name": "stderr",
     "output_type": "stream",
     "text": [
      " 79%|████████████████████████████████████████████████████████████████████████████████████████████████████████████████████████████████████████████▍                                    | 100/126 [10:03:50<2:50:01, 392.38s/it]"
     ]
    },
    {
     "name": "stdout",
     "output_type": "stream",
     "text": [
      "====================\n",
      "Running with trott_steps = (20, 4)\n",
      "Job ID f6c719e6-1f8f-41ed-a15a-c9fc6f51670b\n",
      "Job ID e7724674-e208-4664-accb-e0164dd56b0f\n",
      "Job ID b1b99afd-f51e-4e65-a327-35ff26f11abc\n",
      "Job ID 0292001e-b309-4389-91ef-295476221fde\n",
      "Job ID 50653725-cb34-478b-a49d-2f920d044ebf\n",
      "Job ID ec56781e-5752-4ca6-841d-cad936795a8c\n",
      "Job ID 3c33b8d9-3cc3-471a-901a-c007e1a02121\n",
      "Job ID a475b65b-30cd-4cbc-bc94-5626bdc48634\n",
      "Job Status: job has successfully run\n",
      "Job Status: job has successfully run\n",
      "Job Status: job has successfully run\n",
      "Job Status: job has successfully run\n",
      "Job Status: job has successfully run\n",
      "Job Status: job has successfully run\n",
      "Job Status: job has successfully run\n",
      "Job Status: job has successfully run\n"
     ]
    },
    {
     "name": "stderr",
     "output_type": "stream",
     "text": [
      " 80%|█████████████████████████████████████████████████████████████████████████████████████████████████████████████████████████████████████████████▉                                   | 101/126 [10:11:14<2:49:52, 407.68s/it]"
     ]
    },
    {
     "name": "stdout",
     "output_type": "stream",
     "text": [
      "====================\n",
      "Running with trott_steps = (20, 5)\n",
      "Job ID 82306891-c9a5-4c24-91a7-de8deea356bb\n",
      "Job ID e444c0c5-e624-40e5-97a6-65183982487e\n",
      "Job ID a1b18a06-1875-4ed9-b529-81d158cc6b5a\n",
      "Job ID b2cf92bf-a64d-4af7-b55d-4e8bbf8a8df7\n",
      "Job ID b11432a3-55a2-4ce7-9bca-5fe30046f320\n",
      "Job ID 9a95f5ba-0d14-43c4-a05a-204c7b12fe3d\n",
      "Job ID d0227382-aa78-4f3d-99e3-57bee3d3796e\n",
      "Job ID fc0be0f8-b033-4138-96e3-c1bb81ad89cc\n",
      "Job Status: job has successfully run\n",
      "Job Status: job has successfully run\n",
      "Job Status: job has successfully run\n",
      "Job Status: job has successfully run\n",
      "Job Status: job has successfully run\n",
      "Job Status: job has successfully run\n",
      "Job Status: job has successfully run\n",
      "Job Status: job has successfully run\n"
     ]
    },
    {
     "name": "stderr",
     "output_type": "stream",
     "text": [
      " 81%|███████████████████████████████████████████████████████████████████████████████████████████████████████████████████████████████████████████████▎                                 | 102/126 [10:18:25<2:45:53, 414.72s/it]"
     ]
    },
    {
     "name": "stdout",
     "output_type": "stream",
     "text": [
      "====================\n",
      "Running with trott_steps = (21, 0)\n",
      "Job ID a8bea27d-58b9-45cc-96a8-d994f6a7f516\n",
      "Job ID c4a17efc-3de7-4aad-8279-e2c985e9751c\n",
      "Job ID 93ad15a5-c8e7-48e0-9dc1-2853698417e3\n",
      "Job ID a80f07b2-c627-4fa3-94bd-66a831476fc3\n",
      "Job ID ab05d909-4d1c-416a-aeca-7ff75ab376ee\n",
      "Job ID a18c2503-749c-4e1d-b311-405b3e239622\n",
      "Job ID ccc45c5c-ec59-4ac8-b444-56e1ebce55a4\n",
      "Job ID b3d20462-b6b0-494f-932c-f5fb87703189\n",
      "Job Status: job has successfully run\n",
      "Job Status: job has successfully run\n",
      "Job Status: job has successfully run\n",
      "Job Status: job has successfully run\n",
      "Job Status: job has successfully run\n",
      "Job Status: job has successfully run\n",
      "Job Status: job has successfully run\n",
      "Job Status: job has successfully run\n"
     ]
    },
    {
     "name": "stderr",
     "output_type": "stream",
     "text": [
      " 82%|████████████████████████████████████████████████████████████████████████████████████████████████████████████████████████████████████████████████▋                                | 103/126 [10:21:26<2:12:03, 344.52s/it]"
     ]
    },
    {
     "name": "stdout",
     "output_type": "stream",
     "text": [
      "====================\n",
      "Running with trott_steps = (21, 1)\n",
      "Job ID cb10f6c5-c1cd-4c0e-9949-50dbc09bfdce\n",
      "Job ID ad05d7be-db5b-4ac0-8221-9092bb2b0a45\n",
      "Job ID 7796fb3b-5863-4609-8111-6b0be32ae915\n",
      "Job ID b1e02632-ef67-42d5-9c03-f0c49bf37c9c\n",
      "Job ID dca19064-85f6-4b6a-8a8e-22663d3c0f60\n",
      "Job ID 6d9edbcd-35c0-499f-8dfd-62b08d66b776\n",
      "Job ID 678ddd92-5ab7-44be-b574-36f9dedfac4f\n",
      "Job ID a46e8af5-2700-4eb4-9b52-e7c441b1c713\n",
      "Job Status: job has successfully run\n",
      "Job Status: job has successfully run\n",
      "Job Status: job has successfully run\n",
      "Job Status: job has successfully run\n",
      "Job Status: job has successfully run\n",
      "Job Status: job has successfully run\n",
      "Job Status: job has successfully run\n",
      "Job Status: job has successfully run\n"
     ]
    },
    {
     "name": "stderr",
     "output_type": "stream",
     "text": [
      " 83%|██████████████████████████████████████████████████████████████████████████████████████████████████████████████████████████████████████████████████                               | 104/126 [10:29:27<2:21:22, 385.56s/it]"
     ]
    },
    {
     "name": "stdout",
     "output_type": "stream",
     "text": [
      "====================\n",
      "Running with trott_steps = (21, 2)\n",
      "Job ID 5395fba1-dca8-484f-aa97-b14eeb28e077\n",
      "Job ID 1deb6d88-bd73-445e-9830-e0a59b7c09cf\n",
      "Job ID d3580029-ade5-46d4-9ed3-1c1abaae4477\n",
      "Job ID a1116155-fede-4701-8a35-3ff18880548c\n",
      "Job ID ffb91f79-aaaf-4188-a7da-cf018bd3a271\n",
      "Job ID 9959fcb5-2eb0-4145-9d75-93a660b29259\n",
      "Job ID f8f846e4-fc87-4df1-ad83-c0bca53ec43d\n",
      "Job ID 64a265d9-04f8-4d82-8961-285e3c6d0c69\n",
      "Job Status: job has successfully run\n",
      "Job Status: job has successfully run\n",
      "Job Status: job has successfully run\n",
      "Job Status: job has successfully run\n",
      "Job Status: job has successfully run\n",
      "Job Status: job has successfully run\n",
      "Job Status: job has successfully run\n",
      "Job Status: job has successfully run\n"
     ]
    },
    {
     "name": "stderr",
     "output_type": "stream",
     "text": [
      " 83%|███████████████████████████████████████████████████████████████████████████████████████████████████████████████████████████████████████████████████▌                             | 105/126 [10:36:56<2:21:39, 404.72s/it]"
     ]
    },
    {
     "name": "stdout",
     "output_type": "stream",
     "text": [
      "====================\n",
      "Running with trott_steps = (21, 3)\n",
      "Job ID 8c8bf031-8f05-44ff-9130-078b3395fee2\n",
      "Job ID 3f4dc9eb-9dd6-4b4e-8b51-8b268f3c17be\n",
      "Job ID aeb02ce7-f257-44e7-8e17-82bad6586196\n",
      "Job ID 06590c78-9af8-4b73-849a-c986a3e6895d\n",
      "Job ID 939e3b36-049f-4c37-a730-914a5321613f\n",
      "Job ID d65fd046-fc5c-4ebd-a572-3a8ab8e88bf0\n",
      "Job ID c3abeb4a-8e5f-4c9f-8f6e-4b9d6d10da39\n",
      "Job ID fe5b0cd8-5cf8-4cb5-b536-34d3d2c73c20\n",
      "Job Status: job has successfully run\n",
      "Job Status: job has successfully run\n",
      "Job Status: job has successfully run\n",
      "Job Status: job has successfully run\n",
      "Job Status: job has successfully run\n",
      "Job Status: job has successfully run\n",
      "Job Status: job has successfully run\n",
      "Job Status: job has successfully run\n"
     ]
    },
    {
     "name": "stderr",
     "output_type": "stream",
     "text": [
      " 84%|████████████████████████████████████████████████████████████████████████████████████████████████████████████████████████████████████████████████████▉                            | 106/126 [10:44:02<2:17:00, 411.02s/it]"
     ]
    },
    {
     "name": "stdout",
     "output_type": "stream",
     "text": [
      "====================\n",
      "Running with trott_steps = (21, 4)\n",
      "Job ID d6c2df2d-b6b8-4adb-8d42-3766e3690947\n",
      "Job ID dcad71d5-0668-450d-baf8-f4c66b473c98\n",
      "Job ID 68c49e22-9ff0-4c39-aa9d-4ea06872b089\n",
      "Job ID cd9a77e8-728a-4fde-aaf0-8e0191be2f57\n",
      "Job ID bb6bd171-a2e3-4638-bb82-d0bd284f77a0\n",
      "Job ID 07b4374e-e125-4501-8fe2-cf9f6c5737b1\n",
      "Job ID e8ca09e9-daed-4927-9cfa-b5e4b4ab3b96\n",
      "Job ID 814deb49-4eaa-4b1b-beeb-28f3d23f73c6\n",
      "Job Status: job has successfully run\n",
      "Job Status: job has successfully run\n",
      "Job Status: job has successfully run\n",
      "Job Status: job has successfully run\n",
      "Job Status: job has successfully run\n",
      "Job Status: job has successfully run\n",
      "Job Status: job has successfully run\n",
      "Job Status: job has successfully run\n"
     ]
    },
    {
     "name": "stderr",
     "output_type": "stream",
     "text": [
      " 85%|██████████████████████████████████████████████████████████████████████████████████████████████████████████████████████████████████████████████████████▎                          | 107/126 [10:51:42<2:14:47, 425.67s/it]"
     ]
    },
    {
     "name": "stdout",
     "output_type": "stream",
     "text": [
      "====================\n",
      "Running with trott_steps = (21, 5)\n",
      "Job ID 989b703c-e32b-4dca-924c-2dcd07022ec6\n",
      "Job ID ab88bc50-a240-4df0-b14a-8ee3e3dfba88\n",
      "Job ID 33ad9dc1-232c-4fd1-b702-60c3de1b4e13\n",
      "Job ID ba8ef460-b270-4d76-a753-d34b86267fd1\n",
      "Job ID 538aa5c0-173b-485a-8334-d7d667b1c0da\n",
      "Job ID cd5a2250-4f0f-4ffd-85bf-44e2ee449f23\n",
      "Job ID a91c2156-63a5-4dce-86eb-471a553cb258\n",
      "Job ID 60c2653b-370d-41db-83e7-4843572bd452\n",
      "Job Status: job has successfully run\n",
      "Job Status: job has successfully run\n",
      "Job Status: job has successfully run\n",
      "Job Status: job has successfully run\n",
      "Job Status: job has successfully run\n",
      "Job Status: job has successfully run\n",
      "Job Status: job has successfully run\n",
      "Job Status: job has successfully run\n"
     ]
    },
    {
     "name": "stderr",
     "output_type": "stream",
     "text": [
      " 86%|███████████████████████████████████████████████████████████████████████████████████████████████████████████████████████████████████████████████████████▋                         | 108/126 [10:59:30<2:11:30, 438.38s/it]"
     ]
    },
    {
     "name": "stdout",
     "output_type": "stream",
     "text": [
      "====================\n",
      "Running with trott_steps = (22, 0)\n",
      "Job ID 3d08759f-9a8e-48ba-ab21-ab33ad661aa6\n",
      "Job ID c70094f2-e49b-4603-8cdc-5ccf8980c4e2\n",
      "Job ID 8d24ad8b-8862-4739-9d07-b6ab3c92ce76\n",
      "Job ID 9a06bea6-3ef9-4f6e-985b-262ddb65febd\n",
      "Job ID 7cde2dba-dc0c-4d76-bc4b-da418594c7c2\n",
      "Job ID 648daaba-be71-4f77-8f57-fd81822d9642\n",
      "Job ID 0111d07b-e5a3-4873-b9a4-ac7252778e50\n",
      "Job ID 734ca004-7a38-456f-bb8d-62e1164137a1\n",
      "Job Status: job has successfully run\n",
      "Job Status: job has successfully run\n",
      "Job Status: job has successfully run\n",
      "Job Status: job has successfully run\n",
      "Job Status: job has successfully run\n",
      "Job Status: job has successfully run\n",
      "Job Status: job has successfully run\n",
      "Job Status: job has successfully run\n"
     ]
    },
    {
     "name": "stderr",
     "output_type": "stream",
     "text": [
      " 87%|█████████████████████████████████████████████████████████████████████████████████████████████████████████████████████████████████████████████████████████                        | 109/126 [11:02:37<1:42:47, 362.81s/it]"
     ]
    },
    {
     "name": "stdout",
     "output_type": "stream",
     "text": [
      "====================\n",
      "Running with trott_steps = (22, 1)\n",
      "Job ID 1bb6cf14-b350-428c-a814-f649825fb5e1\n",
      "Job ID d7a4acbe-ef78-4b84-9b1d-d54b3305f8c2\n",
      "Job ID 6325800f-733b-4af1-be4a-574bd9501b72\n",
      "Job ID a598b1b8-3a70-4b22-b211-66e5b2ff8ffa\n",
      "Job ID a0679707-f82b-4f7e-ba9a-e4d6fbed84b4\n",
      "Job ID c496564d-432a-47e4-8fb8-b72527233125\n",
      "Job ID d30e24cf-7f40-4301-8e43-2b1ffbee7344\n",
      "Job ID c14ef7c1-f57c-4529-91cd-a2b2990421b7\n",
      "Job Status: job has successfully run\n",
      "Job Status: job has successfully run\n",
      "Job Status: job has successfully run\n",
      "Job Status: job has successfully run\n",
      "Job Status: job has successfully run\n",
      "Job Status: job has successfully run\n",
      "Job Status: job has successfully run\n",
      "Job Status: job has successfully run\n"
     ]
    },
    {
     "name": "stderr",
     "output_type": "stream",
     "text": [
      " 87%|██████████████████████████████████████████████████████████████████████████████████████████████████████████████████████████████████████████████████████████▌                      | 110/126 [11:10:03<1:43:24, 387.77s/it]"
     ]
    },
    {
     "name": "stdout",
     "output_type": "stream",
     "text": [
      "====================\n",
      "Running with trott_steps = (22, 2)\n"
     ]
    }
   ],
   "source": [
    "results = gen_results(qcs, backend=sim, label=\"data/3cnot_noiseless_sim_unitary_folding\")\n",
    "# results = np.load('data/3cnot_noiseless_sim_unitary_folding.npy',allow_pickle=True).item()"
   ]
  },
  {
   "cell_type": "code",
   "execution_count": null,
   "id": "71fa7fe5-7f37-4b34-885c-105d96989875",
   "metadata": {},
   "outputs": [],
   "source": []
  }
 ],
 "metadata": {
  "kernelspec": {
   "display_name": "Python 3 (ipykernel)",
   "language": "python",
   "name": "python3"
  },
  "language_info": {
   "codemirror_mode": {
    "name": "ipython",
    "version": 3
   },
   "file_extension": ".py",
   "mimetype": "text/x-python",
   "name": "python",
   "nbconvert_exporter": "python",
   "pygments_lexer": "ipython3",
   "version": "3.9.5"
  }
 },
 "nbformat": 4,
 "nbformat_minor": 5
}
