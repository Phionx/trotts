{
 "cells": [
  {
   "cell_type": "code",
   "execution_count": 1,
   "id": "07bdba28-fe9c-446a-a30b-d7bccc7dfcd8",
   "metadata": {},
   "outputs": [],
   "source": [
    "%load_ext autoreload\n",
    "%autoreload 2"
   ]
  },
  {
   "cell_type": "code",
   "execution_count": 2,
   "id": "b1c50c72-7c8b-4f7e-8640-c39c0155e832",
   "metadata": {},
   "outputs": [],
   "source": [
    "from trott import *\n",
    "from qiskit import IBMQ\n",
    "from qiskit.providers.aer import QasmSimulator\n",
    "import numpy as np\n",
    "import warnings\n",
    "warnings.filterwarnings('ignore')"
   ]
  },
  {
   "cell_type": "code",
   "execution_count": 3,
   "id": "fc50b5d8-adcf-4d91-9755-6620b909c28f",
   "metadata": {},
   "outputs": [],
   "source": [
    "trott_gate = gen_3cnot_trott_gate() # using the basic trott method (this can be changed)x\n",
    "trott_steps_range = np.arange(4,25,1)\n",
    "unitary_folding_steps_range = np.arange(0,6,1)\n",
    "qcs = gen_st_qcs_range(trott_gate, trott_steps_range, unitary_folding_steps_range=unitary_folding_steps_range)\n",
    "# qcs[10][-2].draw() # e.g. 10 trott steps, example tomo circuit"
   ]
  },
  {
   "cell_type": "code",
   "execution_count": 4,
   "id": "afa0638f-83ed-470b-92eb-a86a78075062",
   "metadata": {},
   "outputs": [
    {
     "data": {
      "text/html": [
       "<pre style=\"word-wrap: normal;white-space: pre;background: #fff0;line-height: 1.1;font-family: &quot;Courier New&quot;,Courier,monospace\">                                                                   »\n",
       "q7_0: ─────────────────────────────────────────────────────────────»\n",
       "           ┌────────────┐┌────────────┐┌────────────┐┌────────────┐»\n",
       "q7_1: ─────┤0           ├┤0           ├┤0           ├┤0           ├»\n",
       "           │            ││            ││            ││            │»\n",
       "q7_2: ─────┤            ├┤            ├┤            ├┤            ├»\n",
       "      ┌───┐│            ││            ││            ││            │»\n",
       "q7_3: ┤ X ├┤1 Trot(π/4) ├┤1 Trot(π/4) ├┤1 Trot(π/4) ├┤1 Trot(π/4) ├»\n",
       "      └───┘│            ││            ││            ││            │»\n",
       "q7_4: ─────┤            ├┤            ├┤            ├┤            ├»\n",
       "      ┌───┐│            ││            ││            ││            │»\n",
       "q7_5: ┤ X ├┤2           ├┤2           ├┤2           ├┤2           ├»\n",
       "      └───┘└────────────┘└────────────┘└────────────┘└────────────┘»\n",
       "q7_6: ─────────────────────────────────────────────────────────────»\n",
       "                                                                   »\n",
       "c3: 3/═════════════════════════════════════════════════════════════»\n",
       "                                                                   »\n",
       "«                                                                    »\n",
       "«q7_0: ──────────────────────────────────────────────────────────────»\n",
       "«      ┌────────────┐┌───────────────┐┌────────────┐┌───────────────┐»\n",
       "«q7_1: ┤0           ├┤0              ├┤0           ├┤0              ├»\n",
       "«      │            ││               ││            ││               │»\n",
       "«q7_2: ┤            ├┤               ├┤            ├┤               ├»\n",
       "«      │            ││               ││            ││               │»\n",
       "«q7_3: ┤1 Trot(π/4) ├┤1 Trot_dg(π/4) ├┤1 Trot(π/4) ├┤1 Trot_dg(π/4) ├»\n",
       "«      │            ││               ││            ││               │»\n",
       "«q7_4: ┤            ├┤               ├┤            ├┤               ├»\n",
       "«      │            ││               ││            ││               │»\n",
       "«q7_5: ┤2           ├┤2              ├┤2           ├┤2              ├»\n",
       "«      └────────────┘└───────────────┘└────────────┘└───────────────┘»\n",
       "«q7_6: ──────────────────────────────────────────────────────────────»\n",
       "«                                                                    »\n",
       "«c3: 3/══════════════════════════════════════════════════════════════»\n",
       "«                                                                    »\n",
       "«                                      ░          \n",
       "«q7_0: ────────────────────────────────░──────────\n",
       "«      ┌────────────┐┌───────────────┐ ░ ┌─┐      \n",
       "«q7_1: ┤0           ├┤0              ├─░─┤M├──────\n",
       "«      │            ││               │ ░ └╥┘      \n",
       "«q7_2: ┤            ├┤               ├─░──╫───────\n",
       "«      │            ││               │ ░  ║ ┌─┐   \n",
       "«q7_3: ┤1 Trot(π/4) ├┤1 Trot_dg(π/4) ├─░──╫─┤M├───\n",
       "«      │            ││               │ ░  ║ └╥┘   \n",
       "«q7_4: ┤            ├┤               ├─░──╫──╫────\n",
       "«      │            ││               │ ░  ║  ║ ┌─┐\n",
       "«q7_5: ┤2           ├┤2              ├─░──╫──╫─┤M├\n",
       "«      └────────────┘└───────────────┘ ░  ║  ║ └╥┘\n",
       "«q7_6: ────────────────────────────────░──╫──╫──╫─\n",
       "«                                      ░  ║  ║  ║ \n",
       "«c3: 3/═══════════════════════════════════╩══╩══╩═\n",
       "«                                         0  1  2 </pre>"
      ],
      "text/plain": [
       "                                                                   »\n",
       "q7_0: ─────────────────────────────────────────────────────────────»\n",
       "           ┌────────────┐┌────────────┐┌────────────┐┌────────────┐»\n",
       "q7_1: ─────┤0           ├┤0           ├┤0           ├┤0           ├»\n",
       "           │            ││            ││            ││            │»\n",
       "q7_2: ─────┤            ├┤            ├┤            ├┤            ├»\n",
       "      ┌───┐│            ││            ││            ││            │»\n",
       "q7_3: ┤ X ├┤1 Trot(π/4) ├┤1 Trot(π/4) ├┤1 Trot(π/4) ├┤1 Trot(π/4) ├»\n",
       "      └───┘│            ││            ││            ││            │»\n",
       "q7_4: ─────┤            ├┤            ├┤            ├┤            ├»\n",
       "      ┌───┐│            ││            ││            ││            │»\n",
       "q7_5: ┤ X ├┤2           ├┤2           ├┤2           ├┤2           ├»\n",
       "      └───┘└────────────┘└────────────┘└────────────┘└────────────┘»\n",
       "q7_6: ─────────────────────────────────────────────────────────────»\n",
       "                                                                   »\n",
       "c3: 3/═════════════════════════════════════════════════════════════»\n",
       "                                                                   »\n",
       "«                                                                    »\n",
       "«q7_0: ──────────────────────────────────────────────────────────────»\n",
       "«      ┌────────────┐┌───────────────┐┌────────────┐┌───────────────┐»\n",
       "«q7_1: ┤0           ├┤0              ├┤0           ├┤0              ├»\n",
       "«      │            ││               ││            ││               │»\n",
       "«q7_2: ┤            ├┤               ├┤            ├┤               ├»\n",
       "«      │            ││               ││            ││               │»\n",
       "«q7_3: ┤1 Trot(π/4) ├┤1 Trot_dg(π/4) ├┤1 Trot(π/4) ├┤1 Trot_dg(π/4) ├»\n",
       "«      │            ││               ││            ││               │»\n",
       "«q7_4: ┤            ├┤               ├┤            ├┤               ├»\n",
       "«      │            ││               ││            ││               │»\n",
       "«q7_5: ┤2           ├┤2              ├┤2           ├┤2              ├»\n",
       "«      └────────────┘└───────────────┘└────────────┘└───────────────┘»\n",
       "«q7_6: ──────────────────────────────────────────────────────────────»\n",
       "«                                                                    »\n",
       "«c3: 3/══════════════════════════════════════════════════════════════»\n",
       "«                                                                    »\n",
       "«                                      ░          \n",
       "«q7_0: ────────────────────────────────░──────────\n",
       "«      ┌────────────┐┌───────────────┐ ░ ┌─┐      \n",
       "«q7_1: ┤0           ├┤0              ├─░─┤M├──────\n",
       "«      │            ││               │ ░ └╥┘      \n",
       "«q7_2: ┤            ├┤               ├─░──╫───────\n",
       "«      │            ││               │ ░  ║ ┌─┐   \n",
       "«q7_3: ┤1 Trot(π/4) ├┤1 Trot_dg(π/4) ├─░──╫─┤M├───\n",
       "«      │            ││               │ ░  ║ └╥┘   \n",
       "«q7_4: ┤            ├┤               ├─░──╫──╫────\n",
       "«      │            ││               │ ░  ║  ║ ┌─┐\n",
       "«q7_5: ┤2           ├┤2              ├─░──╫──╫─┤M├\n",
       "«      └────────────┘└───────────────┘ ░  ║  ║ └╥┘\n",
       "«q7_6: ────────────────────────────────░──╫──╫──╫─\n",
       "«                                      ░  ║  ║  ║ \n",
       "«c3: 3/═══════════════════════════════════╩══╩══╩═\n",
       "«                                         0  1  2 "
      ]
     },
     "execution_count": 4,
     "metadata": {},
     "output_type": "execute_result"
    }
   ],
   "source": [
    "qcs[(4,3)][-1].draw()"
   ]
  },
  {
   "cell_type": "markdown",
   "id": "8e91a39b-41ff-49bb-ade2-6ecc937f21d0",
   "metadata": {},
   "source": [
    "# Prepare Backend"
   ]
  },
  {
   "cell_type": "code",
   "execution_count": 5,
   "id": "7606c60c-6ca9-48d9-9741-ca3f000eba08",
   "metadata": {},
   "outputs": [],
   "source": [
    "# load IBMQ Account data\n",
    "\n",
    "# IBMQ.save_account(TOKEN)  # replace TOKEN with your API token string (https://quantum-computing.ibm.com/lab/docs/iql/manage/account/ibmq)\n",
    "provider = IBMQ.load_account()"
   ]
  },
  {
   "cell_type": "code",
   "execution_count": 6,
   "id": "e423993a-70b0-407b-9efb-1c9d76cd110d",
   "metadata": {},
   "outputs": [],
   "source": [
    "# Get backend for experiment\n",
    "provider = IBMQ.get_provider(hub='ibm-q-community', group='ibmquantumawards', project='open-science-22')\n",
    "jakarta = provider.get_backend('ibmq_jakarta')\n",
    "# properties = jakarta.properties()\n",
    "\n",
    "# Simulated backend based on ibmq_jakarta's device noise profile\n",
    "sim_noisy_jakarta = QasmSimulator.from_backend(provider.get_backend('ibmq_jakarta'))\n",
    "\n",
    "# Noiseless simulated backend\n",
    "sim = QasmSimulator()"
   ]
  },
  {
   "cell_type": "markdown",
   "id": "8d939a02-a7cd-4746-b563-20a6c820a43a",
   "metadata": {},
   "source": [
    "# Capture Data"
   ]
  },
  {
   "cell_type": "code",
   "execution_count": 7,
   "id": "230b8174-2654-42fe-b7de-d11b40fa2e4c",
   "metadata": {
    "scrolled": true,
    "tags": []
   },
   "outputs": [
    {
     "name": "stderr",
     "output_type": "stream",
     "text": [
      "  0%|                                                                                                                                                                                                 | 0/126 [00:00<?, ?it/s]"
     ]
    },
    {
     "name": "stdout",
     "output_type": "stream",
     "text": [
      "====================\n",
      "Submitting jobs with trott_steps = (4, 0)\n",
      "Job ID 62624e125417b78a616a1f12\n",
      "Job ID 62624e155ce57b84ccbec18c\n",
      "Job ID 62624e18d0d73fc653baf435\n",
      "Job ID 62624e1b75b546e69f003117\n",
      "Job ID 62624e1e1dc5ca85510e2df0\n",
      "Job ID 62624e21aa707d99efa8a26e\n",
      "Job ID 62624e251672461759b2df97\n"
     ]
    },
    {
     "name": "stderr",
     "output_type": "stream",
     "text": [
      "  1%|█▍                                                                                                                                                                                       | 1/126 [00:25<52:21, 25.13s/it]"
     ]
    },
    {
     "name": "stdout",
     "output_type": "stream",
     "text": [
      "Job ID 62624e275ce57badc6bec18d\n",
      "====================\n",
      "Submitting jobs with trott_steps = (4, 1)\n",
      "Job ID 62624e2b5ce57b1ca7bec18e\n",
      "Job ID 62624e311c3f264fdd4524f7\n",
      "Job ID 62624e361dc5ca2b400e2df1\n",
      "Job ID 62624e3b75b5462930003118\n",
      "Job ID 62624e3faa707d5d81a8a26f\n",
      "Job ID 62624e445caee4b588347502\n",
      "Job ID 62624e495ce57b2a74bec18f\n"
     ]
    },
    {
     "name": "stderr",
     "output_type": "stream",
     "text": [
      "  2%|██▉                                                                                                                                                                                    | 2/126 [01:03<1:08:10, 32.99s/it]"
     ]
    },
    {
     "name": "stdout",
     "output_type": "stream",
     "text": [
      "Job ID 62624e4dd0d73f5169baf437\n",
      "====================\n",
      "Submitting jobs with trott_steps = (4, 2)\n",
      "Job ID 62624e5275b546768100311a\n",
      "Job ID 62624e581dc5cac7c90e2df2\n",
      "Job ID 62624e5d16724676d3b2df98\n",
      "Job ID 62624e625ce57b7c2dbec190\n",
      "Job ID 62624e68d0d73feb46baf438\n",
      "Job ID 62624e6e75b5465b3f00311b\n",
      "Job ID 62624e741672462308b2df99\n"
     ]
    },
    {
     "name": "stderr",
     "output_type": "stream",
     "text": [
      "  2%|████▎                                                                                                                                                                                  | 3/126 [01:47<1:17:58, 38.03s/it]"
     ]
    },
    {
     "name": "stdout",
     "output_type": "stream",
     "text": [
      "Job ID 62624e791672462b9db2df9a\n",
      "====================\n",
      "Submitting jobs with trott_steps = (4, 3)\n",
      "Job ID 62624e80fcb69e7f71ef78ce\n",
      "Job ID 62624e86fcb69e00afef78cf\n",
      "Job ID 62624e8c167246fa43b2df9b\n",
      "Job ID 62624e935417b7d4d96a1f14\n",
      "Job ID 62624e9a5ce57b7ebcbec191\n",
      "Job ID 62624ea775b546fc4b00311c\n",
      "Job ID 62624eadaa707db8cfa8a270\n"
     ]
    },
    {
     "name": "stderr",
     "output_type": "stream",
     "text": [
      "  3%|█████▊                                                                                                                                                                                 | 4/126 [02:46<1:33:47, 46.13s/it]"
     ]
    },
    {
     "name": "stdout",
     "output_type": "stream",
     "text": [
      "Job ID 62624eb45417b707366a1f15\n",
      "====================\n",
      "Submitting jobs with trott_steps = (4, 4)\n",
      "Job ID 62624ebb5ce57bdcd8bec192\n",
      "Job ID 62624ec21c3f2600cc4524f9\n",
      "Job ID 62624ec9aa707d79cca8a271\n",
      "Job ID 62624ed05caee4773b347504\n",
      "Job ID 62624ed9fcb69e31e3ef78d0\n",
      "Job ID 62624edf1c3f268e264524fa\n",
      "Job ID 62624ee51dc5caf53c0e2df5\n"
     ]
    },
    {
     "name": "stderr",
     "output_type": "stream",
     "text": [
      "  4%|███████▎                                                                                                                                                                               | 5/126 [03:42<1:40:26, 49.80s/it]"
     ]
    },
    {
     "name": "stdout",
     "output_type": "stream",
     "text": [
      "Job ID 62624eecaa707d0037a8a272\n",
      "====================\n",
      "Submitting jobs with trott_steps = (4, 5)\n",
      "Job ID 62624ef35417b7f9a26a1f16\n",
      "Job ID 62624efa5caee48d0c347505\n",
      "Job ID 62624f01fcb69e98d2ef78d1\n",
      "Job ID 62624f091c3f2619214524fc\n",
      "Job ID 62624f10aa707dea2ba8a273\n",
      "Job ID 62624f18aa707d3589a8a274\n",
      "Job ID 62624f1e167246b89fb2df9e\n"
     ]
    },
    {
     "name": "stderr",
     "output_type": "stream",
     "text": [
      "  5%|████████▋                                                                                                                                                                              | 6/126 [04:39<1:44:13, 52.11s/it]"
     ]
    },
    {
     "name": "stdout",
     "output_type": "stream",
     "text": [
      "Job ID 62624f25fcb69ea99bef78d3\n",
      "====================\n",
      "Submitting jobs with trott_steps = (5, 0)\n",
      "Job ID 62624f285417b7e2a76a1f17\n",
      "Job ID 62624f2b5caee4df75347507\n",
      "Job ID 62624f2fd0d73fbc34baf43b\n",
      "Job ID 62624f3275b5469d6700311e\n",
      "Job ID 62624f351dc5ca68280e2df6\n",
      "Job ID 62624f3916724600ccb2dfa0\n",
      "Job ID 62624f3c5caee445df347508\n"
     ]
    },
    {
     "name": "stderr",
     "output_type": "stream",
     "text": [
      "  6%|██████████▏                                                                                                                                                                            | 7/126 [05:05<1:26:47, 43.76s/it]"
     ]
    },
    {
     "name": "stdout",
     "output_type": "stream",
     "text": [
      "Job ID 62624f3fd0d73fe558baf43c\n",
      "====================\n",
      "Submitting jobs with trott_steps = (5, 1)\n",
      "Job ID 62624f441dc5ca12d60e2df7\n",
      "Job ID 62624f491672468536b2dfa1\n",
      "Job ID 62624f4e1c3f26100e4524fd\n",
      "Job ID 62624f531dc5caa4f10e2df8\n",
      "Job ID 62624f645caee4560b347509\n",
      "Job ID 62624f69fcb69e2761ef78d4\n",
      "Job ID 62624f6e1c3f260c884524fe\n"
     ]
    },
    {
     "name": "stderr",
     "output_type": "stream",
     "text": [
      "  6%|███████████▌                                                                                                                                                                           | 8/126 [05:57<1:30:58, 46.26s/it]"
     ]
    },
    {
     "name": "stdout",
     "output_type": "stream",
     "text": [
      "Job ID 62624f735417b715f76a1f1a\n",
      "====================\n",
      "Submitting jobs with trott_steps = (5, 2)\n",
      "Job ID 62624f79aa707d1962a8a275\n",
      "Job ID 62624f7e5caee4d82734750a\n",
      "Job ID 62624f8475b546b1cf00311f\n",
      "Job ID 62624f8ad0d73f5699baf43d\n",
      "Job ID 62624f90d0d73f34e3baf43e\n",
      "Job ID 62624f951dc5ca0bf90e2df9\n",
      "Job ID 62624f9c16724650cab2dfa3\n"
     ]
    },
    {
     "name": "stderr",
     "output_type": "stream",
     "text": [
      "  7%|█████████████                                                                                                                                                                          | 9/126 [06:43<1:30:28, 46.40s/it]"
     ]
    },
    {
     "name": "stdout",
     "output_type": "stream",
     "text": [
      "Job ID 62624fa216724673a0b2dfa4\n",
      "====================\n",
      "Submitting jobs with trott_steps = (5, 3)\n",
      "Job ID 62624fa8fcb69e4ac7ef78d6\n",
      "Job ID 62624fae1c3f263c9a4524ff\n",
      "Job ID 62624fb4aa707d67bea8a276\n",
      "Job ID 62624fba1672464dc3b2dfa6\n",
      "Job ID 62624fc05ce57b0644bec195\n",
      "Job ID 62624fc6d0d73fbbf0baf440\n",
      "Job ID 62624fcc1c3f264479452500\n"
     ]
    },
    {
     "name": "stderr",
     "output_type": "stream",
     "text": [
      "  8%|██████████████▍                                                                                                                                                                       | 10/126 [07:32<1:30:51, 47.00s/it]"
     ]
    },
    {
     "name": "stdout",
     "output_type": "stream",
     "text": [
      "Job ID 62624fd21dc5cadd260e2dfa\n",
      "====================\n",
      "Submitting jobs with trott_steps = (5, 4)\n",
      "Job ID 62624fd95417b7e8c26a1f1b\n",
      "Job ID 62624fe0d0d73f1a84baf441\n",
      "Job ID 62624fe61672467e14b2dfa7\n",
      "Job ID 62624fed5ce57b4626bec196\n",
      "Job ID 62624ff4d0d73f15d9baf442\n",
      "Job ID 62624ffb1dc5ca43a70e2dfb\n",
      "Job ID 62625002aa707dddf7a8a277\n"
     ]
    },
    {
     "name": "stderr",
     "output_type": "stream",
     "text": [
      "  9%|███████████████▉                                                                                                                                                                      | 11/126 [08:25<1:33:56, 49.01s/it]"
     ]
    },
    {
     "name": "stdout",
     "output_type": "stream",
     "text": [
      "Job ID 626250085caee4661534750d\n",
      "====================\n",
      "Submitting jobs with trott_steps = (5, 5)\n",
      "Job ID 6262500f1c3f266c2a452501\n",
      "Job ID 626250161672461c10b2dfa8\n",
      "Job ID 6262501efcb69e3d1aef78d8\n",
      "Job ID 62625026aa707d43ada8a279\n",
      "Job ID 6262502d5caee414ed34750e\n",
      "Job ID 62625034fcb69e4c8cef78d9\n",
      "Job ID 6262503c1c3f26402f452502\n"
     ]
    },
    {
     "name": "stderr",
     "output_type": "stream",
     "text": [
      " 10%|█████████████████▎                                                                                                                                                                    | 12/126 [09:25<1:39:02, 52.13s/it]"
     ]
    },
    {
     "name": "stdout",
     "output_type": "stream",
     "text": [
      "Job ID 626250431dc5cacf040e2dfd\n",
      "====================\n",
      "Submitting jobs with trott_steps = (6, 0)\n",
      "Job ID 626250461672465ea5b2dfa9\n",
      "Job ID 6262504a5417b793126a1f1e\n",
      "Job ID 6262504e75b54612e1003121\n",
      "Job ID 62625051d0d73f7123baf443\n",
      "Job ID 6262505575b5460bf7003122\n",
      "Job ID 62625058aa707d60e0a8a27a\n",
      "Job ID 6262505c5caee4d26e347512\n"
     ]
    },
    {
     "name": "stderr",
     "output_type": "stream",
     "text": [
      " 10%|██████████████████▊                                                                                                                                                                   | 13/126 [09:53<1:24:33, 44.90s/it]"
     ]
    },
    {
     "name": "stdout",
     "output_type": "stream",
     "text": [
      "Job ID 6262505f5ce57b1482bec197\n",
      "====================\n",
      "Submitting jobs with trott_steps = (6, 1)\n",
      "Job ID 6262506575b546059c003124\n",
      "Job ID 6262506a1dc5ca6c680e2e00\n",
      "Job ID 6262506f5417b77b256a1f1f\n",
      "Job ID 62625076d0d73f035bbaf444\n",
      "Job ID 6262507baa707df9e6a8a27b\n",
      "Job ID 626250805caee49b1c347513\n",
      "Job ID 62625086d0d73f1cc6baf445\n"
     ]
    },
    {
     "name": "stderr",
     "output_type": "stream",
     "text": [
      " 11%|████████████████████▏                                                                                                                                                                 | 14/126 [10:49<1:30:15, 48.36s/it]"
     ]
    },
    {
     "name": "stdout",
     "output_type": "stream",
     "text": [
      "Job ID 62625097d0d73f3a07baf447\n",
      "====================\n",
      "Submitting jobs with trott_steps = (6, 2)\n",
      "Job ID 6262509d167246420eb2dfab\n",
      "Job ID 626250a3d0d73f5261baf448\n",
      "Job ID 626250a975b5464674003125\n",
      "Job ID 626250b0aa707d5ad4a8a27e\n",
      "Job ID 626250b55ce57b9db4bec199\n",
      "Job ID 626250bc5ce57bff02bec19a\n",
      "Job ID 626250c11c3f2655a7452505\n"
     ]
    },
    {
     "name": "stderr",
     "output_type": "stream",
     "text": [
      " 12%|█████████████████████▋                                                                                                                                                                | 15/126 [11:38<1:29:26, 48.34s/it]"
     ]
    },
    {
     "name": "stdout",
     "output_type": "stream",
     "text": [
      "Job ID 626250c8fcb69e3003ef78dc\n",
      "====================\n",
      "Submitting jobs with trott_steps = (6, 3)\n",
      "Job ID 626250ce1dc5ca18cc0e2e01\n",
      "Job ID 626250d55caee4f47c347517\n",
      "Job ID 626250dc1c3f26768a452506\n",
      "Job ID 626250e31dc5ca14720e2e03\n",
      "Job ID 626250ee5caee42977347519\n",
      "Job ID 626250f51672466c80b2dfae\n",
      "Job ID 626250fc16724632f0b2dfaf\n"
     ]
    },
    {
     "name": "stderr",
     "output_type": "stream",
     "text": [
      " 13%|███████████████████████                                                                                                                                                               | 16/126 [12:36<1:34:06, 51.33s/it]"
     ]
    },
    {
     "name": "stdout",
     "output_type": "stream",
     "text": [
      "Job ID 626251025caee4d26f34751b\n",
      "====================\n",
      "Submitting jobs with trott_steps = (6, 4)\n",
      "Job ID 62625109fcb69e41efef78dd\n",
      "Job ID 626251135caee4e70534751c\n",
      "Job ID 6262511a1672462af2b2dfb0\n",
      "Job ID 626251325ce57b3444bec19b\n",
      "Job ID 6262513a75b5461033003126\n",
      "Job ID 62625141aa707d044ca8a280\n",
      "Job ID 626251485417b78ac96a1f23\n"
     ]
    },
    {
     "name": "stderr",
     "output_type": "stream",
     "text": [
      " 13%|████████████████████████▌                                                                                                                                                             | 17/126 [14:03<1:52:42, 62.04s/it]"
     ]
    },
    {
     "name": "stdout",
     "output_type": "stream",
     "text": [
      "Job ID 62625150d0d73f34a2baf44a\n",
      "====================\n",
      "Submitting jobs with trott_steps = (6, 5)\n",
      "Job ID 626251615417b719716a1f24\n",
      "Job ID 626251691dc5ca6a1f0e2e06\n",
      "Job ID 6262517175b5465f43003127\n",
      "Job ID 62625179fcb69e77f4ef78de\n",
      "Job ID 62625181fcb69e6ad9ef78df\n",
      "Job ID 6262518975b546feb2003128\n",
      "Job ID 62625192aa707d468aa8a282\n"
     ]
    },
    {
     "name": "stderr",
     "output_type": "stream",
     "text": [
      " 14%|██████████████████████████                                                                                                                                                            | 18/126 [15:08<1:53:13, 62.90s/it]"
     ]
    },
    {
     "name": "stdout",
     "output_type": "stream",
     "text": [
      "Job ID 6262519a5417b745866a1f26\n",
      "====================\n",
      "Submitting jobs with trott_steps = (7, 0)\n",
      "Job ID 6262519e5ce57b8b9fbec19c\n",
      "Job ID 626251abfcb69e4f2bef78e0\n",
      "Job ID 626251af75b5466a72003129\n",
      "Job ID 626251b21672463e78b2dfb2\n",
      "Job ID 626251b775b54617ad00312a\n",
      "Job ID 626251ba1dc5ca62300e2e08\n",
      "Job ID 626251be1dc5ca7b550e2e09\n"
     ]
    },
    {
     "name": "stderr",
     "output_type": "stream",
     "text": [
      " 15%|███████████████████████████▍                                                                                                                                                          | 19/126 [15:48<1:40:12, 56.19s/it]"
     ]
    },
    {
     "name": "stdout",
     "output_type": "stream",
     "text": [
      "Job ID 626251c2167246db5eb2dfb4\n",
      "====================\n",
      "Submitting jobs with trott_steps = (7, 1)\n",
      "Job ID 626251c95caee4010b34751e\n",
      "Job ID 626251cffcb69e2c68ef78e1\n",
      "Job ID 626251d675b546604d00312b\n",
      "Job ID 626251dc1672465ddbb2dfb6\n",
      "Job ID 626251e35caee4698f34751f\n",
      "Job ID 626251ea5ce57b0527bec19e\n",
      "Job ID 626251f1d0d73f7250baf44e\n"
     ]
    },
    {
     "name": "stderr",
     "output_type": "stream",
     "text": [
      " 16%|████████████████████████████▉                                                                                                                                                         | 20/126 [16:41<1:37:36, 55.25s/it]"
     ]
    },
    {
     "name": "stdout",
     "output_type": "stream",
     "text": [
      "Job ID 626251f875b546545d00312c\n",
      "====================\n",
      "Submitting jobs with trott_steps = (7, 2)\n",
      "Job ID 626251ffaa707d1a1da8a283\n",
      "Job ID 62625206fcb69e6aceef78e3\n",
      "Job ID 6262520e5caee461f3347520\n",
      "Job ID 62625215fcb69e8668ef78e4\n",
      "Job ID 6262521dd0d73f79ccbaf451\n",
      "Job ID 626252241dc5ca06fc0e2e0b\n",
      "Job ID 6262522b5417b73ed96a1f27\n"
     ]
    },
    {
     "name": "stderr",
     "output_type": "stream",
     "text": [
      " 17%|██████████████████████████████▎                                                                                                                                                       | 21/126 [17:40<1:38:32, 56.31s/it]"
     ]
    },
    {
     "name": "stdout",
     "output_type": "stream",
     "text": [
      "Job ID 626252325ce57b8b34bec19f\n",
      "====================\n",
      "Submitting jobs with trott_steps = (7, 3)\n",
      "Job ID 6262523ad0d73f5fd0baf452\n",
      "Job ID 6262524b1dc5ca3a3e0e2e0d\n",
      "Job ID 6262525416724651f0b2dfb9\n",
      "Job ID 6262525b5caee4b42d347521\n",
      "Job ID 62625263fcb69e01a9ef78e7\n",
      "Job ID 6262526b1672461d12b2dfba\n",
      "Job ID 6262527375b5465446003130\n"
     ]
    },
    {
     "name": "stderr",
     "output_type": "stream",
     "text": [
      " 17%|███████████████████████████████▊                                                                                                                                                      | 22/126 [18:53<1:46:26, 61.41s/it]"
     ]
    },
    {
     "name": "stdout",
     "output_type": "stream",
     "text": [
      "Job ID 6262527c167246783cb2dfbb\n",
      "====================\n",
      "Submitting jobs with trott_steps = (7, 4)\n",
      "Job ID 6262528475b546c4ba003131\n",
      "Job ID 6262528d5caee47b66347522\n",
      "Job ID 62625296fcb69e5f80ef78e8\n",
      "Job ID 6262529ed0d73f4fc8baf455\n",
      "Job ID 626252a7aa707de493a8a286\n",
      "Job ID 626252b9aa707d61c8a8a288\n",
      "Job ID 626252c65417b7574a6a1f29\n"
     ]
    },
    {
     "name": "stderr",
     "output_type": "stream",
     "text": [
      " 18%|█████████████████████████████████▏                                                                                                                                                    | 23/126 [20:17<1:56:37, 67.94s/it]"
     ]
    },
    {
     "name": "stdout",
     "output_type": "stream",
     "text": [
      "Job ID 626252cf5caee455f8347524\n",
      "====================\n",
      "Submitting jobs with trott_steps = (7, 5)\n",
      "Job ID 626252d8d0d73f9296baf456\n",
      "Job ID 626252e11dc5ca5bde0e2e0e\n",
      "Job ID 626252ea1672465d84b2dfbd\n",
      "Job ID 626252f41c3f268c7e45250c\n",
      "Job ID 626252fdaa707d25f1a8a28a\n",
      "Job ID 626253061c3f269ab245250d\n",
      "Job ID 6262530f1dc5ca90090e2e10\n"
     ]
    },
    {
     "name": "stderr",
     "output_type": "stream",
     "text": [
      " 19%|██████████████████████████████████▋                                                                                                                                                   | 24/126 [21:30<1:58:23, 69.64s/it]"
     ]
    },
    {
     "name": "stdout",
     "output_type": "stream",
     "text": [
      "Job ID 6262531816724623a1b2dfbe\n",
      "====================\n",
      "Submitting jobs with trott_steps = (8, 0)\n",
      "Job ID 6262531dd0d73f1770baf458\n",
      "Job ID 626253225ce57baeffbec1a1\n",
      "Job ID 626253261dc5cafc890e2e11\n",
      "Job ID 6262532b1672465d1bb2dfc0\n",
      "Job ID 626253351dc5cac77c0e2e12\n",
      "Job ID 626253391672466377b2dfc1\n",
      "Job ID 6262533e5caee47504347526\n"
     ]
    },
    {
     "name": "stderr",
     "output_type": "stream",
     "text": [
      " 20%|████████████████████████████████████                                                                                                                                                  | 25/126 [22:12<1:43:19, 61.38s/it]"
     ]
    },
    {
     "name": "stdout",
     "output_type": "stream",
     "text": [
      "Job ID 626253435ce57b0eb5bec1a2\n",
      "====================\n",
      "Submitting jobs with trott_steps = (8, 1)\n",
      "Job ID 6262534ad0d73fe74bbaf459\n",
      "Job ID 626253511c3f2620ae452510\n",
      "Job ID 6262535a1dc5ca1bff0e2e16\n",
      "Job ID 626253695ce57b1864bec1a4\n",
      "Job ID 62625370d0d73f10b5baf45a\n",
      "Job ID 626253775ce57b3a11bec1a5\n",
      "Job ID 6262537f75b546336d003134\n"
     ]
    },
    {
     "name": "stderr",
     "output_type": "stream",
     "text": [
      " 21%|█████████████████████████████████████▌                                                                                                                                                | 26/126 [23:20<1:45:23, 63.24s/it]"
     ]
    },
    {
     "name": "stdout",
     "output_type": "stream",
     "text": [
      "Job ID 62625386aa707d75ffa8a28e\n",
      "====================\n",
      "Submitting jobs with trott_steps = (8, 2)\n",
      "Job ID 6262538efcb69e7206ef78eb\n",
      "Job ID 626253961dc5cabe520e2e18\n",
      "Job ID 6262539e5417b7035f6a1f2b\n",
      "Job ID 626253a61c3f264c74452511\n",
      "Job ID 626253ae5caee4526b34752c\n",
      "Job ID 626253b6fcb69e33b0ef78ed\n",
      "Job ID 626253beaa707d640da8a28f\n"
     ]
    },
    {
     "name": "stderr",
     "output_type": "stream",
     "text": [
      " 21%|███████████████████████████████████████                                                                                                                                               | 27/126 [24:23<1:44:28, 63.31s/it]"
     ]
    },
    {
     "name": "stdout",
     "output_type": "stream",
     "text": [
      "Job ID 626253c65caee4269e34752d\n",
      "====================\n",
      "Submitting jobs with trott_steps = (8, 3)\n",
      "Job ID 626253ce1dc5ca693a0e2e19\n",
      "Job ID 626253d7fcb69e5dc4ef78ef\n",
      "Job ID 626253e075b54647bc003137\n",
      "Job ID 626253e81dc5ca26db0e2e1b\n",
      "Job ID 626253f2fcb69e2e1def78f0\n",
      "Job ID 626253faaa707d77c3a8a292\n",
      "Job ID 62625404d0d73fe287baf45e\n"
     ]
    },
    {
     "name": "stderr",
     "output_type": "stream",
     "text": [
      " 22%|████████████████████████████████████████▍                                                                                                                                             | 28/126 [25:35<1:47:36, 65.89s/it]"
     ]
    },
    {
     "name": "stdout",
     "output_type": "stream",
     "text": [
      "Job ID 6262540c5417b76e976a1f2d\n",
      "====================\n",
      "Submitting jobs with trott_steps = (8, 4)\n",
      "Job ID 626254171dc5ca55820e2e1c\n",
      "Job ID 6262542f1c3f26f9cb452513\n",
      "Job ID 626254395417b79deb6a1f2e\n",
      "Job ID 626254435417b74a606a1f2f\n",
      "Job ID 6262544c1c3f2689a7452515\n",
      "Job ID 62625457fcb69e3c2aef78f2\n",
      "Job ID 6262546a1dc5ca5bd60e2e1f\n"
     ]
    },
    {
     "name": "stderr",
     "output_type": "stream",
     "text": [
      " 23%|█████████████████████████████████████████▉                                                                                                                                            | 29/126 [27:29<2:09:50, 80.31s/it]"
     ]
    },
    {
     "name": "stdout",
     "output_type": "stream",
     "text": [
      "Job ID 6262547ffcb69e0c33ef78f4\n",
      "====================\n",
      "Submitting jobs with trott_steps = (8, 5)\n",
      "Job ID 62625495fcb69eafc1ef78f5\n",
      "Job ID 626254ad1c3f2619e2452517\n",
      "Job ID 626254c05ce57b569fbec1a9\n",
      "Job ID 626254cd5caee4c791347530\n",
      "Job ID 626254d71672463db4b2dfc6\n",
      "Job ID 626254e11c3f26420e45251a\n",
      "Job ID 626254ec16724661b1b2dfc7\n"
     ]
    },
    {
     "name": "stderr",
     "output_type": "stream",
     "text": [
      " 24%|███████████████████████████████████████████▎                                                                                                                                          | 30/126 [29:28<2:27:02, 91.90s/it]"
     ]
    },
    {
     "name": "stdout",
     "output_type": "stream",
     "text": [
      "Job ID 626254f775b546640600313c\n",
      "====================\n",
      "Submitting jobs with trott_steps = (9, 0)\n",
      "Job ID 626254fc16724665b5b2dfc8\n",
      "Job ID 626255015ce57bcf67bec1aa\n",
      "Job ID 626255071dc5ca135b0e2e21\n",
      "Job ID 6262550baa707da4c5a8a297\n",
      "Job ID 626255105caee40ab7347531\n",
      "Job ID 62625517d0d73f4f59baf45f\n",
      "Job ID 6262551b1dc5ca537a0e2e22\n"
     ]
    },
    {
     "name": "stderr",
     "output_type": "stream",
     "text": [
      " 25%|████████████████████████████████████████████▊                                                                                                                                         | 31/126 [30:10<2:01:34, 76.79s/it]"
     ]
    },
    {
     "name": "stdout",
     "output_type": "stream",
     "text": [
      "Job ID 626255205ce57b08c8bec1ac\n",
      "====================\n",
      "Submitting jobs with trott_steps = (9, 1)\n",
      "Job ID 626255271dc5ca92900e2e23\n",
      "Job ID 6262552e5caee454a7347532\n",
      "Job ID 626255361dc5ca2d550e2e25\n",
      "Job ID 6262553daa707d3d18a8a299\n",
      "Job ID 626255455ce57b03f5bec1ad\n",
      "Job ID 6262554c1dc5ca507a0e2e26\n",
      "Job ID 626255545caee49d98347534\n"
     ]
    },
    {
     "name": "stderr",
     "output_type": "stream",
     "text": [
      " 25%|██████████████████████████████████████████████▏                                                                                                                                       | 32/126 [31:09<1:52:18, 71.69s/it]"
     ]
    },
    {
     "name": "stdout",
     "output_type": "stream",
     "text": [
      "Job ID 6262555c1dc5cad1590e2e27\n",
      "====================\n",
      "Submitting jobs with trott_steps = (9, 2)\n",
      "Job ID 62625563167246c9a6b2dfca\n",
      "Job ID 6262556bfcb69ed0a2ef78f8\n",
      "Job ID 626255805ce57b9f0abec1ae\n",
      "Job ID 62625588d0d73f3409baf461\n",
      "Job ID 62625594167246e799b2dfcb\n",
      "Job ID 6262559c5ce57ba1b9bec1af\n",
      "Job ID 626255a45caee44ea1347537\n"
     ]
    },
    {
     "name": "stderr",
     "output_type": "stream",
     "text": [
      " 26%|███████████████████████████████████████████████▋                                                                                                                                      | 33/126 [32:30<1:55:11, 74.32s/it]"
     ]
    },
    {
     "name": "stdout",
     "output_type": "stream",
     "text": [
      "Job ID 626255acd0d73f3ddfbaf462\n",
      "====================\n",
      "Submitting jobs with trott_steps = (9, 3)\n",
      "Job ID 626255b575b54609cd00313f\n",
      "Job ID 626255bd1dc5ca27850e2e28\n",
      "Job ID 626255c65417b73bf76a1f32\n",
      "Job ID 626255cefcb69e67efef78fc\n",
      "Job ID 626255d75417b7dc346a1f34\n",
      "Job ID 626255e075b5460a14003142\n",
      "Job ID 626255e95caee45ee4347538\n"
     ]
    },
    {
     "name": "stderr",
     "output_type": "stream",
     "text": [
      " 27%|█████████████████████████████████████████████████                                                                                                                                     | 34/126 [33:39<1:51:37, 72.80s/it]"
     ]
    },
    {
     "name": "stdout",
     "output_type": "stream",
     "text": [
      "Job ID 626255f1aa707d01b8a8a29d\n",
      "====================\n",
      "Submitting jobs with trott_steps = (9, 4)\n",
      "Job ID 626255fb75b5462171003143\n",
      "Job ID 626256045ce57b3695bec1b0\n",
      "Job ID 6262560eaa707d0c3ca8a29e\n",
      "Job ID 626256171c3f26bda745251f\n",
      "Job ID 62625621d0d73f56fdbaf464\n",
      "Job ID 626256295caee45a34347539\n",
      "Job ID 62625633d0d73f5558baf466\n"
     ]
    },
    {
     "name": "stderr",
     "output_type": "stream",
     "text": [
      " 28%|██████████████████████████████████████████████████▌                                                                                                                                   | 35/126 [34:55<1:51:40, 73.64s/it]"
     ]
    },
    {
     "name": "stdout",
     "output_type": "stream",
     "text": [
      "Job ID 6262563d5ce57b55b8bec1b1\n",
      "====================\n",
      "Submitting jobs with trott_steps = (9, 5)\n",
      "Job ID 62625647aa707df009a8a29f\n",
      "Job ID 6262565175b54673ce003145\n",
      "Job ID 626256605ce57b2ee3bec1b2\n",
      "Job ID 626256691672466850b2dfd1\n",
      "Job ID 6262567375b5463586003147\n",
      "Job ID 6262567d5ce57baa52bec1b3\n",
      "Job ID 62625687d0d73f0007baf468\n"
     ]
    },
    {
     "name": "stderr",
     "output_type": "stream",
     "text": [
      " 29%|████████████████████████████████████████████████████                                                                                                                                  | 36/126 [36:18<1:54:59, 76.66s/it]"
     ]
    },
    {
     "name": "stdout",
     "output_type": "stream",
     "text": [
      "Job ID 62625691aa707d6193a8a2a1\n",
      "====================\n",
      "Submitting jobs with trott_steps = (10, 0)\n",
      "Job ID 626256965ce57b3129bec1b4\n",
      "Job ID 6262569b75b5467ff9003148\n",
      "Job ID 6262569faa707dc80ea8a2a4\n",
      "Job ID 626256a45caee4414734753c\n",
      "Job ID 626256a975b5465fed003149\n",
      "Job ID 626256afd0d73f5c91baf46a\n",
      "Job ID 626256b55417b7a5166a1f37\n"
     ]
    },
    {
     "name": "stderr",
     "output_type": "stream",
     "text": [
      " 29%|█████████████████████████████████████████████████████▍                                                                                                                                | 37/126 [37:02<1:38:50, 66.64s/it]"
     ]
    },
    {
     "name": "stdout",
     "output_type": "stream",
     "text": [
      "Job ID 626256bcfcb69e62a9ef78ff\n",
      "====================\n",
      "Submitting jobs with trott_steps = (10, 1)\n",
      "Job ID 626256c475b5460ef600314a\n",
      "Job ID 626256cc167246765eb2dfd2\n",
      "Job ID 626256d4d0d73f687bbaf46b\n",
      "Job ID 626256dc1dc5ca187b0e2e2f\n",
      "Job ID 626256e45ce57b9bd1bec1b7\n",
      "Job ID 626256ecaa707d6699a8a2a6\n",
      "Job ID 626256f45417b781226a1f39\n"
     ]
    },
    {
     "name": "stderr",
     "output_type": "stream",
     "text": [
      " 30%|██████████████████████████████████████████████████████▉                                                                                                                               | 38/126 [38:19<1:42:23, 69.81s/it]"
     ]
    },
    {
     "name": "stdout",
     "output_type": "stream",
     "text": [
      "Job ID 62625708aa707d3643a8a2a8\n",
      "====================\n",
      "Submitting jobs with trott_steps = (10, 2)\n",
      "Job ID 62625712fcb69e2c3fef7903\n",
      "Job ID 6262571a75b546b59b00314f\n",
      "Job ID 62625723d0d73f2f0cbaf46d\n",
      "Job ID 6262572baa707d3e92a8a2ab\n",
      "Job ID 62625734d0d73f50d6baf46e\n",
      "Job ID 6262573d5417b7059b6a1f3b\n",
      "Job ID 62625745fcb69e2d78ef7905\n"
     ]
    },
    {
     "name": "stderr",
     "output_type": "stream",
     "text": [
      " 31%|████████████████████████████████████████████████████████▎                                                                                                                             | 39/126 [39:28<1:40:58, 69.63s/it]"
     ]
    },
    {
     "name": "stdout",
     "output_type": "stream",
     "text": [
      "Job ID 6262574e1dc5caf34e0e2e31\n",
      "====================\n",
      "Submitting jobs with trott_steps = (10, 3)\n",
      "Job ID 626257571dc5cadccc0e2e32\n",
      "Job ID 6262576175b54638bd003151\n",
      "Job ID 6262576a5caee432a9347541\n",
      "Job ID 626257775417b72e9e6a1f3c\n",
      "Job ID 62625780d0d73fc255baf474\n",
      "Job ID 6262578a5417b7e20f6a1f3d\n",
      "Job ID 6262579375b546507a003153\n"
     ]
    },
    {
     "name": "stderr",
     "output_type": "stream",
     "text": [
      " 32%|█████████████████████████████████████████████████████████▊                                                                                                                            | 40/126 [40:58<1:48:31, 75.72s/it]"
     ]
    },
    {
     "name": "stdout",
     "output_type": "stream",
     "text": [
      "Job ID 6262579cd0d73fc760baf475\n",
      "====================\n",
      "Submitting jobs with trott_steps = (10, 4)\n",
      "Job ID 626257b2aa707d85c8a8a2b1\n",
      "Job ID 626257bc75b5469f95003155\n",
      "Job ID 626257c5fcb69e84a6ef7909\n",
      "Job ID 626257cf1c3f26a7b445252d\n",
      "Job ID 626257d91dc5ca43910e2e34\n",
      "Job ID 626257e31c3f26405c45252e\n",
      "Job ID 626257edaa707d56b8a8a2b3\n"
     ]
    },
    {
     "name": "stderr",
     "output_type": "stream",
     "text": [
      " 33%|███████████████████████████████████████████████████████████▏                                                                                                                          | 41/126 [42:30<1:54:14, 80.64s/it]"
     ]
    },
    {
     "name": "stdout",
     "output_type": "stream",
     "text": [
      "Job ID 626257fe1672463c45b2dfda\n",
      "====================\n",
      "Submitting jobs with trott_steps = (10, 5)\n",
      "Job ID 6262580f1dc5cac23c0e2e35\n",
      "Job ID 626258195ce57b50cdbec1ba\n",
      "Job ID 6262582375b546506c003157\n",
      "Job ID 6262582e5caee4e68a347545\n",
      "Job ID 626258381672465936b2dfdb\n",
      "Job ID 626258435caee4891c347546\n",
      "Job ID 626258545ce57b2226bec1bd\n"
     ]
    },
    {
     "name": "stderr",
     "output_type": "stream",
     "text": [
      " 33%|████████████████████████████████████████████████████████████▋                                                                                                                         | 42/126 [44:00<1:56:49, 83.45s/it]"
     ]
    },
    {
     "name": "stdout",
     "output_type": "stream",
     "text": [
      "Job ID 6262585e5caee4e1c0347547\n",
      "====================\n",
      "Submitting jobs with trott_steps = (11, 0)\n",
      "Job ID 626258641c3f267d7e452530\n",
      "Job ID 626258695caee4d40d347548\n",
      "Job ID 6262586ffcb69e2870ef790f\n",
      "Job ID 626258755ce57b665cbec1be\n",
      "Job ID 6262587baa707d0018a8a2b4\n",
      "Job ID 626258805417b712fd6a1f43\n",
      "Job ID 626258861c3f264883452531\n"
     ]
    },
    {
     "name": "stderr",
     "output_type": "stream",
     "text": [
      " 34%|██████████████████████████████████████████████████████████████                                                                                                                        | 43/126 [44:52<1:42:17, 73.94s/it]"
     ]
    },
    {
     "name": "stdout",
     "output_type": "stream",
     "text": [
      "Job ID 62625892167246ba3cb2dfdc\n",
      "====================\n",
      "Submitting jobs with trott_steps = (11, 1)\n",
      "Job ID 6262589b1c3f26c6c1452532\n",
      "Job ID 626258a3aa707d73d1a8a2b5\n",
      "Job ID 626258acd0d73f36d2baf47a\n",
      "Job ID 626258b45417b702c86a1f44\n",
      "Job ID 626258bd1c3f263975452533\n",
      "Job ID 626258c55417b7e2fa6a1f45\n",
      "Job ID 626258ced0d73f3fbebaf47c\n"
     ]
    },
    {
     "name": "stderr",
     "output_type": "stream",
     "text": [
      " 35%|███████████████████████████████████████████████████████████████▌                                                                                                                      | 44/126 [46:00<1:38:46, 72.28s/it]"
     ]
    },
    {
     "name": "stdout",
     "output_type": "stream",
     "text": [
      "Job ID 626258d71dc5cae02b0e2e39\n",
      "====================\n",
      "Submitting jobs with trott_steps = (11, 2)\n",
      "Job ID 626258dffcb69ebe47ef7910\n",
      "Job ID 626258e875b5460dd8003159\n",
      "Job ID 626258f1167246d81bb2dfde\n",
      "Job ID 626258fb5caee4748034754a\n",
      "Job ID 626259041c3f264061452534\n",
      "Job ID 6262590f5417b77bfa6a1f47\n",
      "Job ID 62625918d0d73f8273baf47e\n"
     ]
    },
    {
     "name": "stderr",
     "output_type": "stream",
     "text": [
      " 36%|█████████████████████████████████████████████████████████████████                                                                                                                     | 45/126 [47:16<1:38:44, 73.14s/it]"
     ]
    },
    {
     "name": "stdout",
     "output_type": "stream",
     "text": [
      "Job ID 626259225417b7abc56a1f49\n",
      "====================\n",
      "Submitting jobs with trott_steps = (11, 3)\n",
      "Job ID 6262592b1c3f26ccf0452535\n",
      "Job ID 626259355ce57b16cbbec1c0\n",
      "Job ID 6262593f5caee4ebfc34754b\n",
      "Job ID 626259481dc5ca25590e2e3c\n",
      "Job ID 626259525417b72d166a1f4b\n",
      "Job ID 6262596375b546fbb500315c\n",
      "Job ID 6262596caa707d2694a8a2b9\n"
     ]
    },
    {
     "name": "stderr",
     "output_type": "stream",
     "text": [
      " 37%|██████████████████████████████████████████████████████████████████▍                                                                                                                   | 46/126 [48:41<1:42:15, 76.70s/it]"
     ]
    },
    {
     "name": "stdout",
     "output_type": "stream",
     "text": [
      "Job ID 626259761dc5ca22590e2e3d\n",
      "====================\n",
      "Submitting jobs with trott_steps = (11, 4)\n",
      "Job ID 62625982fcb69ed4fcef7914\n",
      "Job ID 6262598caa707d4ec6a8a2ba\n",
      "Job ID 626259975caee44f2134754c\n",
      "Job ID 626259a11c3f261567452536\n",
      "Job ID 626259ab5417b740f96a1f4d\n",
      "Job ID 626259b6d0d73f90debaf481\n",
      "Job ID 626259c05417b79b226a1f4e\n"
     ]
    },
    {
     "name": "stderr",
     "output_type": "stream",
     "text": [
      " 37%|███████████████████████████████████████████████████████████████████▉                                                                                                                  | 47/126 [50:04<1:43:41, 78.76s/it]"
     ]
    },
    {
     "name": "stdout",
     "output_type": "stream",
     "text": [
      "Job ID 626259cad0d73f53bfbaf482\n",
      "====================\n",
      "Submitting jobs with trott_steps = (11, 5)\n",
      "Job ID 626259dbaa707d96dda8a2c0\n",
      "Job ID 626259f075b5465e75003162\n",
      "Job ID 62625a075ce57b8448bec1c4\n",
      "Job ID 62625a1b1dc5ca856f0e2e40\n",
      "Job ID 62625a3275b5463bda003164\n",
      "Job ID 62625a425caee4315c34754d\n",
      "Job ID 62625a5e75b5460111003168\n"
     ]
    },
    {
     "name": "stderr",
     "output_type": "stream",
     "text": [
      " 38%|████████████████████████████████████████████████████████████████████▉                                                                                                                | 48/126 [52:56<2:18:37, 106.63s/it]"
     ]
    },
    {
     "name": "stdout",
     "output_type": "stream",
     "text": [
      "Job ID 62625a705ce57b7fa4bec1c7\n",
      "====================\n",
      "Submitting jobs with trott_steps = (12, 0)\n",
      "Job ID 62625a7f1dc5ca6fb10e2e42\n",
      "Job ID 62625a885caee42b9d34754e\n",
      "Job ID 62625a9175b5464411003169\n",
      "Job ID 62625a971672466c8cb2dfe2\n",
      "Job ID 62625aa2fcb69e063fef7916\n",
      "Job ID 62625ab51dc5ca23930e2e45\n",
      "Job ID 62625ac0fcb69e0a5aef7917\n"
     ]
    },
    {
     "name": "stderr",
     "output_type": "stream",
     "text": [
      " 39%|██████████████████████████████████████████████████████████████████████▍                                                                                                              | 49/126 [54:26<2:10:37, 101.79s/it]"
     ]
    },
    {
     "name": "stdout",
     "output_type": "stream",
     "text": [
      "Job ID 62625ad0aa707d869da8a2c4\n",
      "====================\n",
      "Submitting jobs with trott_steps = (12, 1)\n",
      "Job ID 62625ae1fcb69e291cef7918\n",
      "Job ID 62625af6aa707d831fa8a2c6\n",
      "Job ID 62625b101dc5ca03160e2e47\n",
      "Job ID 62625b275417b7f2606a1f52\n",
      "Job ID 62625b445ce57b280fbec1c9\n",
      "Job ID 62625b631672463a93b2dfe6\n",
      "Job ID 62625b7975b54616b000316f\n"
     ]
    },
    {
     "name": "stderr",
     "output_type": "stream",
     "text": [
      " 40%|███████████████████████████████████████████████████████████████████████▊                                                                                                             | 50/126 [57:40<2:43:42, 129.24s/it]"
     ]
    },
    {
     "name": "stdout",
     "output_type": "stream",
     "text": [
      "Job ID 62625b92d0d73f9708baf486\n",
      "====================\n",
      "Submitting jobs with trott_steps = (12, 2)\n",
      "Job ID 62625ba95ce57bddfebec1cb\n",
      "Job ID 62625bbc1672460038b2dfe7\n",
      "Job ID 62625bccaa707dc5c1a8a2c9\n",
      "Job ID 62625bdb5417b7857f6a1f56\n",
      "Job ID 62625bf016724637a2b2dfea\n",
      "Job ID 62625c075ce57b2833bec1d0\n",
      "Job ID 62625c171672460820b2dfeb\n"
     ]
    },
    {
     "name": "stderr",
     "output_type": "stream",
     "text": [
      " 40%|████████████████████████████████████████████████████████████████████████▍                                                                                                          | 51/126 [1:00:24<2:54:38, 139.71s/it]"
     ]
    },
    {
     "name": "stdout",
     "output_type": "stream",
     "text": [
      "Job ID 62625c26fcb69eeb5fef791f\n",
      "====================\n",
      "Submitting jobs with trott_steps = (12, 3)\n",
      "Job ID 62625c4f5caee43790347559\n",
      "Job ID 62625c5e75b546130d003174\n",
      "Job ID 62625c73fcb69e4b75ef7924\n",
      "Job ID 62625c8975b5466598003176\n",
      "Job ID 62625c9a1dc5cadfba0e2e52\n",
      "Job ID 62625cb475b546bda7003179\n",
      "Job ID 62625cca1dc5ca55240e2e55\n"
     ]
    },
    {
     "name": "stderr",
     "output_type": "stream",
     "text": [
      " 41%|█████████████████████████████████████████████████████████████████████████▊                                                                                                         | 52/126 [1:03:08<3:01:32, 147.20s/it]"
     ]
    },
    {
     "name": "stdout",
     "output_type": "stream",
     "text": [
      "Job ID 62625cda5caee47f2834755f\n",
      "====================\n",
      "Submitting jobs with trott_steps = (12, 4)\n",
      "Job ID 62625ced1c3f26bfea45254f\n",
      "Job ID 62625d07fcb69e192def792b\n",
      "Job ID 62625d19aa707d0c59a8a2d1\n",
      "Job ID 62625d2bd0d73f1345baf490\n",
      "Job ID 62625d3e5417b71edc6a1f60\n",
      "Job ID 62625d4eaa707d9e9ea8a2d2\n",
      "Job ID 62625d63d0d73f4786baf493\n"
     ]
    },
    {
     "name": "stderr",
     "output_type": "stream",
     "text": [
      " 42%|███████████████████████████████████████████████████████████████████████████▎                                                                                                       | 53/126 [1:05:41<3:00:56, 148.72s/it]"
     ]
    },
    {
     "name": "stdout",
     "output_type": "stream",
     "text": [
      "Job ID 62625d73167246b47db2dff6\n",
      "====================\n",
      "Submitting jobs with trott_steps = (12, 5)\n",
      "Job ID 62625d955caee41e59347563\n",
      "Job ID 62625db55ce57b6418bec1da\n",
      "Job ID 62625dcd5caee454a7347565\n",
      "Job ID 62625deaaa707d4540a8a2dc\n",
      "Job ID 62625dfc1c3f26e3dc452559\n",
      "Job ID 62625e0e75b5462fcb003189\n",
      "Job ID 62625e26aa707d1b92a8a2df\n"
     ]
    },
    {
     "name": "stderr",
     "output_type": "stream",
     "text": [
      " 43%|████████████████████████████████████████████████████████████████████████████▋                                                                                                      | 54/126 [1:09:14<3:21:34, 167.98s/it]"
     ]
    },
    {
     "name": "stdout",
     "output_type": "stream",
     "text": [
      "Job ID 62625e481672466a79b2dfff\n",
      "====================\n",
      "Submitting jobs with trott_steps = (13, 0)\n",
      "Job ID 62625e545caee4360534756e\n",
      "Job ID 62625e651dc5ca7af20e2e64\n",
      "Job ID 62625e6ea2c619323eb72772\n",
      "Job ID 62625e77167246101db2e003\n",
      "Job ID 62625e821c3f269ba545255f\n",
      "Job ID 62625e8e5417b7b9de6a1f68\n",
      "Job ID 62625e961c3f26b6c6452562\n"
     ]
    },
    {
     "name": "stderr",
     "output_type": "stream",
     "text": [
      " 44%|██████████████████████████████████████████████████████████████████████████████▏                                                                                                    | 55/126 [1:10:41<2:50:08, 143.78s/it]"
     ]
    },
    {
     "name": "stdout",
     "output_type": "stream",
     "text": [
      "Job ID 62625e9faa707d58d3a8a2e3\n",
      "====================\n",
      "Submitting jobs with trott_steps = (13, 1)\n",
      "Job ID 62625eae75b546132600318c\n",
      "Job ID 62625ec275b546f0f700318d\n",
      "Job ID 62625ed61c3f26425b452565\n",
      "Job ID 62625ee616724671efb2e00a\n",
      "Job ID 62625ef716724665efb2e00b\n",
      "Job ID 62625f135417b72d126a1f6b\n",
      "Job ID 62625f2475b54621b8003190\n"
     ]
    },
    {
     "name": "stderr",
     "output_type": "stream",
     "text": [
      " 44%|███████████████████████████████████████████████████████████████████████████████▌                                                                                                   | 56/126 [1:13:10<2:49:35, 145.36s/it]"
     ]
    },
    {
     "name": "stdout",
     "output_type": "stream",
     "text": [
      "Job ID 62625f34167246091cb2e00d\n",
      "====================\n",
      "Submitting jobs with trott_steps = (13, 2)\n",
      "Job ID 62625f48aa707db2e8a8a2eb\n",
      "Job ID 62625f5b5caee42fdb347578\n",
      "Job ID 62625f6ffcb69e1565ef793e\n",
      "Job ID 62625f8cfcb69ee546ef7940\n",
      "Job ID 62625fa575b5466d12003194\n",
      "Job ID 62625fb95caee441f834757d\n",
      "Job ID 62625fd01c3f269a2045256e\n"
     ]
    },
    {
     "name": "stderr",
     "output_type": "stream",
     "text": [
      " 45%|████████████████████████████████████████████████████████████████████████████████▉                                                                                                  | 57/126 [1:16:10<2:59:07, 155.77s/it]"
     ]
    },
    {
     "name": "stdout",
     "output_type": "stream",
     "text": [
      "Job ID 62625fe85caee443d834757e\n",
      "====================\n",
      "Submitting jobs with trott_steps = (13, 3)\n",
      "Job ID 62625ffaa2c61964a5b72784\n",
      "Job ID 626260135caee4bc78347580\n",
      "Job ID 6262602875b546650200319a\n",
      "Job ID 626260431dc5ca5c8e0e2e73\n",
      "Job ID 626260575caee479a8347583\n",
      "Job ID 6262607a167246bb79b2e016\n",
      "Job ID 626260931c3f264876452573\n"
     ]
    },
    {
     "name": "stderr",
     "output_type": "stream",
     "text": [
      " 46%|██████████████████████████████████████████████████████████████████████████████████▍                                                                                                | 58/126 [1:19:27<3:10:41, 168.25s/it]"
     ]
    },
    {
     "name": "stdout",
     "output_type": "stream",
     "text": [
      "Job ID 626260aed0d73fc49bbaf4af\n",
      "====================\n",
      "Submitting jobs with trott_steps = (13, 4)\n",
      "Job ID 626260c3a2c6191351b7278a\n",
      "Job ID 626260da1672463d65b2e01a\n",
      "Job ID 626260effcb69e7c39ef794d\n",
      "Job ID 626261041672467200b2e01b\n",
      "Job ID 62626117fcb69e38ffef794e\n",
      "Job ID 62626131d0d73f2392baf4b3\n",
      "Job ID 6262614b1dc5ca74520e2e7a\n"
     ]
    },
    {
     "name": "stderr",
     "output_type": "stream",
     "text": [
      " 47%|███████████████████████████████████████████████████████████████████████████████████▊                                                                                               | 59/126 [1:22:31<3:12:59, 172.83s/it]"
     ]
    },
    {
     "name": "stdout",
     "output_type": "stream",
     "text": [
      "Job ID 626261651c3f267b6a45257b\n",
      "====================\n",
      "Submitting jobs with trott_steps = (13, 5)\n",
      "Job ID 6262617a5417b7d5aa6a1f78\n",
      "Job ID 62626194a2c619bc44b72792\n",
      "Job ID 626261ae75b546efb80031a5\n",
      "Job ID 626261c25417b7a2546a1f79\n",
      "Job ID 626261d7fcb69e2fd8ef7952\n",
      "Job ID 626261ed16724650eab2e01f\n",
      "Job ID 626262071dc5ca06b10e2e81\n"
     ]
    },
    {
     "name": "stderr",
     "output_type": "stream",
     "text": [
      " 48%|█████████████████████████████████████████████████████████████████████████████████████▏                                                                                             | 60/126 [1:25:34<3:13:24, 175.83s/it]"
     ]
    },
    {
     "name": "stdout",
     "output_type": "stream",
     "text": [
      "Job ID 6262621c5caee4a2b0347591\n",
      "====================\n",
      "Submitting jobs with trott_steps = (14, 0)\n",
      "Job ID 626262281c3f26d667452580\n",
      "Job ID 62626235aa707d7cefa8a300\n",
      "Job ID 626262445417b7950b6a1f7d\n",
      "Job ID 6262625075b54672c00031ab\n",
      "Job ID 6262625aaa707d73d8a8a302\n",
      "Job ID 62626265a2c619ecbfb72794\n",
      "Job ID 6262626e1c3f26212a452582\n"
     ]
    },
    {
     "name": "stderr",
     "output_type": "stream",
     "text": [
      " 48%|██████████████████████████████████████████████████████████████████████████████████████▋                                                                                            | 61/126 [1:27:12<2:45:26, 152.71s/it]"
     ]
    },
    {
     "name": "stdout",
     "output_type": "stream",
     "text": [
      "Job ID 6262627f5caee449c8347595\n",
      "====================\n",
      "Submitting jobs with trott_steps = (14, 1)\n",
      "Job ID 626262981dc5ca18fd0e2e87\n",
      "Job ID 626262aaa2c6198164b72795\n",
      "Job ID 626262bda2c6197639b72796\n",
      "Job ID 626262cfaa707db6faa8a305\n",
      "Job ID 626262e25caee4393e347598\n",
      "Job ID 626262fd1c3f261b96452586\n",
      "Job ID 626263115417b721cf6a1f80\n"
     ]
    },
    {
     "name": "stderr",
     "output_type": "stream",
     "text": [
      " 49%|████████████████████████████████████████████████████████████████████████████████████████                                                                                           | 62/126 [1:30:06<2:49:43, 159.11s/it]"
     ]
    },
    {
     "name": "stdout",
     "output_type": "stream",
     "text": [
      "Job ID 6262632dfcb69ebe57ef7958\n",
      "====================\n",
      "Submitting jobs with trott_steps = (14, 2)\n",
      "Job ID 6262633e1c3f26db1c452587\n",
      "Job ID 6262635cd0d73f42d7baf4c0\n",
      "Job ID 6262636e75b54638ba0031b3\n",
      "Job ID 6262638575b546357a0031b4\n",
      "Job ID 6262639aa2c61955f8b7279f\n",
      "Job ID 626263b9fcb69ebe85ef795a\n",
      "Job ID 626263d0aa707dbc69a8a309\n"
     ]
    },
    {
     "name": "stderr",
     "output_type": "stream",
     "text": [
      " 50%|█████████████████████████████████████████████████████████████████████████████████████████▌                                                                                         | 63/126 [1:33:27<3:00:02, 171.46s/it]"
     ]
    },
    {
     "name": "stdout",
     "output_type": "stream",
     "text": [
      "Job ID 626263e75417b76b2e6a1f89\n",
      "====================\n",
      "Submitting jobs with trott_steps = (14, 3)\n",
      "Job ID 6262640b1dc5caa4cc0e2e8c\n",
      "Job ID 6262641ed0d73fbf1dbaf4c5\n",
      "Job ID 62626434aa707dbafaa8a30c\n",
      "Job ID 62626450fcb69e5960ef795d\n",
      "Job ID 6262647975b5462d390031b9\n",
      "Job ID 62626493aa707d27c3a8a30f\n",
      "Job ID 626264af1dc5ca6dd80e2e8e\n"
     ]
    },
    {
     "name": "stderr",
     "output_type": "stream",
     "text": [
      " 51%|██████████████████████████████████████████████████████████████████████████████████████████▉                                                                                        | 64/126 [1:36:55<3:08:28, 182.40s/it]"
     ]
    },
    {
     "name": "stdout",
     "output_type": "stream",
     "text": [
      "Job ID 626264c275b5464d130031ba\n",
      "====================\n",
      "Submitting jobs with trott_steps = (14, 4)\n",
      "Job ID 626264d8d0d73f7873baf4ca\n",
      "Job ID 626264f3167246328ab2e02f\n",
      "Job ID 62626509a2c619817eb727a6\n",
      "Job ID 626265291dc5ca7f8e0e2e90\n",
      "Job ID 6262654216724607f7b2e030\n",
      "Job ID 6262655c5caee4809d3475a4\n",
      "Job ID 626265725417b7ae7b6a1f93\n"
     ]
    },
    {
     "name": "stderr",
     "output_type": "stream",
     "text": [
      " 52%|████████████████████████████████████████████████████████████████████████████████████████████▎                                                                                      | 65/126 [1:40:07<3:08:31, 185.43s/it]"
     ]
    },
    {
     "name": "stdout",
     "output_type": "stream",
     "text": [
      "Job ID 62626586a2c6197351b727a8\n",
      "====================\n",
      "Submitting jobs with trott_steps = (14, 5)\n",
      "Job ID 626265a35417b7cdc36a1f94\n",
      "Job ID 626265bd5417b7689f6a1f97\n",
      "Job ID 626265e975b54646990031bf\n",
      "Job ID 6262660b1dc5ca335a0e2e97\n",
      "Job ID 62626634fcb69e8f28ef7964\n",
      "Job ID 6262664ed0d73f93e6baf4cf\n",
      "Job ID 6262666475b546e2860031c3\n"
     ]
    },
    {
     "name": "stderr",
     "output_type": "stream",
     "text": [
      " 52%|█████████████████████████████████████████████████████████████████████████████████████████████▊                                                                                     | 66/126 [1:44:12<3:23:09, 203.15s/it]"
     ]
    },
    {
     "name": "stdout",
     "output_type": "stream",
     "text": [
      "Job ID 6262667ad0d73f3e8dbaf4d0\n",
      "====================\n",
      "Submitting jobs with trott_steps = (15, 0)\n",
      "Job ID 6262668b1672465937b2e03a\n",
      "Job ID 6262669baa707d9624a8a315\n",
      "Job ID 626266a71c3f26f56a452597\n",
      "Job ID 626266b3fcb69e3dd5ef7967\n",
      "Job ID 626266c91c3f26bd2a452598\n",
      "Job ID 626266d7fcb69e976cef7969\n",
      "Job ID 626266e51672466d06b2e03d\n"
     ]
    },
    {
     "name": "stderr",
     "output_type": "stream",
     "text": [
      " 53%|███████████████████████████████████████████████████████████████████████████████████████████████▏                                                                                   | 67/126 [1:46:11<2:55:03, 178.02s/it]"
     ]
    },
    {
     "name": "stdout",
     "output_type": "stream",
     "text": [
      "Job ID 626266f175b54672820031c6\n",
      "====================\n",
      "Submitting jobs with trott_steps = (15, 1)\n",
      "Job ID 626267075caee452b73475ac\n",
      "Job ID 6262671a1c3f263c7f45259a\n",
      "Job ID 6262672dfcb69e642def796b\n",
      "Job ID 62626741d0d73f19a8baf4d3\n",
      "Job ID 6262675afcb69e3da8ef796d\n",
      "Job ID 626267745417b77fd16a1fa3\n",
      "Job ID 6262678cfcb69e5111ef796e\n"
     ]
    },
    {
     "name": "stderr",
     "output_type": "stream",
     "text": [
      " 54%|████████████████████████████████████████████████████████████████████████████████████████████████▌                                                                                  | 68/126 [1:49:11<2:52:40, 178.64s/it]"
     ]
    },
    {
     "name": "stdout",
     "output_type": "stream",
     "text": [
      "Job ID 626267a5aa707d60bda8a319\n",
      "====================\n",
      "Submitting jobs with trott_steps = (15, 2)\n",
      "Job ID 626267bf167246c547b2e042\n",
      "Job ID 626267d475b54634970031ce\n",
      "Job ID 626267ea75b5466fc70031cf\n",
      "Job ID 62626802fcb69e88a3ef7970\n",
      "Job ID 6262681efcb69eee7cef7972\n",
      "Job ID 62626833fcb69eeeb0ef7974\n",
      "Job ID 6262684c1dc5ca241c0e2ea3\n"
     ]
    },
    {
     "name": "stderr",
     "output_type": "stream",
     "text": [
      " 55%|██████████████████████████████████████████████████████████████████████████████████████████████████                                                                                 | 69/126 [1:52:18<2:51:58, 181.02s/it]"
     ]
    },
    {
     "name": "stdout",
     "output_type": "stream",
     "text": [
      "Job ID 62626860aa707dc80ba8a31c\n",
      "====================\n",
      "Submitting jobs with trott_steps = (15, 3)\n",
      "Job ID 626268791c3f26727645259f\n",
      "Job ID 626268941672465041b2e048\n",
      "Job ID 626268a91c3f26433f4525a0\n",
      "Job ID 626268c3d0d73f803ebaf4da\n",
      "Job ID 626268e71c3f269e744525a4\n",
      "Job ID 626268fc1dc5ca83820e2ea5\n",
      "Job ID 62626913167246b52cb2e04b\n"
     ]
    },
    {
     "name": "stderr",
     "output_type": "stream",
     "text": [
      " 56%|███████████████████████████████████████████████████████████████████████████████████████████████████▍                                                                               | 70/126 [1:55:36<2:53:55, 186.34s/it]"
     ]
    },
    {
     "name": "stdout",
     "output_type": "stream",
     "text": [
      "Job ID 62626926fcb69e4eefef7977\n",
      "====================\n",
      "Submitting jobs with trott_steps = (15, 4)\n",
      "Job ID 6262693fd0d73f3518baf4dc\n",
      "Job ID 6262695e1c3f2635f64525a6\n",
      "Job ID 62626977aa707d371aa8a325\n",
      "Job ID 6262698efcb69ead3cef7978\n",
      "Job ID 626269a35417b715996a1fb1\n",
      "Job ID 626269b81c3f261dc84525a7\n",
      "Job ID 626269cc5417b7df646a1fb2\n"
     ]
    },
    {
     "name": "stderr",
     "output_type": "stream",
     "text": [
      " 56%|████████████████████████████████████████████████████████████████████████████████████████████████████▊                                                                              | 71/126 [1:58:46<2:51:40, 187.28s/it]"
     ]
    },
    {
     "name": "stdout",
     "output_type": "stream",
     "text": [
      "Job ID 626269e41672466d12b2e04e\n",
      "====================\n",
      "Submitting jobs with trott_steps = (15, 5)\n",
      "Job ID 626269fdd0d73f118cbaf4df\n",
      "Job ID 62626a1f1dc5cab0680e2ea8\n",
      "Job ID 62626a39fcb69e2195ef7979\n",
      "Job ID 62626a4fa2c619cd02b727bb\n",
      "Job ID 62626a69167246293fb2e050\n",
      "Job ID 62626a89aa707d42d1a8a329\n",
      "Job ID 62626aa21c3f2618ee4525ac\n"
     ]
    },
    {
     "name": "stderr",
     "output_type": "stream",
     "text": [
      " 57%|██████████████████████████████████████████████████████████████████████████████████████████████████████▎                                                                            | 72/126 [2:02:39<3:00:54, 201.01s/it]"
     ]
    },
    {
     "name": "stdout",
     "output_type": "stream",
     "text": [
      "Job ID 62626acd5417b7fa066a1fb3\n",
      "====================\n",
      "Submitting jobs with trott_steps = (16, 0)\n",
      "Job ID 62626adda2c6199846b727be\n",
      "Job ID 62626aee16724671ddb2e051\n",
      "Job ID 62626b035417b74cf96a1fb4\n",
      "Job ID 62626b195417b713716a1fb5\n",
      "Job ID 62626b2a75b54614020031dc\n",
      "Job ID 62626b39a2c6198484b727c2\n",
      "Job ID 62626b46aa707d4bf5a8a32c\n"
     ]
    },
    {
     "name": "stderr",
     "output_type": "stream",
     "text": [
      " 58%|███████████████████████████████████████████████████████████████████████████████████████████████████████▋                                                                           | 73/126 [2:04:53<2:39:46, 180.88s/it]"
     ]
    },
    {
     "name": "stdout",
     "output_type": "stream",
     "text": [
      "Job ID 62626b53d0d73f4b78baf4e6\n",
      "====================\n",
      "Submitting jobs with trott_steps = (16, 1)\n",
      "Job ID 62626b66fcb69ec6c4ef797d\n",
      "Job ID 62626b7cfcb69e002def797e\n",
      "Job ID 62626b94d0d73f0be0baf4e8\n",
      "Job ID 62626bae1c3f26f1f24525af\n",
      "Job ID 62626bc5fcb69e27b0ef7980\n",
      "Job ID 62626bded0d73f352dbaf4e9\n",
      "Job ID 62626c00aa707d168aa8a32f\n"
     ]
    },
    {
     "name": "stderr",
     "output_type": "stream",
     "text": [
      " 59%|█████████████████████████████████████████████████████████████████████████████████████████████████████████▏                                                                         | 74/126 [2:08:09<2:40:40, 185.39s/it]"
     ]
    },
    {
     "name": "stdout",
     "output_type": "stream",
     "text": [
      "Job ID 62626c17a2c6192084b727c3\n",
      "====================\n",
      "Submitting jobs with trott_steps = (16, 2)\n",
      "Job ID 62626c2e5417b75a7b6a1fb8\n",
      "Job ID 62626c45a2c61997c7b727c4\n",
      "Job ID 62626c5efcb69eaae2ef7981\n",
      "Job ID 62626c7efcb69e0bb8ef7982\n",
      "Job ID 62626c981dc5ca0eea0e2eb7\n",
      "Job ID 62626cbaaa707deaa3a8a334\n",
      "Job ID 62626cd3d0d73f67f5baf4ed\n"
     ]
    },
    {
     "name": "stderr",
     "output_type": "stream",
     "text": [
      " 60%|██████████████████████████████████████████████████████████████████████████████████████████████████████████▌                                                                        | 75/126 [2:11:43<2:44:55, 194.03s/it]"
     ]
    },
    {
     "name": "stdout",
     "output_type": "stream",
     "text": [
      "Job ID 62626ced5417b773156a1fbe\n",
      "====================\n",
      "Submitting jobs with trott_steps = (16, 3)\n",
      "Job ID 62626d05aa707df753a8a336\n",
      "Job ID 62626d19167246ddcbb2e059\n",
      "Job ID 62626d321672460814b2e05a\n",
      "Job ID 62626d471c3f26515e4525b3\n",
      "Job ID 62626d62a2c6199127b727c6\n",
      "Job ID 62626d755caee4d7d63475c0\n",
      "Job ID 62626d8e1dc5ca37430e2ebb\n"
     ]
    },
    {
     "name": "stderr",
     "output_type": "stream",
     "text": [
      " 60%|███████████████████████████████████████████████████████████████████████████████████████████████████████████▉                                                                       | 76/126 [2:14:48<2:39:28, 191.38s/it]"
     ]
    },
    {
     "name": "stdout",
     "output_type": "stream",
     "text": [
      "Job ID 62626da775b54672a30031e2\n",
      "====================\n",
      "Submitting jobs with trott_steps = (16, 4)\n",
      "Job ID 62626dc1d0d73f1be5baf4f0\n",
      "Job ID 62626de0167246c702b2e05b\n",
      "Job ID 62626dfc1c3f2682ff4525b5\n",
      "Job ID 62626e1d1c3f2675294525b6\n",
      "Job ID 62626e3aaa707dad41a8a339\n",
      "Job ID 62626e501dc5ca062f0e2ebe\n",
      "Job ID 62626e695417b76aad6a1fc3\n"
     ]
    },
    {
     "name": "stderr",
     "output_type": "stream",
     "text": [
      " 61%|█████████████████████████████████████████████████████████████████████████████████████████████████████████████▍                                                                     | 77/126 [2:18:29<2:43:33, 200.27s/it]"
     ]
    },
    {
     "name": "stdout",
     "output_type": "stream",
     "text": [
      "Job ID 62626e84167246603bb2e05d\n",
      "====================\n",
      "Submitting jobs with trott_steps = (16, 5)\n",
      "Job ID 62626ea6fcb69e11a4ef7986\n",
      "Job ID 62626ec8a2c61931dfb727ca\n",
      "Job ID 62626ee41672461657b2e05f\n",
      "Job ID 62626f105417b7d3a56a1fc5\n",
      "Job ID 62626f285417b723b16a1fc7\n",
      "Job ID 62626f3f1672463ee2b2e063\n",
      "Job ID 62626f55aa707d1055a8a342\n"
     ]
    },
    {
     "name": "stderr",
     "output_type": "stream",
     "text": [
      " 62%|██████████████████████████████████████████████████████████████████████████████████████████████████████████████▊                                                                    | 78/126 [2:22:26<2:49:00, 211.26s/it]"
     ]
    },
    {
     "name": "stdout",
     "output_type": "stream",
     "text": [
      "Job ID 62626f70d0d73f0a0dbaf4f9\n",
      "====================\n",
      "Submitting jobs with trott_steps = (17, 0)\n",
      "Job ID 62626f80fcb69e5b8eef7989\n",
      "Job ID 62626f8ba2c619170eb727cc\n",
      "Job ID 62626f9a5417b7c18b6a1fc8\n",
      "Job ID 62626fa71dc5cab7940e2ec9\n",
      "Job ID 62626fb2167246022fb2e067\n",
      "Job ID 62626fbf75b5469f540031ed\n",
      "Job ID 62626fcaa2c619231fb727ce\n"
     ]
    },
    {
     "name": "stderr",
     "output_type": "stream",
     "text": [
      " 63%|████████████████████████████████████████████████████████████████████████████████████████████████████████████████▏                                                                  | 79/126 [2:24:12<2:20:37, 179.52s/it]"
     ]
    },
    {
     "name": "stdout",
     "output_type": "stream",
     "text": [
      "Job ID 62626fda5417b7a2506a1fcb\n",
      "====================\n",
      "Submitting jobs with trott_steps = (17, 1)\n",
      "Job ID 62626ff7aa707de45da8a347\n",
      "Job ID 6262700e75b5465ac60031ee\n",
      "Job ID 6262702dfcb69e400cef798d\n",
      "Job ID 6262704375b546a4f50031ef\n",
      "Job ID 626270581672469f59b2e06b\n",
      "Job ID 6262706d1c3f26b4054525c6\n",
      "Job ID 626270855417b719c46a1fd0\n"
     ]
    },
    {
     "name": "stderr",
     "output_type": "stream",
     "text": [
      " 63%|█████████████████████████████████████████████████████████████████████████████████████████████████████████████████▋                                                                 | 80/126 [2:27:23<2:20:21, 183.08s/it]"
     ]
    },
    {
     "name": "stdout",
     "output_type": "stream",
     "text": [
      "Job ID 626270991dc5ca54be0e2ece\n",
      "====================\n",
      "Submitting jobs with trott_steps = (17, 2)\n",
      "Job ID 626270bcd0d73fa1c2baf508\n",
      "Job ID 626270d45417b7d46c6a1fd2\n",
      "Job ID 626270eb5caee478d03475d2\n",
      "Job ID 6262710b1c3f26cf214525cb\n",
      "Job ID 6262712aaa707d7bada8a34f\n",
      "Job ID 62627146a2c61997b2b727d6\n",
      "Job ID 6262715c75b546cf600031f8\n"
     ]
    },
    {
     "name": "stderr",
     "output_type": "stream",
     "text": [
      " 64%|███████████████████████████████████████████████████████████████████████████████████████████████████████████████████                                                                | 81/126 [2:31:02<2:25:18, 193.74s/it]"
     ]
    },
    {
     "name": "stdout",
     "output_type": "stream",
     "text": [
      "Job ID 62627174167246de62b2e073\n",
      "====================\n",
      "Submitting jobs with trott_steps = (17, 3)\n",
      "Job ID 6262718ea2c6199fb1b727d9\n",
      "Job ID 626271a1a2c6193e69b727da\n",
      "Job ID 626271b9aa707d6717a8a351\n",
      "Job ID 626271e116724610c6b2e077\n",
      "Job ID 626271fa5caee488c43475dd\n",
      "Job ID 626272145417b7a80a6a1fd6\n",
      "Job ID 6262722e167246c774b2e07d\n"
     ]
    },
    {
     "name": "stderr",
     "output_type": "stream",
     "text": [
      " 65%|████████████████████████████████████████████████████████████████████████████████████████████████████████████████████▍                                                              | 82/126 [2:34:32<2:25:41, 198.66s/it]"
     ]
    },
    {
     "name": "stdout",
     "output_type": "stream",
     "text": [
      "Job ID 6262724616724699bcb2e07e\n",
      "====================\n",
      "Submitting jobs with trott_steps = (17, 4)\n",
      "Job ID 6262725d1dc5cae80d0e2edc\n",
      "Job ID 62627286fcb69e21eeef7999\n",
      "Job ID 626272a91c3f267adf4525d2\n",
      "Job ID 626272d21dc5ca38d20e2ee0\n",
      "Job ID 626272effcb69ef237ef799a\n",
      "Job ID 6262730a5417b713356a1fdc\n",
      "Job ID 626273275417b74d766a1fde\n"
     ]
    },
    {
     "name": "stderr",
     "output_type": "stream",
     "text": [
      " 66%|█████████████████████████████████████████████████████████████████████████████████████████████████████████████████████▉                                                             | 83/126 [2:38:39<2:32:50, 213.27s/it]"
     ]
    },
    {
     "name": "stdout",
     "output_type": "stream",
     "text": [
      "Job ID 6262733daa707d17e8a8a355\n",
      "====================\n",
      "Submitting jobs with trott_steps = (17, 5)\n",
      "Job ID 6262735a16724642deb2e086\n",
      "Job ID 6262737875b54632d0003200\n",
      "Job ID 62627390fcb69e7ba8ef799c\n",
      "Job ID 626273b6aa707d33c2a8a35a\n",
      "Job ID 626273ce75b546ced2003205\n",
      "Job ID 626273e6a2c6195328b727e0\n",
      "Job ID 626274065caee4bd4f3475e6\n"
     ]
    },
    {
     "name": "stderr",
     "output_type": "stream",
     "text": [
      " 67%|███████████████████████████████████████████████████████████████████████████████████████████████████████████████████████▎                                                           | 84/126 [2:42:25<2:31:56, 217.06s/it]"
     ]
    },
    {
     "name": "stdout",
     "output_type": "stream",
     "text": [
      "Job ID 6262741f5417b7e2ae6a1fe8\n",
      "====================\n",
      "Submitting jobs with trott_steps = (18, 0)\n",
      "Job ID 6262742f75b54633c300320a\n",
      "Job ID 6262743d5caee4c5f13475e8\n",
      "Job ID 62627449d0d73f2496baf51d\n",
      "Job ID 626274565417b79e776a1fe9\n",
      "Job ID 6262746675b54651c700320d\n",
      "Job ID 62627474fcb69e2a2bef79a5\n",
      "Job ID 626274825caee40d6e3475ea\n"
     ]
    },
    {
     "name": "stderr",
     "output_type": "stream",
     "text": [
      " 67%|████████████████████████████████████████████████████████████████████████████████████████████████████████████████████████▊                                                          | 85/126 [2:44:23<2:07:56, 187.22s/it]"
     ]
    },
    {
     "name": "stdout",
     "output_type": "stream",
     "text": [
      "Job ID 62627495fcb69e8490ef79a6\n",
      "====================\n",
      "Submitting jobs with trott_steps = (18, 1)\n",
      "Job ID 626274b275b5463d5a00320e\n",
      "Job ID 626274d3fcb69e4afcef79a9\n",
      "Job ID 626274ea1672467383b2e08d\n",
      "Job ID 626275001dc5cadc1c0e2eea\n",
      "Job ID 626275205417b71ab76a1fec\n",
      "Job ID 626275375caee41b0f3475ec\n",
      "Job ID 626275555caee482fa3475ef\n"
     ]
    },
    {
     "name": "stderr",
     "output_type": "stream",
     "text": [
      " 68%|██████████████████████████████████████████████████████████████████████████████████████████████████████████████████████████▏                                                        | 86/126 [2:48:07<2:12:20, 198.52s/it]"
     ]
    },
    {
     "name": "stdout",
     "output_type": "stream",
     "text": [
      "Job ID 62627575a2c619106cb727ee\n",
      "====================\n",
      "Submitting jobs with trott_steps = (18, 2)\n",
      "Job ID 626275921c3f2629bd4525e1\n",
      "Job ID 626275a9167246239fb2e093\n",
      "Job ID 626275c51672460433b2e096\n",
      "Job ID 626275e21c3f264b214525e5\n",
      "Job ID 626275f8d0d73f02fdbaf528\n",
      "Job ID 626276131dc5ca18fa0e2ef1\n",
      "Job ID 6262762ffcb69ed256ef79b2\n"
     ]
    },
    {
     "name": "stderr",
     "output_type": "stream",
     "text": [
      " 69%|███████████████████████████████████████████████████████████████████████████████████████████████████████████████████████████▌                                                       | 87/126 [2:51:37<2:11:09, 201.79s/it]"
     ]
    },
    {
     "name": "stdout",
     "output_type": "stream",
     "text": [
      "Job ID 626276461dc5ca080e0e2ef3\n",
      "====================\n",
      "Submitting jobs with trott_steps = (18, 3)\n",
      "Job ID 6262766c5caee451123475f3\n",
      "Job ID 62627691167246231bb2e099\n",
      "Job ID 626276b275b5463a4d003216\n",
      "Job ID 626276d1167246bf39b2e09a\n",
      "Job ID 626276ebd0d73f5ac7baf52b\n",
      "Job ID 626277095caee43d813475f8\n",
      "Job ID 62627724fcb69ec70cef79bd\n"
     ]
    },
    {
     "name": "stderr",
     "output_type": "stream",
     "text": [
      " 70%|█████████████████████████████████████████████████████████████████████████████████████████████████████████████████████████████                                                      | 88/126 [2:55:45<2:16:38, 215.74s/it]"
     ]
    },
    {
     "name": "stdout",
     "output_type": "stream",
     "text": [
      "Job ID 6262773f1dc5ca39c40e2ef9\n",
      "====================\n",
      "Submitting jobs with trott_steps = (18, 4)\n",
      "Job ID 62627756a2c619464fb727f9\n",
      "Job ID 626277741dc5caf9540e2efb\n",
      "Job ID 6262778f1c3f261ff94525f0\n",
      "Job ID 626277b3fcb69e5530ef79c5\n",
      "Job ID 626277cc1dc5cadadf0e2efc\n",
      "Job ID 626277e65caee4ef923475ff\n",
      "Job ID 6262780c1672464692b2e0a3\n"
     ]
    },
    {
     "name": "stderr",
     "output_type": "stream",
     "text": [
      " 71%|██████████████████████████████████████████████████████████████████████████████████████████████████████████████████████████████▍                                                    | 89/126 [2:59:38<2:16:08, 220.77s/it]"
     ]
    },
    {
     "name": "stdout",
     "output_type": "stream",
     "text": [
      "Job ID 62627828aa707d0730a8a372\n",
      "====================\n",
      "Submitting jobs with trott_steps = (18, 5)\n",
      "Job ID 6262784b75b5460331003223\n",
      "Job ID 6262786ad0d73f7c78baf53a\n",
      "Job ID 62627882a2c619ee24b72804\n",
      "Job ID 6262789e1c3f2659834525f8\n",
      "Job ID 626278ba1dc5cac0950e2f00\n",
      "Job ID 626278d8aa707d6cd8a8a376\n",
      "Job ID 626278fa5caee42024347604\n"
     ]
    },
    {
     "name": "stderr",
     "output_type": "stream",
     "text": [
      " 71%|███████████████████████████████████████████████████████████████████████████████████████████████████████████████████████████████▊                                                   | 90/126 [3:03:42<2:16:45, 227.94s/it]"
     ]
    },
    {
     "name": "stdout",
     "output_type": "stream",
     "text": [
      "Job ID 6262791d167246877db2e0aa\n",
      "====================\n",
      "Submitting jobs with trott_steps = (19, 0)\n",
      "Job ID 6262792e75b5460f65003228\n",
      "Job ID 6262793c5caee43017347607\n",
      "Job ID 6262794b75b54601e500322b\n",
      "Job ID 6262795bfcb69e5938ef79cc\n",
      "Job ID 62627970167246eb6db2e0b0\n",
      "Job ID 62627981a2c61961bdb7280b\n",
      "Job ID 62627992aa707d55d1a8a37b\n"
     ]
    },
    {
     "name": "stderr",
     "output_type": "stream",
     "text": [
      " 72%|█████████████████████████████████████████████████████████████████████████████████████████████████████████████████████████████████▎                                                 | 91/126 [3:05:58<1:56:46, 200.18s/it]"
     ]
    },
    {
     "name": "stdout",
     "output_type": "stream",
     "text": [
      "Job ID 626279a41c3f26edf94525ff\n",
      "====================\n",
      "Submitting jobs with trott_steps = (19, 1)\n",
      "Job ID 626279c575b54601f7003230\n",
      "Job ID 626279dc75b546cefd003231\n",
      "Job ID 626279f21c3f26a338452600\n",
      "Job ID 62627a09d0d73ff4d6baf546\n",
      "Job ID 62627a1e75b5465a20003232\n",
      "Job ID 62627a35fcb69e5cccef79cf\n",
      "Job ID 62627a5075b546faf7003236\n"
     ]
    },
    {
     "name": "stderr",
     "output_type": "stream",
     "text": [
      " 73%|██████████████████████████████████████████████████████████████████████████████████████████████████████████████████████████████████▋                                                | 92/126 [3:09:20<1:53:47, 200.81s/it]"
     ]
    },
    {
     "name": "stdout",
     "output_type": "stream",
     "text": [
      "Job ID 62627a6e5caee47030347614\n",
      "====================\n",
      "Submitting jobs with trott_steps = (19, 2)\n",
      "Job ID 62627a8b5caee4f720347615\n",
      "Job ID 62627aa6d0d73fda24baf54a\n",
      "Job ID 62627abffcb69e76f0ef79d1\n",
      "Job ID 62627ad91dc5cacc770e2f0c\n",
      "Job ID 62627afcfcb69e5f47ef79d6\n",
      "Job ID 62627b161dc5ca10810e2f0d\n",
      "Job ID 62627b331672461aa3b2e0b9\n"
     ]
    },
    {
     "name": "stderr",
     "output_type": "stream",
     "text": [
      " 74%|████████████████████████████████████████████████████████████████████████████████████████████████████████████████████████████████████                                               | 93/126 [3:13:01<1:53:45, 206.83s/it]"
     ]
    },
    {
     "name": "stdout",
     "output_type": "stream",
     "text": [
      "Job ID 62627b4b75b5465f1700323d\n",
      "====================\n",
      "Submitting jobs with trott_steps = (19, 3)\n",
      "Job ID 62627b63d0d73f8638baf552\n",
      "Job ID 62627b845417b795de6a2014\n",
      "Job ID 62627ba1aa707d3785a8a38e\n",
      "Job ID 62627bcbaa707d6af9a8a390\n",
      "Job ID 62627be65417b7921e6a2016\n",
      "Job ID 62627c03aa707d18b3a8a392\n",
      "Job ID 62627c1d75b5465254003245\n"
     ]
    },
    {
     "name": "stderr",
     "output_type": "stream",
     "text": [
      " 75%|█████████████████████████████████████████████████████████████████████████████████████████████████████████████████████████████████████▌                                             | 94/126 [3:16:53<1:54:24, 214.52s/it]"
     ]
    },
    {
     "name": "stdout",
     "output_type": "stream",
     "text": [
      "Job ID 62627c335417b761ef6a201c\n",
      "====================\n",
      "Submitting jobs with trott_steps = (19, 4)\n",
      "Job ID 62627c53167246b67bb2e0c1\n",
      "Job ID 62627c6daa707d46e1a8a394\n",
      "Job ID 62627c8bd0d73f226ebaf557\n",
      "Job ID 62627cb0aa707d44a9a8a396\n",
      "Job ID 62627ccf1c3f26656145260d\n",
      "Job ID 62627ce81c3f26c9d445260e\n",
      "Job ID 62627d04fcb69ecb6cef79df\n"
     ]
    },
    {
     "name": "stderr",
     "output_type": "stream",
     "text": [
      " 75%|██████████████████████████████████████████████████████████████████████████████████████████████████████████████████████████████████████▉                                            | 95/126 [3:20:57<1:55:19, 223.21s/it]"
     ]
    },
    {
     "name": "stdout",
     "output_type": "stream",
     "text": [
      "Job ID 62627d271dc5ca37420e2f1b\n",
      "====================\n",
      "Submitting jobs with trott_steps = (19, 5)\n",
      "Job ID 62627d4f5417b7f7dd6a2023\n",
      "Job ID 62627d70d0d73f9616baf559\n",
      "Job ID 62627d931c3f2623a2452612\n",
      "Job ID 62627db75417b7a05a6a2028\n",
      "Job ID 62627dd5fcb69e9639ef79e6\n",
      "Job ID 62627def1dc5ca49e50e2f1f\n",
      "Job ID 62627e155caee469bd34762e\n"
     ]
    },
    {
     "name": "stderr",
     "output_type": "stream",
     "text": [
      " 76%|████████████████████████████████████████████████████████████████████████████████████████████████████████████████████████████████████████▍                                          | 96/126 [3:25:26<1:58:32, 237.08s/it]"
     ]
    },
    {
     "name": "stdout",
     "output_type": "stream",
     "text": [
      "Job ID 62627e3416724639afb2e0d3\n",
      "====================\n",
      "Submitting jobs with trott_steps = (20, 0)\n",
      "Job ID 62627e461c3f260a1f452616\n",
      "Job ID 62627e5b1672462ca3b2e0d5\n",
      "Job ID 62627e6d5caee45469347630\n",
      "Job ID 62627e7dfcb69e9f03ef79e7\n",
      "Job ID 62627e8cd0d73f1693baf55f\n",
      "Job ID 62627e9bfcb69e5ba1ef79e9\n",
      "Job ID 62627eabd0d73ff6f1baf564\n"
     ]
    },
    {
     "name": "stderr",
     "output_type": "stream",
     "text": [
      " 77%|█████████████████████████████████████████████████████████████████████████████████████████████████████████████████████████████████████████▊                                         | 97/126 [3:27:38<1:39:18, 205.47s/it]"
     ]
    },
    {
     "name": "stdout",
     "output_type": "stream",
     "text": [
      "Job ID 62627eb8d0d73ff0d4baf565\n",
      "====================\n",
      "Submitting jobs with trott_steps = (20, 1)\n",
      "Job ID 62627ed35417b7b15c6a202c\n",
      "Job ID 62627eeb1672460d4cb2e0d9\n",
      "Job ID 62627f031dc5ca84b40e2f27\n",
      "Job ID 62627f225caee47b4a347639\n",
      "Job ID 62627f41167246a913b2e0dc\n",
      "Job ID 62627f61fcb69e8115ef79ed\n",
      "Job ID 62627f805caee4381b34763d\n"
     ]
    },
    {
     "name": "stderr",
     "output_type": "stream",
     "text": [
      " 78%|███████████████████████████████████████████████████████████████████████████████████████████████████████████████████████████████████████████▏                                       | 98/126 [3:31:23<1:38:35, 211.25s/it]"
     ]
    },
    {
     "name": "stdout",
     "output_type": "stream",
     "text": [
      "Job ID 62627f995caee409cc347640\n",
      "====================\n",
      "Submitting jobs with trott_steps = (20, 2)\n",
      "Job ID 62627fb4167246be23b2e0de\n",
      "Job ID 62627fcdaa707d34a3a8a3ab\n",
      "Job ID 62627ff3a2c61977d8b72831\n",
      "Job ID 626280121dc5cae5de0e2f2e\n",
      "Job ID 6262802cfcb69e3634ef79f1\n",
      "Job ID 6262804ffcb69ef801ef79f2\n",
      "Job ID 6262806b75b5461e1d003258\n"
     ]
    },
    {
     "name": "stderr",
     "output_type": "stream",
     "text": [
      " 79%|████████████████████████████████████████████████████████████████████████████████████████████████████████████████████████████████████████████▋                                      | 99/126 [3:35:23<1:38:54, 219.80s/it]"
     ]
    },
    {
     "name": "stdout",
     "output_type": "stream",
     "text": [
      "Job ID 62628089fcb69e7980ef79f3\n",
      "====================\n",
      "Submitting jobs with trott_steps = (20, 3)\n",
      "Job ID 626280a2a2c619aff6b72834\n",
      "Job ID 626280bf167246e826b2e0e6\n",
      "Job ID 626280da5caee41fad347647\n",
      "Job ID 626280f5aa707d1936a8a3b1\n",
      "Job ID 6262811aa2c6194136b72839\n",
      "Job ID 62628143167246c522b2e0eb\n",
      "Job ID 6262815e75b5465d0d00325b\n"
     ]
    },
    {
     "name": "stderr",
     "output_type": "stream",
     "text": [
      " 79%|█████████████████████████████████████████████████████████████████████████████████████████████████████████████████████████████████████████████▎                                    | 100/126 [3:39:19<1:37:28, 224.95s/it]"
     ]
    },
    {
     "name": "stdout",
     "output_type": "stream",
     "text": [
      "Job ID 62628176a2c61953f8b7283b\n",
      "====================\n",
      "Submitting jobs with trott_steps = (20, 4)\n",
      "Job ID 6262819a1dc5cabdee0e2f3e\n",
      "Job ID 626281c0aa707d5a48a8a3b7\n",
      "Job ID 626281e11dc5ca1c890e2f42\n",
      "Job ID 626281fc16724616a7b2e0f3\n",
      "Job ID 62628219a2c6197d08b72841\n",
      "Job ID 6262823a75b546f67b003260\n",
      "Job ID 6262825f1dc5ca3d110e2f43\n"
     ]
    },
    {
     "name": "stderr",
     "output_type": "stream",
     "text": [
      " 80%|██████████████████████████████████████████████████████████████████████████████████████████████████████████████████████████████████████████████▋                                   | 101/126 [3:43:41<1:38:18, 235.93s/it]"
     ]
    },
    {
     "name": "stdout",
     "output_type": "stream",
     "text": [
      "Job ID 6262827a1c3f26509945262f\n",
      "====================\n",
      "Submitting jobs with trott_steps = (20, 5)\n",
      "Job ID 6262829b75b5467797003261\n",
      "Job ID 626282b6fcb69e90deef7a04\n",
      "Job ID 626282d95417b7ec5c6a203e\n",
      "Job ID 626282f95417b7f1d46a203f\n",
      "Job ID 6262831c5417b720df6a2041\n",
      "Job ID 6262833975b546267a003266\n",
      "Job ID 6262835f5caee490f8347656\n"
     ]
    },
    {
     "name": "stderr",
     "output_type": "stream",
     "text": [
      " 81%|████████████████████████████████████████████████████████████████████████████████████████████████████████████████████████████████████████████████                                  | 102/126 [3:48:00<1:37:09, 242.91s/it]"
     ]
    },
    {
     "name": "stdout",
     "output_type": "stream",
     "text": [
      "Job ID 6262837e5417b7f4256a2045\n",
      "====================\n",
      "Submitting jobs with trott_steps = (21, 0)\n",
      "Job ID 62628393aa707df683a8a3c2\n",
      "Job ID 626283a1fcb69e170bef7a0b\n",
      "Job ID 626283b4167246312eb2e0fb\n",
      "Job ID 626283c1d0d73f1212baf587\n",
      "Job ID 626283d516724619b1b2e0fe\n",
      "Job ID 626283ed1672463386b2e0ff\n",
      "Job ID 62628408a2c6193706b72849\n"
     ]
    },
    {
     "name": "stderr",
     "output_type": "stream",
     "text": [
      " 82%|█████████████████████████████████████████████████████████████████████████████████████████████████████████████████████████████████████████████████▌                                | 103/126 [3:50:37<1:23:14, 217.16s/it]"
     ]
    },
    {
     "name": "stdout",
     "output_type": "stream",
     "text": [
      "Job ID 6262841b1dc5ca43290e2f4f\n",
      "====================\n",
      "Submitting jobs with trott_steps = (21, 1)\n",
      "Job ID 62628436a2c619365ab7284b\n",
      "Job ID 626284511c3f2614d945263b\n",
      "Job ID 6262846eaa707df3f7a8a3ca\n",
      "Job ID 62628488fcb69e84adef7a0e\n",
      "Job ID 626284aeaa707dc9fea8a3cb\n",
      "Job ID 626284d2d0d73f7892baf58c\n",
      "Job ID 626284f3fcb69e64d1ef7a11\n"
     ]
    },
    {
     "name": "stderr",
     "output_type": "stream",
     "text": [
      " 83%|██████████████████████████████████████████████████████████████████████████████████████████████████████████████████████████████████████████████████▉                               | 104/126 [3:54:44<1:22:54, 226.09s/it]"
     ]
    },
    {
     "name": "stdout",
     "output_type": "stream",
     "text": [
      "Job ID 62628513fcb69eefabef7a12\n",
      "====================\n",
      "Submitting jobs with trott_steps = (21, 2)\n",
      "Job ID 626285305caee448e7347660\n",
      "Job ID 6262854dd0d73f49c9baf58f\n",
      "Job ID 626285715caee44105347661\n",
      "Job ID 62628598167246578cb2e108\n",
      "Job ID 626285b5aa707d0c39a8a3d2\n",
      "Job ID 626285d91c3f26933f45263f\n",
      "Job ID 626285f1fcb69ed9edef7a1a\n"
     ]
    },
    {
     "name": "stderr",
     "output_type": "stream",
     "text": [
      " 83%|████████████████████████████████████████████████████████████████████████████████████████████████████████████████████████████████████████████████████▎                             | 105/126 [3:58:56<1:21:48, 233.73s/it]"
     ]
    },
    {
     "name": "stdout",
     "output_type": "stream",
     "text": [
      "Job ID 6262860eaa707d2420a8a3d4\n",
      "====================\n",
      "Submitting jobs with trott_steps = (21, 3)\n",
      "Job ID 626286361c3f2689d3452640\n",
      "Job ID 626286545caee48139347667\n",
      "Job ID 6262866c167246ababb2e10e\n",
      "Job ID 62628687d0d73fb8fabaf593\n",
      "Job ID 626286aca2c619ac84b72856\n",
      "Job ID 626286cfaa707df15da8a3d7\n",
      "Job ID 626286f4a2c6199653b7285a\n"
     ]
    },
    {
     "name": "stderr",
     "output_type": "stream",
     "text": [
      " 84%|█████████████████████████████████████████████████████████████████████████████████████████████████████████████████████████████████████████████████████▋                            | 106/126 [4:03:21<1:21:03, 243.18s/it]"
     ]
    },
    {
     "name": "stdout",
     "output_type": "stream",
     "text": [
      "Job ID 6262871775b546b99200327f\n",
      "====================\n",
      "Submitting jobs with trott_steps = (21, 4)\n",
      "Job ID 626287361c3f26f415452646\n",
      "Job ID 62628761167246f9ceb2e113\n",
      "Job ID 626287815caee469bc347673\n",
      "Job ID 626287a41672464ad5b2e114\n",
      "Job ID 626287bf167246de5fb2e116\n",
      "Job ID 626287e0fcb69e031cef7a26\n",
      "Job ID 626287fed0d73fa74dbaf59b\n"
     ]
    },
    {
     "name": "stderr",
     "output_type": "stream",
     "text": [
      " 85%|███████████████████████████████████████████████████████████████████████████████████████████████████████████████████████████████████████████████████████▏                          | 107/126 [4:07:51<1:19:32, 251.16s/it]"
     ]
    },
    {
     "name": "stdout",
     "output_type": "stream",
     "text": [
      "Job ID 626288231dc5ca33310e2f6b\n",
      "====================\n",
      "Submitting jobs with trott_steps = (21, 5)\n",
      "Job ID 6262884e75b546f9bf003282\n",
      "Job ID 626288755417b7af8a6a205f\n",
      "Job ID 626288945caee457ab34767a\n",
      "Job ID 626288b11dc5ca57350e2f6d\n",
      "Job ID 626288d6fcb69ecd12ef7a2b\n",
      "Job ID 626288f85caee4641334767d\n",
      "Job ID 626289201c3f267f3f45264b\n"
     ]
    },
    {
     "name": "stderr",
     "output_type": "stream",
     "text": [
      " 86%|████████████████████████████████████████████████████████████████████████████████████████████████████████████████████████████████████████████████████████▌                         | 108/126 [4:12:32<1:18:04, 260.25s/it]"
     ]
    },
    {
     "name": "stdout",
     "output_type": "stream",
     "text": [
      "Job ID 6262893e1c3f261b7b45264c\n",
      "====================\n",
      "Submitting jobs with trott_steps = (22, 0)\n",
      "Job ID 6262894c1672463363b2e11d\n",
      "Job ID 62628962a2c6194dccb7286a\n",
      "Job ID 62628974aa707d77d2a8a3df\n",
      "Job ID 62628985a2c619533fb7286b\n",
      "Job ID 626289961c3f26957945264d\n",
      "Job ID 626289a65417b748906a2067\n",
      "Job ID 626289b65caee4330c347681\n"
     ]
    },
    {
     "name": "stderr",
     "output_type": "stream",
     "text": [
      " 87%|█████████████████████████████████████████████████████████████████████████████████████████████████████████████████████████████████████████████████████████▉                        | 109/126 [4:14:48<1:03:07, 222.78s/it]"
     ]
    },
    {
     "name": "stdout",
     "output_type": "stream",
     "text": [
      "Job ID 626289c61dc5ca166b0e2f71\n",
      "====================\n",
      "Submitting jobs with trott_steps = (22, 1)\n",
      "Job ID 626289e575b546ac03003287\n",
      "Job ID 626289ffd0d73ff1f3baf5a5\n",
      "Job ID 62628a1a5caee4ed07347683\n",
      "Job ID 62628a3416724626d6b2e121\n",
      "Job ID 62628a531dc5ca33040e2f74\n",
      "Job ID 62628a6b1c3f26120945264e\n",
      "Job ID 62628a861c3f267138452651\n"
     ]
    },
    {
     "name": "stderr",
     "output_type": "stream",
     "text": [
      " 87%|█████████████████████████████████████████████████████████████████████████████████████████████████████████████████████████████████████████████████████████████▏                      | 110/126 [4:18:29<59:18, 222.41s/it]"
     ]
    },
    {
     "name": "stdout",
     "output_type": "stream",
     "text": [
      "Job ID 62628aa3fcb69ec525ef7a33\n",
      "====================\n",
      "Submitting jobs with trott_steps = (22, 2)\n",
      "Job ID 62628abe1672460979b2e123\n",
      "Job ID 62628ad875b546010c00328f\n",
      "Job ID 62628afa1c3f26333c452655\n",
      "Job ID 62628b12a2c619c47ab7286f\n",
      "Job ID 62628b351dc5caf8a00e2f76\n",
      "Job ID 62628b541c3f2601e3452657\n",
      "Job ID 62628b701c3f267809452658\n"
     ]
    },
    {
     "name": "stderr",
     "output_type": "stream",
     "text": [
      " 88%|██████████████████████████████████████████████████████████████████████████████████████████████████████████████████████████████████████████████████████████████▌                     | 111/126 [4:22:29<56:55, 227.73s/it]"
     ]
    },
    {
     "name": "stdout",
     "output_type": "stream",
     "text": [
      "Job ID 62628b9375b5469ef4003294\n",
      "====================\n",
      "Submitting jobs with trott_steps = (22, 3)\n",
      "Job ID 62628bbcaa707d5a08a8a3e5\n",
      "Job ID 62628bd8d0d73f31a7baf5a8\n",
      "Job ID 62628bf7fcb69e040bef7a39\n",
      "Job ID 62628c16167246336fb2e128\n",
      "Job ID 62628c38d0d73f0c51baf5aa\n",
      "Job ID 62628c60a2c6194388b72873\n",
      "Job ID 62628c88d0d73f28cebaf5ab\n"
     ]
    },
    {
     "name": "stderr",
     "output_type": "stream",
     "text": [
      " 89%|████████████████████████████████████████████████████████████████████████████████████████████████████████████████████████████████████████████████████████████████                    | 112/126 [4:27:11<56:55, 243.94s/it]"
     ]
    },
    {
     "name": "stdout",
     "output_type": "stream",
     "text": [
      "Job ID 62628cada2c61971a4b72875\n",
      "====================\n",
      "Submitting jobs with trott_steps = (22, 4)\n",
      "Job ID 62628cd35caee40059347691\n",
      "Job ID 62628cf51c3f26a72845265d\n",
      "Job ID 62628d14d0d73fcd24baf5ae\n",
      "Job ID 62628d3575b546221400329b\n",
      "Job ID 62628d565caee40030347694\n",
      "Job ID 62628d7a1672461afab2e12c\n",
      "Job ID 62628d9efcb69e73f3ef7a3e\n"
     ]
    },
    {
     "name": "stderr",
     "output_type": "stream",
     "text": [
      " 90%|█████████████████████████████████████████████████████████████████████████████████████████████████████████████████████████████████████████████████████████████████▍                  | 113/126 [4:31:52<55:15, 255.06s/it]"
     ]
    },
    {
     "name": "stdout",
     "output_type": "stream",
     "text": [
      "Job ID 62628dc61dc5ca36c30e2f81\n",
      "====================\n",
      "Submitting jobs with trott_steps = (22, 5)\n",
      "Job ID 62628de51dc5cad9fe0e2f83\n",
      "Job ID 62628e05fcb69ef9a1ef7a43\n",
      "Job ID 62628e23167246c2b7b2e131\n",
      "Job ID 62628e44aa707deb84a8a3f5\n",
      "Job ID 62628e5f5caee432a234769a\n",
      "Job ID 62628e8516724649f7b2e135\n",
      "Job ID 62628eabaa707d590ea8a3f8\n"
     ]
    },
    {
     "name": "stderr",
     "output_type": "stream",
     "text": [
      " 90%|██████████████████████████████████████████████████████████████████████████████████████████████████████████████████████████████████████████████████████████████████▊                 | 114/126 [4:36:21<51:49, 259.13s/it]"
     ]
    },
    {
     "name": "stdout",
     "output_type": "stream",
     "text": [
      "Job ID 62628ed2aa707db456a8a3fb\n",
      "====================\n",
      "Submitting jobs with trott_steps = (23, 0)\n",
      "Job ID 62628ee675b5469dc40032a7\n",
      "Job ID 62628ef65caee48f1b34769e\n",
      "Job ID 62628f0d1dc5ca6b450e2f8e\n",
      "Job ID 62628f255caee434a13476a0\n",
      "Job ID 62628f4316724656e7b2e139\n",
      "Job ID 62628f58d0d73f7c4dbaf5bd\n",
      "Job ID 62628f6d5417b70a676a2080\n"
     ]
    },
    {
     "name": "stderr",
     "output_type": "stream",
     "text": [
      " 91%|████████████████████████████████████████████████████████████████████████████████████████████████████████████████████████████████████████████████████████████████████▎               | 115/126 [4:39:13<42:42, 232.96s/it]"
     ]
    },
    {
     "name": "stdout",
     "output_type": "stream",
     "text": [
      "Job ID 62628f7ffcb69e9f39ef7a4b\n",
      "====================\n",
      "Submitting jobs with trott_steps = (23, 1)\n",
      "Job ID 62628fa25417b79a866a2082\n",
      "Job ID 62628fcd5caee44da53476a4\n",
      "Job ID 62628fe8d0d73fc282baf5c0\n",
      "Job ID 626290105417b763996a2083\n",
      "Job ID 6262902b1672469129b2e13b\n",
      "Job ID 626290561c3f26470c45266f\n",
      "Job ID 6262907c75b546589f0032aa\n"
     ]
    },
    {
     "name": "stderr",
     "output_type": "stream",
     "text": [
      " 92%|█████████████████████████████████████████████████████████████████████████████████████████████████████████████████████████████████████████████████████████████████████▋              | 116/126 [4:43:58<41:27, 248.73s/it]"
     ]
    },
    {
     "name": "stdout",
     "output_type": "stream",
     "text": [
      "Job ID 6262909cfcb69e5702ef7a4f\n",
      "====================\n",
      "Submitting jobs with trott_steps = (23, 2)\n",
      "Job ID 626290baaa707d31e9a8a408\n",
      "Job ID 626290dea2c619a6e1b7287f\n",
      "Job ID 626290ff1dc5cabb870e2f95\n",
      "Job ID 6262912b167246b8bab2e141\n",
      "Job ID 62629154167246352ab2e142\n",
      "Job ID 626291725417b751946a2088\n",
      "Job ID 626291941672468908b2e143\n"
     ]
    },
    {
     "name": "stderr",
     "output_type": "stream",
     "text": [
      " 93%|███████████████████████████████████████████████████████████████████████████████████████████████████████████████████████████████████████████████████████████████████████▏            | 117/126 [4:48:47<39:07, 260.85s/it]"
     ]
    },
    {
     "name": "stdout",
     "output_type": "stream",
     "text": [
      "Job ID 626291bd1c3f2615ee452678\n",
      "====================\n",
      "Submitting jobs with trott_steps = (23, 3)\n",
      "Job ID 626291e8fcb69e9817ef7a54\n",
      "Job ID 62629209d0d73f76e1baf5c7\n",
      "Job ID 6262922a1dc5ca7fdc0e2f98\n",
      "Job ID 6262924a16724697f4b2e144\n",
      "Job ID 626292715caee42cf43476ac\n",
      "Job ID 6262929a5caee44d123476ad\n",
      "Job ID 626292ca75b54623ed0032af\n"
     ]
    },
    {
     "name": "stderr",
     "output_type": "stream",
     "text": [
      " 94%|████████████████████████████████████████████████████████████████████████████████████████████████████████████████████████████████████████████████████████████████████████▌           | 118/126 [4:53:47<36:19, 272.49s/it]"
     ]
    },
    {
     "name": "stdout",
     "output_type": "stream",
     "text": [
      "Job ID 626292e95417b74c356a2090\n",
      "====================\n",
      "Submitting jobs with trott_steps = (23, 4)\n",
      "Job ID 6262930a1672461d91b2e147\n",
      "Job ID 6262933675b5463ec40032b1\n",
      "Job ID 6262935c5caee44b1c3476b0\n",
      "Job ID 6262937a5417b7c6ee6a2092\n",
      "Job ID 6262939da2c6195fd4b72889\n",
      "Job ID 626293ba5417b70e1f6a2093\n",
      "Job ID 626293dbaa707d586ea8a410\n"
     ]
    },
    {
     "name": "stderr",
     "output_type": "stream",
     "text": [
      " 94%|██████████████████████████████████████████████████████████████████████████████████████████████████████████████████████████████████████████████████████████████████████████          | 119/126 [4:58:27<32:03, 274.74s/it]"
     ]
    },
    {
     "name": "stdout",
     "output_type": "stream",
     "text": [
      "Job ID 62629401fcb69e8ee5ef7a5e\n",
      "====================\n",
      "Submitting jobs with trott_steps = (23, 5)\n",
      "Job ID 6262942bfcb69e0a55ef7a60\n",
      "Job ID 62629450aa707dcdf8a8a414\n",
      "Job ID 6262946e5caee4c5913476b3\n",
      "Job ID 6262948faa707d9647a8a416\n",
      "Job ID 626294b5aa707d0a49a8a417\n",
      "Job ID 626294d95417b750696a2097\n",
      "Job ID 626294ffd0d73f075abaf5d0\n"
     ]
    },
    {
     "name": "stderr",
     "output_type": "stream",
     "text": [
      " 95%|███████████████████████████████████████████████████████████████████████████████████████████████████████████████████████████████████████████████████████████████████████████▍        | 120/126 [5:03:17<27:56, 279.38s/it]"
     ]
    },
    {
     "name": "stdout",
     "output_type": "stream",
     "text": [
      "Job ID 62629523aa707d0875a8a419\n",
      "====================\n",
      "Submitting jobs with trott_steps = (24, 0)\n",
      "Job ID 626295375caee48e153476b4\n",
      "Job ID 626295511dc5ca26e80e2fa4\n",
      "Job ID 62629564167246d42eb2e153\n",
      "Job ID 626295761c3f2616fc452682\n",
      "Job ID 626295891dc5cad4530e2fa5\n",
      "Job ID 6262959e1c3f265ce9452683\n",
      "Job ID 626295b61dc5ca4cd80e2fa7\n"
     ]
    },
    {
     "name": "stderr",
     "output_type": "stream",
     "text": [
      " 96%|████████████████████████████████████████████████████████████████████████████████████████████████████████████████████████████████████████████████████████████████████████████▊       | 121/126 [5:06:02<20:25, 245.01s/it]"
     ]
    },
    {
     "name": "stdout",
     "output_type": "stream",
     "text": [
      "Job ID 626295c81672465c5ab2e156\n",
      "====================\n",
      "Submitting jobs with trott_steps = (24, 1)\n",
      "Job ID 626295e35417b754c06a209c\n",
      "Job ID 626295fdfcb69e5246ef7a69\n",
      "Job ID 6262961cd0d73fdac7baf5d3\n",
      "Job ID 626296461c3f26836e452686\n",
      "Job ID 62629661d0d73fa3cdbaf5d4\n",
      "Job ID 6262967e75b5468bf50032c1\n",
      "Job ID 626296a675b546cec80032c2\n"
     ]
    },
    {
     "name": "stderr",
     "output_type": "stream",
     "text": [
      " 97%|██████████████████████████████████████████████████████████████████████████████████████████████████████████████████████████████████████████████████████████████████████████████▎     | 122/126 [5:10:29<16:46, 251.54s/it]"
     ]
    },
    {
     "name": "stdout",
     "output_type": "stream",
     "text": [
      "Job ID 626296d3a2c6191e7ab72894\n",
      "====================\n",
      "Submitting jobs with trott_steps = (24, 2)\n",
      "Job ID 626296f21c3f26eb90452689\n",
      "Job ID 626297145417b7c05e6a20a3\n",
      "Job ID 62629730aa707d0838a8a421\n",
      "Job ID 626297575caee45cad3476ba\n",
      "Job ID 6262977b1dc5ca120a0e2fad\n",
      "Job ID 6262979816724631dfb2e160\n",
      "Job ID 626297b5aa707d1e74a8a426\n"
     ]
    },
    {
     "name": "stderr",
     "output_type": "stream",
     "text": [
      " 98%|███████████████████████████████████████████████████████████████████████████████████████████████████████████████████████████████████████████████████████████████████████████████▋    | 123/126 [5:14:58<12:50, 256.82s/it]"
     ]
    },
    {
     "name": "stdout",
     "output_type": "stream",
     "text": [
      "Job ID 626297e056acc511242c0211\n",
      "====================\n",
      "Submitting jobs with trott_steps = (24, 3)\n",
      "Job ID 626297ff1c8b9337d77db497\n",
      "Job ID 626298235f05dd44322063c2\n",
      "Job ID 6262984f63109351cf8f31eb\n",
      "Job ID 626298775f05dda35b2063c6\n",
      "Job ID 62629894631093108b8f31ec\n",
      "Job ID 626298cf6310936d1b8f31ed\n",
      "Job ID 626298ed56acc588ae2c0218\n"
     ]
    },
    {
     "name": "stderr",
     "output_type": "stream",
     "text": [
      " 98%|█████████████████████████████████████████████████████████████████████████████████████████████████████████████████████████████████████████████████████████████████████████████████▏  | 124/126 [5:20:03<09:02, 271.29s/it]"
     ]
    },
    {
     "name": "stdout",
     "output_type": "stream",
     "text": [
      "Job ID 626299111c8b9316167db49e\n",
      "====================\n",
      "Submitting jobs with trott_steps = (24, 4)\n",
      "Job ID 6262993556acc52b062c021e\n",
      "Job ID 6262995caab0b7536cc2d8f7\n",
      "Job ID 6262998c5efe735f73503787\n",
      "Job ID 626299b55f05dd18672063cd\n",
      "Job ID 626299ee63109347998f31f1\n",
      "Job ID 62629a15ec565e6412dd01f9\n",
      "Job ID 62629a455efe7319fd503788\n"
     ]
    },
    {
     "name": "stderr",
     "output_type": "stream",
     "text": [
      " 99%|██████████████████████████████████████████████████████████████████████████████████████████████████████████████████████████████████████████████████████████████████████████████████▌ | 125/126 [5:25:49<04:53, 293.86s/it]"
     ]
    },
    {
     "name": "stdout",
     "output_type": "stream",
     "text": [
      "Job ID 62629a6b62832dc0323e5ab1\n",
      "====================\n",
      "Submitting jobs with trott_steps = (24, 5)\n",
      "Job ID 62629a8e62832dce743e5ab3\n",
      "Job ID 62629ab41c8b9351d17db4a5\n",
      "Job ID 62629ad68deb8a0cee54b8d2\n",
      "Job ID 62629afd1c8b9349987db4a7\n",
      "Job ID 62629b2756acc586bd2c0220\n",
      "Job ID 62629b4eaab0b75813c2d902\n",
      "Job ID 62629b785efe7322a550378d\n"
     ]
    },
    {
     "name": "stderr",
     "output_type": "stream",
     "text": [
      "100%|████████████████████████████████████████████████████████████████████████████████████████████████████████████████████████████████████████████████████████████████████████████████████| 126/126 [5:31:06<00:00, 157.67s/it]"
     ]
    },
    {
     "name": "stdout",
     "output_type": "stream",
     "text": [
      "Job ID 62629ba81c8b9355bc7db4ac\n"
     ]
    },
    {
     "name": "stderr",
     "output_type": "stream",
     "text": [
      "\n"
     ]
    }
   ],
   "source": [
    "# Generate + Submit / Load Jobs\n",
    "job_ids = gen_qpu_jobs(qcs, backend = jakarta, label=\"data/3cnot_qpu_unitary_folding\")\n",
    "# job_ids = np.load(\"data/3cnot_qpu_jobs_20220414__193247.npy\",allow_pickle=True).item()"
   ]
  },
  {
   "cell_type": "code",
   "execution_count": null,
   "id": "71fa7fe5-7f37-4b34-885c-105d96989875",
   "metadata": {},
   "outputs": [],
   "source": [
    "# Monitor / Store / Load Results\n",
    "# results = gen_qpu_results(qcs, job_ids, backend=jakarta, filename=\"data/3cnot_qpu_results_20220414__193247.npy\")\n",
    "results = np.load(\"data/3cnot_qpu_results_20220414__193247.npy\",allow_pickle=True).item()"
   ]
  }
 ],
 "metadata": {
  "kernelspec": {
   "display_name": "Python 3 (ipykernel)",
   "language": "python",
   "name": "python3"
  },
  "language_info": {
   "codemirror_mode": {
    "name": "ipython",
    "version": 3
   },
   "file_extension": ".py",
   "mimetype": "text/x-python",
   "name": "python",
   "nbconvert_exporter": "python",
   "pygments_lexer": "ipython3",
   "version": "3.9.5"
  }
 },
 "nbformat": 4,
 "nbformat_minor": 5
}
