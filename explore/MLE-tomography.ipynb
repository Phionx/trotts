{
 "cells": [
  {
   "cell_type": "markdown",
   "id": "edca5396",
   "metadata": {},
   "source": [
    "# Quantum State Tomography via MLE in Qiskit"
   ]
  },
  {
   "cell_type": "code",
   "execution_count": 2,
   "id": "a053cd17",
   "metadata": {},
   "outputs": [],
   "source": [
    "# Importing standard Qiskit modules\n",
    "from qiskit import QuantumCircuit, QuantumRegister, IBMQ, execute, transpile\n",
    "from qiskit.providers.aer import QasmSimulator\n",
    "from qiskit.tools.monitor import job_monitor\n",
    "from qiskit.circuit import Parameter, Instruction\n",
    "from qiskit.quantum_info import Pauli\n",
    "\n",
    "# Import state tomography modules\n",
    "from qiskit.ignis.verification.tomography import state_tomography_circuits, StateTomographyFitter\n",
    "from qiskit.ignis.verification.tomography.fitters.lstsq_fit import lstsq_fit\n",
    "from qiskit.ignis.verification.tomography.fitters.cvx_fit import cvx_fit\n",
    "\n",
    "from qiskit.quantum_info import state_fidelity\n",
    "from qiskit.opflow import Zero, One, I, X, Y, Z\n",
    "\n",
    "# suppress warnings\n",
    "import warnings\n",
    "warnings.filterwarnings('ignore')\n",
    "\n",
    "import numpy as np\n",
    "from tqdm import tqdm\n",
    "import matplotlib.pyplot as plt\n",
    "import copy\n",
    "import qutip as qt\n",
    "\n",
    "import seaborn as sns"
   ]
  },
  {
   "cell_type": "markdown",
   "id": "f804840e",
   "metadata": {},
   "source": [
    "## Target State Parities\n",
    "We consider the target state $|110\\rangle$ and generate the parity values associated with each Pauli string. "
   ]
  },
  {
   "cell_type": "code",
   "execution_count": 3,
   "id": "de34db7f",
   "metadata": {},
   "outputs": [],
   "source": [
    "g = qt.basis(2,0)\n",
    "e = qt.basis(2,1)\n",
    "\n",
    "# fidelity: the reconstructed state has the (flipped) ordering |q5q3q1> \n",
    "target_state_qt = qt.tensor(e,e,g)\n",
    "target_state_qt = qt.ket2dm(target_state_qt)\n",
    "target_state = target_state_qt.full()\n",
    "\n",
    "\n",
    "# parity: \"XYZ\" corresponds to X measurement on q1, Y measurement on q3, and Z measurement on q5\n",
    "target_state_parity_qt = qt.ket2dm(qt.tensor(g,e,e))\n",
    "target_state_parity = target_state_parity_qt.full()"
   ]
  },
  {
   "cell_type": "code",
   "execution_count": 50,
   "id": "fa86b168",
   "metadata": {},
   "outputs": [],
   "source": [
    "pauli = {\"X\":qt.sigmax(),\"Y\":qt.sigmay(),\"Z\":qt.sigmaz(),\"I\":qt.identity(2)}\n",
    "target_parity = {}\n",
    "for k1, p1 in pauli.items():\n",
    "    for k2, p2 in pauli.items():\n",
    "        for k3, p3 in pauli.items():\n",
    "            pauli_string = k1+k2+k3\n",
    "            if pauli_string == \"III\":\n",
    "                continue\n",
    "            op = qt.tensor(p1,p2,p3)\n",
    "            meas = (target_state_parity_qt*op).tr()\n",
    "            target_parity[pauli_string] = meas"
   ]
  },
  {
   "cell_type": "code",
   "execution_count": 51,
   "id": "6553f338",
   "metadata": {
    "scrolled": true
   },
   "outputs": [
    {
     "data": {
      "text/plain": [
       "{'XXX': 0.0,\n",
       " 'XXY': 0.0,\n",
       " 'XXZ': 0.0,\n",
       " 'XXI': 0.0,\n",
       " 'XYX': 0.0,\n",
       " 'XYY': 0.0,\n",
       " 'XYZ': 0.0,\n",
       " 'XYI': 0.0,\n",
       " 'XZX': 0.0,\n",
       " 'XZY': 0.0,\n",
       " 'XZZ': 0.0,\n",
       " 'XZI': 0.0,\n",
       " 'XIX': 0.0,\n",
       " 'XIY': 0.0,\n",
       " 'XIZ': 0.0,\n",
       " 'XII': 0.0,\n",
       " 'YXX': 0.0,\n",
       " 'YXY': 0.0,\n",
       " 'YXZ': 0.0,\n",
       " 'YXI': 0.0,\n",
       " 'YYX': 0.0,\n",
       " 'YYY': 0.0,\n",
       " 'YYZ': 0.0,\n",
       " 'YYI': 0.0,\n",
       " 'YZX': 0.0,\n",
       " 'YZY': 0.0,\n",
       " 'YZZ': 0.0,\n",
       " 'YZI': 0.0,\n",
       " 'YIX': 0.0,\n",
       " 'YIY': 0.0,\n",
       " 'YIZ': 0.0,\n",
       " 'YII': 0.0,\n",
       " 'ZXX': 0.0,\n",
       " 'ZXY': 0.0,\n",
       " 'ZXZ': 0.0,\n",
       " 'ZXI': 0.0,\n",
       " 'ZYX': 0.0,\n",
       " 'ZYY': 0.0,\n",
       " 'ZYZ': 0.0,\n",
       " 'ZYI': 0.0,\n",
       " 'ZZX': 0.0,\n",
       " 'ZZY': 0.0,\n",
       " 'ZZZ': 1.0,\n",
       " 'ZZI': -1.0,\n",
       " 'ZIX': 0.0,\n",
       " 'ZIY': 0.0,\n",
       " 'ZIZ': -1.0,\n",
       " 'ZII': 1.0,\n",
       " 'IXX': 0.0,\n",
       " 'IXY': 0.0,\n",
       " 'IXZ': 0.0,\n",
       " 'IXI': 0.0,\n",
       " 'IYX': 0.0,\n",
       " 'IYY': 0.0,\n",
       " 'IYZ': 0.0,\n",
       " 'IYI': 0.0,\n",
       " 'IZX': 0.0,\n",
       " 'IZY': 0.0,\n",
       " 'IZZ': 1.0,\n",
       " 'IZI': -1.0,\n",
       " 'IIX': 0.0,\n",
       " 'IIY': 0.0,\n",
       " 'IIZ': -1.0}"
      ]
     },
     "execution_count": 51,
     "metadata": {},
     "output_type": "execute_result"
    }
   ],
   "source": [
    "target_parity"
   ]
  },
  {
   "cell_type": "markdown",
   "id": "27ec083f",
   "metadata": {},
   "source": [
    "## Tomography"
   ]
  },
  {
   "cell_type": "code",
   "execution_count": 52,
   "id": "243581c2",
   "metadata": {},
   "outputs": [],
   "source": [
    "basis_matrix = []\n",
    "data = []\n",
    "\n",
    "for pauli, val in target_parity.items():\n",
    "    row = Pauli(pauli).to_matrix().flatten(order='F')\n",
    "    basis_matrix.append(row)\n",
    "    data.append(val)\n",
    "\n",
    "basis_matrix = np.array(basis_matrix)"
   ]
  },
  {
   "cell_type": "code",
   "execution_count": 53,
   "id": "60edd655",
   "metadata": {},
   "outputs": [],
   "source": [
    "rho_fit = lstsq_fit(data=data, basis_matrix=basis_matrix, weights=None, trace=1)"
   ]
  },
  {
   "cell_type": "code",
   "execution_count": 54,
   "id": "983946f0",
   "metadata": {},
   "outputs": [
    {
     "data": {
      "text/plain": [
       "array([[ 2.05104583e-33+0.00000000e+00j, -7.54204590e-33-3.45677104e-33j,\n",
       "         8.39287368e-34-6.96645881e-33j, -1.78243901e-17+4.16333634e-17j,\n",
       "         4.63048254e-33+5.82159527e-33j, -1.84805682e-33+2.26129551e-33j,\n",
       "        -2.17883612e-34-6.99786862e-33j,  3.70371236e-33+4.70091180e-33j],\n",
       "       [-7.54204590e-33+3.45677104e-33j,  3.35593293e-32+0.00000000e+00j,\n",
       "         8.65485741e-33+2.70313689e-32j, -4.62429300e-18-1.83133681e-16j,\n",
       "        -2.68386172e-32-1.36029241e-32j,  2.98450109e-33-1.14298293e-32j,\n",
       "         1.25951929e-32+2.53651439e-32j, -2.15419586e-32-1.10439302e-32j],\n",
       "       [ 8.39287368e-34+6.96645881e-33j,  8.65485741e-33-2.70313689e-32j,\n",
       "         2.40052908e-32+0.00000000e+00j, -1.48703111e-16-4.35048900e-17j,\n",
       "        -1.78784879e-32+1.81098134e-32j, -8.43680453e-33-5.35167706e-33j,\n",
       "         2.36793814e-32-3.60357620e-33j, -1.44512760e-32+1.45034182e-32j],\n",
       "       [-1.78243901e-17-4.16333634e-17j, -4.62429300e-18+1.83133681e-16j,\n",
       "        -1.48703111e-16+4.35048900e-17j,  1.00000000e+00+0.00000000e+00j,\n",
       "         7.79295432e-17-1.44584262e-16j,  6.19614741e-17+1.78614282e-17j,\n",
       "        -1.40153458e-16+6.52369467e-17j,  6.32352303e-17-1.16032945e-16j],\n",
       "       [ 4.63048254e-33-5.82159527e-33j, -2.68386172e-32+1.36029241e-32j,\n",
       "        -1.78784879e-32-1.81098134e-32j,  7.79295432e-17+1.44584262e-16j,\n",
       "         2.69776225e-32+0.00000000e+00j,  2.24614796e-33+1.03505869e-32j,\n",
       "        -2.03543307e-32-1.51800988e-32j,  2.17044303e-32+1.00424694e-34j],\n",
       "       [-1.84805682e-33-2.26129551e-33j,  2.98450109e-33+1.14298293e-32j,\n",
       "        -8.43680453e-33+5.35167706e-33j,  6.19614741e-17-1.78614282e-17j,\n",
       "         2.24614796e-33-1.03505869e-32j,  4.15825489e-33+0.00000000e+00j,\n",
       "        -7.51888980e-33+6.54551831e-33j,  1.84563397e-33-8.31904385e-33j],\n",
       "       [-2.17883612e-34+6.99786862e-33j,  1.25951929e-32-2.53651439e-32j,\n",
       "         2.36793814e-32+3.60357620e-33j, -1.40153458e-16-6.52369467e-17j,\n",
       "        -2.03543307e-32+1.51800988e-32j, -7.51888980e-33-6.54551831e-33j,\n",
       "         2.38988509e-32+0.00000000e+00j, -1.64322712e-32+1.21371451e-32j],\n",
       "       [ 3.70371236e-33-4.70091180e-33j, -2.15419586e-32+1.10439302e-32j,\n",
       "        -1.44512760e-32-1.45034182e-32j,  6.32352303e-17+1.16032945e-16j,\n",
       "         2.17044303e-32-1.00424694e-34j,  1.84563397e-33+8.31904385e-33j,\n",
       "        -1.64322712e-32-1.21371451e-32j,  1.74623387e-32+0.00000000e+00j]])"
      ]
     },
     "execution_count": 54,
     "metadata": {},
     "output_type": "execute_result"
    }
   ],
   "source": [
    "rho_fit"
   ]
  },
  {
   "cell_type": "code",
   "execution_count": 33,
   "id": "5ea9086d",
   "metadata": {},
   "outputs": [
    {
     "ename": "QiskitError",
     "evalue": "'Input quantum state is not a valid'",
     "output_type": "error",
     "traceback": [
      "\u001b[0;31m---------------------------------------------------------------------------\u001b[0m",
      "\u001b[0;31mQiskitError\u001b[0m                               Traceback (most recent call last)",
      "Input \u001b[0;32mIn [33]\u001b[0m, in \u001b[0;36m<cell line: 1>\u001b[0;34m()\u001b[0m\n\u001b[0;32m----> 1\u001b[0m \u001b[43mstate_fidelity\u001b[49m\u001b[43m(\u001b[49m\u001b[43mrho_fit\u001b[49m\u001b[43m,\u001b[49m\u001b[43m \u001b[49m\u001b[43mtarget_state_parity\u001b[49m\u001b[43m)\u001b[49m\n",
      "File \u001b[0;32m~/crostini/miniforge3/envs/qiskit/lib/python3.10/site-packages/qiskit/quantum_info/states/measures.py:54\u001b[0m, in \u001b[0;36mstate_fidelity\u001b[0;34m(state1, state2, validate)\u001b[0m\n\u001b[1;32m     29\u001b[0m \u001b[38;5;124mr\u001b[39m\u001b[38;5;124;03m\"\"\"Return the state fidelity between two quantum states.\u001b[39;00m\n\u001b[1;32m     30\u001b[0m \n\u001b[1;32m     31\u001b[0m \u001b[38;5;124;03mThe state fidelity :math:`F` for density matrix input states\u001b[39;00m\n\u001b[0;32m   (...)\u001b[0m\n\u001b[1;32m     51\u001b[0m \u001b[38;5;124;03m    QiskitError: if ``validate=True`` and the inputs are invalid quantum states.\u001b[39;00m\n\u001b[1;32m     52\u001b[0m \u001b[38;5;124;03m\"\"\"\u001b[39;00m\n\u001b[1;32m     53\u001b[0m \u001b[38;5;66;03m# convert input to numpy arrays\u001b[39;00m\n\u001b[0;32m---> 54\u001b[0m state1 \u001b[38;5;241m=\u001b[39m \u001b[43m_format_state\u001b[49m\u001b[43m(\u001b[49m\u001b[43mstate1\u001b[49m\u001b[43m,\u001b[49m\u001b[43m \u001b[49m\u001b[43mvalidate\u001b[49m\u001b[38;5;241;43m=\u001b[39;49m\u001b[43mvalidate\u001b[49m\u001b[43m)\u001b[49m\n\u001b[1;32m     55\u001b[0m state2 \u001b[38;5;241m=\u001b[39m _format_state(state2, validate\u001b[38;5;241m=\u001b[39mvalidate)\n\u001b[1;32m     57\u001b[0m \u001b[38;5;66;03m# Get underlying numpy arrays\u001b[39;00m\n",
      "File \u001b[0;32m~/crostini/miniforge3/envs/qiskit/lib/python3.10/site-packages/qiskit/quantum_info/states/utils.py:138\u001b[0m, in \u001b[0;36m_format_state\u001b[0;34m(state, validate)\u001b[0m\n\u001b[1;32m    136\u001b[0m     \u001b[38;5;28;01mraise\u001b[39;00m QiskitError(\u001b[38;5;124m\"\u001b[39m\u001b[38;5;124mInput is not a quantum state\u001b[39m\u001b[38;5;124m\"\u001b[39m)\n\u001b[1;32m    137\u001b[0m \u001b[38;5;28;01mif\u001b[39;00m validate \u001b[38;5;129;01mand\u001b[39;00m \u001b[38;5;129;01mnot\u001b[39;00m state\u001b[38;5;241m.\u001b[39mis_valid():\n\u001b[0;32m--> 138\u001b[0m     \u001b[38;5;28;01mraise\u001b[39;00m QiskitError(\u001b[38;5;124m\"\u001b[39m\u001b[38;5;124mInput quantum state is not a valid\u001b[39m\u001b[38;5;124m\"\u001b[39m)\n\u001b[1;32m    139\u001b[0m \u001b[38;5;28;01mreturn\u001b[39;00m state\n",
      "\u001b[0;31mQiskitError\u001b[0m: 'Input quantum state is not a valid'"
     ]
    }
   ],
   "source": [
    "state_fidelity(rho_fit, target_state_parity)"
   ]
  },
  {
   "cell_type": "code",
   "execution_count": null,
   "id": "2a47faf6",
   "metadata": {},
   "outputs": [],
   "source": []
  }
 ],
 "metadata": {
  "kernelspec": {
   "display_name": "Python 3 (ipykernel)",
   "language": "python",
   "name": "python3"
  },
  "language_info": {
   "codemirror_mode": {
    "name": "ipython",
    "version": 3
   },
   "file_extension": ".py",
   "mimetype": "text/x-python",
   "name": "python",
   "nbconvert_exporter": "python",
   "pygments_lexer": "ipython3",
   "version": "3.10.4"
  }
 },
 "nbformat": 4,
 "nbformat_minor": 5
}
